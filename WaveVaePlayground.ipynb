{
 "cells": [
  {
   "cell_type": "code",
   "execution_count": 1,
   "metadata": {
    "collapsed": true
   },
   "outputs": [
    {
     "name": "stdout",
     "output_type": "stream",
     "text": [
      "WaveNet Receptive Field:  4093\n"
     ]
    },
    {
     "ename": "AttributeError",
     "evalue": "module 'models.WaveNetVAE.WaveVaeOperations' has no attribute 'normalisedConv1d'",
     "output_type": "error",
     "traceback": [
      "\u001B[1;31m---------------------------------------------------------------------------\u001B[0m",
      "\u001B[1;31mAttributeError\u001B[0m                            Traceback (most recent call last)",
      "Input \u001B[1;32mIn [1]\u001B[0m, in \u001B[0;36m<cell line: 17>\u001B[1;34m()\u001B[0m\n\u001B[0;32m     14\u001B[0m upsamples \u001B[38;5;241m=\u001B[39m [\u001B[38;5;241m2\u001B[39m, \u001B[38;5;241m2\u001B[39m, \u001B[38;5;241m2\u001B[39m, \u001B[38;5;241m2\u001B[39m, \u001B[38;5;241m2\u001B[39m, \u001B[38;5;241m2\u001B[39m, \u001B[38;5;241m2\u001B[39m]\n\u001B[0;32m     15\u001B[0m zsize \u001B[38;5;241m=\u001B[39m \u001B[38;5;241m32\u001B[39m\n\u001B[1;32m---> 17\u001B[0m WaveVAE \u001B[38;5;241m=\u001B[39m \u001B[43mWaveNetVAE\u001B[49m\u001B[43m(\u001B[49m\u001B[43minput_size\u001B[49m\u001B[43m,\u001B[49m\n\u001B[0;32m     18\u001B[0m \u001B[43m                     \u001B[49m\u001B[43mnum_hiddens\u001B[49m\u001B[43m \u001B[49m\u001B[38;5;241;43m=\u001B[39;49m\u001B[43m \u001B[49m\u001B[38;5;241;43m768\u001B[39;49m\u001B[43m,\u001B[49m\n\u001B[0;32m     19\u001B[0m \u001B[43m                     \u001B[49m\u001B[43mupsamples\u001B[49m\u001B[43m \u001B[49m\u001B[38;5;241;43m=\u001B[39;49m\u001B[43m \u001B[49m\u001B[43mupsamples\u001B[49m\u001B[43m,\u001B[49m\n\u001B[0;32m     20\u001B[0m \u001B[43m                     \u001B[49m\u001B[43mzsize\u001B[49m\u001B[43m \u001B[49m\u001B[38;5;241;43m=\u001B[39;49m\u001B[43m \u001B[49m\u001B[43mzsize\u001B[49m\u001B[43m)\u001B[49m\n\u001B[0;32m     22\u001B[0m WaveVAE\u001B[38;5;241m.\u001B[39mto(device)\n\u001B[0;32m     24\u001B[0m VAEDataset \u001B[38;5;241m=\u001B[39m WVDataset(audio_path \u001B[38;5;241m=\u001B[39m \u001B[38;5;124m\"\u001B[39m\u001B[38;5;124m../ConvDenoiser/testdatawav\u001B[39m\u001B[38;5;124m\"\u001B[39m,\n\u001B[0;32m     25\u001B[0m                        length \u001B[38;5;241m=\u001B[39m WaveNetVAE\u001B[38;5;241m.\u001B[39mreceptive_field,\n\u001B[0;32m     26\u001B[0m                        sample_rate \u001B[38;5;241m=\u001B[39m \u001B[38;5;241m24000\u001B[39m)\n",
      "File \u001B[1;32mI:\\Projects\\2022-2023\\Sonified-Latent-Data\\models\\WaveNetVAE\\WaveVae.py:202\u001B[0m, in \u001B[0;36mWaveNetVAE.__init__\u001B[1;34m(self, input_size, num_hiddens, upsamples, zsize, resblocks, out_channels)\u001B[0m\n\u001B[0;32m    193\u001B[0m \u001B[38;5;28msuper\u001B[39m(WaveNetVAE, \u001B[38;5;28mself\u001B[39m)\u001B[38;5;241m.\u001B[39m\u001B[38;5;21m__init__\u001B[39m()\n\u001B[0;32m    195\u001B[0m \u001B[38;5;28mself\u001B[39m\u001B[38;5;241m.\u001B[39mencoder \u001B[38;5;241m=\u001B[39m Encoder(\n\u001B[0;32m    196\u001B[0m     input_size\u001B[38;5;241m=\u001B[39minput_size,\n\u001B[0;32m    197\u001B[0m     hidden_dim\u001B[38;5;241m=\u001B[39mnum_hiddens,\n\u001B[0;32m    198\u001B[0m     zsize\u001B[38;5;241m=\u001B[39mzsize,\n\u001B[0;32m    199\u001B[0m     resblocks\u001B[38;5;241m=\u001B[39mresblocks,\n\u001B[0;32m    200\u001B[0m )\n\u001B[1;32m--> 202\u001B[0m \u001B[38;5;28mself\u001B[39m\u001B[38;5;241m.\u001B[39mdecoder \u001B[38;5;241m=\u001B[39m \u001B[43mDecoder\u001B[49m\u001B[43m(\u001B[49m\n\u001B[0;32m    203\u001B[0m \u001B[43m    \u001B[49m\u001B[43mout_channels\u001B[49m\u001B[38;5;241;43m=\u001B[39;49m\u001B[43mout_channels\u001B[49m\u001B[43m,\u001B[49m\n\u001B[0;32m    204\u001B[0m \u001B[43m    \u001B[49m\u001B[43mupsamples\u001B[49m\u001B[38;5;241;43m=\u001B[39;49m\u001B[43mupsamples\u001B[49m\u001B[43m,\u001B[49m\n\u001B[0;32m    205\u001B[0m \u001B[43m    \u001B[49m\u001B[43mzsize\u001B[49m\u001B[38;5;241;43m=\u001B[39;49m\u001B[43mzsize\u001B[49m\n\u001B[0;32m    206\u001B[0m \u001B[43m\u001B[49m\u001B[43m)\u001B[49m\n\u001B[0;32m    208\u001B[0m \u001B[38;5;28mself\u001B[39m\u001B[38;5;241m.\u001B[39mreceptive_field \u001B[38;5;241m=\u001B[39m \u001B[38;5;28mself\u001B[39m\u001B[38;5;241m.\u001B[39mdecoder\u001B[38;5;241m.\u001B[39mreceptive_field\n\u001B[0;32m    209\u001B[0m \u001B[38;5;28mself\u001B[39m\u001B[38;5;241m.\u001B[39mmulaw \u001B[38;5;241m=\u001B[39m MuLawEncoding()\n",
      "File \u001B[1;32mI:\\Projects\\2022-2023\\Sonified-Latent-Data\\models\\WaveNetVAE\\WaveVae.py:45\u001B[0m, in \u001B[0;36mDecoder.__init__\u001B[1;34m(self, out_channels, upsamples, zsize, use_jitter, jitter_probability, use_kaiming_normal)\u001B[0m\n\u001B[0;32m     42\u001B[0m     \u001B[38;5;28mself\u001B[39m\u001B[38;5;241m.\u001B[39mconv_1 \u001B[38;5;241m=\u001B[39m nn\u001B[38;5;241m.\u001B[39mutils\u001B[38;5;241m.\u001B[39mweight_norm(\u001B[38;5;28mself\u001B[39m\u001B[38;5;241m.\u001B[39mconv_1)\n\u001B[0;32m     43\u001B[0m     nn\u001B[38;5;241m.\u001B[39minit\u001B[38;5;241m.\u001B[39mkaiming_normal_(\u001B[38;5;28mself\u001B[39m\u001B[38;5;241m.\u001B[39mconv_1\u001B[38;5;241m.\u001B[39mweight)\n\u001B[1;32m---> 45\u001B[0m \u001B[38;5;28mself\u001B[39m\u001B[38;5;241m.\u001B[39mwavenet \u001B[38;5;241m=\u001B[39m \u001B[43mWavenet\u001B[49m\u001B[43m(\u001B[49m\n\u001B[0;32m     46\u001B[0m \u001B[43m    \u001B[49m\u001B[43mlayers\u001B[49m\u001B[38;5;241;43m=\u001B[39;49m\u001B[38;5;241;43m10\u001B[39;49m\u001B[43m,\u001B[49m\n\u001B[0;32m     47\u001B[0m \u001B[43m    \u001B[49m\u001B[43mstacks\u001B[49m\u001B[38;5;241;43m=\u001B[39;49m\u001B[38;5;241;43m2\u001B[39;49m\u001B[43m,\u001B[49m\n\u001B[0;32m     48\u001B[0m \u001B[43m    \u001B[49m\u001B[43mout_channels\u001B[49m\u001B[38;5;241;43m=\u001B[39;49m\u001B[43mout_channels\u001B[49m\u001B[43m,\u001B[49m\n\u001B[0;32m     49\u001B[0m \u001B[43m    \u001B[49m\u001B[43mres_channels\u001B[49m\u001B[38;5;241;43m=\u001B[39;49m\u001B[38;5;241;43m256\u001B[39;49m\u001B[43m,\u001B[49m\n\u001B[0;32m     50\u001B[0m \u001B[43m    \u001B[49m\u001B[43mskip_channels\u001B[49m\u001B[38;5;241;43m=\u001B[39;49m\u001B[38;5;241;43m256\u001B[39;49m\u001B[43m,\u001B[49m\n\u001B[0;32m     51\u001B[0m \u001B[43m    \u001B[49m\u001B[43mgate_channels\u001B[49m\u001B[38;5;241;43m=\u001B[39;49m\u001B[38;5;241;43m256\u001B[39;49m\u001B[43m,\u001B[49m\n\u001B[0;32m     52\u001B[0m \u001B[43m    \u001B[49m\u001B[43mcond_channels\u001B[49m\u001B[38;5;241;43m=\u001B[39;49m\u001B[38;5;241;43m256\u001B[39;49m\u001B[43m,\u001B[49m\n\u001B[0;32m     53\u001B[0m \u001B[43m    \u001B[49m\u001B[43mkernel_size\u001B[49m\u001B[38;5;241;43m=\u001B[39;49m\u001B[38;5;241;43m3\u001B[39;49m\u001B[43m,\u001B[49m\n\u001B[0;32m     54\u001B[0m \u001B[43m    \u001B[49m\u001B[43mupsample_conditional_features\u001B[49m\u001B[38;5;241;43m=\u001B[39;49m\u001B[38;5;28;43;01mTrue\u001B[39;49;00m\u001B[43m,\u001B[49m\n\u001B[0;32m     55\u001B[0m \u001B[43m    \u001B[49m\u001B[43mupsample_scales\u001B[49m\u001B[38;5;241;43m=\u001B[39;49m\u001B[43mupsamples\u001B[49m\u001B[43m,\u001B[49m\n\u001B[0;32m     56\u001B[0m \u001B[43m\u001B[49m\u001B[43m)\u001B[49m\n\u001B[0;32m     58\u001B[0m \u001B[38;5;28mself\u001B[39m\u001B[38;5;241m.\u001B[39mreceptive_field \u001B[38;5;241m=\u001B[39m \u001B[38;5;28mself\u001B[39m\u001B[38;5;241m.\u001B[39mwavenet\u001B[38;5;241m.\u001B[39mreceptive_field\n",
      "File \u001B[1;32mI:\\Projects\\2022-2023\\Sonified-Latent-Data\\models\\WaveNetVAE\\WaveVaeWavenet.py:69\u001B[0m, in \u001B[0;36mWavenet.__init__\u001B[1;34m(self, layers, stacks, out_channels, res_channels, skip_channels, gate_channels, cond_channels, kernel_size, freq_axis_kernel_size, dropout, upsample_conditional_features, upsample_scales, bias)\u001B[0m\n\u001B[0;32m     65\u001B[0m \u001B[38;5;28mself\u001B[39m\u001B[38;5;241m.\u001B[39mreceptive_field \u001B[38;5;241m=\u001B[39m receptive_field\n\u001B[0;32m     66\u001B[0m \u001B[38;5;28mprint\u001B[39m(\u001B[38;5;124m\"\u001B[39m\u001B[38;5;124mWaveNet Receptive Field: \u001B[39m\u001B[38;5;124m\"\u001B[39m, \u001B[38;5;28mself\u001B[39m\u001B[38;5;241m.\u001B[39mreceptive_field)\n\u001B[0;32m     68\u001B[0m \u001B[38;5;28mself\u001B[39m\u001B[38;5;241m.\u001B[39mfinal_convs \u001B[38;5;241m=\u001B[39m nn\u001B[38;5;241m.\u001B[39mSequential(\n\u001B[1;32m---> 69\u001B[0m     \u001B[43mWOP\u001B[49m\u001B[38;5;241;43m.\u001B[39;49m\u001B[43mnormalisedConv1d\u001B[49m(skip_channels, \n\u001B[0;32m     70\u001B[0m                          out_channels, \n\u001B[0;32m     71\u001B[0m                          kernel_size \u001B[38;5;241m=\u001B[39m \u001B[38;5;241m1\u001B[39m),\n\u001B[0;32m     72\u001B[0m     nn\u001B[38;5;241m.\u001B[39mLeakyReLU(negative_slope\u001B[38;5;241m=\u001B[39m\u001B[38;5;241m0.1\u001B[39m, inplace\u001B[38;5;241m=\u001B[39m\u001B[38;5;28;01mTrue\u001B[39;00m),\n\u001B[0;32m     73\u001B[0m     nn\u001B[38;5;241m.\u001B[39mBatchNorm1d(out_channels),\n\u001B[0;32m     74\u001B[0m     nn\u001B[38;5;241m.\u001B[39mConv1d(in_channels \u001B[38;5;241m=\u001B[39m out_channels, \n\u001B[0;32m     75\u001B[0m               out_channels \u001B[38;5;241m=\u001B[39m out_channels, \n\u001B[0;32m     76\u001B[0m               kernel_size \u001B[38;5;241m=\u001B[39m \u001B[38;5;241m1\u001B[39m),\n\u001B[0;32m     77\u001B[0m     nn\u001B[38;5;241m.\u001B[39mReLU(inplace\u001B[38;5;241m=\u001B[39m\u001B[38;5;28;01mTrue\u001B[39;00m),\n\u001B[0;32m     78\u001B[0m )\n\u001B[0;32m     80\u001B[0m \u001B[38;5;66;03m# Convolutions for upsampling latent space condition\u001B[39;00m\n\u001B[0;32m     81\u001B[0m \u001B[38;5;28mself\u001B[39m\u001B[38;5;241m.\u001B[39mupsample_conv_seq \u001B[38;5;241m=\u001B[39m nn\u001B[38;5;241m.\u001B[39mSequential()\n",
      "\u001B[1;31mAttributeError\u001B[0m: module 'models.WaveNetVAE.WaveVaeOperations' has no attribute 'normalisedConv1d'"
     ]
    }
   ],
   "source": [
    "from models.WaveNetVAE.WaveVae import WaveNetVAE\n",
    "from models.WaveNetVAE.WVData import WVDataset\n",
    "import torch\n",
    "from torch.utils.data import DataLoader\n",
    "\n",
    "\"\"\"\n",
    "Hyperparameters\n",
    "\"\"\"\n",
    "\n",
    "learning_rate = 0.000001\n",
    "batchsize = 4\n",
    "device='cuda'\n",
    "input_size = (40, 112)\n",
    "upsamples = [2, 2, 2, 2, 2, 2, 2]\n",
    "zsize = 32\n",
    "\n",
    "WaveVAE = WaveNetVAE(input_size,\n",
    "                     num_hiddens = 768,\n",
    "                     upsamples = upsamples,\n",
    "                     zsize = zsize)\n",
    "\n",
    "WaveVAE.to(device)\n",
    "\n",
    "VAEDataset = WVDataset(audio_path = \"../ConvDenoiser/testdatawav\",\n",
    "                       length = WaveNetVAE.receptive_field,\n",
    "                       sample_rate = 24000)\n",
    "\n",
    "VAEDataloader = DataLoader(VAEDataset,\n",
    "                           batch_size = batchsize,\n",
    "                           shuffle = True)\n",
    "\n",
    "optimizer = torch.optim.AdamW(WaveVAE.parameters(), lr=learning_rate)"
   ]
  },
  {
   "cell_type": "code",
   "execution_count": null,
   "outputs": [],
   "source": [],
   "metadata": {
    "collapsed": false
   }
  }
 ],
 "metadata": {
  "kernelspec": {
   "display_name": "Python 3",
   "language": "python",
   "name": "python3"
  },
  "language_info": {
   "codemirror_mode": {
    "name": "ipython",
    "version": 2
   },
   "file_extension": ".py",
   "mimetype": "text/x-python",
   "name": "python",
   "nbconvert_exporter": "python",
   "pygments_lexer": "ipython2",
   "version": "2.7.6"
  }
 },
 "nbformat": 4,
 "nbformat_minor": 0
}
