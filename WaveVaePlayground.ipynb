{
 "cells": [
  {
   "cell_type": "markdown",
   "metadata": {
    "collapsed": false
   },
   "source": [
    "# Set up model and hyperparameters"
   ]
  },
  {
   "cell_type": "code",
   "execution_count": 1,
   "metadata": {
    "ExecuteTime": {
     "end_time": "2023-04-28T14:39:27.284644Z",
     "start_time": "2023-04-28T14:31:43.713167Z"
    },
    "collapsed": false
   },
   "outputs": [
    {
     "name": "stdout",
     "output_type": "stream",
     "text": [
      "WaveNet Receptive Field:  4093\n"
     ]
    },
    {
     "name": "stderr",
     "output_type": "stream",
     "text": [
      "C:\\Users\\woute\\AppData\\Local\\Packages\\PythonSoftwareFoundation.Python.3.8_qbz5n2kfra8p0\\LocalCache\\local-packages\\Python38\\site-packages\\torchaudio\\functional\\functional.py:539: UserWarning: At least one mel filterbank has all zero values. The value for `n_mels` (128) may be set too high. Or, the value for `n_freqs` (201) may be set too low.\n",
      "  warnings.warn(\n",
      "Loading and preprocessing files to dataset.:   0%|          | 0/29 [00:00<?, ?it/s]"
     ]
    },
    {
     "name": "stdout",
     "output_type": "stream",
     "text": [
      "4096\n"
     ]
    },
    {
     "name": "stderr",
     "output_type": "stream",
     "text": [
      "Loading and preprocessing files to dataset.: 100%|██████████| 29/29 [00:19<00:00,  1.51it/s]\n"
     ]
    },
    {
     "name": "stdout",
     "output_type": "stream",
     "text": [
      "4096\n"
     ]
    },
    {
     "name": "stderr",
     "output_type": "stream",
     "text": [
      "C:\\Users\\woute\\AppData\\Local\\Packages\\PythonSoftwareFoundation.Python.3.8_qbz5n2kfra8p0\\LocalCache\\local-packages\\Python38\\site-packages\\torchaudio\\functional\\functional.py:539: UserWarning: At least one mel filterbank has all zero values. The value for `n_mels` (128) may be set too high. Or, the value for `n_freqs` (201) may be set too low.\n",
      "  warnings.warn(\n",
      "Loading and preprocessing files to dataset.: 100%|██████████| 4/4 [00:04<00:00,  1.24s/it]\n"
     ]
    }
   ],
   "source": [
    "from models.WaveNetVAE.WaveVae import WaveNetVAE\n",
    "from models.WaveNetVAE.WVData import WVDataset\n",
    "import torch\n",
    "from torch.utils.data import DataLoader\n",
    "\n",
    "\"\"\"\n",
    "Hyperparameters\n",
    "\"\"\"\n",
    "\n",
    "learning_rate = 0.0001\n",
    "batchsize = 4\n",
    "device='cuda'\n",
    "input_size = (40, 112)\n",
    "upsamples = [2, 2, 2, 2, 2, 2, 2, 2]\n",
    "zsize = 32\n",
    "\n",
    "WaveVAE = WaveNetVAE(input_size,\n",
    "                     num_hiddens = 768,\n",
    "                     upsamples = upsamples,\n",
    "                     zsize = zsize)\n",
    "\n",
    "WaveVAE.to(device)\n",
    "\n",
    "VAEDataset = WVDataset(audio_path = \"../ConvDenoiser/testdatawav\",\n",
    "                       length = 4096,\n",
    "                       sample_rate = 24000,\n",
    "                       hop_length = 128)\n",
    "\n",
    "val_VAEDataset = WVDataset(audio_path = \"../ConvDenoiser/valdatawav\",\n",
    "                       length = 4096,\n",
    "                       sample_rate = 24000,\n",
    "                       hop_length = 128)\n",
    "\n",
    "VAEDataloader = DataLoader(VAEDataset,\n",
    "                           batch_size = batchsize,\n",
    "                           shuffle = True)\n",
    "\n",
    "val_VAEDataloader = DataLoader(val_VAEDataset,\n",
    "                           batch_size = batchsize,\n",
    "                           shuffle = False)"
   ]
  },
  {
   "cell_type": "markdown",
   "metadata": {
    "collapsed": false
   },
   "source": [
    "# Test tensor"
   ]
  },
  {
   "cell_type": "code",
   "execution_count": 7,
   "metadata": {
    "collapsed": false
   },
   "outputs": [
    {
     "name": "stdout",
     "output_type": "stream",
     "text": [
      "Onehot size:  torch.Size([4, 256, 4096]) | MFCC size:  torch.Size([4, 40, 33]) | Target size:  torch.int64\n",
      "Before downsample:  torch.Size([4, 768, 33])\n",
      "After downsample:  torch.Size([4, 768, 16])\n",
      "torch.Size([4, 256, 16])\n",
      "torch.Size([4, 256, 4096]) torch.Size([4, 256, 4096])\n",
      "torch.float32\n"
     ]
    }
   ],
   "source": [
    "onehot, mfcc, target = next(iter(VAEDataloader))\n",
    "onehot = onehot.to(device)\n",
    "mfcc = mfcc.to(device)\n",
    "target = target.to(device)\n",
    "\n",
    "print(\"Trying tensors with sizes:\")\n",
    "print(\"Onehot size: \", onehot.size(), \"| MFCC size: \", mfcc.size(), \"| Target size: \", target.size())\n",
    "\n",
    "output = WaveVAE(onehot, mfcc, True)\n",
    "print(\"Tensors passed through model succesfully\")\n",
    "loss = loss_fn(output[:, :, -1], target)\n",
    "print(\"Loss function output: \", loss)"
   ]
  },
  {
   "attachments": {},
   "cell_type": "markdown",
   "metadata": {},
   "source": [
    "# Start training"
   ]
  },
  {
   "cell_type": "code",
   "execution_count": 2,
   "metadata": {},
   "outputs": [
    {
     "name": "stderr",
     "output_type": "stream",
     "text": [
      "Training. Epoch: 0. Loss for step 1: n.v.t.:   0%|          | 0/327 [00:00<?, ?it/s]C:\\Users\\woute\\AppData\\Local\\Packages\\PythonSoftwareFoundation.Python.3.8_qbz5n2kfra8p0\\LocalCache\\local-packages\\Python38\\site-packages\\torch\\nn\\modules\\conv.py:303: UserWarning: Using padding='same' with even kernel lengths and odd dilation may require a zero-padded copy of the input be created (Triggered internally at  C:\\actions-runner\\_work\\pytorch\\pytorch\\builder\\windows\\pytorch\\aten\\src\\ATen\\native\\Convolution.cpp:883.)\n",
      "  return F.conv1d(input, weight, bias, self.stride,\n",
      "Validating. Rec loss: 5.61.: 100%|██████████| 58/58 [00:44<00:00,  1.30it/s]02:23<09:09,  2.08s/it]\n",
      "Validating. Rec loss: 5.72.: 100%|██████████| 58/58 [00:41<00:00,  1.39it/s] [05:26<06:48,  2.05s/it]\n",
      "Validating. Rec loss: 5.67.: 100%|██████████| 58/58 [00:39<00:00,  1.48it/s] [08:27<04:30,  2.02s/it]\n",
      "Validating. Rec loss: 5.47.: 100%|██████████| 58/58 [00:40<00:00,  1.43it/s] [11:33<02:40,  2.32s/it]\n",
      "Validating. Rec loss: 5.51.: 100%|██████████| 58/58 [00:39<00:00,  1.48it/s] [14:31<00:08,  2.09s/it]\n",
      "Validating. Rec/real loss for step 327: 5.74/5.74.: 100%|██████████| 327/327 [15:16<00:00,  2.80s/it]\n",
      "Validating. Rec loss: 5.52.:  24%|██▍       | 14/58 [00:14<00:46,  1.05s/it]02:21<10:40,  2.43s/it]\n",
      "Validating. Rec/real loss for step 64: 5.43/5.43.:  19%|█▉        | 63/327 [02:36<10:55,  2.48s/it]\n"
     ]
    },
    {
     "ename": "KeyboardInterrupt",
     "evalue": "",
     "output_type": "error",
     "traceback": [
      "\u001b[1;31m---------------------------------------------------------------------------\u001b[0m",
      "\u001b[1;31mKeyboardInterrupt\u001b[0m                         Traceback (most recent call last)",
      "\u001b[1;32mi:\\Projects\\2022-2023\\Sonified-Latent-Data\\WaveVaePlayground.ipynb Cell 6\u001b[0m in \u001b[0;36m<cell line: 5>\u001b[1;34m()\u001b[0m\n\u001b[0;32m      <a href='vscode-notebook-cell:/i%3A/Projects/2022-2023/Sonified-Latent-Data/WaveVaePlayground.ipynb#W5sZmlsZQ%3D%3D?line=1'>2</a>\u001b[0m \u001b[39mfrom\u001b[39;00m \u001b[39mtorch\u001b[39;00m\u001b[39m.\u001b[39;00m\u001b[39mutils\u001b[39;00m\u001b[39m.\u001b[39;00m\u001b[39mtensorboard\u001b[39;00m \u001b[39mimport\u001b[39;00m SummaryWriter\n\u001b[0;32m      <a href='vscode-notebook-cell:/i%3A/Projects/2022-2023/Sonified-Latent-Data/WaveVaePlayground.ipynb#W5sZmlsZQ%3D%3D?line=2'>3</a>\u001b[0m writer \u001b[39m=\u001b[39m SummaryWriter()\n\u001b[1;32m----> <a href='vscode-notebook-cell:/i%3A/Projects/2022-2023/Sonified-Latent-Data/WaveVaePlayground.ipynb#W5sZmlsZQ%3D%3D?line=4'>5</a>\u001b[0m train(WaveVAE, VAEDataloader, val_VAEDataloader, \n\u001b[0;32m      <a href='vscode-notebook-cell:/i%3A/Projects/2022-2023/Sonified-Latent-Data/WaveVaePlayground.ipynb#W5sZmlsZQ%3D%3D?line=5'>6</a>\u001b[0m       writer \u001b[39m=\u001b[39;49m writer, \n\u001b[0;32m      <a href='vscode-notebook-cell:/i%3A/Projects/2022-2023/Sonified-Latent-Data/WaveVaePlayground.ipynb#W5sZmlsZQ%3D%3D?line=6'>7</a>\u001b[0m       learning_rate \u001b[39m=\u001b[39;49m learning_rate,\n\u001b[0;32m      <a href='vscode-notebook-cell:/i%3A/Projects/2022-2023/Sonified-Latent-Data/WaveVaePlayground.ipynb#W5sZmlsZQ%3D%3D?line=7'>8</a>\u001b[0m       epoch_amount \u001b[39m=\u001b[39;49m \u001b[39m100\u001b[39;49m,\n\u001b[0;32m      <a href='vscode-notebook-cell:/i%3A/Projects/2022-2023/Sonified-Latent-Data/WaveVaePlayground.ipynb#W5sZmlsZQ%3D%3D?line=8'>9</a>\u001b[0m       logs_per_epoch \u001b[39m=\u001b[39;49m \u001b[39m5\u001b[39;49m,\n\u001b[0;32m     <a href='vscode-notebook-cell:/i%3A/Projects/2022-2023/Sonified-Latent-Data/WaveVaePlayground.ipynb#W5sZmlsZQ%3D%3D?line=9'>10</a>\u001b[0m       kl_anneal \u001b[39m=\u001b[39;49m \u001b[39m0.01\u001b[39;49m,\n\u001b[0;32m     <a href='vscode-notebook-cell:/i%3A/Projects/2022-2023/Sonified-Latent-Data/WaveVaePlayground.ipynb#W5sZmlsZQ%3D%3D?line=10'>11</a>\u001b[0m       max_kl \u001b[39m=\u001b[39;49m \u001b[39m0.5\u001b[39;49m,\n\u001b[0;32m     <a href='vscode-notebook-cell:/i%3A/Projects/2022-2023/Sonified-Latent-Data/WaveVaePlayground.ipynb#W5sZmlsZQ%3D%3D?line=11'>12</a>\u001b[0m       device \u001b[39m=\u001b[39;49m device)\n",
      "File \u001b[1;32mi:\\Projects\\2022-2023\\Sonified-Latent-Data\\models\\WaveNetVAE\\train.py:91\u001b[0m, in \u001b[0;36mtrain\u001b[1;34m(model, dataloader_train, dataloader_val, writer, learning_rate, epoch_amount, logs_per_epoch, kl_anneal, max_kl, device, verbose)\u001b[0m\n\u001b[0;32m     87\u001b[0m total_step \u001b[39m+\u001b[39m\u001b[39m=\u001b[39m \u001b[39m1\u001b[39m\n\u001b[0;32m     89\u001b[0m \u001b[39mif\u001b[39;00m step \u001b[39m%\u001b[39m (\u001b[39mlen\u001b[39m(dataloader_train) \u001b[39m/\u001b[39m\u001b[39m/\u001b[39m logs_per_epoch) \u001b[39m==\u001b[39m \u001b[39m0\u001b[39m \u001b[39mor\u001b[39;00m step \u001b[39m-\u001b[39m \u001b[39m1\u001b[39m \u001b[39m==\u001b[39m \u001b[39m0\u001b[39m:\n\u001b[1;32m---> 91\u001b[0m     eval_loss_real, eval_loss_rec, eval_loss_kl \u001b[39m=\u001b[39m validate(\n\u001b[0;32m     92\u001b[0m         model, dataloader_val, kl_mult, loss_fn, device, verbose)\n\u001b[0;32m     94\u001b[0m     writer\u001b[39m.\u001b[39madd_scalars(\u001b[39m'\u001b[39m\u001b[39mValidation Loss\u001b[39m\u001b[39m'\u001b[39m, {\n\u001b[0;32m     95\u001b[0m         \u001b[39m'\u001b[39m\u001b[39mReal loss\u001b[39m\u001b[39m'\u001b[39m: eval_loss_real,\n\u001b[0;32m     96\u001b[0m         \u001b[39m'\u001b[39m\u001b[39mReconstruction loss\u001b[39m\u001b[39m'\u001b[39m: eval_loss_rec,\n\u001b[0;32m     97\u001b[0m         \u001b[39m'\u001b[39m\u001b[39mKL loss\u001b[39m\u001b[39m'\u001b[39m: eval_loss_kl\n\u001b[0;32m     98\u001b[0m     }, logstep)\n\u001b[0;32m    100\u001b[0m     writer\u001b[39m.\u001b[39madd_scalars(\u001b[39m'\u001b[39m\u001b[39mTrain loss\u001b[39m\u001b[39m'\u001b[39m, {\n\u001b[0;32m    101\u001b[0m         \u001b[39m'\u001b[39m\u001b[39mReal loss\u001b[39m\u001b[39m'\u001b[39m: total_epoch_loss[\u001b[39m0\u001b[39m] \u001b[39m/\u001b[39m step,\n\u001b[0;32m    102\u001b[0m         \u001b[39m'\u001b[39m\u001b[39mReconstruction loss\u001b[39m\u001b[39m'\u001b[39m: total_epoch_loss[\u001b[39m1\u001b[39m] \u001b[39m/\u001b[39m step,\n\u001b[0;32m    103\u001b[0m         \u001b[39m'\u001b[39m\u001b[39mKl loss\u001b[39m\u001b[39m'\u001b[39m: total_epoch_loss[\u001b[39m2\u001b[39m] \u001b[39m/\u001b[39m step\n\u001b[0;32m    104\u001b[0m     }, logstep)\n",
      "File \u001b[1;32mi:\\Projects\\2022-2023\\Sonified-Latent-Data\\models\\WaveNetVAE\\train.py:36\u001b[0m, in \u001b[0;36mvalidate\u001b[1;34m(model, dataloader, kl_mult, loss_fn, device, verbose)\u001b[0m\n\u001b[0;32m     31\u001b[0m output, mean, variance \u001b[39m=\u001b[39m model(onehot_input, mfcc_input, \u001b[39mTrue\u001b[39;00m, verbose)\n\u001b[0;32m     32\u001b[0m real_loss, rec_loss, kl_loss \u001b[39m=\u001b[39m calculate_loss(\n\u001b[0;32m     33\u001b[0m     output, target, mean, variance, kl_mult, loss_fn)\n\u001b[0;32m     34\u001b[0m total_eval_loss \u001b[39m=\u001b[39m [\n\u001b[0;32m     35\u001b[0m     total_eval_loss[\u001b[39m0\u001b[39m] \u001b[39m+\u001b[39m real_loss\u001b[39m.\u001b[39mitem(),\n\u001b[1;32m---> 36\u001b[0m     total_eval_loss[\u001b[39m1\u001b[39m] \u001b[39m+\u001b[39m rec_loss\u001b[39m.\u001b[39;49mitem(),\n\u001b[0;32m     37\u001b[0m     total_eval_loss[\u001b[39m2\u001b[39m] \u001b[39m+\u001b[39m kl_loss\u001b[39m.\u001b[39mitem()\n\u001b[0;32m     38\u001b[0m ]\n\u001b[0;32m     40\u001b[0m t\u001b[39m.\u001b[39mset_description(\n\u001b[0;32m     41\u001b[0m     \u001b[39mf\u001b[39m\u001b[39m\"\u001b[39m\u001b[39mValidating. Rec loss: \u001b[39m\u001b[39m{\u001b[39;00m\u001b[39mround\u001b[39m(rec_loss\u001b[39m.\u001b[39mitem(), \u001b[39m2\u001b[39m)\u001b[39m}\u001b[39;00m\u001b[39m.\u001b[39m\u001b[39m\"\u001b[39m)\n\u001b[0;32m     42\u001b[0m eval_step \u001b[39m+\u001b[39m\u001b[39m=\u001b[39m \u001b[39m1\u001b[39m\n",
      "\u001b[1;31mKeyboardInterrupt\u001b[0m: "
     ]
    }
   ],
   "source": [
    "from models.WaveNetVAE.train import train\n",
    "from torch.utils.tensorboard import SummaryWriter\n",
    "import warnings\n",
    "warnings.filterwarnings(\"ignore\")\n",
    "writer = SummaryWriter()\n",
    "\n",
    "train(WaveVAE, VAEDataloader, val_VAEDataloader, \n",
    "      writer = writer, \n",
    "      learning_rate = learning_rate,\n",
    "      epoch_amount = 100,\n",
    "      logs_per_epoch = 5,\n",
    "      kl_anneal = 0.01,\n",
    "      max_kl = 0.5,\n",
    "      device = device)\n"
   ]
  }
 ],
 "metadata": {
  "kernelspec": {
   "display_name": "Python 3",
   "language": "python",
   "name": "python3"
  },
  "language_info": {
   "codemirror_mode": {
    "name": "ipython",
    "version": 3
   },
   "file_extension": ".py",
   "mimetype": "text/x-python",
   "name": "python",
   "nbconvert_exporter": "python",
   "pygments_lexer": "ipython3",
   "version": "3.8.10"
  }
 },
 "nbformat": 4,
 "nbformat_minor": 0
}
