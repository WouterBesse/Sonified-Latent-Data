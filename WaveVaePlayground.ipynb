{
 "cells": [
  {
   "cell_type": "markdown",
   "metadata": {},
   "source": [
    "# Set up model and hyperparameters"
   ]
  },
  {
   "cell_type": "code",
   "execution_count": 1,
   "metadata": {
    "ExecuteTime": {
     "end_time": "2023-04-28T14:39:27.284644Z",
     "start_time": "2023-04-28T14:31:43.713167Z"
    },
    "collapsed": false,
    "jupyter": {
     "outputs_hidden": false
    },
    "tags": []
   },
   "outputs": [
    {
     "name": "stdout",
     "output_type": "stream",
     "text": [
      "WaveNet Receptive Field:  4093\n"
     ]
    },
    {
     "data": {
      "application/vnd.jupyter.widget-view+json": {
       "model_id": "080a3ef3b2794a5f8c805bfb208cdab3",
       "version_major": 2,
       "version_minor": 0
      },
      "text/plain": [
       "Loading and preprocessing files to dataset.:   0%|          | 0/100 [00:00<?, ?it/s]"
      ]
     },
     "metadata": {},
     "output_type": "display_data"
    },
    {
     "data": {
      "application/vnd.jupyter.widget-view+json": {
       "model_id": "",
       "version_major": 2,
       "version_minor": 0
      },
      "text/plain": [
       "  0%|          | 0/27 [00:00<?, ?it/s]"
      ]
     },
     "metadata": {},
     "output_type": "display_data"
    },
    {
     "data": {
      "application/vnd.jupyter.widget-view+json": {
       "model_id": "",
       "version_major": 2,
       "version_minor": 0
      },
      "text/plain": [
       "  0%|          | 0/56 [00:00<?, ?it/s]"
      ]
     },
     "metadata": {},
     "output_type": "display_data"
    },
    {
     "data": {
      "application/vnd.jupyter.widget-view+json": {
       "model_id": "",
       "version_major": 2,
       "version_minor": 0
      },
      "text/plain": [
       "  0%|          | 0/32 [00:00<?, ?it/s]"
      ]
     },
     "metadata": {},
     "output_type": "display_data"
    },
    {
     "data": {
      "application/vnd.jupyter.widget-view+json": {
       "model_id": "",
       "version_major": 2,
       "version_minor": 0
      },
      "text/plain": [
       "  0%|          | 0/30 [00:00<?, ?it/s]"
      ]
     },
     "metadata": {},
     "output_type": "display_data"
    },
    {
     "data": {
      "application/vnd.jupyter.widget-view+json": {
       "model_id": "",
       "version_major": 2,
       "version_minor": 0
      },
      "text/plain": [
       "  0%|          | 0/27 [00:00<?, ?it/s]"
      ]
     },
     "metadata": {},
     "output_type": "display_data"
    },
    {
     "data": {
      "application/vnd.jupyter.widget-view+json": {
       "model_id": "",
       "version_major": 2,
       "version_minor": 0
      },
      "text/plain": [
       "  0%|          | 0/35 [00:00<?, ?it/s]"
      ]
     },
     "metadata": {},
     "output_type": "display_data"
    },
    {
     "data": {
      "application/vnd.jupyter.widget-view+json": {
       "model_id": "",
       "version_major": 2,
       "version_minor": 0
      },
      "text/plain": [
       "  0%|          | 0/27 [00:00<?, ?it/s]"
      ]
     },
     "metadata": {},
     "output_type": "display_data"
    },
    {
     "data": {
      "application/vnd.jupyter.widget-view+json": {
       "model_id": "",
       "version_major": 2,
       "version_minor": 0
      },
      "text/plain": [
       "  0%|          | 0/57 [00:00<?, ?it/s]"
      ]
     },
     "metadata": {},
     "output_type": "display_data"
    },
    {
     "data": {
      "application/vnd.jupyter.widget-view+json": {
       "model_id": "",
       "version_major": 2,
       "version_minor": 0
      },
      "text/plain": [
       "  0%|          | 0/43 [00:00<?, ?it/s]"
      ]
     },
     "metadata": {},
     "output_type": "display_data"
    },
    {
     "data": {
      "application/vnd.jupyter.widget-view+json": {
       "model_id": "",
       "version_major": 2,
       "version_minor": 0
      },
      "text/plain": [
       "  0%|          | 0/72 [00:00<?, ?it/s]"
      ]
     },
     "metadata": {},
     "output_type": "display_data"
    },
    {
     "data": {
      "application/vnd.jupyter.widget-view+json": {
       "model_id": "",
       "version_major": 2,
       "version_minor": 0
      },
      "text/plain": [
       "  0%|          | 0/30 [00:00<?, ?it/s]"
      ]
     },
     "metadata": {},
     "output_type": "display_data"
    },
    {
     "data": {
      "application/vnd.jupyter.widget-view+json": {
       "model_id": "",
       "version_major": 2,
       "version_minor": 0
      },
      "text/plain": [
       "  0%|          | 0/49 [00:00<?, ?it/s]"
      ]
     },
     "metadata": {},
     "output_type": "display_data"
    },
    {
     "data": {
      "application/vnd.jupyter.widget-view+json": {
       "model_id": "",
       "version_major": 2,
       "version_minor": 0
      },
      "text/plain": [
       "  0%|          | 0/40 [00:00<?, ?it/s]"
      ]
     },
     "metadata": {},
     "output_type": "display_data"
    },
    {
     "data": {
      "application/vnd.jupyter.widget-view+json": {
       "model_id": "",
       "version_major": 2,
       "version_minor": 0
      },
      "text/plain": [
       "  0%|          | 0/78 [00:00<?, ?it/s]"
      ]
     },
     "metadata": {},
     "output_type": "display_data"
    },
    {
     "data": {
      "application/vnd.jupyter.widget-view+json": {
       "model_id": "",
       "version_major": 2,
       "version_minor": 0
      },
      "text/plain": [
       "  0%|          | 0/79 [00:00<?, ?it/s]"
      ]
     },
     "metadata": {},
     "output_type": "display_data"
    },
    {
     "data": {
      "application/vnd.jupyter.widget-view+json": {
       "model_id": "",
       "version_major": 2,
       "version_minor": 0
      },
      "text/plain": [
       "  0%|          | 0/35 [00:00<?, ?it/s]"
      ]
     },
     "metadata": {},
     "output_type": "display_data"
    },
    {
     "data": {
      "application/vnd.jupyter.widget-view+json": {
       "model_id": "",
       "version_major": 2,
       "version_minor": 0
      },
      "text/plain": [
       "  0%|          | 0/22 [00:00<?, ?it/s]"
      ]
     },
     "metadata": {},
     "output_type": "display_data"
    },
    {
     "data": {
      "application/vnd.jupyter.widget-view+json": {
       "model_id": "",
       "version_major": 2,
       "version_minor": 0
      },
      "text/plain": [
       "  0%|          | 0/61 [00:00<?, ?it/s]"
      ]
     },
     "metadata": {},
     "output_type": "display_data"
    },
    {
     "data": {
      "application/vnd.jupyter.widget-view+json": {
       "model_id": "",
       "version_major": 2,
       "version_minor": 0
      },
      "text/plain": [
       "  0%|          | 0/36 [00:00<?, ?it/s]"
      ]
     },
     "metadata": {},
     "output_type": "display_data"
    },
    {
     "data": {
      "application/vnd.jupyter.widget-view+json": {
       "model_id": "",
       "version_major": 2,
       "version_minor": 0
      },
      "text/plain": [
       "  0%|          | 0/28 [00:00<?, ?it/s]"
      ]
     },
     "metadata": {},
     "output_type": "display_data"
    },
    {
     "data": {
      "application/vnd.jupyter.widget-view+json": {
       "model_id": "",
       "version_major": 2,
       "version_minor": 0
      },
      "text/plain": [
       "  0%|          | 0/20 [00:00<?, ?it/s]"
      ]
     },
     "metadata": {},
     "output_type": "display_data"
    },
    {
     "data": {
      "application/vnd.jupyter.widget-view+json": {
       "model_id": "",
       "version_major": 2,
       "version_minor": 0
      },
      "text/plain": [
       "  0%|          | 0/26 [00:00<?, ?it/s]"
      ]
     },
     "metadata": {},
     "output_type": "display_data"
    },
    {
     "data": {
      "application/vnd.jupyter.widget-view+json": {
       "model_id": "",
       "version_major": 2,
       "version_minor": 0
      },
      "text/plain": [
       "  0%|          | 0/16 [00:00<?, ?it/s]"
      ]
     },
     "metadata": {},
     "output_type": "display_data"
    },
    {
     "data": {
      "application/vnd.jupyter.widget-view+json": {
       "model_id": "",
       "version_major": 2,
       "version_minor": 0
      },
      "text/plain": [
       "  0%|          | 0/69 [00:00<?, ?it/s]"
      ]
     },
     "metadata": {},
     "output_type": "display_data"
    },
    {
     "data": {
      "application/vnd.jupyter.widget-view+json": {
       "model_id": "",
       "version_major": 2,
       "version_minor": 0
      },
      "text/plain": [
       "  0%|          | 0/43 [00:00<?, ?it/s]"
      ]
     },
     "metadata": {},
     "output_type": "display_data"
    },
    {
     "data": {
      "application/vnd.jupyter.widget-view+json": {
       "model_id": "",
       "version_major": 2,
       "version_minor": 0
      },
      "text/plain": [
       "  0%|          | 0/20 [00:00<?, ?it/s]"
      ]
     },
     "metadata": {},
     "output_type": "display_data"
    },
    {
     "data": {
      "application/vnd.jupyter.widget-view+json": {
       "model_id": "",
       "version_major": 2,
       "version_minor": 0
      },
      "text/plain": [
       "  0%|          | 0/39 [00:00<?, ?it/s]"
      ]
     },
     "metadata": {},
     "output_type": "display_data"
    },
    {
     "data": {
      "application/vnd.jupyter.widget-view+json": {
       "model_id": "",
       "version_major": 2,
       "version_minor": 0
      },
      "text/plain": [
       "  0%|          | 0/32 [00:00<?, ?it/s]"
      ]
     },
     "metadata": {},
     "output_type": "display_data"
    },
    {
     "data": {
      "application/vnd.jupyter.widget-view+json": {
       "model_id": "",
       "version_major": 2,
       "version_minor": 0
      },
      "text/plain": [
       "  0%|          | 0/47 [00:00<?, ?it/s]"
      ]
     },
     "metadata": {},
     "output_type": "display_data"
    },
    {
     "data": {
      "application/vnd.jupyter.widget-view+json": {
       "model_id": "",
       "version_major": 2,
       "version_minor": 0
      },
      "text/plain": [
       "  0%|          | 0/38 [00:00<?, ?it/s]"
      ]
     },
     "metadata": {},
     "output_type": "display_data"
    },
    {
     "data": {
      "application/vnd.jupyter.widget-view+json": {
       "model_id": "",
       "version_major": 2,
       "version_minor": 0
      },
      "text/plain": [
       "  0%|          | 0/53 [00:00<?, ?it/s]"
      ]
     },
     "metadata": {},
     "output_type": "display_data"
    },
    {
     "data": {
      "application/vnd.jupyter.widget-view+json": {
       "model_id": "",
       "version_major": 2,
       "version_minor": 0
      },
      "text/plain": [
       "  0%|          | 0/49 [00:00<?, ?it/s]"
      ]
     },
     "metadata": {},
     "output_type": "display_data"
    },
    {
     "data": {
      "application/vnd.jupyter.widget-view+json": {
       "model_id": "",
       "version_major": 2,
       "version_minor": 0
      },
      "text/plain": [
       "  0%|          | 0/11 [00:00<?, ?it/s]"
      ]
     },
     "metadata": {},
     "output_type": "display_data"
    },
    {
     "data": {
      "application/vnd.jupyter.widget-view+json": {
       "model_id": "",
       "version_major": 2,
       "version_minor": 0
      },
      "text/plain": [
       "  0%|          | 0/20 [00:00<?, ?it/s]"
      ]
     },
     "metadata": {},
     "output_type": "display_data"
    },
    {
     "data": {
      "application/vnd.jupyter.widget-view+json": {
       "model_id": "",
       "version_major": 2,
       "version_minor": 0
      },
      "text/plain": [
       "  0%|          | 0/8 [00:00<?, ?it/s]"
      ]
     },
     "metadata": {},
     "output_type": "display_data"
    },
    {
     "data": {
      "application/vnd.jupyter.widget-view+json": {
       "model_id": "",
       "version_major": 2,
       "version_minor": 0
      },
      "text/plain": [
       "  0%|          | 0/31 [00:00<?, ?it/s]"
      ]
     },
     "metadata": {},
     "output_type": "display_data"
    },
    {
     "data": {
      "application/vnd.jupyter.widget-view+json": {
       "model_id": "",
       "version_major": 2,
       "version_minor": 0
      },
      "text/plain": [
       "  0%|          | 0/35 [00:00<?, ?it/s]"
      ]
     },
     "metadata": {},
     "output_type": "display_data"
    },
    {
     "data": {
      "application/vnd.jupyter.widget-view+json": {
       "model_id": "",
       "version_major": 2,
       "version_minor": 0
      },
      "text/plain": [
       "  0%|          | 0/38 [00:00<?, ?it/s]"
      ]
     },
     "metadata": {},
     "output_type": "display_data"
    },
    {
     "data": {
      "application/vnd.jupyter.widget-view+json": {
       "model_id": "",
       "version_major": 2,
       "version_minor": 0
      },
      "text/plain": [
       "  0%|          | 0/66 [00:00<?, ?it/s]"
      ]
     },
     "metadata": {},
     "output_type": "display_data"
    },
    {
     "data": {
      "application/vnd.jupyter.widget-view+json": {
       "model_id": "",
       "version_major": 2,
       "version_minor": 0
      },
      "text/plain": [
       "  0%|          | 0/45 [00:00<?, ?it/s]"
      ]
     },
     "metadata": {},
     "output_type": "display_data"
    },
    {
     "data": {
      "application/vnd.jupyter.widget-view+json": {
       "model_id": "",
       "version_major": 2,
       "version_minor": 0
      },
      "text/plain": [
       "  0%|          | 0/52 [00:00<?, ?it/s]"
      ]
     },
     "metadata": {},
     "output_type": "display_data"
    },
    {
     "data": {
      "application/vnd.jupyter.widget-view+json": {
       "model_id": "",
       "version_major": 2,
       "version_minor": 0
      },
      "text/plain": [
       "  0%|          | 0/31 [00:00<?, ?it/s]"
      ]
     },
     "metadata": {},
     "output_type": "display_data"
    },
    {
     "data": {
      "application/vnd.jupyter.widget-view+json": {
       "model_id": "",
       "version_major": 2,
       "version_minor": 0
      },
      "text/plain": [
       "  0%|          | 0/37 [00:00<?, ?it/s]"
      ]
     },
     "metadata": {},
     "output_type": "display_data"
    },
    {
     "data": {
      "application/vnd.jupyter.widget-view+json": {
       "model_id": "",
       "version_major": 2,
       "version_minor": 0
      },
      "text/plain": [
       "  0%|          | 0/46 [00:00<?, ?it/s]"
      ]
     },
     "metadata": {},
     "output_type": "display_data"
    },
    {
     "data": {
      "application/vnd.jupyter.widget-view+json": {
       "model_id": "",
       "version_major": 2,
       "version_minor": 0
      },
      "text/plain": [
       "  0%|          | 0/27 [00:00<?, ?it/s]"
      ]
     },
     "metadata": {},
     "output_type": "display_data"
    },
    {
     "data": {
      "application/vnd.jupyter.widget-view+json": {
       "model_id": "",
       "version_major": 2,
       "version_minor": 0
      },
      "text/plain": [
       "  0%|          | 0/46 [00:00<?, ?it/s]"
      ]
     },
     "metadata": {},
     "output_type": "display_data"
    },
    {
     "data": {
      "application/vnd.jupyter.widget-view+json": {
       "model_id": "",
       "version_major": 2,
       "version_minor": 0
      },
      "text/plain": [
       "  0%|          | 0/90 [00:00<?, ?it/s]"
      ]
     },
     "metadata": {},
     "output_type": "display_data"
    },
    {
     "data": {
      "application/vnd.jupyter.widget-view+json": {
       "model_id": "",
       "version_major": 2,
       "version_minor": 0
      },
      "text/plain": [
       "  0%|          | 0/78 [00:00<?, ?it/s]"
      ]
     },
     "metadata": {},
     "output_type": "display_data"
    },
    {
     "data": {
      "application/vnd.jupyter.widget-view+json": {
       "model_id": "796833f187e04e73bb90ba054d7838ea",
       "version_major": 2,
       "version_minor": 0
      },
      "text/plain": [
       "  0%|          | 0/75 [00:00<?, ?it/s]"
      ]
     },
     "metadata": {},
     "output_type": "display_data"
    },
    {
     "data": {
      "application/vnd.jupyter.widget-view+json": {
       "model_id": "be6d93a741064c34a6d238c009e49743",
       "version_major": 2,
       "version_minor": 0
      },
      "text/plain": [
       "  0%|          | 0/80 [00:00<?, ?it/s]"
      ]
     },
     "metadata": {},
     "output_type": "display_data"
    },
    {
     "data": {
      "application/vnd.jupyter.widget-view+json": {
       "model_id": "7ad382299a9b4365b11ecd50c6cd5991",
       "version_major": 2,
       "version_minor": 0
      },
      "text/plain": [
       "  0%|          | 0/3 [00:00<?, ?it/s]"
      ]
     },
     "metadata": {},
     "output_type": "display_data"
    },
    {
     "data": {
      "application/vnd.jupyter.widget-view+json": {
       "model_id": "f6349f58a46840e9829f7664f0f2cdb9",
       "version_major": 2,
       "version_minor": 0
      },
      "text/plain": [
       "  0%|          | 0/28 [00:00<?, ?it/s]"
      ]
     },
     "metadata": {},
     "output_type": "display_data"
    },
    {
     "data": {
      "application/vnd.jupyter.widget-view+json": {
       "model_id": "47ca7879908647debea18d68bb6f74d8",
       "version_major": 2,
       "version_minor": 0
      },
      "text/plain": [
       "  0%|          | 0/47 [00:00<?, ?it/s]"
      ]
     },
     "metadata": {},
     "output_type": "display_data"
    },
    {
     "data": {
      "application/vnd.jupyter.widget-view+json": {
       "model_id": "a5058ab33a8d4b3b985fe0b8b0bd4e87",
       "version_major": 2,
       "version_minor": 0
      },
      "text/plain": [
       "  0%|          | 0/64 [00:00<?, ?it/s]"
      ]
     },
     "metadata": {},
     "output_type": "display_data"
    },
    {
     "data": {
      "application/vnd.jupyter.widget-view+json": {
       "model_id": "80c3fe46f5f843eea698280d1ddbab51",
       "version_major": 2,
       "version_minor": 0
      },
      "text/plain": [
       "  0%|          | 0/55 [00:00<?, ?it/s]"
      ]
     },
     "metadata": {},
     "output_type": "display_data"
    },
    {
     "data": {
      "application/vnd.jupyter.widget-view+json": {
       "model_id": "b45d5ace46bf4f3eb72c31aed5712fb9",
       "version_major": 2,
       "version_minor": 0
      },
      "text/plain": [
       "  0%|          | 0/28 [00:00<?, ?it/s]"
      ]
     },
     "metadata": {},
     "output_type": "display_data"
    },
    {
     "data": {
      "application/vnd.jupyter.widget-view+json": {
       "model_id": "abcebab64f2c4c3aa71a035ed110ce4d",
       "version_major": 2,
       "version_minor": 0
      },
      "text/plain": [
       "  0%|          | 0/32 [00:00<?, ?it/s]"
      ]
     },
     "metadata": {},
     "output_type": "display_data"
    },
    {
     "data": {
      "application/vnd.jupyter.widget-view+json": {
       "model_id": "24c01d9feddf433395830e50bfa3b902",
       "version_major": 2,
       "version_minor": 0
      },
      "text/plain": [
       "  0%|          | 0/23 [00:00<?, ?it/s]"
      ]
     },
     "metadata": {},
     "output_type": "display_data"
    },
    {
     "data": {
      "application/vnd.jupyter.widget-view+json": {
       "model_id": "3b36050fee694c05817ff8c18f20ab87",
       "version_major": 2,
       "version_minor": 0
      },
      "text/plain": [
       "  0%|          | 0/24 [00:00<?, ?it/s]"
      ]
     },
     "metadata": {},
     "output_type": "display_data"
    },
    {
     "data": {
      "application/vnd.jupyter.widget-view+json": {
       "model_id": "9f1e38b73d5d495aaa3086f01a2c27f7",
       "version_major": 2,
       "version_minor": 0
      },
      "text/plain": [
       "  0%|          | 0/41 [00:00<?, ?it/s]"
      ]
     },
     "metadata": {},
     "output_type": "display_data"
    },
    {
     "data": {
      "application/vnd.jupyter.widget-view+json": {
       "model_id": "1cf73d5c17eb441596db8c6a03f3b771",
       "version_major": 2,
       "version_minor": 0
      },
      "text/plain": [
       "  0%|          | 0/60 [00:00<?, ?it/s]"
      ]
     },
     "metadata": {},
     "output_type": "display_data"
    },
    {
     "data": {
      "application/vnd.jupyter.widget-view+json": {
       "model_id": "f2b45e398e1747b9927c961621defb9b",
       "version_major": 2,
       "version_minor": 0
      },
      "text/plain": [
       "  0%|          | 0/28 [00:00<?, ?it/s]"
      ]
     },
     "metadata": {},
     "output_type": "display_data"
    },
    {
     "data": {
      "application/vnd.jupyter.widget-view+json": {
       "model_id": "e7a9909ddba4408298d5e8b78252bc8c",
       "version_major": 2,
       "version_minor": 0
      },
      "text/plain": [
       "  0%|          | 0/23 [00:00<?, ?it/s]"
      ]
     },
     "metadata": {},
     "output_type": "display_data"
    },
    {
     "data": {
      "application/vnd.jupyter.widget-view+json": {
       "model_id": "da169cce7e6541c3974df8570182c9a5",
       "version_major": 2,
       "version_minor": 0
      },
      "text/plain": [
       "  0%|          | 0/51 [00:00<?, ?it/s]"
      ]
     },
     "metadata": {},
     "output_type": "display_data"
    },
    {
     "data": {
      "application/vnd.jupyter.widget-view+json": {
       "model_id": "5428b04511cb48fab4688468fa97ae59",
       "version_major": 2,
       "version_minor": 0
      },
      "text/plain": [
       "  0%|          | 0/25 [00:00<?, ?it/s]"
      ]
     },
     "metadata": {},
     "output_type": "display_data"
    },
    {
     "data": {
      "application/vnd.jupyter.widget-view+json": {
       "model_id": "be1e0d8f81e54350aef5e742a8322e76",
       "version_major": 2,
       "version_minor": 0
      },
      "text/plain": [
       "  0%|          | 0/34 [00:00<?, ?it/s]"
      ]
     },
     "metadata": {},
     "output_type": "display_data"
    },
    {
     "data": {
      "application/vnd.jupyter.widget-view+json": {
       "model_id": "60ca28c5775941d8980e9573a9243775",
       "version_major": 2,
       "version_minor": 0
      },
      "text/plain": [
       "  0%|          | 0/99 [00:00<?, ?it/s]"
      ]
     },
     "metadata": {},
     "output_type": "display_data"
    },
    {
     "data": {
      "application/vnd.jupyter.widget-view+json": {
       "model_id": "adda025e13584659bb3d2d1582fe3856",
       "version_major": 2,
       "version_minor": 0
      },
      "text/plain": [
       "  0%|          | 0/91 [00:00<?, ?it/s]"
      ]
     },
     "metadata": {},
     "output_type": "display_data"
    },
    {
     "data": {
      "application/vnd.jupyter.widget-view+json": {
       "model_id": "356afc95de454fb6adb9f2b8d302404e",
       "version_major": 2,
       "version_minor": 0
      },
      "text/plain": [
       "  0%|          | 0/43 [00:00<?, ?it/s]"
      ]
     },
     "metadata": {},
     "output_type": "display_data"
    },
    {
     "data": {
      "application/vnd.jupyter.widget-view+json": {
       "model_id": "9280f29d548d4acb860c426a1bd90331",
       "version_major": 2,
       "version_minor": 0
      },
      "text/plain": [
       "  0%|          | 0/54 [00:00<?, ?it/s]"
      ]
     },
     "metadata": {},
     "output_type": "display_data"
    },
    {
     "data": {
      "application/vnd.jupyter.widget-view+json": {
       "model_id": "a2214b9df6694ac2ab425703d3bb1bf0",
       "version_major": 2,
       "version_minor": 0
      },
      "text/plain": [
       "  0%|          | 0/52 [00:00<?, ?it/s]"
      ]
     },
     "metadata": {},
     "output_type": "display_data"
    },
    {
     "data": {
      "application/vnd.jupyter.widget-view+json": {
       "model_id": "7816357a12084d68bf17dfb455573d2d",
       "version_major": 2,
       "version_minor": 0
      },
      "text/plain": [
       "  0%|          | 0/32 [00:00<?, ?it/s]"
      ]
     },
     "metadata": {},
     "output_type": "display_data"
    },
    {
     "data": {
      "application/vnd.jupyter.widget-view+json": {
       "model_id": "ae1368bb60924f588fd9e0a10acc121a",
       "version_major": 2,
       "version_minor": 0
      },
      "text/plain": [
       "  0%|          | 0/24 [00:00<?, ?it/s]"
      ]
     },
     "metadata": {},
     "output_type": "display_data"
    },
    {
     "data": {
      "application/vnd.jupyter.widget-view+json": {
       "model_id": "bf214d24d14846c399fd529e51d22eb3",
       "version_major": 2,
       "version_minor": 0
      },
      "text/plain": [
       "  0%|          | 0/25 [00:00<?, ?it/s]"
      ]
     },
     "metadata": {},
     "output_type": "display_data"
    },
    {
     "data": {
      "application/vnd.jupyter.widget-view+json": {
       "model_id": "57f88e7ad4b54f939f0b9edafed13d03",
       "version_major": 2,
       "version_minor": 0
      },
      "text/plain": [
       "  0%|          | 0/25 [00:00<?, ?it/s]"
      ]
     },
     "metadata": {},
     "output_type": "display_data"
    },
    {
     "data": {
      "application/vnd.jupyter.widget-view+json": {
       "model_id": "28227551498547ec821356fb258bae3c",
       "version_major": 2,
       "version_minor": 0
      },
      "text/plain": [
       "  0%|          | 0/32 [00:00<?, ?it/s]"
      ]
     },
     "metadata": {},
     "output_type": "display_data"
    },
    {
     "data": {
      "application/vnd.jupyter.widget-view+json": {
       "model_id": "2a9ef8e190c5461b85a6d3d1cbfef22e",
       "version_major": 2,
       "version_minor": 0
      },
      "text/plain": [
       "  0%|          | 0/21 [00:00<?, ?it/s]"
      ]
     },
     "metadata": {},
     "output_type": "display_data"
    },
    {
     "data": {
      "application/vnd.jupyter.widget-view+json": {
       "model_id": "42150496247b428ca08e88dcb67723a9",
       "version_major": 2,
       "version_minor": 0
      },
      "text/plain": [
       "  0%|          | 0/41 [00:00<?, ?it/s]"
      ]
     },
     "metadata": {},
     "output_type": "display_data"
    },
    {
     "data": {
      "application/vnd.jupyter.widget-view+json": {
       "model_id": "658230ddb4044a579ca898874318ad1b",
       "version_major": 2,
       "version_minor": 0
      },
      "text/plain": [
       "  0%|          | 0/38 [00:00<?, ?it/s]"
      ]
     },
     "metadata": {},
     "output_type": "display_data"
    },
    {
     "data": {
      "application/vnd.jupyter.widget-view+json": {
       "model_id": "479eb5b49d2b4393a95034cd3a518b10",
       "version_major": 2,
       "version_minor": 0
      },
      "text/plain": [
       "  0%|          | 0/8 [00:00<?, ?it/s]"
      ]
     },
     "metadata": {},
     "output_type": "display_data"
    },
    {
     "data": {
      "application/vnd.jupyter.widget-view+json": {
       "model_id": "3d1d3ec2a58c491cb28dc7ce4fb575e6",
       "version_major": 2,
       "version_minor": 0
      },
      "text/plain": [
       "  0%|          | 0/26 [00:00<?, ?it/s]"
      ]
     },
     "metadata": {},
     "output_type": "display_data"
    },
    {
     "data": {
      "application/vnd.jupyter.widget-view+json": {
       "model_id": "c11da7077d314b91add280f17338b106",
       "version_major": 2,
       "version_minor": 0
      },
      "text/plain": [
       "  0%|          | 0/61 [00:00<?, ?it/s]"
      ]
     },
     "metadata": {},
     "output_type": "display_data"
    },
    {
     "data": {
      "application/vnd.jupyter.widget-view+json": {
       "model_id": "324b41760b2341269637bfec168e9f4e",
       "version_major": 2,
       "version_minor": 0
      },
      "text/plain": [
       "  0%|          | 0/42 [00:00<?, ?it/s]"
      ]
     },
     "metadata": {},
     "output_type": "display_data"
    },
    {
     "data": {
      "application/vnd.jupyter.widget-view+json": {
       "model_id": "9c4c775ef2044860b8b3a08f6491a88a",
       "version_major": 2,
       "version_minor": 0
      },
      "text/plain": [
       "  0%|          | 0/39 [00:00<?, ?it/s]"
      ]
     },
     "metadata": {},
     "output_type": "display_data"
    },
    {
     "data": {
      "application/vnd.jupyter.widget-view+json": {
       "model_id": "ffcf85d202474e9ba949b6f73bc77f4a",
       "version_major": 2,
       "version_minor": 0
      },
      "text/plain": [
       "  0%|          | 0/18 [00:00<?, ?it/s]"
      ]
     },
     "metadata": {},
     "output_type": "display_data"
    },
    {
     "data": {
      "application/vnd.jupyter.widget-view+json": {
       "model_id": "b811e799f871493a97b03be87210867c",
       "version_major": 2,
       "version_minor": 0
      },
      "text/plain": [
       "  0%|          | 0/58 [00:00<?, ?it/s]"
      ]
     },
     "metadata": {},
     "output_type": "display_data"
    },
    {
     "data": {
      "application/vnd.jupyter.widget-view+json": {
       "model_id": "1b7598cb29ac49b1a4e9ae05ff839fb9",
       "version_major": 2,
       "version_minor": 0
      },
      "text/plain": [
       "  0%|          | 0/35 [00:00<?, ?it/s]"
      ]
     },
     "metadata": {},
     "output_type": "display_data"
    },
    {
     "data": {
      "application/vnd.jupyter.widget-view+json": {
       "model_id": "ff7d1b3882ba4c82b4016955d1a5229b",
       "version_major": 2,
       "version_minor": 0
      },
      "text/plain": [
       "  0%|          | 0/42 [00:00<?, ?it/s]"
      ]
     },
     "metadata": {},
     "output_type": "display_data"
    },
    {
     "data": {
      "application/vnd.jupyter.widget-view+json": {
       "model_id": "6eed29838ff34664bc9c476bfe462725",
       "version_major": 2,
       "version_minor": 0
      },
      "text/plain": [
       "  0%|          | 0/53 [00:00<?, ?it/s]"
      ]
     },
     "metadata": {},
     "output_type": "display_data"
    },
    {
     "data": {
      "application/vnd.jupyter.widget-view+json": {
       "model_id": "cccd01e28d474b558d4f9b16548586dc",
       "version_major": 2,
       "version_minor": 0
      },
      "text/plain": [
       "  0%|          | 0/98 [00:00<?, ?it/s]"
      ]
     },
     "metadata": {},
     "output_type": "display_data"
    },
    {
     "data": {
      "application/vnd.jupyter.widget-view+json": {
       "model_id": "3f979f2257434743aa3af66569f01ea9",
       "version_major": 2,
       "version_minor": 0
      },
      "text/plain": [
       "  0%|          | 0/30 [00:00<?, ?it/s]"
      ]
     },
     "metadata": {},
     "output_type": "display_data"
    },
    {
     "data": {
      "application/vnd.jupyter.widget-view+json": {
       "model_id": "7661b2a61a414d3f92cd3fcfe128b639",
       "version_major": 2,
       "version_minor": 0
      },
      "text/plain": [
       "  0%|          | 0/43 [00:00<?, ?it/s]"
      ]
     },
     "metadata": {},
     "output_type": "display_data"
    },
    {
     "data": {
      "application/vnd.jupyter.widget-view+json": {
       "model_id": "4a2824f5c36e46f7b2d95cd76eb8dc33",
       "version_major": 2,
       "version_minor": 0
      },
      "text/plain": [
       "  0%|          | 0/49 [00:00<?, ?it/s]"
      ]
     },
     "metadata": {},
     "output_type": "display_data"
    },
    {
     "data": {
      "application/vnd.jupyter.widget-view+json": {
       "model_id": "6a5e97b223734ea3b261bddd2ab4aefc",
       "version_major": 2,
       "version_minor": 0
      },
      "text/plain": [
       "  0%|          | 0/55 [00:00<?, ?it/s]"
      ]
     },
     "metadata": {},
     "output_type": "display_data"
    },
    {
     "data": {
      "application/vnd.jupyter.widget-view+json": {
       "model_id": "f51ebf4a17c945bf918bd95d8d0e4fdc",
       "version_major": 2,
       "version_minor": 0
      },
      "text/plain": [
       "  0%|          | 0/62 [00:00<?, ?it/s]"
      ]
     },
     "metadata": {},
     "output_type": "display_data"
    },
    {
     "data": {
      "application/vnd.jupyter.widget-view+json": {
       "model_id": "aa485d85436846ab98f46ab961708cb3",
       "version_major": 2,
       "version_minor": 0
      },
      "text/plain": [
       "  0%|          | 0/48 [00:00<?, ?it/s]"
      ]
     },
     "metadata": {},
     "output_type": "display_data"
    },
    {
     "data": {
      "application/vnd.jupyter.widget-view+json": {
       "model_id": "cd186eb39bfe40e08f828148233101f3",
       "version_major": 2,
       "version_minor": 0
      },
      "text/plain": [
       "  0%|          | 0/25 [00:00<?, ?it/s]"
      ]
     },
     "metadata": {},
     "output_type": "display_data"
    },
    {
     "data": {
      "application/vnd.jupyter.widget-view+json": {
       "model_id": "5c4e3d363d2a4db7b460ddba8c6cdfff",
       "version_major": 2,
       "version_minor": 0
      },
      "text/plain": [
       "  0%|          | 0/61 [00:00<?, ?it/s]"
      ]
     },
     "metadata": {},
     "output_type": "display_data"
    },
    {
     "data": {
      "application/vnd.jupyter.widget-view+json": {
       "model_id": "2a07068da3f344a7bf1d45620d80deee",
       "version_major": 2,
       "version_minor": 0
      },
      "text/plain": [
       "  0%|          | 0/44 [00:00<?, ?it/s]"
      ]
     },
     "metadata": {},
     "output_type": "display_data"
    },
    {
     "data": {
      "application/vnd.jupyter.widget-view+json": {
       "model_id": "5d7d175d620b4bbfa8a64e4cf8e9e206",
       "version_major": 2,
       "version_minor": 0
      },
      "text/plain": [
       "Loading and preprocessing files to dataset.:   0%|          | 0/33 [00:00<?, ?it/s]"
      ]
     },
     "metadata": {},
     "output_type": "display_data"
    },
    {
     "data": {
      "application/vnd.jupyter.widget-view+json": {
       "model_id": "0dc6d5e1da084b99b45e616210b09d11",
       "version_major": 2,
       "version_minor": 0
      },
      "text/plain": [
       "  0%|          | 0/46 [00:00<?, ?it/s]"
      ]
     },
     "metadata": {},
     "output_type": "display_data"
    },
    {
     "data": {
      "application/vnd.jupyter.widget-view+json": {
       "model_id": "ad5ed3f9a2d44fc58e43baf46bf415c3",
       "version_major": 2,
       "version_minor": 0
      },
      "text/plain": [
       "  0%|          | 0/37 [00:00<?, ?it/s]"
      ]
     },
     "metadata": {},
     "output_type": "display_data"
    },
    {
     "data": {
      "application/vnd.jupyter.widget-view+json": {
       "model_id": "b25be7b4414243db960eb999cd18b66c",
       "version_major": 2,
       "version_minor": 0
      },
      "text/plain": [
       "  0%|          | 0/79 [00:00<?, ?it/s]"
      ]
     },
     "metadata": {},
     "output_type": "display_data"
    },
    {
     "data": {
      "application/vnd.jupyter.widget-view+json": {
       "model_id": "e60d2c24740c47929052659103b6920d",
       "version_major": 2,
       "version_minor": 0
      },
      "text/plain": [
       "  0%|          | 0/30 [00:00<?, ?it/s]"
      ]
     },
     "metadata": {},
     "output_type": "display_data"
    },
    {
     "data": {
      "application/vnd.jupyter.widget-view+json": {
       "model_id": "716ccc7b60df439c9911a4927b38154f",
       "version_major": 2,
       "version_minor": 0
      },
      "text/plain": [
       "  0%|          | 0/80 [00:00<?, ?it/s]"
      ]
     },
     "metadata": {},
     "output_type": "display_data"
    },
    {
     "data": {
      "application/vnd.jupyter.widget-view+json": {
       "model_id": "b4a50d684f5647c6872483a12d031d40",
       "version_major": 2,
       "version_minor": 0
      },
      "text/plain": [
       "  0%|          | 0/54 [00:00<?, ?it/s]"
      ]
     },
     "metadata": {},
     "output_type": "display_data"
    },
    {
     "data": {
      "application/vnd.jupyter.widget-view+json": {
       "model_id": "78c4f05188fa4380938a9dee0c00ce57",
       "version_major": 2,
       "version_minor": 0
      },
      "text/plain": [
       "  0%|          | 0/52 [00:00<?, ?it/s]"
      ]
     },
     "metadata": {},
     "output_type": "display_data"
    },
    {
     "data": {
      "application/vnd.jupyter.widget-view+json": {
       "model_id": "5104017e2c1a445289d29d55b465086b",
       "version_major": 2,
       "version_minor": 0
      },
      "text/plain": [
       "  0%|          | 0/24 [00:00<?, ?it/s]"
      ]
     },
     "metadata": {},
     "output_type": "display_data"
    },
    {
     "data": {
      "application/vnd.jupyter.widget-view+json": {
       "model_id": "a32557ce405f46bc9780b735652aa2b1",
       "version_major": 2,
       "version_minor": 0
      },
      "text/plain": [
       "  0%|          | 0/40 [00:00<?, ?it/s]"
      ]
     },
     "metadata": {},
     "output_type": "display_data"
    },
    {
     "data": {
      "application/vnd.jupyter.widget-view+json": {
       "model_id": "9ddb38448d404e6197d1d216dd745aac",
       "version_major": 2,
       "version_minor": 0
      },
      "text/plain": [
       "  0%|          | 0/34 [00:00<?, ?it/s]"
      ]
     },
     "metadata": {},
     "output_type": "display_data"
    },
    {
     "data": {
      "application/vnd.jupyter.widget-view+json": {
       "model_id": "dfe29217face47aa9294952345dcf6d7",
       "version_major": 2,
       "version_minor": 0
      },
      "text/plain": [
       "  0%|          | 0/48 [00:00<?, ?it/s]"
      ]
     },
     "metadata": {},
     "output_type": "display_data"
    },
    {
     "data": {
      "application/vnd.jupyter.widget-view+json": {
       "model_id": "76b8aa05f7dc4c018e60ba27ed18a3c5",
       "version_major": 2,
       "version_minor": 0
      },
      "text/plain": [
       "  0%|          | 0/42 [00:00<?, ?it/s]"
      ]
     },
     "metadata": {},
     "output_type": "display_data"
    },
    {
     "data": {
      "application/vnd.jupyter.widget-view+json": {
       "model_id": "43da89525fd74d87978a195f936281fe",
       "version_major": 2,
       "version_minor": 0
      },
      "text/plain": [
       "  0%|          | 0/26 [00:00<?, ?it/s]"
      ]
     },
     "metadata": {},
     "output_type": "display_data"
    },
    {
     "data": {
      "application/vnd.jupyter.widget-view+json": {
       "model_id": "6da8d89a246e44209988e141f6fe14b9",
       "version_major": 2,
       "version_minor": 0
      },
      "text/plain": [
       "  0%|          | 0/74 [00:00<?, ?it/s]"
      ]
     },
     "metadata": {},
     "output_type": "display_data"
    },
    {
     "data": {
      "application/vnd.jupyter.widget-view+json": {
       "model_id": "b823b8adbe304230a6f17f4914275333",
       "version_major": 2,
       "version_minor": 0
      },
      "text/plain": [
       "  0%|          | 0/63 [00:00<?, ?it/s]"
      ]
     },
     "metadata": {},
     "output_type": "display_data"
    },
    {
     "data": {
      "application/vnd.jupyter.widget-view+json": {
       "model_id": "f21832cea035455daec1cbca2df5cf42",
       "version_major": 2,
       "version_minor": 0
      },
      "text/plain": [
       "  0%|          | 0/45 [00:00<?, ?it/s]"
      ]
     },
     "metadata": {},
     "output_type": "display_data"
    },
    {
     "data": {
      "application/vnd.jupyter.widget-view+json": {
       "model_id": "81e67611be054dbd9dfc68122896a717",
       "version_major": 2,
       "version_minor": 0
      },
      "text/plain": [
       "  0%|          | 0/65 [00:00<?, ?it/s]"
      ]
     },
     "metadata": {},
     "output_type": "display_data"
    },
    {
     "data": {
      "application/vnd.jupyter.widget-view+json": {
       "model_id": "464b34b2baf34754ba1427df45bfd4b3",
       "version_major": 2,
       "version_minor": 0
      },
      "text/plain": [
       "  0%|          | 0/35 [00:00<?, ?it/s]"
      ]
     },
     "metadata": {},
     "output_type": "display_data"
    },
    {
     "data": {
      "application/vnd.jupyter.widget-view+json": {
       "model_id": "e524dd9aa3f94bf6b51097adc235b2cc",
       "version_major": 2,
       "version_minor": 0
      },
      "text/plain": [
       "  0%|          | 0/35 [00:00<?, ?it/s]"
      ]
     },
     "metadata": {},
     "output_type": "display_data"
    },
    {
     "data": {
      "application/vnd.jupyter.widget-view+json": {
       "model_id": "000c9993eb864aa083d15a0a4f7e65c9",
       "version_major": 2,
       "version_minor": 0
      },
      "text/plain": [
       "  0%|          | 0/35 [00:00<?, ?it/s]"
      ]
     },
     "metadata": {},
     "output_type": "display_data"
    },
    {
     "data": {
      "application/vnd.jupyter.widget-view+json": {
       "model_id": "f7805d8c12d34c49bef4d1e18dd80586",
       "version_major": 2,
       "version_minor": 0
      },
      "text/plain": [
       "  0%|          | 0/55 [00:00<?, ?it/s]"
      ]
     },
     "metadata": {},
     "output_type": "display_data"
    },
    {
     "data": {
      "application/vnd.jupyter.widget-view+json": {
       "model_id": "e6e57f219a9447a49fca588150c045d5",
       "version_major": 2,
       "version_minor": 0
      },
      "text/plain": [
       "  0%|          | 0/32 [00:00<?, ?it/s]"
      ]
     },
     "metadata": {},
     "output_type": "display_data"
    },
    {
     "data": {
      "application/vnd.jupyter.widget-view+json": {
       "model_id": "9f76c102f941485199ed9cf64a2e155c",
       "version_major": 2,
       "version_minor": 0
      },
      "text/plain": [
       "  0%|          | 0/38 [00:00<?, ?it/s]"
      ]
     },
     "metadata": {},
     "output_type": "display_data"
    },
    {
     "data": {
      "application/vnd.jupyter.widget-view+json": {
       "model_id": "dff0448a5d6d4ff09e93e89d0ffd308a",
       "version_major": 2,
       "version_minor": 0
      },
      "text/plain": [
       "  0%|          | 0/30 [00:00<?, ?it/s]"
      ]
     },
     "metadata": {},
     "output_type": "display_data"
    },
    {
     "data": {
      "application/vnd.jupyter.widget-view+json": {
       "model_id": "3e007453c1594ba9ae37533f99428d35",
       "version_major": 2,
       "version_minor": 0
      },
      "text/plain": [
       "  0%|          | 0/77 [00:00<?, ?it/s]"
      ]
     },
     "metadata": {},
     "output_type": "display_data"
    },
    {
     "data": {
      "application/vnd.jupyter.widget-view+json": {
       "model_id": "e37576dc5a904559a54013991eddf70f",
       "version_major": 2,
       "version_minor": 0
      },
      "text/plain": [
       "  0%|          | 0/37 [00:00<?, ?it/s]"
      ]
     },
     "metadata": {},
     "output_type": "display_data"
    },
    {
     "data": {
      "application/vnd.jupyter.widget-view+json": {
       "model_id": "896cda8ff16d4cceb42c622c5fea2a42",
       "version_major": 2,
       "version_minor": 0
      },
      "text/plain": [
       "  0%|          | 0/24 [00:00<?, ?it/s]"
      ]
     },
     "metadata": {},
     "output_type": "display_data"
    },
    {
     "data": {
      "application/vnd.jupyter.widget-view+json": {
       "model_id": "ec815e82a17a4dd7963d0d0965589663",
       "version_major": 2,
       "version_minor": 0
      },
      "text/plain": [
       "  0%|          | 0/32 [00:00<?, ?it/s]"
      ]
     },
     "metadata": {},
     "output_type": "display_data"
    },
    {
     "data": {
      "application/vnd.jupyter.widget-view+json": {
       "model_id": "5efa2b42f9dd4fa099d5695c3bc6dd4b",
       "version_major": 2,
       "version_minor": 0
      },
      "text/plain": [
       "  0%|          | 0/42 [00:00<?, ?it/s]"
      ]
     },
     "metadata": {},
     "output_type": "display_data"
    },
    {
     "data": {
      "application/vnd.jupyter.widget-view+json": {
       "model_id": "bd93171301a549e990ff679dab0cb45e",
       "version_major": 2,
       "version_minor": 0
      },
      "text/plain": [
       "  0%|          | 0/26 [00:00<?, ?it/s]"
      ]
     },
     "metadata": {},
     "output_type": "display_data"
    },
    {
     "data": {
      "application/vnd.jupyter.widget-view+json": {
       "model_id": "8decf4d7eff6477ab5b0c1902c1c9e68",
       "version_major": 2,
       "version_minor": 0
      },
      "text/plain": [
       "  0%|          | 0/47 [00:00<?, ?it/s]"
      ]
     },
     "metadata": {},
     "output_type": "display_data"
    },
    {
     "data": {
      "application/vnd.jupyter.widget-view+json": {
       "model_id": "fe424e95f93642f1ade7d8c5daaa7a88",
       "version_major": 2,
       "version_minor": 0
      },
      "text/plain": [
       "  0%|          | 0/79 [00:00<?, ?it/s]"
      ]
     },
     "metadata": {},
     "output_type": "display_data"
    },
    {
     "data": {
      "application/vnd.jupyter.widget-view+json": {
       "model_id": "dc1659f3bb204db89aed53204f014a01",
       "version_major": 2,
       "version_minor": 0
      },
      "text/plain": [
       "  0%|          | 0/50 [00:00<?, ?it/s]"
      ]
     },
     "metadata": {},
     "output_type": "display_data"
    }
   ],
   "source": [
    "from models.WaveNetVAE.WaveVae import WaveNetVAE\n",
    "from models.WaveNetVAE.WVData import WVDataset\n",
    "import torch\n",
    "from torch.utils.data import DataLoader\n",
    "import warnings\n",
    "warnings.filterwarnings(\"ignore\")\n",
    "\n",
    "\"\"\"\n",
    "Hyperparameters\n",
    "\"\"\"\n",
    "\n",
    "learning_rate = 0.000001\n",
    "batchsize = 8\n",
    "device='cuda:2'\n",
    "input_size = (40, 112)\n",
    "upsamples = [2, 2, 2, 2, 2, 2, 2, 2]\n",
    "zsize = 32\n",
    "\n",
    "WaveVAE = WaveNetVAE(input_size,\n",
    "                     num_hiddens = 768,\n",
    "                     upsamples = upsamples,\n",
    "                     zsize = zsize,\n",
    "                    out_channels = 1)\n",
    "\n",
    "WaveVAE.to(device)\n",
    "\n",
    "VAEDataset = WVDataset(audio_path = \"../ConvDenoiser_Old/clips\",\n",
    "                       length = 4096,\n",
    "                       skip_size = 4096 // 2,\n",
    "                       sample_rate = 24000,\n",
    "                       max_files = 100,\n",
    "                       hop_length = 128)\n",
    "\n",
    "val_VAEDataset = WVDataset(audio_path = \"../ConvDenoiser_Old/testdata\",\n",
    "                       length = 4096,\n",
    "                       skip_size = 4096 // 2,\n",
    "                       sample_rate = 24000,\n",
    "                       max_files = 200,\n",
    "                       hop_length = 128)\n",
    "\n",
    "VAEDataloader = DataLoader(VAEDataset,\n",
    "                           batch_size = batchsize,\n",
    "                           shuffle = True)\n",
    "\n",
    "val_VAEDataloader = DataLoader(val_VAEDataset,\n",
    "                           batch_size = batchsize,\n",
    "                           shuffle = False)"
   ]
  },
  {
   "cell_type": "markdown",
   "metadata": {
    "jp-MarkdownHeadingCollapsed": true,
    "tags": []
   },
   "source": [
    "# Test tensor"
   ]
  },
  {
   "cell_type": "code",
   "execution_count": 2,
   "metadata": {
    "collapsed": false,
    "jupyter": {
     "outputs_hidden": false
    }
   },
   "outputs": [
    {
     "name": "stdout",
     "output_type": "stream",
     "text": [
      "Trying tensors with sizes:\n",
      "Onehot size:  torch.Size([4, 1, 4096]) | MFCC size:  torch.Size([4, 40, 33]) | Target size:  torch.Size([4, 4097])\n"
     ]
    },
    {
     "data": {
      "image/png": "[encoded data removed]",
      "text/plain": [
       "<Figure size 640x480 with 1 Axes>"
      ]
     },
     "metadata": {},
     "output_type": "display_data"
    },
    {
     "data": {
      "image/png": "[encoded data removed]",
      "text/plain": [
       "<Figure size 640x480 with 1 Axes>"
      ]
     },
     "metadata": {},
     "output_type": "display_data"
    },
    {
     "name": "stdout",
     "output_type": "stream",
     "text": [
      "Target value:  0.5058541297912598  | Input Value:  0.4961812198162079\n",
      "torch.Size([4, 1, 1])\n",
      "Tensors passed through model succesfully torch.Size([4, 1, 4096])\n",
      "torch.Size([4, 1]) torch.Size([4, 1])\n",
      "Reconstruction loss = 0.17037014663219452\n",
      "0.4961812198162079 0.054548703134059906 0.5058541297912598\n"
     ]
    }
   ],
   "source": [
    "import torchaudio\n",
    "import matplotlib.pyplot as plt\n",
    "\n",
    "loss_fn = torch.nn.MSELoss()\n",
    "onehot, mfcc, target = next(iter(VAEDataloader))\n",
    "onehot = onehot.to(device)\n",
    "mfcc = mfcc.to(device)\n",
    "target = target.to(device)\n",
    "\n",
    "print(\"Trying tensors with sizes:\")\n",
    "print(\"Onehot size: \", onehot.size(), \"| MFCC size: \", mfcc.size(), \"| Target size: \", target.size())\n",
    "\n",
    "plt.plot(torch.squeeze(onehot[0]).cpu().numpy())\n",
    "plt.ylabel('Input')\n",
    "plt.show()\n",
    "\n",
    "plt.plot(torch.squeeze(target[0]).cpu().numpy())\n",
    "plt.ylabel('Target')\n",
    "plt.show()\n",
    "\n",
    "\n",
    "\n",
    "print(\"Target value: \", target[0, -1].item(), \" | Input Value: \", onehot[0, 0, -1].item())\n",
    "\n",
    "target = torch.unsqueeze(torch.unsqueeze(target[:, -1], 1), 1)\n",
    "print(target.size())\n",
    "\n",
    "output, _, _ = WaveVAE(onehot, mfcc, True)\n",
    "print(\"Tensors passed through model succesfully\", output.size())\n",
    "\n",
    "print(output[:, :, -1].size(), target[:, :, -1].size())\n",
    "\n",
    "reconstruction_loss = loss_fn(output[:, :, -1], target[:, :, -1])\n",
    "print(\"Reconstruction loss =\", reconstruction_loss.item())\n",
    "\n",
    "# onehot = torch.nn.functional.sigmoid(onehot[0, :, -1])\n",
    "# output = torch.nn.functional.sigmoid(output[0, :, -1])\n",
    "# onehotmax = torch.argmax(onehot)\n",
    "# outputmax = torch.argmax(output)\n",
    "\n",
    "print(onehot[0, :, -1].item(), output[0, :, -1].item(), target[0, :, -1].item())\n",
    "\n",
    "\n"
   ]
  },
  {
   "cell_type": "markdown",
   "metadata": {
    "tags": []
   },
   "source": [
    "# Start training"
   ]
  },
  {
   "cell_type": "code",
   "execution_count": null,
   "metadata": {},
   "outputs": [
    {
     "data": {
      "application/vnd.jupyter.widget-view+json": {
       "model_id": "50b886eb433c4f2a812b3d9547e3cd7b",
       "version_major": 2,
       "version_minor": 0
      },
      "text/plain": [
       "Training. Epoch: 0. Loss for step 1: n.v.t.:   0%|          | 0/531 [00:00<?, ?it/s]"
      ]
     },
     "metadata": {},
     "output_type": "display_data"
    },
    {
     "data": {
      "application/vnd.jupyter.widget-view+json": {
       "model_id": "443a70f11e3144ecbc4b52dff0aee83b",
       "version_major": 2,
       "version_minor": 0
      },
      "text/plain": [
       "Validating:   0%|          | 0/192 [00:00<?, ?it/s]"
      ]
     },
     "metadata": {},
     "output_type": "display_data"
    },
    {
     "data": {
      "application/vnd.jupyter.widget-view+json": {
       "model_id": "eb932d65f9444dc183591a8fdb85af64",
       "version_major": 2,
       "version_minor": 0
      },
      "text/plain": [
       "Validating:   0%|          | 0/192 [00:00<?, ?it/s]"
      ]
     },
     "metadata": {},
     "output_type": "display_data"
    },
    {
     "data": {
      "application/vnd.jupyter.widget-view+json": {
       "model_id": "6b3b971b7b9a4d0bb1655c901c6daf75",
       "version_major": 2,
       "version_minor": 0
      },
      "text/plain": [
       "Validating:   0%|          | 0/192 [00:00<?, ?it/s]"
      ]
     },
     "metadata": {},
     "output_type": "display_data"
    },
    {
     "data": {
      "application/vnd.jupyter.widget-view+json": {
       "model_id": "114ce453e07f49bbad83462dc9605611",
       "version_major": 2,
       "version_minor": 0
      },
      "text/plain": [
       "Validating:   0%|          | 0/192 [00:00<?, ?it/s]"
      ]
     },
     "metadata": {},
     "output_type": "display_data"
    },
    {
     "data": {
      "application/vnd.jupyter.widget-view+json": {
       "model_id": "ab1240ca23464e5e8175664a2310e85c",
       "version_major": 2,
       "version_minor": 0
      },
      "text/plain": [
       "Validating:   0%|          | 0/192 [00:00<?, ?it/s]"
      ]
     },
     "metadata": {},
     "output_type": "display_data"
    },
    {
     "data": {
      "application/vnd.jupyter.widget-view+json": {
       "model_id": "ee89c1e3cd5347819680d3d2a9c6800e",
       "version_major": 2,
       "version_minor": 0
      },
      "text/plain": [
       "Training. Epoch: 1. Loss for step 1: n.v.t.:   0%|          | 0/531 [00:00<?, ?it/s]"
      ]
     },
     "metadata": {},
     "output_type": "display_data"
    },
    {
     "data": {
      "application/vnd.jupyter.widget-view+json": {
       "model_id": "51b7cd511b3c40f5bdbac921dcd3b61f",
       "version_major": 2,
       "version_minor": 0
      },
      "text/plain": [
       "Validating:   0%|          | 0/192 [00:00<?, ?it/s]"
      ]
     },
     "metadata": {},
     "output_type": "display_data"
    },
    {
     "data": {
      "application/vnd.jupyter.widget-view+json": {
       "model_id": "2e138d63c4d7461b9c1dbb8c2d0fca91",
       "version_major": 2,
       "version_minor": 0
      },
      "text/plain": [
       "Validating:   0%|          | 0/192 [00:00<?, ?it/s]"
      ]
     },
     "metadata": {},
     "output_type": "display_data"
    }
   ],
   "source": [
    "from models.WaveNetVAE.train import train\n",
    "from torch.utils.tensorboard import SummaryWriter\n",
    "import warnings\n",
    "warnings.filterwarnings(\"ignore\")\n",
    "writer = SummaryWriter()\n",
    "\n",
    "train(WaveVAE, VAEDataloader, val_VAEDataloader, \n",
    "      writer = writer, \n",
    "      learning_rate = 0.00001,\n",
    "      epoch_amount = 100,\n",
    "      logs_per_epoch = 5,\n",
    "      kl_anneal = 0.01,\n",
    "      max_kl = 0.5,\n",
    "      device = device)\n"
   ]
  },
  {
   "cell_type": "code",
   "execution_count": 3,
   "metadata": {},
   "outputs": [],
   "source": [
    "torch.save(WaveVAE.state_dict(), './modeltest')"
   ]
  },
  {
   "cell_type": "markdown",
   "metadata": {},
   "source": [
    "# Generate Audio"
   ]
  },
  {
   "cell_type": "code",
   "execution_count": 1,
   "metadata": {},
   "outputs": [
    {
     "name": "stdout",
     "output_type": "stream",
     "text": [
      "WaveNet Receptive Field:  4093\n"
     ]
    },
    {
     "data": {
      "text/plain": [
       "<All keys matched successfully>"
      ]
     },
     "execution_count": 1,
     "metadata": {},
     "output_type": "execute_result"
    }
   ],
   "source": [
    "from models.WaveNetVAE.WaveVae import WaveNetVAE\n",
    "from models.WaveNetVAE.WVData import WVDataset\n",
    "import torch\n",
    "from torch.utils.data import DataLoader\n",
    "import warnings\n",
    "warnings.filterwarnings(\"ignore\")\n",
    "\n",
    "\"\"\"\n",
    "Hyperparameters\n",
    "\"\"\"\n",
    "\n",
    "learning_rate = 0.000001\n",
    "batchsize = 4\n",
    "device='cuda:2'\n",
    "input_size = (40, 112)\n",
    "upsamples = [2, 2, 2, 2, 2, 2, 2, 2]\n",
    "zsize = 32\n",
    "\n",
    "WaveVAE = WaveNetVAE(input_size,\n",
    "                     num_hiddens = 768,\n",
    "                     upsamples = upsamples,\n",
    "                     zsize = zsize,\n",
    "                    out_channels = 1)\n",
    "\n",
    "WaveVAE.to(device)\n",
    "\n",
    "WaveVAE.load_state_dict(torch.load('./modeltest'))"
   ]
  },
  {
   "cell_type": "code",
   "execution_count": 2,
   "metadata": {
    "collapsed": false,
    "jupyter": {
     "outputs_hidden": false
    }
   },
   "outputs": [
    {
     "data": {
      "application/vnd.jupyter.widget-view+json": {
       "model_id": "6fb21a0ea70247df867704d30b088386",
       "version_major": 2,
       "version_minor": 0
      },
      "text/plain": [
       "Loading and preprocessing files to dataset.:   0%|          | 0/1 [00:00<?, ?it/s]"
      ]
     },
     "metadata": {},
     "output_type": "display_data"
    },
    {
     "data": {
      "application/vnd.jupyter.widget-view+json": {
       "model_id": "",
       "version_major": 2,
       "version_minor": 0
      },
      "text/plain": [
       "  0%|          | 0/24000 [00:00<?, ?it/s]"
      ]
     },
     "metadata": {},
     "output_type": "display_data"
    },
    {
     "name": "stdout",
     "output_type": "stream",
     "text": [
      "torch.Size([1, 1, 4096])\n"
     ]
    },
    {
     "data": {
      "application/vnd.jupyter.widget-view+json": {
       "model_id": "c68a450fdad14150a321c4196288708f",
       "version_major": 2,
       "version_minor": 0
      },
      "text/plain": [
       "  0%|          | 0/24000 [00:00<?, ?it/s]"
      ]
     },
     "metadata": {},
     "output_type": "display_data"
    }
   ],
   "source": [
    "val_VAEDataset = WVDataset(audio_path = \"../ConvDenoiser_Old/testdata\",\n",
    "                       length = 4096,\n",
    "                       skip_size = 1,\n",
    "                       sample_rate = 24000,\n",
    "                       max_files = 1,\n",
    "                       hop_length = 128)\n",
    "\n",
    "val_VAEDataloader = DataLoader(val_VAEDataset,\n",
    "                           batch_size = 1,\n",
    "                           shuffle = False)\n",
    "with torch.no_grad():\n",
    "    generated_audio = WaveVAE.inference(val_VAEDataloader, size = 4096, device = device)"
   ]
  },
  {
   "cell_type": "code",
   "execution_count": 3,
   "metadata": {},
   "outputs": [
    {
     "name": "stdout",
     "output_type": "stream",
     "text": [
      "torch.Size([1, 1, 28096])\n"
     ]
    },
    {
     "data": {
      "text/html": [
       "\n",
       "                <audio  controls=\"controls\" >\n",
       "                    <source src=\"data:audio/wav;base64,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\" type=\"audio/wav\" />\n",
       "                    Your browser does not support the audio element.\n",
       "                </audio>\n",
       "              "
      ],
      "text/plain": [
       "<IPython.lib.display.Audio object>"
      ]
     },
     "metadata": {},
     "output_type": "display_data"
    }
   ],
   "source": [
    "import IPython\n",
    "print(generated_audio.size())\n",
    "generated_audio = (generated_audio * 2) - 1\n",
    "IPython.display.display(IPython.display.Audio(generated_audio.squeeze().detach().cpu().numpy(), rate = 24000))"
   ]
  },
  {
   "cell_type": "code",
   "execution_count": 6,
   "metadata": {},
   "outputs": [
    {
     "data": {
      "image/png": "[encoded data removed]",
      "text/plain": [
       "<Figure size 640x480 with 1 Axes>"
      ]
     },
     "metadata": {},
     "output_type": "display_data"
    },
    {
     "data": {
      "image/png": "[encoded data removed]",
      "text/plain": [
       "<Figure size 640x480 with 1 Axes>"
      ]
     },
     "metadata": {},
     "output_type": "display_data"
    }
   ],
   "source": [
    "onehot, mfcc, target = next(iter(val_VAEDataloader))\n",
    "\n",
    "import matplotlib.pyplot as plt\n",
    "plt.plot(torch.squeeze(onehot).numpy())\n",
    "plt.ylabel('some numbers')\n",
    "plt.show()\n",
    "\n",
    "plt.plot(torch.squeeze(generated_audio.cpu() + 1 / 2).numpy())\n",
    "plt.ylabel('some numbers')\n",
    "plt.show()"
   ]
  },
  {
   "cell_type": "code",
   "execution_count": 8,
   "metadata": {},
   "outputs": [
    {
     "name": "stdout",
     "output_type": "stream",
     "text": [
      "Collecting matplotlib\n",
      "  Downloading matplotlib-3.7.1-cp310-cp310-manylinux_2_17_x86_64.manylinux2014_x86_64.whl (11.6 MB)\n",
      "\u001b[2K     \u001b[90m━━━━━━━━━━━━━━━━━━━━━━━━━━━━━━━━━━━━━━━━\u001b[0m \u001b[32m11.6/11.6 MB\u001b[0m \u001b[31m55.4 MB/s\u001b[0m eta \u001b[36m0:00:00\u001b[0m00:01\u001b[0m00:01\u001b[0m\n",
      "\u001b[?25hCollecting pyparsing>=2.3.1\n",
      "  Using cached pyparsing-3.0.9-py3-none-any.whl (98 kB)\n",
      "Requirement already satisfied: pillow>=6.2.0 in /data/wouter.besse/miniconda3/envs/myenv/lib/python3.10/site-packages (from matplotlib) (9.4.0)\n",
      "Collecting contourpy>=1.0.1\n",
      "  Downloading contourpy-1.0.7-cp310-cp310-manylinux_2_17_x86_64.manylinux2014_x86_64.whl (300 kB)\n",
      "\u001b[2K     \u001b[90m━━━━━━━━━━━━━━━━━━━━━━━━━━━━━━━━━━━━━━\u001b[0m \u001b[32m300.3/300.3 kB\u001b[0m \u001b[31m69.9 MB/s\u001b[0m eta \u001b[36m0:00:00\u001b[0m\n",
      "\u001b[?25hCollecting kiwisolver>=1.0.1\n",
      "  Downloading kiwisolver-1.4.4-cp310-cp310-manylinux_2_12_x86_64.manylinux2010_x86_64.whl (1.6 MB)\n",
      "\u001b[2K     \u001b[90m━━━━━━━━━━━━━━━━━━━━━━━━━━━━━━━━━━━━━━━━\u001b[0m \u001b[32m1.6/1.6 MB\u001b[0m \u001b[31m73.2 MB/s\u001b[0m eta \u001b[36m0:00:00\u001b[0m\n",
      "\u001b[?25hCollecting fonttools>=4.22.0\n",
      "  Downloading fonttools-4.39.3-py3-none-any.whl (1.0 MB)\n",
      "\u001b[2K     \u001b[90m━━━━━━━━━━━━━━━━━━━━━━━━━━━━━━━━━━━━━━━━\u001b[0m \u001b[32m1.0/1.0 MB\u001b[0m \u001b[31m82.3 MB/s\u001b[0m eta \u001b[36m0:00:00\u001b[0m\n",
      "\u001b[?25hRequirement already satisfied: packaging>=20.0 in /data/wouter.besse/miniconda3/envs/myenv/lib/python3.10/site-packages (from matplotlib) (23.0)\n",
      "Requirement already satisfied: numpy>=1.20 in /data/wouter.besse/miniconda3/envs/myenv/lib/python3.10/site-packages (from matplotlib) (1.23.5)\n",
      "Requirement already satisfied: python-dateutil>=2.7 in /data/wouter.besse/miniconda3/envs/myenv/lib/python3.10/site-packages (from matplotlib) (2.8.2)\n",
      "Collecting cycler>=0.10\n",
      "  Using cached cycler-0.11.0-py3-none-any.whl (6.4 kB)\n",
      "Requirement already satisfied: six>=1.5 in /data/wouter.besse/miniconda3/envs/myenv/lib/python3.10/site-packages (from python-dateutil>=2.7->matplotlib) (1.16.0)\n",
      "Installing collected packages: pyparsing, kiwisolver, fonttools, cycler, contourpy, matplotlib\n",
      "Successfully installed contourpy-1.0.7 cycler-0.11.0 fonttools-4.39.3 kiwisolver-1.4.4 matplotlib-3.7.1 pyparsing-3.0.9\n",
      "Note: you may need to restart the kernel to use updated packages.\n"
     ]
    }
   ],
   "source": [
    "%pip install matplotlib\n"
   ]
  },
  {
   "cell_type": "code",
   "execution_count": null,
   "metadata": {},
   "outputs": [],
   "source": []
  }
 ],
 "metadata": {
  "kernelspec": {
   "display_name": "Python 3 (ipykernel)",
   "language": "python",
   "name": "python3"
  },
  "language_info": {
   "codemirror_mode": {
    "name": "ipython",
    "version": 3
   },
   "file_extension": ".py",
   "mimetype": "text/x-python",
   "name": "python",
   "nbconvert_exporter": "python",
   "pygments_lexer": "ipython3",
   "version": "3.10.11"
  }
 },
 "nbformat": 4,
 "nbformat_minor": 4
}
