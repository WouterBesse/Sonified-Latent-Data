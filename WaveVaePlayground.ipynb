{
 "cells": [
  {
   "cell_type": "markdown",
   "metadata": {
    "collapsed": false
   },
   "source": [
    "# Set up model and hyperparameters"
   ]
  },
  {
   "cell_type": "code",
   "execution_count": 1,
   "metadata": {
    "ExecuteTime": {
     "end_time": "2023-04-28T14:39:27.284644Z",
     "start_time": "2023-04-28T14:31:43.713167Z"
    },
    "collapsed": false
   },
   "outputs": [
    {
     "name": "stdout",
     "output_type": "stream",
     "text": [
      "WaveNet Receptive Field:  4093\n"
     ]
    },
    {
     "name": "stderr",
     "output_type": "stream",
     "text": [
      "C:\\Users\\woute\\AppData\\Local\\Packages\\PythonSoftwareFoundation.Python.3.8_qbz5n2kfra8p0\\LocalCache\\local-packages\\Python38\\site-packages\\torchaudio\\functional\\functional.py:539: UserWarning: At least one mel filterbank has all zero values. The value for `n_mels` (128) may be set too high. Or, the value for `n_freqs` (201) may be set too low.\n",
      "  warnings.warn(\n",
      "Loading and preprocessing files to dataset.:   0%|          | 0/33 [00:00<?, ?it/s]"
     ]
    },
    {
     "name": "stdout",
     "output_type": "stream",
     "text": [
      "4096\n"
     ]
    },
    {
     "name": "stderr",
     "output_type": "stream",
     "text": [
      "i:\\Projects\\2022-2023\\Sonified-Latent-Data\\models\\WaveNetVAE\\WVData.py:99: FutureWarning: Pass sr=24000 as keyword args. From version 0.10 passing these as positional arguments will result in an error\n",
      "  raw, _ = librosa.load(filename, sampling_rate, res_type=res_type)\n",
      "Loading and preprocessing files to dataset.:   3%|▎         | 1/33 [00:00<00:25,  1.24it/s]i:\\Projects\\2022-2023\\Sonified-Latent-Data\\models\\WaveNetVAE\\WVData.py:99: FutureWarning: Pass sr=24000 as keyword args. From version 0.10 passing these as positional arguments will result in an error\n",
      "  raw, _ = librosa.load(filename, sampling_rate, res_type=res_type)\n",
      "Loading and preprocessing files to dataset.: 100%|██████████| 33/33 [00:12<00:00,  2.63it/s]\n"
     ]
    }
   ],
   "source": [
    "from models.WaveNetVAE.WaveVae import WaveNetVAE\n",
    "from models.WaveNetVAE.WVData import WVDataset\n",
    "import torch\n",
    "from torch.utils.data import DataLoader\n",
    "\n",
    "\"\"\"\n",
    "Hyperparameters\n",
    "\"\"\"\n",
    "\n",
    "learning_rate = 0.000001\n",
    "batchsize = 4\n",
    "device='cuda'\n",
    "input_size = (40, 112)\n",
    "upsamples = [2, 2, 2, 2, 2, 2, 2, 2]\n",
    "zsize = 32\n",
    "\n",
    "WaveVAE = WaveNetVAE(input_size,\n",
    "                     num_hiddens = 768,\n",
    "                     upsamples = upsamples,\n",
    "                     zsize = zsize)\n",
    "\n",
    "WaveVAE.to(device)\n",
    "\n",
    "VAEDataset = WVDataset(audio_path = \"../ConvDenoiser/testdatawav\",\n",
    "                       length = 4096,\n",
    "                       sample_rate = 24000,\n",
    "                       hop_length = 128)\n",
    "\n",
    "val_VAEDataset = WVDataset(audio_path = \"../ConvDenoiser/testdatawav\",\n",
    "                       length = 4096,\n",
    "                       sample_rate = 24000,\n",
    "                       hop_length = 128)\n",
    "\n",
    "VAEDataloader = DataLoader(VAEDataset,\n",
    "                           batch_size = batchsize,\n",
    "                           shuffle = True)\n",
    "\n",
    "val_VAEDataloader = DataLoader(VAEDataset,\n",
    "                           batch_size = batchsize,\n",
    "                           shuffle = False)\n",
    "\n",
    "optimizer = torch.optim.AdamW(WaveVAE.parameters(), lr=learning_rate)\n",
    "loss_fn = torch.nn.CrossEntropyLoss()"
   ]
  },
  {
   "cell_type": "markdown",
   "metadata": {
    "collapsed": false
   },
   "source": [
    "# Test tensor"
   ]
  },
  {
   "cell_type": "code",
   "execution_count": 7,
   "metadata": {
    "collapsed": false
   },
   "outputs": [
    {
     "name": "stdout",
     "output_type": "stream",
     "text": [
      "Onehot size:  torch.Size([4, 256, 4096]) | MFCC size:  torch.Size([4, 40, 33]) | Target size:  torch.int64\n",
      "Before downsample:  torch.Size([4, 768, 33])\n",
      "After downsample:  torch.Size([4, 768, 16])\n",
      "torch.Size([4, 256, 16])\n",
      "torch.Size([4, 256, 4096]) torch.Size([4, 256, 4096])\n",
      "torch.float32\n"
     ]
    }
   ],
   "source": [
    "onehot, mfcc, target = next(iter(VAEDataloader))\n",
    "onehot = onehot.to(device)\n",
    "mfcc = mfcc.to(device)\n",
    "target = target.to(device)\n",
    "\n",
    "print(\"Trying tensors with sizes:\")\n",
    "print(\"Onehot size: \", onehot.size(), \"| MFCC size: \", mfcc.size(), \"| Target size: \", target.size())\n",
    "\n",
    "output = WaveVAE(onehot, mfcc, True)\n",
    "print(\"Tensors passed through model succesfully\")\n",
    "loss = loss_fn(output[:, :, -1], target)\n",
    "print(\"Loss function output: \", loss)"
   ]
  },
  {
   "attachments": {},
   "cell_type": "markdown",
   "metadata": {},
   "source": [
    "# Start training"
   ]
  },
  {
   "cell_type": "code",
   "execution_count": null,
   "metadata": {},
   "outputs": [],
   "source": [
    "from tqdm import tqdm\n",
    "from torch.utils.tensorboard import SummaryWriter\n",
    "writer = SummaryWriter()\n",
    "torch.cuda.empty_cache()\n",
    "\n",
    "logstep = 0\n",
    "logs_per_epoch = 5\n",
    "epoch_amount = 100\n",
    "kl_anneal = 0.1\n",
    "kl_mult = 0.0\n",
    "total_step = 0\n",
    "\n",
    "def calculate_loss(output, target, mean, variance, kl_term):\n",
    "    reconstruction_loss = loss_fn(output[:, :, -1], target)\n",
    "    kl_loss = - 0.5 * torch.mean(1+ variance - mean.pow(2) - variance.exp())\n",
    "\n",
    "    return reconstruction_loss + kl_loss * kl_term, reconstruction_loss, kl_loss\n",
    "\n",
    "def anneal_kl(kl_term, kl_annealing):\n",
    "    kl_term += kl_annealing\n",
    "\n",
    "    return kl_term\n",
    "\n",
    "for epoch in range(epoch_amount):\n",
    "    WaveVAE.train(True)\n",
    "    total_epoch_loss = [0, 0, 0]\n",
    "    step = 1\n",
    "\n",
    "    with tqdm(enumerate(VAEDataloader),total=len(VAEDataloader),desc=f\"Training. Epoch: {epoch}. Loss for step {step}: n.v.t.\") as t:\n",
    "        for batch_idx, (onehot_input, mfcc_input, target) in t:\n",
    "            optimizer.zero_grad(set_to_none=True)\n",
    "\n",
    "            onehot_input = onehot_input.to(device)\n",
    "            mfcc_input = mfcc_input.to(device)\n",
    "            target = target.to(device)\n",
    "\n",
    "            output, mean, variance = WaveVAE(onehot_input, target, True)\n",
    "\n",
    "            real_loss, rec_loss, kl_loss = calculate_loss(output, target, mean, variance, kl_mult)\n",
    "            real_loss.backward()\n",
    "            optimizer.step()\n",
    "\n",
    "            # Save losses for total, reconstruction and kl seperately for better inspection of optimisation for different parts\n",
    "            total_epoch_loss = [\n",
    "                total_epoch_loss[0] + real_loss.item(),\n",
    "                total_epoch_loss[1] + rec_loss.item(),\n",
    "                total_epoch_loss[2] + kl_loss.item()\n",
    "                ]\n",
    "\n",
    "            t.set_description(f\"Validating. Average rec/real loss for step {step}: {round(rec_loss.item(), 2)}/{round(real_loss.item(), 2)}.\")\n",
    "            writer.add_scalar('Train step loss:', real_loss.item(), total_step)\n",
    "            step += 1\n",
    "            total_step += 1\n",
    "\n",
    "            if step % (len(VAEDataloader) // logs_per_epoch) == 0 or step - 1 == 0:\n",
    "\n",
    "                writer.add_scalars('Train loss', {\n",
    "                                        'Real loss': total_epoch_loss[0] / step,\n",
    "                                        'Reconstruction loss': total_epoch_loss[1] / step,\n",
    "                                        'Kl loss': total_epoch_loss[2] / step\n",
    "                                    }, logstep)\n",
    "                \n",
    "                logstep += 1\n",
    "            \n"
   ]
  }
 ],
 "metadata": {
  "kernelspec": {
   "display_name": "Python 3",
   "language": "python",
   "name": "python3"
  },
  "language_info": {
   "codemirror_mode": {
    "name": "ipython",
    "version": 3
   },
   "file_extension": ".py",
   "mimetype": "text/x-python",
   "name": "python",
   "nbconvert_exporter": "python",
   "pygments_lexer": "ipython3",
   "version": "3.8.10"
  }
 },
 "nbformat": 4,
 "nbformat_minor": 0
}
