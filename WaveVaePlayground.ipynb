{
 "cells": [
  {
   "cell_type": "code",
   "execution_count": 1,
   "metadata": {
    "collapsed": true
   },
   "outputs": [
    {
     "name": "stdout",
     "output_type": "stream",
     "text": [
      "WaveNet Receptive Field:  4093\n"
     ]
    },
    {
     "name": "stderr",
     "output_type": "stream",
     "text": [
      "C:\\Users\\woute\\AppData\\Local\\Packages\\PythonSoftwareFoundation.Python.3.8_qbz5n2kfra8p0\\LocalCache\\local-packages\\Python38\\site-packages\\torchaudio\\functional\\functional.py:539: UserWarning: At least one mel filterbank has all zero values. The value for `n_mels` (128) may be set too high. Or, the value for `n_freqs` (201) may be set too low.\n",
      "  warnings.warn(\n",
      "Loading and preprocessing files to dataset.:   0%|          | 0/33 [00:00<?, ?it/s]I:\\Projects\\2022-2023\\Sonified-Latent-Data\\models\\WaveNetVAE\\WVData.py:88: FutureWarning: Pass sr=24000 as keyword args. From version 0.10 passing these as positional arguments will result in an error\n",
      "  raw, _ = librosa.load(filename, sampling_rate, res_type=res_type)\n",
      "Loading and preprocessing files to dataset.:   3%|▎         | 1/33 [00:00<00:30,  1.05it/s]I:\\Projects\\2022-2023\\Sonified-Latent-Data\\models\\WaveNetVAE\\WVData.py:88: FutureWarning: Pass sr=24000 as keyword args. From version 0.10 passing these as positional arguments will result in an error\n",
      "  raw, _ = librosa.load(filename, sampling_rate, res_type=res_type)\n",
      "Loading and preprocessing files to dataset.: 100%|██████████| 33/33 [00:55<00:00,  1.67s/it]\n"
     ]
    }
   ],
   "source": [
    "from models.WaveNetVAE.WaveVae import WaveNetVAE\n",
    "from models.WaveNetVAE.WVData import WVDataset\n",
    "import torch\n",
    "from torch.utils.data import DataLoader\n",
    "\n",
    "\"\"\"\n",
    "Hyperparameters\n",
    "\"\"\"\n",
    "\n",
    "learning_rate = 0.000001\n",
    "batchsize = 4\n",
    "device='cuda'\n",
    "input_size = (40, 112)\n",
    "upsamples = [2, 2, 2, 2, 2, 2, 2]\n",
    "zsize = 32\n",
    "\n",
    "WaveVAE = WaveNetVAE(input_size,\n",
    "                     num_hiddens = 768,\n",
    "                     upsamples = upsamples,\n",
    "                     zsize = zsize)\n",
    "\n",
    "WaveVAE.to(device)\n",
    "\n",
    "VAEDataset = WVDataset(audio_path = \"../ConvDenoiser/testdatawav\",\n",
    "                       length = WaveVAE.receptive_field,\n",
    "                       sample_rate = 24000)\n",
    "\n",
    "VAEDataloader = DataLoader(VAEDataset,\n",
    "                           batch_size = batchsize,\n",
    "                           shuffle = True)\n",
    "\n",
    "optimizer = torch.optim.AdamW(WaveVAE.parameters(), lr=learning_rate)"
   ]
  },
  {
   "cell_type": "code",
   "execution_count": null,
   "outputs": [],
   "source": [],
   "metadata": {
    "collapsed": false
   }
  }
 ],
 "metadata": {
  "kernelspec": {
   "display_name": "Python 3",
   "language": "python",
   "name": "python3"
  },
  "language_info": {
   "codemirror_mode": {
    "name": "ipython",
    "version": 2
   },
   "file_extension": ".py",
   "mimetype": "text/x-python",
   "name": "python",
   "nbconvert_exporter": "python",
   "pygments_lexer": "ipython2",
   "version": "2.7.6"
  }
 },
 "nbformat": 4,
 "nbformat_minor": 0
}
