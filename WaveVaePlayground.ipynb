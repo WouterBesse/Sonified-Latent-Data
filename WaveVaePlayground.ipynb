{
 "cells": [
  {
   "cell_type": "markdown",
   "metadata": {},
   "source": [
    "# Set up model and hyperparameters"
   ]
  },
  {
   "cell_type": "code",
   "execution_count": 1,
   "metadata": {
    "ExecuteTime": {
     "end_time": "2023-04-28T14:39:27.284644Z",
     "start_time": "2023-04-28T14:31:43.713167Z"
    },
    "collapsed": false,
    "jupyter": {
     "outputs_hidden": false
    },
    "tags": []
   },
   "outputs": [
    {
     "name": "stdout",
     "output_type": "stream",
     "text": [
      "WaveNet Receptive Field:  4093\n"
     ]
    },
    {
     "data": {
      "application/vnd.jupyter.widget-view+json": {
       "model_id": "715f4695faae475bb362c9de58cc40d9",
       "version_major": 2,
       "version_minor": 0
      },
      "text/plain": [
       "Loading and preprocessing files to dataset.:   0%|          | 0/300 [00:00<?, ?it/s]"
      ]
     },
     "metadata": {},
     "output_type": "display_data"
    },
    {
     "data": {
      "application/vnd.jupyter.widget-view+json": {
       "model_id": "",
       "version_major": 2,
       "version_minor": 0
      },
      "text/plain": [
       "  0%|          | 0/27 [00:00<?, ?it/s]"
      ]
     },
     "metadata": {},
     "output_type": "display_data"
    },
    {
     "data": {
      "application/vnd.jupyter.widget-view+json": {
       "model_id": "",
       "version_major": 2,
       "version_minor": 0
      },
      "text/plain": [
       "  0%|          | 0/56 [00:00<?, ?it/s]"
      ]
     },
     "metadata": {},
     "output_type": "display_data"
    },
    {
     "data": {
      "application/vnd.jupyter.widget-view+json": {
       "model_id": "",
       "version_major": 2,
       "version_minor": 0
      },
      "text/plain": [
       "  0%|          | 0/32 [00:00<?, ?it/s]"
      ]
     },
     "metadata": {},
     "output_type": "display_data"
    },
    {
     "data": {
      "application/vnd.jupyter.widget-view+json": {
       "model_id": "",
       "version_major": 2,
       "version_minor": 0
      },
      "text/plain": [
       "  0%|          | 0/30 [00:00<?, ?it/s]"
      ]
     },
     "metadata": {},
     "output_type": "display_data"
    },
    {
     "data": {
      "application/vnd.jupyter.widget-view+json": {
       "model_id": "",
       "version_major": 2,
       "version_minor": 0
      },
      "text/plain": [
       "  0%|          | 0/27 [00:00<?, ?it/s]"
      ]
     },
     "metadata": {},
     "output_type": "display_data"
    },
    {
     "data": {
      "application/vnd.jupyter.widget-view+json": {
       "model_id": "",
       "version_major": 2,
       "version_minor": 0
      },
      "text/plain": [
       "  0%|          | 0/35 [00:00<?, ?it/s]"
      ]
     },
     "metadata": {},
     "output_type": "display_data"
    },
    {
     "data": {
      "application/vnd.jupyter.widget-view+json": {
       "model_id": "",
       "version_major": 2,
       "version_minor": 0
      },
      "text/plain": [
       "  0%|          | 0/27 [00:00<?, ?it/s]"
      ]
     },
     "metadata": {},
     "output_type": "display_data"
    },
    {
     "data": {
      "application/vnd.jupyter.widget-view+json": {
       "model_id": "",
       "version_major": 2,
       "version_minor": 0
      },
      "text/plain": [
       "  0%|          | 0/57 [00:00<?, ?it/s]"
      ]
     },
     "metadata": {},
     "output_type": "display_data"
    },
    {
     "data": {
      "application/vnd.jupyter.widget-view+json": {
       "model_id": "",
       "version_major": 2,
       "version_minor": 0
      },
      "text/plain": [
       "  0%|          | 0/43 [00:00<?, ?it/s]"
      ]
     },
     "metadata": {},
     "output_type": "display_data"
    },
    {
     "data": {
      "application/vnd.jupyter.widget-view+json": {
       "model_id": "",
       "version_major": 2,
       "version_minor": 0
      },
      "text/plain": [
       "  0%|          | 0/72 [00:00<?, ?it/s]"
      ]
     },
     "metadata": {},
     "output_type": "display_data"
    },
    {
     "data": {
      "application/vnd.jupyter.widget-view+json": {
       "model_id": "",
       "version_major": 2,
       "version_minor": 0
      },
      "text/plain": [
       "  0%|          | 0/30 [00:00<?, ?it/s]"
      ]
     },
     "metadata": {},
     "output_type": "display_data"
    },
    {
     "data": {
      "application/vnd.jupyter.widget-view+json": {
       "model_id": "",
       "version_major": 2,
       "version_minor": 0
      },
      "text/plain": [
       "  0%|          | 0/49 [00:00<?, ?it/s]"
      ]
     },
     "metadata": {},
     "output_type": "display_data"
    },
    {
     "data": {
      "application/vnd.jupyter.widget-view+json": {
       "model_id": "",
       "version_major": 2,
       "version_minor": 0
      },
      "text/plain": [
       "  0%|          | 0/40 [00:00<?, ?it/s]"
      ]
     },
     "metadata": {},
     "output_type": "display_data"
    },
    {
     "data": {
      "application/vnd.jupyter.widget-view+json": {
       "model_id": "",
       "version_major": 2,
       "version_minor": 0
      },
      "text/plain": [
       "  0%|          | 0/78 [00:00<?, ?it/s]"
      ]
     },
     "metadata": {},
     "output_type": "display_data"
    },
    {
     "data": {
      "application/vnd.jupyter.widget-view+json": {
       "model_id": "",
       "version_major": 2,
       "version_minor": 0
      },
      "text/plain": [
       "  0%|          | 0/79 [00:00<?, ?it/s]"
      ]
     },
     "metadata": {},
     "output_type": "display_data"
    },
    {
     "data": {
      "application/vnd.jupyter.widget-view+json": {
       "model_id": "",
       "version_major": 2,
       "version_minor": 0
      },
      "text/plain": [
       "  0%|          | 0/35 [00:00<?, ?it/s]"
      ]
     },
     "metadata": {},
     "output_type": "display_data"
    },
    {
     "data": {
      "application/vnd.jupyter.widget-view+json": {
       "model_id": "",
       "version_major": 2,
       "version_minor": 0
      },
      "text/plain": [
       "  0%|          | 0/22 [00:00<?, ?it/s]"
      ]
     },
     "metadata": {},
     "output_type": "display_data"
    },
    {
     "data": {
      "application/vnd.jupyter.widget-view+json": {
       "model_id": "",
       "version_major": 2,
       "version_minor": 0
      },
      "text/plain": [
       "  0%|          | 0/61 [00:00<?, ?it/s]"
      ]
     },
     "metadata": {},
     "output_type": "display_data"
    },
    {
     "data": {
      "application/vnd.jupyter.widget-view+json": {
       "model_id": "",
       "version_major": 2,
       "version_minor": 0
      },
      "text/plain": [
       "  0%|          | 0/36 [00:00<?, ?it/s]"
      ]
     },
     "metadata": {},
     "output_type": "display_data"
    },
    {
     "data": {
      "application/vnd.jupyter.widget-view+json": {
       "model_id": "",
       "version_major": 2,
       "version_minor": 0
      },
      "text/plain": [
       "  0%|          | 0/28 [00:00<?, ?it/s]"
      ]
     },
     "metadata": {},
     "output_type": "display_data"
    },
    {
     "data": {
      "application/vnd.jupyter.widget-view+json": {
       "model_id": "",
       "version_major": 2,
       "version_minor": 0
      },
      "text/plain": [
       "  0%|          | 0/20 [00:00<?, ?it/s]"
      ]
     },
     "metadata": {},
     "output_type": "display_data"
    },
    {
     "data": {
      "application/vnd.jupyter.widget-view+json": {
       "model_id": "",
       "version_major": 2,
       "version_minor": 0
      },
      "text/plain": [
       "  0%|          | 0/26 [00:00<?, ?it/s]"
      ]
     },
     "metadata": {},
     "output_type": "display_data"
    },
    {
     "data": {
      "application/vnd.jupyter.widget-view+json": {
       "model_id": "",
       "version_major": 2,
       "version_minor": 0
      },
      "text/plain": [
       "  0%|          | 0/16 [00:00<?, ?it/s]"
      ]
     },
     "metadata": {},
     "output_type": "display_data"
    },
    {
     "data": {
      "application/vnd.jupyter.widget-view+json": {
       "model_id": "",
       "version_major": 2,
       "version_minor": 0
      },
      "text/plain": [
       "  0%|          | 0/69 [00:00<?, ?it/s]"
      ]
     },
     "metadata": {},
     "output_type": "display_data"
    },
    {
     "data": {
      "application/vnd.jupyter.widget-view+json": {
       "model_id": "",
       "version_major": 2,
       "version_minor": 0
      },
      "text/plain": [
       "  0%|          | 0/43 [00:00<?, ?it/s]"
      ]
     },
     "metadata": {},
     "output_type": "display_data"
    },
    {
     "data": {
      "application/vnd.jupyter.widget-view+json": {
       "model_id": "",
       "version_major": 2,
       "version_minor": 0
      },
      "text/plain": [
       "  0%|          | 0/20 [00:00<?, ?it/s]"
      ]
     },
     "metadata": {},
     "output_type": "display_data"
    },
    {
     "data": {
      "application/vnd.jupyter.widget-view+json": {
       "model_id": "",
       "version_major": 2,
       "version_minor": 0
      },
      "text/plain": [
       "  0%|          | 0/39 [00:00<?, ?it/s]"
      ]
     },
     "metadata": {},
     "output_type": "display_data"
    },
    {
     "data": {
      "application/vnd.jupyter.widget-view+json": {
       "model_id": "",
       "version_major": 2,
       "version_minor": 0
      },
      "text/plain": [
       "  0%|          | 0/32 [00:00<?, ?it/s]"
      ]
     },
     "metadata": {},
     "output_type": "display_data"
    },
    {
     "data": {
      "application/vnd.jupyter.widget-view+json": {
       "model_id": "",
       "version_major": 2,
       "version_minor": 0
      },
      "text/plain": [
       "  0%|          | 0/47 [00:00<?, ?it/s]"
      ]
     },
     "metadata": {},
     "output_type": "display_data"
    },
    {
     "data": {
      "application/vnd.jupyter.widget-view+json": {
       "model_id": "",
       "version_major": 2,
       "version_minor": 0
      },
      "text/plain": [
       "  0%|          | 0/38 [00:00<?, ?it/s]"
      ]
     },
     "metadata": {},
     "output_type": "display_data"
    },
    {
     "data": {
      "application/vnd.jupyter.widget-view+json": {
       "model_id": "",
       "version_major": 2,
       "version_minor": 0
      },
      "text/plain": [
       "  0%|          | 0/53 [00:00<?, ?it/s]"
      ]
     },
     "metadata": {},
     "output_type": "display_data"
    },
    {
     "data": {
      "application/vnd.jupyter.widget-view+json": {
       "model_id": "",
       "version_major": 2,
       "version_minor": 0
      },
      "text/plain": [
       "  0%|          | 0/49 [00:00<?, ?it/s]"
      ]
     },
     "metadata": {},
     "output_type": "display_data"
    },
    {
     "data": {
      "application/vnd.jupyter.widget-view+json": {
       "model_id": "",
       "version_major": 2,
       "version_minor": 0
      },
      "text/plain": [
       "  0%|          | 0/11 [00:00<?, ?it/s]"
      ]
     },
     "metadata": {},
     "output_type": "display_data"
    },
    {
     "data": {
      "application/vnd.jupyter.widget-view+json": {
       "model_id": "",
       "version_major": 2,
       "version_minor": 0
      },
      "text/plain": [
       "  0%|          | 0/20 [00:00<?, ?it/s]"
      ]
     },
     "metadata": {},
     "output_type": "display_data"
    },
    {
     "data": {
      "application/vnd.jupyter.widget-view+json": {
       "model_id": "",
       "version_major": 2,
       "version_minor": 0
      },
      "text/plain": [
       "  0%|          | 0/8 [00:00<?, ?it/s]"
      ]
     },
     "metadata": {},
     "output_type": "display_data"
    },
    {
     "data": {
      "application/vnd.jupyter.widget-view+json": {
       "model_id": "",
       "version_major": 2,
       "version_minor": 0
      },
      "text/plain": [
       "  0%|          | 0/31 [00:00<?, ?it/s]"
      ]
     },
     "metadata": {},
     "output_type": "display_data"
    },
    {
     "data": {
      "application/vnd.jupyter.widget-view+json": {
       "model_id": "",
       "version_major": 2,
       "version_minor": 0
      },
      "text/plain": [
       "  0%|          | 0/35 [00:00<?, ?it/s]"
      ]
     },
     "metadata": {},
     "output_type": "display_data"
    },
    {
     "data": {
      "application/vnd.jupyter.widget-view+json": {
       "model_id": "",
       "version_major": 2,
       "version_minor": 0
      },
      "text/plain": [
       "  0%|          | 0/38 [00:00<?, ?it/s]"
      ]
     },
     "metadata": {},
     "output_type": "display_data"
    },
    {
     "data": {
      "application/vnd.jupyter.widget-view+json": {
       "model_id": "",
       "version_major": 2,
       "version_minor": 0
      },
      "text/plain": [
       "  0%|          | 0/66 [00:00<?, ?it/s]"
      ]
     },
     "metadata": {},
     "output_type": "display_data"
    },
    {
     "data": {
      "application/vnd.jupyter.widget-view+json": {
       "model_id": "",
       "version_major": 2,
       "version_minor": 0
      },
      "text/plain": [
       "  0%|          | 0/45 [00:00<?, ?it/s]"
      ]
     },
     "metadata": {},
     "output_type": "display_data"
    },
    {
     "data": {
      "application/vnd.jupyter.widget-view+json": {
       "model_id": "",
       "version_major": 2,
       "version_minor": 0
      },
      "text/plain": [
       "  0%|          | 0/52 [00:00<?, ?it/s]"
      ]
     },
     "metadata": {},
     "output_type": "display_data"
    },
    {
     "data": {
      "application/vnd.jupyter.widget-view+json": {
       "model_id": "",
       "version_major": 2,
       "version_minor": 0
      },
      "text/plain": [
       "  0%|          | 0/31 [00:00<?, ?it/s]"
      ]
     },
     "metadata": {},
     "output_type": "display_data"
    },
    {
     "data": {
      "application/vnd.jupyter.widget-view+json": {
       "model_id": "",
       "version_major": 2,
       "version_minor": 0
      },
      "text/plain": [
       "  0%|          | 0/37 [00:00<?, ?it/s]"
      ]
     },
     "metadata": {},
     "output_type": "display_data"
    },
    {
     "data": {
      "application/vnd.jupyter.widget-view+json": {
       "model_id": "",
       "version_major": 2,
       "version_minor": 0
      },
      "text/plain": [
       "  0%|          | 0/46 [00:00<?, ?it/s]"
      ]
     },
     "metadata": {},
     "output_type": "display_data"
    },
    {
     "data": {
      "application/vnd.jupyter.widget-view+json": {
       "model_id": "",
       "version_major": 2,
       "version_minor": 0
      },
      "text/plain": [
       "  0%|          | 0/27 [00:00<?, ?it/s]"
      ]
     },
     "metadata": {},
     "output_type": "display_data"
    },
    {
     "data": {
      "application/vnd.jupyter.widget-view+json": {
       "model_id": "",
       "version_major": 2,
       "version_minor": 0
      },
      "text/plain": [
       "  0%|          | 0/46 [00:00<?, ?it/s]"
      ]
     },
     "metadata": {},
     "output_type": "display_data"
    },
    {
     "data": {
      "application/vnd.jupyter.widget-view+json": {
       "model_id": "",
       "version_major": 2,
       "version_minor": 0
      },
      "text/plain": [
       "  0%|          | 0/90 [00:00<?, ?it/s]"
      ]
     },
     "metadata": {},
     "output_type": "display_data"
    },
    {
     "data": {
      "application/vnd.jupyter.widget-view+json": {
       "model_id": "",
       "version_major": 2,
       "version_minor": 0
      },
      "text/plain": [
       "  0%|          | 0/78 [00:00<?, ?it/s]"
      ]
     },
     "metadata": {},
     "output_type": "display_data"
    },
    {
     "data": {
      "application/vnd.jupyter.widget-view+json": {
       "model_id": "25f1fc625e5e47f5bf0472e9f048c9d4",
       "version_major": 2,
       "version_minor": 0
      },
      "text/plain": [
       "  0%|          | 0/75 [00:00<?, ?it/s]"
      ]
     },
     "metadata": {},
     "output_type": "display_data"
    },
    {
     "data": {
      "application/vnd.jupyter.widget-view+json": {
       "model_id": "03d7a994e7264355b28ced117224f990",
       "version_major": 2,
       "version_minor": 0
      },
      "text/plain": [
       "  0%|          | 0/80 [00:00<?, ?it/s]"
      ]
     },
     "metadata": {},
     "output_type": "display_data"
    },
    {
     "data": {
      "application/vnd.jupyter.widget-view+json": {
       "model_id": "1f494b7d31154c66995e7c15ea7f0984",
       "version_major": 2,
       "version_minor": 0
      },
      "text/plain": [
       "  0%|          | 0/3 [00:00<?, ?it/s]"
      ]
     },
     "metadata": {},
     "output_type": "display_data"
    },
    {
     "data": {
      "application/vnd.jupyter.widget-view+json": {
       "model_id": "645e2fb7b2034d7e83b4fa94dc6408a2",
       "version_major": 2,
       "version_minor": 0
      },
      "text/plain": [
       "  0%|          | 0/28 [00:00<?, ?it/s]"
      ]
     },
     "metadata": {},
     "output_type": "display_data"
    },
    {
     "data": {
      "application/vnd.jupyter.widget-view+json": {
       "model_id": "3082e6c28110426cb264dc16af19ae25",
       "version_major": 2,
       "version_minor": 0
      },
      "text/plain": [
       "  0%|          | 0/47 [00:00<?, ?it/s]"
      ]
     },
     "metadata": {},
     "output_type": "display_data"
    },
    {
     "data": {
      "application/vnd.jupyter.widget-view+json": {
       "model_id": "55c3a3f2f3d342929b29c2107167858e",
       "version_major": 2,
       "version_minor": 0
      },
      "text/plain": [
       "  0%|          | 0/64 [00:00<?, ?it/s]"
      ]
     },
     "metadata": {},
     "output_type": "display_data"
    },
    {
     "data": {
      "application/vnd.jupyter.widget-view+json": {
       "model_id": "e4c7b5f8b3544c77894394d5b80e19a8",
       "version_major": 2,
       "version_minor": 0
      },
      "text/plain": [
       "  0%|          | 0/55 [00:00<?, ?it/s]"
      ]
     },
     "metadata": {},
     "output_type": "display_data"
    },
    {
     "data": {
      "application/vnd.jupyter.widget-view+json": {
       "model_id": "2d972b43418843c6aec6fdc2520d9f64",
       "version_major": 2,
       "version_minor": 0
      },
      "text/plain": [
       "  0%|          | 0/28 [00:00<?, ?it/s]"
      ]
     },
     "metadata": {},
     "output_type": "display_data"
    },
    {
     "data": {
      "application/vnd.jupyter.widget-view+json": {
       "model_id": "c41b67f6c95a4c91b3953dd76c4297d4",
       "version_major": 2,
       "version_minor": 0
      },
      "text/plain": [
       "  0%|          | 0/32 [00:00<?, ?it/s]"
      ]
     },
     "metadata": {},
     "output_type": "display_data"
    },
    {
     "data": {
      "application/vnd.jupyter.widget-view+json": {
       "model_id": "28261d9559424664b10f3ca3fcbd6b1b",
       "version_major": 2,
       "version_minor": 0
      },
      "text/plain": [
       "  0%|          | 0/23 [00:00<?, ?it/s]"
      ]
     },
     "metadata": {},
     "output_type": "display_data"
    },
    {
     "data": {
      "application/vnd.jupyter.widget-view+json": {
       "model_id": "eefae47dfb10414fa9039d3186402f82",
       "version_major": 2,
       "version_minor": 0
      },
      "text/plain": [
       "  0%|          | 0/24 [00:00<?, ?it/s]"
      ]
     },
     "metadata": {},
     "output_type": "display_data"
    },
    {
     "data": {
      "application/vnd.jupyter.widget-view+json": {
       "model_id": "f150c86cd4544a918dbb846519b77fc9",
       "version_major": 2,
       "version_minor": 0
      },
      "text/plain": [
       "  0%|          | 0/41 [00:00<?, ?it/s]"
      ]
     },
     "metadata": {},
     "output_type": "display_data"
    },
    {
     "data": {
      "application/vnd.jupyter.widget-view+json": {
       "model_id": "a118c7d92e6a4aa983feda76ec03446b",
       "version_major": 2,
       "version_minor": 0
      },
      "text/plain": [
       "  0%|          | 0/60 [00:00<?, ?it/s]"
      ]
     },
     "metadata": {},
     "output_type": "display_data"
    },
    {
     "data": {
      "application/vnd.jupyter.widget-view+json": {
       "model_id": "88b5015dc4e944a4a5b19e89421d5e37",
       "version_major": 2,
       "version_minor": 0
      },
      "text/plain": [
       "  0%|          | 0/28 [00:00<?, ?it/s]"
      ]
     },
     "metadata": {},
     "output_type": "display_data"
    },
    {
     "data": {
      "application/vnd.jupyter.widget-view+json": {
       "model_id": "d5c7bf4654f143fc84c3424d13767b36",
       "version_major": 2,
       "version_minor": 0
      },
      "text/plain": [
       "  0%|          | 0/23 [00:00<?, ?it/s]"
      ]
     },
     "metadata": {},
     "output_type": "display_data"
    },
    {
     "data": {
      "application/vnd.jupyter.widget-view+json": {
       "model_id": "e7a4355055cf4415845494fee3d1e531",
       "version_major": 2,
       "version_minor": 0
      },
      "text/plain": [
       "  0%|          | 0/51 [00:00<?, ?it/s]"
      ]
     },
     "metadata": {},
     "output_type": "display_data"
    },
    {
     "data": {
      "application/vnd.jupyter.widget-view+json": {
       "model_id": "9fad6196d1024be8897bb0ac337dc6e0",
       "version_major": 2,
       "version_minor": 0
      },
      "text/plain": [
       "  0%|          | 0/25 [00:00<?, ?it/s]"
      ]
     },
     "metadata": {},
     "output_type": "display_data"
    },
    {
     "data": {
      "application/vnd.jupyter.widget-view+json": {
       "model_id": "c00b83a124314f548454c623c29c2c6a",
       "version_major": 2,
       "version_minor": 0
      },
      "text/plain": [
       "  0%|          | 0/34 [00:00<?, ?it/s]"
      ]
     },
     "metadata": {},
     "output_type": "display_data"
    },
    {
     "data": {
      "application/vnd.jupyter.widget-view+json": {
       "model_id": "85325e9640b84eecaf91742f35c4670f",
       "version_major": 2,
       "version_minor": 0
      },
      "text/plain": [
       "  0%|          | 0/99 [00:00<?, ?it/s]"
      ]
     },
     "metadata": {},
     "output_type": "display_data"
    },
    {
     "data": {
      "application/vnd.jupyter.widget-view+json": {
       "model_id": "e384743f3f59423083ae596e3413a02c",
       "version_major": 2,
       "version_minor": 0
      },
      "text/plain": [
       "  0%|          | 0/91 [00:00<?, ?it/s]"
      ]
     },
     "metadata": {},
     "output_type": "display_data"
    },
    {
     "data": {
      "application/vnd.jupyter.widget-view+json": {
       "model_id": "005158fbc5b24ec4b9daf56f08276b37",
       "version_major": 2,
       "version_minor": 0
      },
      "text/plain": [
       "  0%|          | 0/43 [00:00<?, ?it/s]"
      ]
     },
     "metadata": {},
     "output_type": "display_data"
    },
    {
     "data": {
      "application/vnd.jupyter.widget-view+json": {
       "model_id": "e10950ea949249598a27bef56f8351c7",
       "version_major": 2,
       "version_minor": 0
      },
      "text/plain": [
       "  0%|          | 0/54 [00:00<?, ?it/s]"
      ]
     },
     "metadata": {},
     "output_type": "display_data"
    },
    {
     "data": {
      "application/vnd.jupyter.widget-view+json": {
       "model_id": "25a09beea2284ddc93a5e2b5ab5dfc7f",
       "version_major": 2,
       "version_minor": 0
      },
      "text/plain": [
       "  0%|          | 0/52 [00:00<?, ?it/s]"
      ]
     },
     "metadata": {},
     "output_type": "display_data"
    },
    {
     "data": {
      "application/vnd.jupyter.widget-view+json": {
       "model_id": "ff3ced4189234859b10cdf5014632554",
       "version_major": 2,
       "version_minor": 0
      },
      "text/plain": [
       "  0%|          | 0/32 [00:00<?, ?it/s]"
      ]
     },
     "metadata": {},
     "output_type": "display_data"
    },
    {
     "data": {
      "application/vnd.jupyter.widget-view+json": {
       "model_id": "441acdb1a18a4d6db7bfc80f503f7b99",
       "version_major": 2,
       "version_minor": 0
      },
      "text/plain": [
       "  0%|          | 0/24 [00:00<?, ?it/s]"
      ]
     },
     "metadata": {},
     "output_type": "display_data"
    },
    {
     "data": {
      "application/vnd.jupyter.widget-view+json": {
       "model_id": "b3d36c7dda4b4e119b21f868e7015a8c",
       "version_major": 2,
       "version_minor": 0
      },
      "text/plain": [
       "  0%|          | 0/25 [00:00<?, ?it/s]"
      ]
     },
     "metadata": {},
     "output_type": "display_data"
    },
    {
     "data": {
      "application/vnd.jupyter.widget-view+json": {
       "model_id": "a23004ea9d484c229d4a7893c0d3003b",
       "version_major": 2,
       "version_minor": 0
      },
      "text/plain": [
       "  0%|          | 0/25 [00:00<?, ?it/s]"
      ]
     },
     "metadata": {},
     "output_type": "display_data"
    },
    {
     "data": {
      "application/vnd.jupyter.widget-view+json": {
       "model_id": "72d4f6b6887d4ee6b723496e321c6fd6",
       "version_major": 2,
       "version_minor": 0
      },
      "text/plain": [
       "  0%|          | 0/32 [00:00<?, ?it/s]"
      ]
     },
     "metadata": {},
     "output_type": "display_data"
    },
    {
     "data": {
      "application/vnd.jupyter.widget-view+json": {
       "model_id": "983043bbda864cdba4d89d025b9637f5",
       "version_major": 2,
       "version_minor": 0
      },
      "text/plain": [
       "  0%|          | 0/21 [00:00<?, ?it/s]"
      ]
     },
     "metadata": {},
     "output_type": "display_data"
    },
    {
     "data": {
      "application/vnd.jupyter.widget-view+json": {
       "model_id": "e4eb31880f534e52a624b4056c5c9735",
       "version_major": 2,
       "version_minor": 0
      },
      "text/plain": [
       "  0%|          | 0/41 [00:00<?, ?it/s]"
      ]
     },
     "metadata": {},
     "output_type": "display_data"
    },
    {
     "data": {
      "application/vnd.jupyter.widget-view+json": {
       "model_id": "f57d0358902b46e5b0c8ec7c10cc6369",
       "version_major": 2,
       "version_minor": 0
      },
      "text/plain": [
       "  0%|          | 0/38 [00:00<?, ?it/s]"
      ]
     },
     "metadata": {},
     "output_type": "display_data"
    },
    {
     "data": {
      "application/vnd.jupyter.widget-view+json": {
       "model_id": "b5ead82595b443c597ff782a932f19d2",
       "version_major": 2,
       "version_minor": 0
      },
      "text/plain": [
       "  0%|          | 0/8 [00:00<?, ?it/s]"
      ]
     },
     "metadata": {},
     "output_type": "display_data"
    },
    {
     "data": {
      "application/vnd.jupyter.widget-view+json": {
       "model_id": "2480e048d6024526b4878c104dc57401",
       "version_major": 2,
       "version_minor": 0
      },
      "text/plain": [
       "  0%|          | 0/26 [00:00<?, ?it/s]"
      ]
     },
     "metadata": {},
     "output_type": "display_data"
    },
    {
     "data": {
      "application/vnd.jupyter.widget-view+json": {
       "model_id": "001cbd95df264a21ad784c092dc5ef41",
       "version_major": 2,
       "version_minor": 0
      },
      "text/plain": [
       "  0%|          | 0/61 [00:00<?, ?it/s]"
      ]
     },
     "metadata": {},
     "output_type": "display_data"
    },
    {
     "data": {
      "application/vnd.jupyter.widget-view+json": {
       "model_id": "6c1f0e1a32be4806b90928287167916f",
       "version_major": 2,
       "version_minor": 0
      },
      "text/plain": [
       "  0%|          | 0/42 [00:00<?, ?it/s]"
      ]
     },
     "metadata": {},
     "output_type": "display_data"
    },
    {
     "data": {
      "application/vnd.jupyter.widget-view+json": {
       "model_id": "bae21dc7ea6048d49603389081798263",
       "version_major": 2,
       "version_minor": 0
      },
      "text/plain": [
       "  0%|          | 0/39 [00:00<?, ?it/s]"
      ]
     },
     "metadata": {},
     "output_type": "display_data"
    },
    {
     "data": {
      "application/vnd.jupyter.widget-view+json": {
       "model_id": "7fed155c21494245bcbbdcd341c75ff5",
       "version_major": 2,
       "version_minor": 0
      },
      "text/plain": [
       "  0%|          | 0/18 [00:00<?, ?it/s]"
      ]
     },
     "metadata": {},
     "output_type": "display_data"
    },
    {
     "data": {
      "application/vnd.jupyter.widget-view+json": {
       "model_id": "6b8b4810bdd84fdc8279b880bda59627",
       "version_major": 2,
       "version_minor": 0
      },
      "text/plain": [
       "  0%|          | 0/58 [00:00<?, ?it/s]"
      ]
     },
     "metadata": {},
     "output_type": "display_data"
    },
    {
     "data": {
      "application/vnd.jupyter.widget-view+json": {
       "model_id": "c3ad2fa80b8c4af7ad993e8c270d921d",
       "version_major": 2,
       "version_minor": 0
      },
      "text/plain": [
       "  0%|          | 0/35 [00:00<?, ?it/s]"
      ]
     },
     "metadata": {},
     "output_type": "display_data"
    },
    {
     "data": {
      "application/vnd.jupyter.widget-view+json": {
       "model_id": "446b5ca47c724e12ba630278924494b3",
       "version_major": 2,
       "version_minor": 0
      },
      "text/plain": [
       "  0%|          | 0/42 [00:00<?, ?it/s]"
      ]
     },
     "metadata": {},
     "output_type": "display_data"
    },
    {
     "data": {
      "application/vnd.jupyter.widget-view+json": {
       "model_id": "0035adf3a09e4b74aee4028e32745dc8",
       "version_major": 2,
       "version_minor": 0
      },
      "text/plain": [
       "  0%|          | 0/53 [00:00<?, ?it/s]"
      ]
     },
     "metadata": {},
     "output_type": "display_data"
    },
    {
     "data": {
      "application/vnd.jupyter.widget-view+json": {
       "model_id": "38cb9774c9cd4de5b3d6e73626639231",
       "version_major": 2,
       "version_minor": 0
      },
      "text/plain": [
       "  0%|          | 0/98 [00:00<?, ?it/s]"
      ]
     },
     "metadata": {},
     "output_type": "display_data"
    },
    {
     "data": {
      "application/vnd.jupyter.widget-view+json": {
       "model_id": "d713fcaea19940a78c76baff00ee89d6",
       "version_major": 2,
       "version_minor": 0
      },
      "text/plain": [
       "  0%|          | 0/30 [00:00<?, ?it/s]"
      ]
     },
     "metadata": {},
     "output_type": "display_data"
    },
    {
     "data": {
      "application/vnd.jupyter.widget-view+json": {
       "model_id": "9576a15a685d419385533cdc71b934c7",
       "version_major": 2,
       "version_minor": 0
      },
      "text/plain": [
       "  0%|          | 0/43 [00:00<?, ?it/s]"
      ]
     },
     "metadata": {},
     "output_type": "display_data"
    },
    {
     "data": {
      "application/vnd.jupyter.widget-view+json": {
       "model_id": "9f6c3986e60d4072b235e5eeb58dda07",
       "version_major": 2,
       "version_minor": 0
      },
      "text/plain": [
       "  0%|          | 0/49 [00:00<?, ?it/s]"
      ]
     },
     "metadata": {},
     "output_type": "display_data"
    },
    {
     "data": {
      "application/vnd.jupyter.widget-view+json": {
       "model_id": "91dbd5f6560a4dba83cef0d580ea1963",
       "version_major": 2,
       "version_minor": 0
      },
      "text/plain": [
       "  0%|          | 0/55 [00:00<?, ?it/s]"
      ]
     },
     "metadata": {},
     "output_type": "display_data"
    },
    {
     "data": {
      "application/vnd.jupyter.widget-view+json": {
       "model_id": "3ec55b08aa5c4f9a8389dc43a1038a61",
       "version_major": 2,
       "version_minor": 0
      },
      "text/plain": [
       "  0%|          | 0/62 [00:00<?, ?it/s]"
      ]
     },
     "metadata": {},
     "output_type": "display_data"
    },
    {
     "data": {
      "application/vnd.jupyter.widget-view+json": {
       "model_id": "33c0f3dd5a3441aeaa509d7999729e33",
       "version_major": 2,
       "version_minor": 0
      },
      "text/plain": [
       "  0%|          | 0/48 [00:00<?, ?it/s]"
      ]
     },
     "metadata": {},
     "output_type": "display_data"
    },
    {
     "data": {
      "application/vnd.jupyter.widget-view+json": {
       "model_id": "f36c28579ff34ea3b276ed38315cc87e",
       "version_major": 2,
       "version_minor": 0
      },
      "text/plain": [
       "  0%|          | 0/25 [00:00<?, ?it/s]"
      ]
     },
     "metadata": {},
     "output_type": "display_data"
    },
    {
     "data": {
      "application/vnd.jupyter.widget-view+json": {
       "model_id": "301967b6aa9a414d87dcc26c60fdb615",
       "version_major": 2,
       "version_minor": 0
      },
      "text/plain": [
       "  0%|          | 0/61 [00:00<?, ?it/s]"
      ]
     },
     "metadata": {},
     "output_type": "display_data"
    },
    {
     "data": {
      "application/vnd.jupyter.widget-view+json": {
       "model_id": "48f35784ab7a478ab5764e753806082f",
       "version_major": 2,
       "version_minor": 0
      },
      "text/plain": [
       "  0%|          | 0/44 [00:00<?, ?it/s]"
      ]
     },
     "metadata": {},
     "output_type": "display_data"
    },
    {
     "data": {
      "application/vnd.jupyter.widget-view+json": {
       "model_id": "f7250d32ebea48b8bf8e7288b68f0ac5",
       "version_major": 2,
       "version_minor": 0
      },
      "text/plain": [
       "  0%|          | 0/42 [00:00<?, ?it/s]"
      ]
     },
     "metadata": {},
     "output_type": "display_data"
    },
    {
     "data": {
      "application/vnd.jupyter.widget-view+json": {
       "model_id": "a65dc0d14f0041d6b6f1352df51437e7",
       "version_major": 2,
       "version_minor": 0
      },
      "text/plain": [
       "  0%|          | 0/52 [00:00<?, ?it/s]"
      ]
     },
     "metadata": {},
     "output_type": "display_data"
    },
    {
     "data": {
      "application/vnd.jupyter.widget-view+json": {
       "model_id": "131af9c005414194a3683ade829aacee",
       "version_major": 2,
       "version_minor": 0
      },
      "text/plain": [
       "  0%|          | 0/29 [00:00<?, ?it/s]"
      ]
     },
     "metadata": {},
     "output_type": "display_data"
    },
    {
     "data": {
      "application/vnd.jupyter.widget-view+json": {
       "model_id": "f145538bba6a4d29a11b5886211d57d0",
       "version_major": 2,
       "version_minor": 0
      },
      "text/plain": [
       "  0%|          | 0/23 [00:00<?, ?it/s]"
      ]
     },
     "metadata": {},
     "output_type": "display_data"
    },
    {
     "data": {
      "application/vnd.jupyter.widget-view+json": {
       "model_id": "2421f1a5a68b4c29823543c84d1be7dc",
       "version_major": 2,
       "version_minor": 0
      },
      "text/plain": [
       "  0%|          | 0/41 [00:00<?, ?it/s]"
      ]
     },
     "metadata": {},
     "output_type": "display_data"
    },
    {
     "data": {
      "application/vnd.jupyter.widget-view+json": {
       "model_id": "68d348ed39c1457bbb1c2c634ea3dfe0",
       "version_major": 2,
       "version_minor": 0
      },
      "text/plain": [
       "  0%|          | 0/52 [00:00<?, ?it/s]"
      ]
     },
     "metadata": {},
     "output_type": "display_data"
    },
    {
     "data": {
      "application/vnd.jupyter.widget-view+json": {
       "model_id": "e87514a334014fd3af181e1c5661d664",
       "version_major": 2,
       "version_minor": 0
      },
      "text/plain": [
       "  0%|          | 0/39 [00:00<?, ?it/s]"
      ]
     },
     "metadata": {},
     "output_type": "display_data"
    },
    {
     "data": {
      "application/vnd.jupyter.widget-view+json": {
       "model_id": "398cba5f1f86445585b4666b4d3106a0",
       "version_major": 2,
       "version_minor": 0
      },
      "text/plain": [
       "  0%|          | 0/32 [00:00<?, ?it/s]"
      ]
     },
     "metadata": {},
     "output_type": "display_data"
    },
    {
     "data": {
      "application/vnd.jupyter.widget-view+json": {
       "model_id": "7f591261e2804740916f69bbff375697",
       "version_major": 2,
       "version_minor": 0
      },
      "text/plain": [
       "  0%|          | 0/42 [00:00<?, ?it/s]"
      ]
     },
     "metadata": {},
     "output_type": "display_data"
    },
    {
     "data": {
      "application/vnd.jupyter.widget-view+json": {
       "model_id": "3b31abc43f9f4493bf934c473470599f",
       "version_major": 2,
       "version_minor": 0
      },
      "text/plain": [
       "  0%|          | 0/62 [00:00<?, ?it/s]"
      ]
     },
     "metadata": {},
     "output_type": "display_data"
    },
    {
     "data": {
      "application/vnd.jupyter.widget-view+json": {
       "model_id": "d434b77cd8dc4a579d065a98c6fb04cc",
       "version_major": 2,
       "version_minor": 0
      },
      "text/plain": [
       "  0%|          | 0/53 [00:00<?, ?it/s]"
      ]
     },
     "metadata": {},
     "output_type": "display_data"
    },
    {
     "data": {
      "application/vnd.jupyter.widget-view+json": {
       "model_id": "9c6bca01125844b6955d84790170c7d2",
       "version_major": 2,
       "version_minor": 0
      },
      "text/plain": [
       "  0%|          | 0/44 [00:00<?, ?it/s]"
      ]
     },
     "metadata": {},
     "output_type": "display_data"
    },
    {
     "data": {
      "application/vnd.jupyter.widget-view+json": {
       "model_id": "fe885366caaa4682b18b1a8daa73ca8e",
       "version_major": 2,
       "version_minor": 0
      },
      "text/plain": [
       "  0%|          | 0/53 [00:00<?, ?it/s]"
      ]
     },
     "metadata": {},
     "output_type": "display_data"
    },
    {
     "data": {
      "application/vnd.jupyter.widget-view+json": {
       "model_id": "bac5b8ffa68d46789b7a1e9988932254",
       "version_major": 2,
       "version_minor": 0
      },
      "text/plain": [
       "  0%|          | 0/58 [00:00<?, ?it/s]"
      ]
     },
     "metadata": {},
     "output_type": "display_data"
    },
    {
     "data": {
      "application/vnd.jupyter.widget-view+json": {
       "model_id": "0b56531e263d49a59187fc8ca05868d3",
       "version_major": 2,
       "version_minor": 0
      },
      "text/plain": [
       "  0%|          | 0/61 [00:00<?, ?it/s]"
      ]
     },
     "metadata": {},
     "output_type": "display_data"
    },
    {
     "data": {
      "application/vnd.jupyter.widget-view+json": {
       "model_id": "8f368af3c4ed44b9bd42de06ec533850",
       "version_major": 2,
       "version_minor": 0
      },
      "text/plain": [
       "  0%|          | 0/27 [00:00<?, ?it/s]"
      ]
     },
     "metadata": {},
     "output_type": "display_data"
    },
    {
     "data": {
      "application/vnd.jupyter.widget-view+json": {
       "model_id": "90048450f87c4d3daadebeb1b24a6fb7",
       "version_major": 2,
       "version_minor": 0
      },
      "text/plain": [
       "  0%|          | 0/47 [00:00<?, ?it/s]"
      ]
     },
     "metadata": {},
     "output_type": "display_data"
    },
    {
     "data": {
      "application/vnd.jupyter.widget-view+json": {
       "model_id": "982988f9bff14b7dae251c97797b7683",
       "version_major": 2,
       "version_minor": 0
      },
      "text/plain": [
       "  0%|          | 0/50 [00:00<?, ?it/s]"
      ]
     },
     "metadata": {},
     "output_type": "display_data"
    },
    {
     "data": {
      "application/vnd.jupyter.widget-view+json": {
       "model_id": "57020a76843443be94d5b2cc9b0befe6",
       "version_major": 2,
       "version_minor": 0
      },
      "text/plain": [
       "  0%|          | 0/62 [00:00<?, ?it/s]"
      ]
     },
     "metadata": {},
     "output_type": "display_data"
    },
    {
     "data": {
      "application/vnd.jupyter.widget-view+json": {
       "model_id": "0253a1e153ad4738b4ed958f37ac3fb4",
       "version_major": 2,
       "version_minor": 0
      },
      "text/plain": [
       "  0%|          | 0/41 [00:00<?, ?it/s]"
      ]
     },
     "metadata": {},
     "output_type": "display_data"
    },
    {
     "data": {
      "application/vnd.jupyter.widget-view+json": {
       "model_id": "23c1118aaff9401786f1c578f7c38c23",
       "version_major": 2,
       "version_minor": 0
      },
      "text/plain": [
       "  0%|          | 0/54 [00:00<?, ?it/s]"
      ]
     },
     "metadata": {},
     "output_type": "display_data"
    },
    {
     "data": {
      "application/vnd.jupyter.widget-view+json": {
       "model_id": "04c201f3898c4499b6bd335b8b36cd6b",
       "version_major": 2,
       "version_minor": 0
      },
      "text/plain": [
       "  0%|          | 0/60 [00:00<?, ?it/s]"
      ]
     },
     "metadata": {},
     "output_type": "display_data"
    },
    {
     "data": {
      "application/vnd.jupyter.widget-view+json": {
       "model_id": "c661610644dd43ce86d3b5fea31466a1",
       "version_major": 2,
       "version_minor": 0
      },
      "text/plain": [
       "  0%|          | 0/59 [00:00<?, ?it/s]"
      ]
     },
     "metadata": {},
     "output_type": "display_data"
    },
    {
     "data": {
      "application/vnd.jupyter.widget-view+json": {
       "model_id": "12df2b71c687467b91919f5bb9b3d5b7",
       "version_major": 2,
       "version_minor": 0
      },
      "text/plain": [
       "  0%|          | 0/38 [00:00<?, ?it/s]"
      ]
     },
     "metadata": {},
     "output_type": "display_data"
    },
    {
     "data": {
      "application/vnd.jupyter.widget-view+json": {
       "model_id": "7317d83f6e6d401ab8bbf3223799dd12",
       "version_major": 2,
       "version_minor": 0
      },
      "text/plain": [
       "  0%|          | 0/28 [00:00<?, ?it/s]"
      ]
     },
     "metadata": {},
     "output_type": "display_data"
    },
    {
     "data": {
      "application/vnd.jupyter.widget-view+json": {
       "model_id": "91d71ea2f68049f1a4080f64e328c966",
       "version_major": 2,
       "version_minor": 0
      },
      "text/plain": [
       "  0%|          | 0/62 [00:00<?, ?it/s]"
      ]
     },
     "metadata": {},
     "output_type": "display_data"
    },
    {
     "data": {
      "application/vnd.jupyter.widget-view+json": {
       "model_id": "21d9e204d1ac48d79d1b18dac3b90931",
       "version_major": 2,
       "version_minor": 0
      },
      "text/plain": [
       "  0%|          | 0/53 [00:00<?, ?it/s]"
      ]
     },
     "metadata": {},
     "output_type": "display_data"
    },
    {
     "data": {
      "application/vnd.jupyter.widget-view+json": {
       "model_id": "38dd07272937444dbcbaa4ac07507fa5",
       "version_major": 2,
       "version_minor": 0
      },
      "text/plain": [
       "  0%|          | 0/56 [00:00<?, ?it/s]"
      ]
     },
     "metadata": {},
     "output_type": "display_data"
    },
    {
     "data": {
      "application/vnd.jupyter.widget-view+json": {
       "model_id": "089fc2fece8f469782679b66964bb38a",
       "version_major": 2,
       "version_minor": 0
      },
      "text/plain": [
       "  0%|          | 0/53 [00:00<?, ?it/s]"
      ]
     },
     "metadata": {},
     "output_type": "display_data"
    },
    {
     "data": {
      "application/vnd.jupyter.widget-view+json": {
       "model_id": "87af822359724245a797370b818aaa43",
       "version_major": 2,
       "version_minor": 0
      },
      "text/plain": [
       "  0%|          | 0/67 [00:00<?, ?it/s]"
      ]
     },
     "metadata": {},
     "output_type": "display_data"
    },
    {
     "data": {
      "application/vnd.jupyter.widget-view+json": {
       "model_id": "fb7f1c66e3ce4bd896e70751ed1ec7eb",
       "version_major": 2,
       "version_minor": 0
      },
      "text/plain": [
       "  0%|          | 0/35 [00:00<?, ?it/s]"
      ]
     },
     "metadata": {},
     "output_type": "display_data"
    },
    {
     "data": {
      "application/vnd.jupyter.widget-view+json": {
       "model_id": "33f8df1ae9e24343a677d0c39f220c93",
       "version_major": 2,
       "version_minor": 0
      },
      "text/plain": [
       "  0%|          | 0/35 [00:00<?, ?it/s]"
      ]
     },
     "metadata": {},
     "output_type": "display_data"
    },
    {
     "data": {
      "application/vnd.jupyter.widget-view+json": {
       "model_id": "d577f9c20081441b95075767fa925afc",
       "version_major": 2,
       "version_minor": 0
      },
      "text/plain": [
       "  0%|          | 0/12 [00:00<?, ?it/s]"
      ]
     },
     "metadata": {},
     "output_type": "display_data"
    },
    {
     "data": {
      "application/vnd.jupyter.widget-view+json": {
       "model_id": "0f5e5c2c61ff42bd829de659b0cdee7a",
       "version_major": 2,
       "version_minor": 0
      },
      "text/plain": [
       "  0%|          | 0/58 [00:00<?, ?it/s]"
      ]
     },
     "metadata": {},
     "output_type": "display_data"
    },
    {
     "data": {
      "application/vnd.jupyter.widget-view+json": {
       "model_id": "76295436067d4f3f9ba349addfcdc2a6",
       "version_major": 2,
       "version_minor": 0
      },
      "text/plain": [
       "  0%|          | 0/53 [00:00<?, ?it/s]"
      ]
     },
     "metadata": {},
     "output_type": "display_data"
    },
    {
     "data": {
      "application/vnd.jupyter.widget-view+json": {
       "model_id": "25644436f6104a5b90b27869727102a7",
       "version_major": 2,
       "version_minor": 0
      },
      "text/plain": [
       "  0%|          | 0/25 [00:00<?, ?it/s]"
      ]
     },
     "metadata": {},
     "output_type": "display_data"
    },
    {
     "data": {
      "application/vnd.jupyter.widget-view+json": {
       "model_id": "e4b66febe9fe409aa5b08183045b8ad7",
       "version_major": 2,
       "version_minor": 0
      },
      "text/plain": [
       "  0%|          | 0/28 [00:00<?, ?it/s]"
      ]
     },
     "metadata": {},
     "output_type": "display_data"
    },
    {
     "data": {
      "application/vnd.jupyter.widget-view+json": {
       "model_id": "2525437260004667beb9e63b5cf79d34",
       "version_major": 2,
       "version_minor": 0
      },
      "text/plain": [
       "  0%|          | 0/17 [00:00<?, ?it/s]"
      ]
     },
     "metadata": {},
     "output_type": "display_data"
    },
    {
     "data": {
      "application/vnd.jupyter.widget-view+json": {
       "model_id": "9b13ce943f0b4b82ac65b86af10ca41a",
       "version_major": 2,
       "version_minor": 0
      },
      "text/plain": [
       "  0%|          | 0/18 [00:00<?, ?it/s]"
      ]
     },
     "metadata": {},
     "output_type": "display_data"
    },
    {
     "data": {
      "application/vnd.jupyter.widget-view+json": {
       "model_id": "3755981829d0462b9ed3405cb6d82077",
       "version_major": 2,
       "version_minor": 0
      },
      "text/plain": [
       "  0%|          | 0/30 [00:00<?, ?it/s]"
      ]
     },
     "metadata": {},
     "output_type": "display_data"
    },
    {
     "data": {
      "application/vnd.jupyter.widget-view+json": {
       "model_id": "4f82453e8e0a4e30bd9d74f689634904",
       "version_major": 2,
       "version_minor": 0
      },
      "text/plain": [
       "  0%|          | 0/39 [00:00<?, ?it/s]"
      ]
     },
     "metadata": {},
     "output_type": "display_data"
    },
    {
     "data": {
      "application/vnd.jupyter.widget-view+json": {
       "model_id": "6b420f69cc5a48579033d54f52a40989",
       "version_major": 2,
       "version_minor": 0
      },
      "text/plain": [
       "  0%|          | 0/37 [00:00<?, ?it/s]"
      ]
     },
     "metadata": {},
     "output_type": "display_data"
    },
    {
     "data": {
      "application/vnd.jupyter.widget-view+json": {
       "model_id": "badf9d94eb5049f996b05f9ff052ca26",
       "version_major": 2,
       "version_minor": 0
      },
      "text/plain": [
       "  0%|          | 0/45 [00:00<?, ?it/s]"
      ]
     },
     "metadata": {},
     "output_type": "display_data"
    },
    {
     "data": {
      "application/vnd.jupyter.widget-view+json": {
       "model_id": "265073800f814ba1ae24933e14349a7d",
       "version_major": 2,
       "version_minor": 0
      },
      "text/plain": [
       "  0%|          | 0/56 [00:00<?, ?it/s]"
      ]
     },
     "metadata": {},
     "output_type": "display_data"
    },
    {
     "data": {
      "application/vnd.jupyter.widget-view+json": {
       "model_id": "15befc9a33994011bf16205c223045c1",
       "version_major": 2,
       "version_minor": 0
      },
      "text/plain": [
       "  0%|          | 0/31 [00:00<?, ?it/s]"
      ]
     },
     "metadata": {},
     "output_type": "display_data"
    },
    {
     "data": {
      "application/vnd.jupyter.widget-view+json": {
       "model_id": "dd9ae3b76a744d58bd16d1363a3884db",
       "version_major": 2,
       "version_minor": 0
      },
      "text/plain": [
       "  0%|          | 0/61 [00:00<?, ?it/s]"
      ]
     },
     "metadata": {},
     "output_type": "display_data"
    },
    {
     "data": {
      "application/vnd.jupyter.widget-view+json": {
       "model_id": "0cc17cda19eb4ea1a2b43cba0d141166",
       "version_major": 2,
       "version_minor": 0
      },
      "text/plain": [
       "  0%|          | 0/45 [00:00<?, ?it/s]"
      ]
     },
     "metadata": {},
     "output_type": "display_data"
    },
    {
     "data": {
      "application/vnd.jupyter.widget-view+json": {
       "model_id": "3716f1e471f042c9b185dce31f4df5c7",
       "version_major": 2,
       "version_minor": 0
      },
      "text/plain": [
       "  0%|          | 0/28 [00:00<?, ?it/s]"
      ]
     },
     "metadata": {},
     "output_type": "display_data"
    },
    {
     "data": {
      "application/vnd.jupyter.widget-view+json": {
       "model_id": "47a36a9356c04263b7a006ed0a2c89d6",
       "version_major": 2,
       "version_minor": 0
      },
      "text/plain": [
       "  0%|          | 0/45 [00:00<?, ?it/s]"
      ]
     },
     "metadata": {},
     "output_type": "display_data"
    },
    {
     "data": {
      "application/vnd.jupyter.widget-view+json": {
       "model_id": "0756ed6f19d74bf99cd8a7e4bcea08a3",
       "version_major": 2,
       "version_minor": 0
      },
      "text/plain": [
       "  0%|          | 0/28 [00:00<?, ?it/s]"
      ]
     },
     "metadata": {},
     "output_type": "display_data"
    },
    {
     "data": {
      "application/vnd.jupyter.widget-view+json": {
       "model_id": "20d2d8e884e5494e9b8a2e189c9ae9d2",
       "version_major": 2,
       "version_minor": 0
      },
      "text/plain": [
       "  0%|          | 0/33 [00:00<?, ?it/s]"
      ]
     },
     "metadata": {},
     "output_type": "display_data"
    },
    {
     "data": {
      "application/vnd.jupyter.widget-view+json": {
       "model_id": "74f0d3e0528842c7a9af1c871ecafe37",
       "version_major": 2,
       "version_minor": 0
      },
      "text/plain": [
       "  0%|          | 0/36 [00:00<?, ?it/s]"
      ]
     },
     "metadata": {},
     "output_type": "display_data"
    },
    {
     "data": {
      "application/vnd.jupyter.widget-view+json": {
       "model_id": "fcd4d93cc6cd498bbcb89734b85da0e5",
       "version_major": 2,
       "version_minor": 0
      },
      "text/plain": [
       "  0%|          | 0/29 [00:00<?, ?it/s]"
      ]
     },
     "metadata": {},
     "output_type": "display_data"
    },
    {
     "data": {
      "application/vnd.jupyter.widget-view+json": {
       "model_id": "f1da12dbed754183952eff73ae3e5c35",
       "version_major": 2,
       "version_minor": 0
      },
      "text/plain": [
       "  0%|          | 0/11 [00:00<?, ?it/s]"
      ]
     },
     "metadata": {},
     "output_type": "display_data"
    },
    {
     "data": {
      "application/vnd.jupyter.widget-view+json": {
       "model_id": "4734733e98c249f692a138aef3369780",
       "version_major": 2,
       "version_minor": 0
      },
      "text/plain": [
       "  0%|          | 0/20 [00:00<?, ?it/s]"
      ]
     },
     "metadata": {},
     "output_type": "display_data"
    },
    {
     "data": {
      "application/vnd.jupyter.widget-view+json": {
       "model_id": "14170e0aa3d14638b905e053f086aa5d",
       "version_major": 2,
       "version_minor": 0
      },
      "text/plain": [
       "  0%|          | 0/30 [00:00<?, ?it/s]"
      ]
     },
     "metadata": {},
     "output_type": "display_data"
    },
    {
     "data": {
      "application/vnd.jupyter.widget-view+json": {
       "model_id": "726d98b4357e4013a50bacf6da372301",
       "version_major": 2,
       "version_minor": 0
      },
      "text/plain": [
       "  0%|          | 0/40 [00:00<?, ?it/s]"
      ]
     },
     "metadata": {},
     "output_type": "display_data"
    },
    {
     "data": {
      "application/vnd.jupyter.widget-view+json": {
       "model_id": "01d963ff00bf4a6ba9bf27dd117ff05b",
       "version_major": 2,
       "version_minor": 0
      },
      "text/plain": [
       "  0%|          | 0/33 [00:00<?, ?it/s]"
      ]
     },
     "metadata": {},
     "output_type": "display_data"
    },
    {
     "data": {
      "application/vnd.jupyter.widget-view+json": {
       "model_id": "2b97e0f285ac4862ad7ef9ca832e51ef",
       "version_major": 2,
       "version_minor": 0
      },
      "text/plain": [
       "  0%|          | 0/26 [00:00<?, ?it/s]"
      ]
     },
     "metadata": {},
     "output_type": "display_data"
    },
    {
     "data": {
      "application/vnd.jupyter.widget-view+json": {
       "model_id": "e9355f6f1d5d4a2eb73be00f15538eb5",
       "version_major": 2,
       "version_minor": 0
      },
      "text/plain": [
       "  0%|          | 0/40 [00:00<?, ?it/s]"
      ]
     },
     "metadata": {},
     "output_type": "display_data"
    },
    {
     "data": {
      "application/vnd.jupyter.widget-view+json": {
       "model_id": "68bbaf37e2c04b62ad63688e0d0238c4",
       "version_major": 2,
       "version_minor": 0
      },
      "text/plain": [
       "  0%|          | 0/28 [00:00<?, ?it/s]"
      ]
     },
     "metadata": {},
     "output_type": "display_data"
    },
    {
     "data": {
      "application/vnd.jupyter.widget-view+json": {
       "model_id": "e8e499e1f3d34971a056ce69146ccde7",
       "version_major": 2,
       "version_minor": 0
      },
      "text/plain": [
       "  0%|          | 0/18 [00:00<?, ?it/s]"
      ]
     },
     "metadata": {},
     "output_type": "display_data"
    },
    {
     "data": {
      "application/vnd.jupyter.widget-view+json": {
       "model_id": "771a1a8f93004aff90cce1e49c93184b",
       "version_major": 2,
       "version_minor": 0
      },
      "text/plain": [
       "  0%|          | 0/75 [00:00<?, ?it/s]"
      ]
     },
     "metadata": {},
     "output_type": "display_data"
    },
    {
     "data": {
      "application/vnd.jupyter.widget-view+json": {
       "model_id": "5d14941628654bf89696c75edc388942",
       "version_major": 2,
       "version_minor": 0
      },
      "text/plain": [
       "  0%|          | 0/44 [00:00<?, ?it/s]"
      ]
     },
     "metadata": {},
     "output_type": "display_data"
    },
    {
     "data": {
      "application/vnd.jupyter.widget-view+json": {
       "model_id": "d795cb21130142eeb5f9370aeccde2c5",
       "version_major": 2,
       "version_minor": 0
      },
      "text/plain": [
       "  0%|          | 0/76 [00:00<?, ?it/s]"
      ]
     },
     "metadata": {},
     "output_type": "display_data"
    },
    {
     "data": {
      "application/vnd.jupyter.widget-view+json": {
       "model_id": "de7ef699576247978e88c996a3de23ee",
       "version_major": 2,
       "version_minor": 0
      },
      "text/plain": [
       "  0%|          | 0/26 [00:00<?, ?it/s]"
      ]
     },
     "metadata": {},
     "output_type": "display_data"
    },
    {
     "data": {
      "application/vnd.jupyter.widget-view+json": {
       "model_id": "90432da9db0141339760b0c238dd030d",
       "version_major": 2,
       "version_minor": 0
      },
      "text/plain": [
       "  0%|          | 0/72 [00:00<?, ?it/s]"
      ]
     },
     "metadata": {},
     "output_type": "display_data"
    },
    {
     "data": {
      "application/vnd.jupyter.widget-view+json": {
       "model_id": "06379061b2074f508d6dc646f7100e43",
       "version_major": 2,
       "version_minor": 0
      },
      "text/plain": [
       "  0%|          | 0/30 [00:00<?, ?it/s]"
      ]
     },
     "metadata": {},
     "output_type": "display_data"
    },
    {
     "data": {
      "application/vnd.jupyter.widget-view+json": {
       "model_id": "47e810713e8c4143a1ecda5802891ec5",
       "version_major": 2,
       "version_minor": 0
      },
      "text/plain": [
       "  0%|          | 0/39 [00:00<?, ?it/s]"
      ]
     },
     "metadata": {},
     "output_type": "display_data"
    },
    {
     "data": {
      "application/vnd.jupyter.widget-view+json": {
       "model_id": "d27c04465adf4046946ba61214f4cafd",
       "version_major": 2,
       "version_minor": 0
      },
      "text/plain": [
       "  0%|          | 0/51 [00:00<?, ?it/s]"
      ]
     },
     "metadata": {},
     "output_type": "display_data"
    },
    {
     "data": {
      "application/vnd.jupyter.widget-view+json": {
       "model_id": "e9a351ce51e5483584a314a4972ac034",
       "version_major": 2,
       "version_minor": 0
      },
      "text/plain": [
       "  0%|          | 0/42 [00:00<?, ?it/s]"
      ]
     },
     "metadata": {},
     "output_type": "display_data"
    },
    {
     "data": {
      "application/vnd.jupyter.widget-view+json": {
       "model_id": "395235dac1854a79bad37d9e455d727d",
       "version_major": 2,
       "version_minor": 0
      },
      "text/plain": [
       "  0%|          | 0/39 [00:00<?, ?it/s]"
      ]
     },
     "metadata": {},
     "output_type": "display_data"
    },
    {
     "data": {
      "application/vnd.jupyter.widget-view+json": {
       "model_id": "58f6331109cb457388c578e0d21ba945",
       "version_major": 2,
       "version_minor": 0
      },
      "text/plain": [
       "  0%|          | 0/46 [00:00<?, ?it/s]"
      ]
     },
     "metadata": {},
     "output_type": "display_data"
    },
    {
     "data": {
      "application/vnd.jupyter.widget-view+json": {
       "model_id": "609412fb2d99427faa2c79bbd9bf42cd",
       "version_major": 2,
       "version_minor": 0
      },
      "text/plain": [
       "  0%|          | 0/69 [00:00<?, ?it/s]"
      ]
     },
     "metadata": {},
     "output_type": "display_data"
    },
    {
     "data": {
      "application/vnd.jupyter.widget-view+json": {
       "model_id": "80e9f7f8d0cc4a689c1ed76e4d87e93d",
       "version_major": 2,
       "version_minor": 0
      },
      "text/plain": [
       "  0%|          | 0/46 [00:00<?, ?it/s]"
      ]
     },
     "metadata": {},
     "output_type": "display_data"
    },
    {
     "data": {
      "application/vnd.jupyter.widget-view+json": {
       "model_id": "daff44b9cc7e410498d9bc47a4d2928e",
       "version_major": 2,
       "version_minor": 0
      },
      "text/plain": [
       "  0%|          | 0/45 [00:00<?, ?it/s]"
      ]
     },
     "metadata": {},
     "output_type": "display_data"
    },
    {
     "data": {
      "application/vnd.jupyter.widget-view+json": {
       "model_id": "a3c23c0046cc43899b883bb4579b35d7",
       "version_major": 2,
       "version_minor": 0
      },
      "text/plain": [
       "  0%|          | 0/39 [00:00<?, ?it/s]"
      ]
     },
     "metadata": {},
     "output_type": "display_data"
    },
    {
     "data": {
      "application/vnd.jupyter.widget-view+json": {
       "model_id": "45837a49aa7b43f8a312a3a81b35182c",
       "version_major": 2,
       "version_minor": 0
      },
      "text/plain": [
       "  0%|          | 0/18 [00:00<?, ?it/s]"
      ]
     },
     "metadata": {},
     "output_type": "display_data"
    },
    {
     "data": {
      "application/vnd.jupyter.widget-view+json": {
       "model_id": "b393daf39f464478a828e577599fbdf7",
       "version_major": 2,
       "version_minor": 0
      },
      "text/plain": [
       "  0%|          | 0/37 [00:00<?, ?it/s]"
      ]
     },
     "metadata": {},
     "output_type": "display_data"
    },
    {
     "data": {
      "application/vnd.jupyter.widget-view+json": {
       "model_id": "ff8216b1d4894c27acfeab1539e27438",
       "version_major": 2,
       "version_minor": 0
      },
      "text/plain": [
       "  0%|          | 0/40 [00:00<?, ?it/s]"
      ]
     },
     "metadata": {},
     "output_type": "display_data"
    },
    {
     "data": {
      "application/vnd.jupyter.widget-view+json": {
       "model_id": "d5bd902fe0664816a0acc5c8038125c6",
       "version_major": 2,
       "version_minor": 0
      },
      "text/plain": [
       "  0%|          | 0/36 [00:00<?, ?it/s]"
      ]
     },
     "metadata": {},
     "output_type": "display_data"
    },
    {
     "data": {
      "application/vnd.jupyter.widget-view+json": {
       "model_id": "1080d3cb408c405688d9683fc1639131",
       "version_major": 2,
       "version_minor": 0
      },
      "text/plain": [
       "  0%|          | 0/38 [00:00<?, ?it/s]"
      ]
     },
     "metadata": {},
     "output_type": "display_data"
    },
    {
     "data": {
      "application/vnd.jupyter.widget-view+json": {
       "model_id": "ea4305923a644c17965d47ce278bfb6d",
       "version_major": 2,
       "version_minor": 0
      },
      "text/plain": [
       "  0%|          | 0/49 [00:00<?, ?it/s]"
      ]
     },
     "metadata": {},
     "output_type": "display_data"
    },
    {
     "data": {
      "application/vnd.jupyter.widget-view+json": {
       "model_id": "241aeb36878d4b8b945ccec6f23dc83a",
       "version_major": 2,
       "version_minor": 0
      },
      "text/plain": [
       "  0%|          | 0/22 [00:00<?, ?it/s]"
      ]
     },
     "metadata": {},
     "output_type": "display_data"
    },
    {
     "data": {
      "application/vnd.jupyter.widget-view+json": {
       "model_id": "0aa0726d0b054ac89fdf7a0765aa6a0e",
       "version_major": 2,
       "version_minor": 0
      },
      "text/plain": [
       "  0%|          | 0/32 [00:00<?, ?it/s]"
      ]
     },
     "metadata": {},
     "output_type": "display_data"
    },
    {
     "data": {
      "application/vnd.jupyter.widget-view+json": {
       "model_id": "a223fa69753742fca8b09d7425fbbcd0",
       "version_major": 2,
       "version_minor": 0
      },
      "text/plain": [
       "  0%|          | 0/25 [00:00<?, ?it/s]"
      ]
     },
     "metadata": {},
     "output_type": "display_data"
    },
    {
     "data": {
      "application/vnd.jupyter.widget-view+json": {
       "model_id": "e7d1f304779e4266a2ad1d5fa771b23a",
       "version_major": 2,
       "version_minor": 0
      },
      "text/plain": [
       "  0%|          | 0/50 [00:00<?, ?it/s]"
      ]
     },
     "metadata": {},
     "output_type": "display_data"
    },
    {
     "data": {
      "application/vnd.jupyter.widget-view+json": {
       "model_id": "8faa50c10bb34ccab440e11aa5e389c8",
       "version_major": 2,
       "version_minor": 0
      },
      "text/plain": [
       "  0%|          | 0/53 [00:00<?, ?it/s]"
      ]
     },
     "metadata": {},
     "output_type": "display_data"
    },
    {
     "data": {
      "application/vnd.jupyter.widget-view+json": {
       "model_id": "4d0769b878de44e5b628723f1da11d2e",
       "version_major": 2,
       "version_minor": 0
      },
      "text/plain": [
       "  0%|          | 0/39 [00:00<?, ?it/s]"
      ]
     },
     "metadata": {},
     "output_type": "display_data"
    },
    {
     "data": {
      "application/vnd.jupyter.widget-view+json": {
       "model_id": "01c01dcea3a64f6cad9390fbffee9019",
       "version_major": 2,
       "version_minor": 0
      },
      "text/plain": [
       "  0%|          | 0/54 [00:00<?, ?it/s]"
      ]
     },
     "metadata": {},
     "output_type": "display_data"
    },
    {
     "data": {
      "application/vnd.jupyter.widget-view+json": {
       "model_id": "0fa7574089de451da1d3df370ac1e9ac",
       "version_major": 2,
       "version_minor": 0
      },
      "text/plain": [
       "  0%|          | 0/38 [00:00<?, ?it/s]"
      ]
     },
     "metadata": {},
     "output_type": "display_data"
    },
    {
     "data": {
      "application/vnd.jupyter.widget-view+json": {
       "model_id": "b7a04d5b46db4e8cbdc902b6137d9aab",
       "version_major": 2,
       "version_minor": 0
      },
      "text/plain": [
       "  0%|          | 0/22 [00:00<?, ?it/s]"
      ]
     },
     "metadata": {},
     "output_type": "display_data"
    },
    {
     "data": {
      "application/vnd.jupyter.widget-view+json": {
       "model_id": "7129ce0cfd684a4d8c458a91591211c0",
       "version_major": 2,
       "version_minor": 0
      },
      "text/plain": [
       "  0%|          | 0/32 [00:00<?, ?it/s]"
      ]
     },
     "metadata": {},
     "output_type": "display_data"
    },
    {
     "data": {
      "application/vnd.jupyter.widget-view+json": {
       "model_id": "b4a77802e27241d9ab9bc80fdf1715e1",
       "version_major": 2,
       "version_minor": 0
      },
      "text/plain": [
       "  0%|          | 0/22 [00:00<?, ?it/s]"
      ]
     },
     "metadata": {},
     "output_type": "display_data"
    },
    {
     "data": {
      "application/vnd.jupyter.widget-view+json": {
       "model_id": "a0f280388f9144388bd8cdbb87f1a53f",
       "version_major": 2,
       "version_minor": 0
      },
      "text/plain": [
       "  0%|          | 0/31 [00:00<?, ?it/s]"
      ]
     },
     "metadata": {},
     "output_type": "display_data"
    },
    {
     "data": {
      "application/vnd.jupyter.widget-view+json": {
       "model_id": "161854be234f4b82a635a30410ad4546",
       "version_major": 2,
       "version_minor": 0
      },
      "text/plain": [
       "  0%|          | 0/54 [00:00<?, ?it/s]"
      ]
     },
     "metadata": {},
     "output_type": "display_data"
    },
    {
     "data": {
      "application/vnd.jupyter.widget-view+json": {
       "model_id": "d04a9e1ad2844bae8d71593a6fad1dbb",
       "version_major": 2,
       "version_minor": 0
      },
      "text/plain": [
       "  0%|          | 0/49 [00:00<?, ?it/s]"
      ]
     },
     "metadata": {},
     "output_type": "display_data"
    },
    {
     "data": {
      "application/vnd.jupyter.widget-view+json": {
       "model_id": "3f2febd58c9643599ffeb96847658b23",
       "version_major": 2,
       "version_minor": 0
      },
      "text/plain": [
       "  0%|          | 0/30 [00:00<?, ?it/s]"
      ]
     },
     "metadata": {},
     "output_type": "display_data"
    },
    {
     "data": {
      "application/vnd.jupyter.widget-view+json": {
       "model_id": "7b9eb400ba494b34913f02051106a91c",
       "version_major": 2,
       "version_minor": 0
      },
      "text/plain": [
       "  0%|          | 0/32 [00:00<?, ?it/s]"
      ]
     },
     "metadata": {},
     "output_type": "display_data"
    },
    {
     "data": {
      "application/vnd.jupyter.widget-view+json": {
       "model_id": "d06aa040b98b4aee8f7d92126423606d",
       "version_major": 2,
       "version_minor": 0
      },
      "text/plain": [
       "  0%|          | 0/34 [00:00<?, ?it/s]"
      ]
     },
     "metadata": {},
     "output_type": "display_data"
    },
    {
     "data": {
      "application/vnd.jupyter.widget-view+json": {
       "model_id": "71c9a2094e8349d1a51abc3dd241b5b6",
       "version_major": 2,
       "version_minor": 0
      },
      "text/plain": [
       "  0%|          | 0/29 [00:00<?, ?it/s]"
      ]
     },
     "metadata": {},
     "output_type": "display_data"
    },
    {
     "data": {
      "application/vnd.jupyter.widget-view+json": {
       "model_id": "3a3d2752bc884809ad0b5c5916b411ff",
       "version_major": 2,
       "version_minor": 0
      },
      "text/plain": [
       "  0%|          | 0/47 [00:00<?, ?it/s]"
      ]
     },
     "metadata": {},
     "output_type": "display_data"
    },
    {
     "data": {
      "application/vnd.jupyter.widget-view+json": {
       "model_id": "4328658a079f4f7c89298dd3385f13bf",
       "version_major": 2,
       "version_minor": 0
      },
      "text/plain": [
       "  0%|          | 0/26 [00:00<?, ?it/s]"
      ]
     },
     "metadata": {},
     "output_type": "display_data"
    },
    {
     "data": {
      "application/vnd.jupyter.widget-view+json": {
       "model_id": "d204654ed2d540d4aee68d0a0e40c1fe",
       "version_major": 2,
       "version_minor": 0
      },
      "text/plain": [
       "  0%|          | 0/64 [00:00<?, ?it/s]"
      ]
     },
     "metadata": {},
     "output_type": "display_data"
    },
    {
     "data": {
      "application/vnd.jupyter.widget-view+json": {
       "model_id": "c5d99a7022e142f889f0729bd68f49de",
       "version_major": 2,
       "version_minor": 0
      },
      "text/plain": [
       "  0%|          | 0/22 [00:00<?, ?it/s]"
      ]
     },
     "metadata": {},
     "output_type": "display_data"
    },
    {
     "data": {
      "application/vnd.jupyter.widget-view+json": {
       "model_id": "451ad9859523446fb1e80991b0837c8a",
       "version_major": 2,
       "version_minor": 0
      },
      "text/plain": [
       "  0%|          | 0/51 [00:00<?, ?it/s]"
      ]
     },
     "metadata": {},
     "output_type": "display_data"
    },
    {
     "data": {
      "application/vnd.jupyter.widget-view+json": {
       "model_id": "65757eaa778549d4b80687ba283dac19",
       "version_major": 2,
       "version_minor": 0
      },
      "text/plain": [
       "  0%|          | 0/38 [00:00<?, ?it/s]"
      ]
     },
     "metadata": {},
     "output_type": "display_data"
    },
    {
     "data": {
      "application/vnd.jupyter.widget-view+json": {
       "model_id": "08b1475c92d9455da2c21b14829878a8",
       "version_major": 2,
       "version_minor": 0
      },
      "text/plain": [
       "  0%|          | 0/52 [00:00<?, ?it/s]"
      ]
     },
     "metadata": {},
     "output_type": "display_data"
    },
    {
     "data": {
      "application/vnd.jupyter.widget-view+json": {
       "model_id": "e092e9a3cf884da0839ddc4344a13005",
       "version_major": 2,
       "version_minor": 0
      },
      "text/plain": [
       "  0%|          | 0/43 [00:00<?, ?it/s]"
      ]
     },
     "metadata": {},
     "output_type": "display_data"
    },
    {
     "data": {
      "application/vnd.jupyter.widget-view+json": {
       "model_id": "933d2d9b519f422ea29537c4fd55eece",
       "version_major": 2,
       "version_minor": 0
      },
      "text/plain": [
       "  0%|          | 0/42 [00:00<?, ?it/s]"
      ]
     },
     "metadata": {},
     "output_type": "display_data"
    },
    {
     "data": {
      "application/vnd.jupyter.widget-view+json": {
       "model_id": "32e71d0b680e402c809fae990842bd53",
       "version_major": 2,
       "version_minor": 0
      },
      "text/plain": [
       "  0%|          | 0/62 [00:00<?, ?it/s]"
      ]
     },
     "metadata": {},
     "output_type": "display_data"
    },
    {
     "data": {
      "application/vnd.jupyter.widget-view+json": {
       "model_id": "649eb4662a9245e2a88f6578d52bab71",
       "version_major": 2,
       "version_minor": 0
      },
      "text/plain": [
       "  0%|          | 0/49 [00:00<?, ?it/s]"
      ]
     },
     "metadata": {},
     "output_type": "display_data"
    },
    {
     "data": {
      "application/vnd.jupyter.widget-view+json": {
       "model_id": "1ff1fcccdc134912a3ed349fc9f70976",
       "version_major": 2,
       "version_minor": 0
      },
      "text/plain": [
       "  0%|          | 0/64 [00:00<?, ?it/s]"
      ]
     },
     "metadata": {},
     "output_type": "display_data"
    },
    {
     "data": {
      "application/vnd.jupyter.widget-view+json": {
       "model_id": "e4c5db55e74d45669457246f2512cd90",
       "version_major": 2,
       "version_minor": 0
      },
      "text/plain": [
       "  0%|          | 0/38 [00:00<?, ?it/s]"
      ]
     },
     "metadata": {},
     "output_type": "display_data"
    },
    {
     "data": {
      "application/vnd.jupyter.widget-view+json": {
       "model_id": "b0d95a84243b46e4b9ece7ec72883c08",
       "version_major": 2,
       "version_minor": 0
      },
      "text/plain": [
       "  0%|          | 0/46 [00:00<?, ?it/s]"
      ]
     },
     "metadata": {},
     "output_type": "display_data"
    },
    {
     "data": {
      "application/vnd.jupyter.widget-view+json": {
       "model_id": "ed45a25b04294d5b84a47819aea05134",
       "version_major": 2,
       "version_minor": 0
      },
      "text/plain": [
       "  0%|          | 0/26 [00:00<?, ?it/s]"
      ]
     },
     "metadata": {},
     "output_type": "display_data"
    },
    {
     "data": {
      "application/vnd.jupyter.widget-view+json": {
       "model_id": "8c776dee968c4c61a9ed9429edd2288c",
       "version_major": 2,
       "version_minor": 0
      },
      "text/plain": [
       "  0%|          | 0/40 [00:00<?, ?it/s]"
      ]
     },
     "metadata": {},
     "output_type": "display_data"
    },
    {
     "data": {
      "application/vnd.jupyter.widget-view+json": {
       "model_id": "76fb0598a7414e1bb878a238a0a73359",
       "version_major": 2,
       "version_minor": 0
      },
      "text/plain": [
       "  0%|          | 0/26 [00:00<?, ?it/s]"
      ]
     },
     "metadata": {},
     "output_type": "display_data"
    },
    {
     "data": {
      "application/vnd.jupyter.widget-view+json": {
       "model_id": "643b21643ab44e4989ac49dafc1a790b",
       "version_major": 2,
       "version_minor": 0
      },
      "text/plain": [
       "  0%|          | 0/47 [00:00<?, ?it/s]"
      ]
     },
     "metadata": {},
     "output_type": "display_data"
    },
    {
     "data": {
      "application/vnd.jupyter.widget-view+json": {
       "model_id": "dc29c4b1f3e64cad81a73555f7b105d1",
       "version_major": 2,
       "version_minor": 0
      },
      "text/plain": [
       "  0%|          | 0/28 [00:00<?, ?it/s]"
      ]
     },
     "metadata": {},
     "output_type": "display_data"
    },
    {
     "data": {
      "application/vnd.jupyter.widget-view+json": {
       "model_id": "d47dc88421dc417c8b035e7c370bf98e",
       "version_major": 2,
       "version_minor": 0
      },
      "text/plain": [
       "  0%|          | 0/49 [00:00<?, ?it/s]"
      ]
     },
     "metadata": {},
     "output_type": "display_data"
    },
    {
     "data": {
      "application/vnd.jupyter.widget-view+json": {
       "model_id": "ad965fd8f14148179ed1e9b431c8c5d3",
       "version_major": 2,
       "version_minor": 0
      },
      "text/plain": [
       "  0%|          | 0/28 [00:00<?, ?it/s]"
      ]
     },
     "metadata": {},
     "output_type": "display_data"
    },
    {
     "data": {
      "application/vnd.jupyter.widget-view+json": {
       "model_id": "b71a262e6cf2494aaf0370d96fc645eb",
       "version_major": 2,
       "version_minor": 0
      },
      "text/plain": [
       "  0%|          | 0/43 [00:00<?, ?it/s]"
      ]
     },
     "metadata": {},
     "output_type": "display_data"
    },
    {
     "data": {
      "application/vnd.jupyter.widget-view+json": {
       "model_id": "e187e5009e0d48aa82d8e5111f9cb206",
       "version_major": 2,
       "version_minor": 0
      },
      "text/plain": [
       "  0%|          | 0/42 [00:00<?, ?it/s]"
      ]
     },
     "metadata": {},
     "output_type": "display_data"
    },
    {
     "data": {
      "application/vnd.jupyter.widget-view+json": {
       "model_id": "f065ac0a5bdb4c27bcdc58ce04a215ed",
       "version_major": 2,
       "version_minor": 0
      },
      "text/plain": [
       "  0%|          | 0/39 [00:00<?, ?it/s]"
      ]
     },
     "metadata": {},
     "output_type": "display_data"
    },
    {
     "data": {
      "application/vnd.jupyter.widget-view+json": {
       "model_id": "f098dadd3d514e94bb4f5795a6733085",
       "version_major": 2,
       "version_minor": 0
      },
      "text/plain": [
       "  0%|          | 0/28 [00:00<?, ?it/s]"
      ]
     },
     "metadata": {},
     "output_type": "display_data"
    },
    {
     "data": {
      "application/vnd.jupyter.widget-view+json": {
       "model_id": "77db05acccce4315afd5bab3bb61aefd",
       "version_major": 2,
       "version_minor": 0
      },
      "text/plain": [
       "  0%|          | 0/21 [00:00<?, ?it/s]"
      ]
     },
     "metadata": {},
     "output_type": "display_data"
    },
    {
     "data": {
      "application/vnd.jupyter.widget-view+json": {
       "model_id": "fd840869531f43358a32dd5558ed6469",
       "version_major": 2,
       "version_minor": 0
      },
      "text/plain": [
       "  0%|          | 0/34 [00:00<?, ?it/s]"
      ]
     },
     "metadata": {},
     "output_type": "display_data"
    },
    {
     "data": {
      "application/vnd.jupyter.widget-view+json": {
       "model_id": "91ef7800550d476a8bda1560157ad421",
       "version_major": 2,
       "version_minor": 0
      },
      "text/plain": [
       "  0%|          | 0/55 [00:00<?, ?it/s]"
      ]
     },
     "metadata": {},
     "output_type": "display_data"
    },
    {
     "data": {
      "application/vnd.jupyter.widget-view+json": {
       "model_id": "a87921f060044ac2bcb63cce799ce3e7",
       "version_major": 2,
       "version_minor": 0
      },
      "text/plain": [
       "  0%|          | 0/33 [00:00<?, ?it/s]"
      ]
     },
     "metadata": {},
     "output_type": "display_data"
    },
    {
     "data": {
      "application/vnd.jupyter.widget-view+json": {
       "model_id": "a1505167fdcb401fbac058aacb8fc6b3",
       "version_major": 2,
       "version_minor": 0
      },
      "text/plain": [
       "  0%|          | 0/46 [00:00<?, ?it/s]"
      ]
     },
     "metadata": {},
     "output_type": "display_data"
    },
    {
     "data": {
      "application/vnd.jupyter.widget-view+json": {
       "model_id": "21699781e04c49ae8ef764e11945da88",
       "version_major": 2,
       "version_minor": 0
      },
      "text/plain": [
       "  0%|          | 0/26 [00:00<?, ?it/s]"
      ]
     },
     "metadata": {},
     "output_type": "display_data"
    },
    {
     "data": {
      "application/vnd.jupyter.widget-view+json": {
       "model_id": "502237f5acb84e4ab56ee8ddb6be807a",
       "version_major": 2,
       "version_minor": 0
      },
      "text/plain": [
       "  0%|          | 0/33 [00:00<?, ?it/s]"
      ]
     },
     "metadata": {},
     "output_type": "display_data"
    },
    {
     "data": {
      "application/vnd.jupyter.widget-view+json": {
       "model_id": "05a24adc36814d04a37c96e3a594c47d",
       "version_major": 2,
       "version_minor": 0
      },
      "text/plain": [
       "  0%|          | 0/25 [00:00<?, ?it/s]"
      ]
     },
     "metadata": {},
     "output_type": "display_data"
    },
    {
     "data": {
      "application/vnd.jupyter.widget-view+json": {
       "model_id": "c2fe24cad2034d5d87947e34c923f67e",
       "version_major": 2,
       "version_minor": 0
      },
      "text/plain": [
       "  0%|          | 0/26 [00:00<?, ?it/s]"
      ]
     },
     "metadata": {},
     "output_type": "display_data"
    },
    {
     "data": {
      "application/vnd.jupyter.widget-view+json": {
       "model_id": "316239cf350a4b3581f17ed23106e1c3",
       "version_major": 2,
       "version_minor": 0
      },
      "text/plain": [
       "  0%|          | 0/32 [00:00<?, ?it/s]"
      ]
     },
     "metadata": {},
     "output_type": "display_data"
    },
    {
     "data": {
      "application/vnd.jupyter.widget-view+json": {
       "model_id": "016217bf92034889a79394b51361b164",
       "version_major": 2,
       "version_minor": 0
      },
      "text/plain": [
       "  0%|          | 0/31 [00:00<?, ?it/s]"
      ]
     },
     "metadata": {},
     "output_type": "display_data"
    },
    {
     "data": {
      "application/vnd.jupyter.widget-view+json": {
       "model_id": "bb508b519d7041a59ce4417e2ec57188",
       "version_major": 2,
       "version_minor": 0
      },
      "text/plain": [
       "  0%|          | 0/50 [00:00<?, ?it/s]"
      ]
     },
     "metadata": {},
     "output_type": "display_data"
    },
    {
     "data": {
      "application/vnd.jupyter.widget-view+json": {
       "model_id": "18815a66f69244e9b8808e89466a1068",
       "version_major": 2,
       "version_minor": 0
      },
      "text/plain": [
       "  0%|          | 0/69 [00:00<?, ?it/s]"
      ]
     },
     "metadata": {},
     "output_type": "display_data"
    },
    {
     "data": {
      "application/vnd.jupyter.widget-view+json": {
       "model_id": "729c994b74504928bac2d63c745e9cc7",
       "version_major": 2,
       "version_minor": 0
      },
      "text/plain": [
       "  0%|          | 0/73 [00:00<?, ?it/s]"
      ]
     },
     "metadata": {},
     "output_type": "display_data"
    },
    {
     "data": {
      "application/vnd.jupyter.widget-view+json": {
       "model_id": "792c833cdd4140b994456849f4eafabf",
       "version_major": 2,
       "version_minor": 0
      },
      "text/plain": [
       "  0%|          | 0/52 [00:00<?, ?it/s]"
      ]
     },
     "metadata": {},
     "output_type": "display_data"
    },
    {
     "data": {
      "application/vnd.jupyter.widget-view+json": {
       "model_id": "25f31453471041d7a23bc764c8e409c5",
       "version_major": 2,
       "version_minor": 0
      },
      "text/plain": [
       "  0%|          | 0/51 [00:00<?, ?it/s]"
      ]
     },
     "metadata": {},
     "output_type": "display_data"
    },
    {
     "data": {
      "application/vnd.jupyter.widget-view+json": {
       "model_id": "a1dc3faefe54414f8b96e4cf8914cf53",
       "version_major": 2,
       "version_minor": 0
      },
      "text/plain": [
       "  0%|          | 0/21 [00:00<?, ?it/s]"
      ]
     },
     "metadata": {},
     "output_type": "display_data"
    },
    {
     "data": {
      "application/vnd.jupyter.widget-view+json": {
       "model_id": "edb6b3dd76f74b81b20ce096372f422b",
       "version_major": 2,
       "version_minor": 0
      },
      "text/plain": [
       "  0%|          | 0/69 [00:00<?, ?it/s]"
      ]
     },
     "metadata": {},
     "output_type": "display_data"
    },
    {
     "data": {
      "application/vnd.jupyter.widget-view+json": {
       "model_id": "d53abe53e1aa4b65af3b703cfef985e5",
       "version_major": 2,
       "version_minor": 0
      },
      "text/plain": [
       "  0%|          | 0/65 [00:00<?, ?it/s]"
      ]
     },
     "metadata": {},
     "output_type": "display_data"
    },
    {
     "data": {
      "application/vnd.jupyter.widget-view+json": {
       "model_id": "7f833d7dd16e456cbf397c0595282b23",
       "version_major": 2,
       "version_minor": 0
      },
      "text/plain": [
       "  0%|          | 0/53 [00:00<?, ?it/s]"
      ]
     },
     "metadata": {},
     "output_type": "display_data"
    },
    {
     "data": {
      "application/vnd.jupyter.widget-view+json": {
       "model_id": "cf5e280f4e4746f6b4644e3303f054e9",
       "version_major": 2,
       "version_minor": 0
      },
      "text/plain": [
       "  0%|          | 0/89 [00:00<?, ?it/s]"
      ]
     },
     "metadata": {},
     "output_type": "display_data"
    },
    {
     "data": {
      "application/vnd.jupyter.widget-view+json": {
       "model_id": "93c20a3380fa417c86555ef7bb73aebb",
       "version_major": 2,
       "version_minor": 0
      },
      "text/plain": [
       "  0%|          | 0/69 [00:00<?, ?it/s]"
      ]
     },
     "metadata": {},
     "output_type": "display_data"
    },
    {
     "data": {
      "application/vnd.jupyter.widget-view+json": {
       "model_id": "17247e2dc5bb4a24ba3b2ed245e748ce",
       "version_major": 2,
       "version_minor": 0
      },
      "text/plain": [
       "  0%|          | 0/28 [00:00<?, ?it/s]"
      ]
     },
     "metadata": {},
     "output_type": "display_data"
    },
    {
     "data": {
      "application/vnd.jupyter.widget-view+json": {
       "model_id": "2f6153dc947b4c71be93774472b2b10d",
       "version_major": 2,
       "version_minor": 0
      },
      "text/plain": [
       "  0%|          | 0/34 [00:00<?, ?it/s]"
      ]
     },
     "metadata": {},
     "output_type": "display_data"
    },
    {
     "data": {
      "application/vnd.jupyter.widget-view+json": {
       "model_id": "4f35927c40f54b9ea4d9884177ee8098",
       "version_major": 2,
       "version_minor": 0
      },
      "text/plain": [
       "  0%|          | 0/50 [00:00<?, ?it/s]"
      ]
     },
     "metadata": {},
     "output_type": "display_data"
    },
    {
     "data": {
      "application/vnd.jupyter.widget-view+json": {
       "model_id": "8991fbba81e4406da9e7caeb39275719",
       "version_major": 2,
       "version_minor": 0
      },
      "text/plain": [
       "  0%|          | 0/84 [00:00<?, ?it/s]"
      ]
     },
     "metadata": {},
     "output_type": "display_data"
    },
    {
     "data": {
      "application/vnd.jupyter.widget-view+json": {
       "model_id": "e07fc7343323490d97507578a6520897",
       "version_major": 2,
       "version_minor": 0
      },
      "text/plain": [
       "  0%|          | 0/26 [00:00<?, ?it/s]"
      ]
     },
     "metadata": {},
     "output_type": "display_data"
    },
    {
     "data": {
      "application/vnd.jupyter.widget-view+json": {
       "model_id": "2cbdbca0759f42b8829759b63b9ddd63",
       "version_major": 2,
       "version_minor": 0
      },
      "text/plain": [
       "  0%|          | 0/3 [00:00<?, ?it/s]"
      ]
     },
     "metadata": {},
     "output_type": "display_data"
    },
    {
     "data": {
      "application/vnd.jupyter.widget-view+json": {
       "model_id": "4e7dd30be57343968ad9743d0bb251b4",
       "version_major": 2,
       "version_minor": 0
      },
      "text/plain": [
       "  0%|          | 0/59 [00:00<?, ?it/s]"
      ]
     },
     "metadata": {},
     "output_type": "display_data"
    },
    {
     "data": {
      "application/vnd.jupyter.widget-view+json": {
       "model_id": "8ed43e9520614fdca9e56550842db930",
       "version_major": 2,
       "version_minor": 0
      },
      "text/plain": [
       "  0%|          | 0/17 [00:00<?, ?it/s]"
      ]
     },
     "metadata": {},
     "output_type": "display_data"
    },
    {
     "data": {
      "application/vnd.jupyter.widget-view+json": {
       "model_id": "4e95605748594cc083c397268a0670fc",
       "version_major": 2,
       "version_minor": 0
      },
      "text/plain": [
       "  0%|          | 0/28 [00:00<?, ?it/s]"
      ]
     },
     "metadata": {},
     "output_type": "display_data"
    },
    {
     "data": {
      "application/vnd.jupyter.widget-view+json": {
       "model_id": "9d8a2db4b96842738b2a81f9bbe2f5fb",
       "version_major": 2,
       "version_minor": 0
      },
      "text/plain": [
       "  0%|          | 0/63 [00:00<?, ?it/s]"
      ]
     },
     "metadata": {},
     "output_type": "display_data"
    },
    {
     "data": {
      "application/vnd.jupyter.widget-view+json": {
       "model_id": "cbdb572401b94a0ca3282277a9d56620",
       "version_major": 2,
       "version_minor": 0
      },
      "text/plain": [
       "  0%|          | 0/28 [00:00<?, ?it/s]"
      ]
     },
     "metadata": {},
     "output_type": "display_data"
    },
    {
     "data": {
      "application/vnd.jupyter.widget-view+json": {
       "model_id": "a70e21a3f62845398018da12195c7d58",
       "version_major": 2,
       "version_minor": 0
      },
      "text/plain": [
       "  0%|          | 0/56 [00:00<?, ?it/s]"
      ]
     },
     "metadata": {},
     "output_type": "display_data"
    },
    {
     "data": {
      "application/vnd.jupyter.widget-view+json": {
       "model_id": "f17f4c47f2ce4d3285a7440e7a936290",
       "version_major": 2,
       "version_minor": 0
      },
      "text/plain": [
       "  0%|          | 0/35 [00:00<?, ?it/s]"
      ]
     },
     "metadata": {},
     "output_type": "display_data"
    },
    {
     "data": {
      "application/vnd.jupyter.widget-view+json": {
       "model_id": "f04bd60565c2420cbc34f8486752ad66",
       "version_major": 2,
       "version_minor": 0
      },
      "text/plain": [
       "  0%|          | 0/41 [00:00<?, ?it/s]"
      ]
     },
     "metadata": {},
     "output_type": "display_data"
    },
    {
     "data": {
      "application/vnd.jupyter.widget-view+json": {
       "model_id": "5a597d60b9964149a303c796441f5581",
       "version_major": 2,
       "version_minor": 0
      },
      "text/plain": [
       "  0%|          | 0/32 [00:00<?, ?it/s]"
      ]
     },
     "metadata": {},
     "output_type": "display_data"
    },
    {
     "data": {
      "application/vnd.jupyter.widget-view+json": {
       "model_id": "6b92ea23d24244e294db6774b1b2def9",
       "version_major": 2,
       "version_minor": 0
      },
      "text/plain": [
       "  0%|          | 0/36 [00:00<?, ?it/s]"
      ]
     },
     "metadata": {},
     "output_type": "display_data"
    },
    {
     "data": {
      "application/vnd.jupyter.widget-view+json": {
       "model_id": "c1145b2ef70f401f8ff374ab708082cf",
       "version_major": 2,
       "version_minor": 0
      },
      "text/plain": [
       "  0%|          | 0/41 [00:00<?, ?it/s]"
      ]
     },
     "metadata": {},
     "output_type": "display_data"
    },
    {
     "data": {
      "application/vnd.jupyter.widget-view+json": {
       "model_id": "a6d9630f10d241f684125e92ad5f8467",
       "version_major": 2,
       "version_minor": 0
      },
      "text/plain": [
       "  0%|          | 0/35 [00:00<?, ?it/s]"
      ]
     },
     "metadata": {},
     "output_type": "display_data"
    },
    {
     "data": {
      "application/vnd.jupyter.widget-view+json": {
       "model_id": "1e975e6423fa40e7a26a13802f781d8d",
       "version_major": 2,
       "version_minor": 0
      },
      "text/plain": [
       "  0%|          | 0/36 [00:00<?, ?it/s]"
      ]
     },
     "metadata": {},
     "output_type": "display_data"
    },
    {
     "data": {
      "application/vnd.jupyter.widget-view+json": {
       "model_id": "2ed9378883b34f9f84cc471b497f2f3d",
       "version_major": 2,
       "version_minor": 0
      },
      "text/plain": [
       "  0%|          | 0/43 [00:00<?, ?it/s]"
      ]
     },
     "metadata": {},
     "output_type": "display_data"
    },
    {
     "data": {
      "application/vnd.jupyter.widget-view+json": {
       "model_id": "6f382fa8bd99490ca2ea17f8dc132965",
       "version_major": 2,
       "version_minor": 0
      },
      "text/plain": [
       "  0%|          | 0/62 [00:00<?, ?it/s]"
      ]
     },
     "metadata": {},
     "output_type": "display_data"
    },
    {
     "data": {
      "application/vnd.jupyter.widget-view+json": {
       "model_id": "b602071b18024ecd9c088e1330350676",
       "version_major": 2,
       "version_minor": 0
      },
      "text/plain": [
       "  0%|          | 0/39 [00:00<?, ?it/s]"
      ]
     },
     "metadata": {},
     "output_type": "display_data"
    },
    {
     "data": {
      "application/vnd.jupyter.widget-view+json": {
       "model_id": "b8670d33f8d24fc8b7efd8791316da07",
       "version_major": 2,
       "version_minor": 0
      },
      "text/plain": [
       "  0%|          | 0/26 [00:00<?, ?it/s]"
      ]
     },
     "metadata": {},
     "output_type": "display_data"
    },
    {
     "data": {
      "application/vnd.jupyter.widget-view+json": {
       "model_id": "70fecd1514ad4781ba6738dc55e6b91d",
       "version_major": 2,
       "version_minor": 0
      },
      "text/plain": [
       "  0%|          | 0/37 [00:00<?, ?it/s]"
      ]
     },
     "metadata": {},
     "output_type": "display_data"
    },
    {
     "data": {
      "application/vnd.jupyter.widget-view+json": {
       "model_id": "19cd6d56cab64e1a98cdce15be543abc",
       "version_major": 2,
       "version_minor": 0
      },
      "text/plain": [
       "  0%|          | 0/42 [00:00<?, ?it/s]"
      ]
     },
     "metadata": {},
     "output_type": "display_data"
    },
    {
     "data": {
      "application/vnd.jupyter.widget-view+json": {
       "model_id": "f0e562aca8984106b31046083c185892",
       "version_major": 2,
       "version_minor": 0
      },
      "text/plain": [
       "  0%|          | 0/80 [00:00<?, ?it/s]"
      ]
     },
     "metadata": {},
     "output_type": "display_data"
    },
    {
     "data": {
      "application/vnd.jupyter.widget-view+json": {
       "model_id": "51e0b9870a5c4a7f855aa2eb88ea5b63",
       "version_major": 2,
       "version_minor": 0
      },
      "text/plain": [
       "  0%|          | 0/54 [00:00<?, ?it/s]"
      ]
     },
     "metadata": {},
     "output_type": "display_data"
    },
    {
     "data": {
      "application/vnd.jupyter.widget-view+json": {
       "model_id": "f2f9838eda5c4b9582cbb0b3694248ae",
       "version_major": 2,
       "version_minor": 0
      },
      "text/plain": [
       "  0%|          | 0/39 [00:00<?, ?it/s]"
      ]
     },
     "metadata": {},
     "output_type": "display_data"
    },
    {
     "data": {
      "application/vnd.jupyter.widget-view+json": {
       "model_id": "b416f94f7a1341caa9fa3aca3aa520bf",
       "version_major": 2,
       "version_minor": 0
      },
      "text/plain": [
       "  0%|          | 0/35 [00:00<?, ?it/s]"
      ]
     },
     "metadata": {},
     "output_type": "display_data"
    },
    {
     "data": {
      "application/vnd.jupyter.widget-view+json": {
       "model_id": "7883766a985546db81dae8a84efbfccd",
       "version_major": 2,
       "version_minor": 0
      },
      "text/plain": [
       "  0%|          | 0/51 [00:00<?, ?it/s]"
      ]
     },
     "metadata": {},
     "output_type": "display_data"
    },
    {
     "data": {
      "application/vnd.jupyter.widget-view+json": {
       "model_id": "f82b748dc30b47b1b07bc6e499428af8",
       "version_major": 2,
       "version_minor": 0
      },
      "text/plain": [
       "  0%|          | 0/37 [00:00<?, ?it/s]"
      ]
     },
     "metadata": {},
     "output_type": "display_data"
    },
    {
     "data": {
      "application/vnd.jupyter.widget-view+json": {
       "model_id": "32b34c7cf87344da85bb11a3074d75a6",
       "version_major": 2,
       "version_minor": 0
      },
      "text/plain": [
       "  0%|          | 0/52 [00:00<?, ?it/s]"
      ]
     },
     "metadata": {},
     "output_type": "display_data"
    },
    {
     "data": {
      "application/vnd.jupyter.widget-view+json": {
       "model_id": "1ebcc7282dfd4238b5d00d49e8de1e44",
       "version_major": 2,
       "version_minor": 0
      },
      "text/plain": [
       "  0%|          | 0/24 [00:00<?, ?it/s]"
      ]
     },
     "metadata": {},
     "output_type": "display_data"
    },
    {
     "data": {
      "application/vnd.jupyter.widget-view+json": {
       "model_id": "3e74402c3ee64a618f09b52ee003b1e3",
       "version_major": 2,
       "version_minor": 0
      },
      "text/plain": [
       "  0%|          | 0/23 [00:00<?, ?it/s]"
      ]
     },
     "metadata": {},
     "output_type": "display_data"
    },
    {
     "data": {
      "application/vnd.jupyter.widget-view+json": {
       "model_id": "eae738789efd4bb8b1aefa1ef21c40e3",
       "version_major": 2,
       "version_minor": 0
      },
      "text/plain": [
       "  0%|          | 0/23 [00:00<?, ?it/s]"
      ]
     },
     "metadata": {},
     "output_type": "display_data"
    },
    {
     "data": {
      "application/vnd.jupyter.widget-view+json": {
       "model_id": "0200bd3ab5a74bfc91a5c3fc8d59f517",
       "version_major": 2,
       "version_minor": 0
      },
      "text/plain": [
       "  0%|          | 0/39 [00:00<?, ?it/s]"
      ]
     },
     "metadata": {},
     "output_type": "display_data"
    },
    {
     "data": {
      "application/vnd.jupyter.widget-view+json": {
       "model_id": "e32012ae6d9245e7890b66a0cfed607f",
       "version_major": 2,
       "version_minor": 0
      },
      "text/plain": [
       "  0%|          | 0/36 [00:00<?, ?it/s]"
      ]
     },
     "metadata": {},
     "output_type": "display_data"
    },
    {
     "data": {
      "application/vnd.jupyter.widget-view+json": {
       "model_id": "186e7373c1c24d0a9bee9b1d27ee95a4",
       "version_major": 2,
       "version_minor": 0
      },
      "text/plain": [
       "  0%|          | 0/35 [00:00<?, ?it/s]"
      ]
     },
     "metadata": {},
     "output_type": "display_data"
    },
    {
     "data": {
      "application/vnd.jupyter.widget-view+json": {
       "model_id": "b9ae1433d7bc468cad90d15b3ff36596",
       "version_major": 2,
       "version_minor": 0
      },
      "text/plain": [
       "  0%|          | 0/46 [00:00<?, ?it/s]"
      ]
     },
     "metadata": {},
     "output_type": "display_data"
    },
    {
     "data": {
      "application/vnd.jupyter.widget-view+json": {
       "model_id": "7372301d77784d44a233643da8b2c598",
       "version_major": 2,
       "version_minor": 0
      },
      "text/plain": [
       "  0%|          | 0/45 [00:00<?, ?it/s]"
      ]
     },
     "metadata": {},
     "output_type": "display_data"
    },
    {
     "data": {
      "application/vnd.jupyter.widget-view+json": {
       "model_id": "77445045ca054be89569d91ec885a3b1",
       "version_major": 2,
       "version_minor": 0
      },
      "text/plain": [
       "  0%|          | 0/46 [00:00<?, ?it/s]"
      ]
     },
     "metadata": {},
     "output_type": "display_data"
    },
    {
     "data": {
      "application/vnd.jupyter.widget-view+json": {
       "model_id": "fa1c6c41468046478a21b1b1df767edb",
       "version_major": 2,
       "version_minor": 0
      },
      "text/plain": [
       "  0%|          | 0/19 [00:00<?, ?it/s]"
      ]
     },
     "metadata": {},
     "output_type": "display_data"
    },
    {
     "data": {
      "application/vnd.jupyter.widget-view+json": {
       "model_id": "0f90c379a63e45489aede0d4c8f5fde6",
       "version_major": 2,
       "version_minor": 0
      },
      "text/plain": [
       "  0%|          | 0/27 [00:00<?, ?it/s]"
      ]
     },
     "metadata": {},
     "output_type": "display_data"
    },
    {
     "data": {
      "application/vnd.jupyter.widget-view+json": {
       "model_id": "dd3311fce82b4892ae5793a6ed507549",
       "version_major": 2,
       "version_minor": 0
      },
      "text/plain": [
       "  0%|          | 0/78 [00:00<?, ?it/s]"
      ]
     },
     "metadata": {},
     "output_type": "display_data"
    },
    {
     "data": {
      "application/vnd.jupyter.widget-view+json": {
       "model_id": "6d69720b4fbc49968c20d27f7410eb81",
       "version_major": 2,
       "version_minor": 0
      },
      "text/plain": [
       "  0%|          | 0/31 [00:00<?, ?it/s]"
      ]
     },
     "metadata": {},
     "output_type": "display_data"
    },
    {
     "data": {
      "application/vnd.jupyter.widget-view+json": {
       "model_id": "7a6c117b32404af1b3b8904d3e941016",
       "version_major": 2,
       "version_minor": 0
      },
      "text/plain": [
       "  0%|          | 0/26 [00:00<?, ?it/s]"
      ]
     },
     "metadata": {},
     "output_type": "display_data"
    },
    {
     "data": {
      "application/vnd.jupyter.widget-view+json": {
       "model_id": "08987d42b5874a1db0b9575a01c373c1",
       "version_major": 2,
       "version_minor": 0
      },
      "text/plain": [
       "  0%|          | 0/40 [00:00<?, ?it/s]"
      ]
     },
     "metadata": {},
     "output_type": "display_data"
    },
    {
     "data": {
      "application/vnd.jupyter.widget-view+json": {
       "model_id": "1270f121831f4c54ba675877be6e3835",
       "version_major": 2,
       "version_minor": 0
      },
      "text/plain": [
       "  0%|          | 0/47 [00:00<?, ?it/s]"
      ]
     },
     "metadata": {},
     "output_type": "display_data"
    },
    {
     "data": {
      "application/vnd.jupyter.widget-view+json": {
       "model_id": "278228551a094714a1c8a2554e06f130",
       "version_major": 2,
       "version_minor": 0
      },
      "text/plain": [
       "  0%|          | 0/42 [00:00<?, ?it/s]"
      ]
     },
     "metadata": {},
     "output_type": "display_data"
    },
    {
     "data": {
      "application/vnd.jupyter.widget-view+json": {
       "model_id": "9384ac3040314283814de366347c1258",
       "version_major": 2,
       "version_minor": 0
      },
      "text/plain": [
       "  0%|          | 0/41 [00:00<?, ?it/s]"
      ]
     },
     "metadata": {},
     "output_type": "display_data"
    },
    {
     "data": {
      "application/vnd.jupyter.widget-view+json": {
       "model_id": "d3664a177134416e94025ec94ea518b2",
       "version_major": 2,
       "version_minor": 0
      },
      "text/plain": [
       "  0%|          | 0/23 [00:00<?, ?it/s]"
      ]
     },
     "metadata": {},
     "output_type": "display_data"
    },
    {
     "data": {
      "application/vnd.jupyter.widget-view+json": {
       "model_id": "3e4c9a2f07d446e29fef0e99a01cdb79",
       "version_major": 2,
       "version_minor": 0
      },
      "text/plain": [
       "  0%|          | 0/74 [00:00<?, ?it/s]"
      ]
     },
     "metadata": {},
     "output_type": "display_data"
    },
    {
     "data": {
      "application/vnd.jupyter.widget-view+json": {
       "model_id": "95ca9989576240e4bf654ae465948822",
       "version_major": 2,
       "version_minor": 0
      },
      "text/plain": [
       "Loading and preprocessing files to dataset.:   0%|          | 0/33 [00:00<?, ?it/s]"
      ]
     },
     "metadata": {},
     "output_type": "display_data"
    },
    {
     "data": {
      "application/vnd.jupyter.widget-view+json": {
       "model_id": "acd336b860344aa18becee31721d086a",
       "version_major": 2,
       "version_minor": 0
      },
      "text/plain": [
       "  0%|          | 0/46 [00:00<?, ?it/s]"
      ]
     },
     "metadata": {},
     "output_type": "display_data"
    },
    {
     "data": {
      "application/vnd.jupyter.widget-view+json": {
       "model_id": "4d32301c116c4bc1b214fa7a392b880a",
       "version_major": 2,
       "version_minor": 0
      },
      "text/plain": [
       "  0%|          | 0/37 [00:00<?, ?it/s]"
      ]
     },
     "metadata": {},
     "output_type": "display_data"
    },
    {
     "data": {
      "application/vnd.jupyter.widget-view+json": {
       "model_id": "c66a64e2253a40b0b7959227d3206bc0",
       "version_major": 2,
       "version_minor": 0
      },
      "text/plain": [
       "  0%|          | 0/79 [00:00<?, ?it/s]"
      ]
     },
     "metadata": {},
     "output_type": "display_data"
    },
    {
     "data": {
      "application/vnd.jupyter.widget-view+json": {
       "model_id": "5391b2ae88c7473cb5920b8725c680b5",
       "version_major": 2,
       "version_minor": 0
      },
      "text/plain": [
       "  0%|          | 0/30 [00:00<?, ?it/s]"
      ]
     },
     "metadata": {},
     "output_type": "display_data"
    },
    {
     "data": {
      "application/vnd.jupyter.widget-view+json": {
       "model_id": "c20a08199abb435896b7ab7f3e8ba137",
       "version_major": 2,
       "version_minor": 0
      },
      "text/plain": [
       "  0%|          | 0/80 [00:00<?, ?it/s]"
      ]
     },
     "metadata": {},
     "output_type": "display_data"
    },
    {
     "data": {
      "application/vnd.jupyter.widget-view+json": {
       "model_id": "1d3f91db1053403498c4b60a13503df9",
       "version_major": 2,
       "version_minor": 0
      },
      "text/plain": [
       "  0%|          | 0/54 [00:00<?, ?it/s]"
      ]
     },
     "metadata": {},
     "output_type": "display_data"
    },
    {
     "data": {
      "application/vnd.jupyter.widget-view+json": {
       "model_id": "b160367862af4b95977cbdbd53c51f23",
       "version_major": 2,
       "version_minor": 0
      },
      "text/plain": [
       "  0%|          | 0/52 [00:00<?, ?it/s]"
      ]
     },
     "metadata": {},
     "output_type": "display_data"
    },
    {
     "data": {
      "application/vnd.jupyter.widget-view+json": {
       "model_id": "968d2b93bac14cf28aaae93b635779b6",
       "version_major": 2,
       "version_minor": 0
      },
      "text/plain": [
       "  0%|          | 0/24 [00:00<?, ?it/s]"
      ]
     },
     "metadata": {},
     "output_type": "display_data"
    },
    {
     "data": {
      "application/vnd.jupyter.widget-view+json": {
       "model_id": "b6a344299f4c4c12ba518c1cf4b6de90",
       "version_major": 2,
       "version_minor": 0
      },
      "text/plain": [
       "  0%|          | 0/40 [00:00<?, ?it/s]"
      ]
     },
     "metadata": {},
     "output_type": "display_data"
    },
    {
     "data": {
      "application/vnd.jupyter.widget-view+json": {
       "model_id": "784e4e26fb074a4aaea4da4dddbcbea3",
       "version_major": 2,
       "version_minor": 0
      },
      "text/plain": [
       "  0%|          | 0/34 [00:00<?, ?it/s]"
      ]
     },
     "metadata": {},
     "output_type": "display_data"
    },
    {
     "data": {
      "application/vnd.jupyter.widget-view+json": {
       "model_id": "03814bf32b8b4114b81d1cd92c508239",
       "version_major": 2,
       "version_minor": 0
      },
      "text/plain": [
       "  0%|          | 0/48 [00:00<?, ?it/s]"
      ]
     },
     "metadata": {},
     "output_type": "display_data"
    },
    {
     "data": {
      "application/vnd.jupyter.widget-view+json": {
       "model_id": "824217bd9a4f44778d8e8313a402b108",
       "version_major": 2,
       "version_minor": 0
      },
      "text/plain": [
       "  0%|          | 0/42 [00:00<?, ?it/s]"
      ]
     },
     "metadata": {},
     "output_type": "display_data"
    },
    {
     "data": {
      "application/vnd.jupyter.widget-view+json": {
       "model_id": "763cf7b0a5db4f5a985a1d48e45b065a",
       "version_major": 2,
       "version_minor": 0
      },
      "text/plain": [
       "  0%|          | 0/26 [00:00<?, ?it/s]"
      ]
     },
     "metadata": {},
     "output_type": "display_data"
    },
    {
     "data": {
      "application/vnd.jupyter.widget-view+json": {
       "model_id": "63d56371b2aa4c3d9f455aa2f3a6d04d",
       "version_major": 2,
       "version_minor": 0
      },
      "text/plain": [
       "  0%|          | 0/74 [00:00<?, ?it/s]"
      ]
     },
     "metadata": {},
     "output_type": "display_data"
    },
    {
     "data": {
      "application/vnd.jupyter.widget-view+json": {
       "model_id": "47aa3590920e46d08b2cc4922d683856",
       "version_major": 2,
       "version_minor": 0
      },
      "text/plain": [
       "  0%|          | 0/63 [00:00<?, ?it/s]"
      ]
     },
     "metadata": {},
     "output_type": "display_data"
    },
    {
     "data": {
      "application/vnd.jupyter.widget-view+json": {
       "model_id": "c1f3dfd20b6d47aaa959a1205ca5b6bc",
       "version_major": 2,
       "version_minor": 0
      },
      "text/plain": [
       "  0%|          | 0/45 [00:00<?, ?it/s]"
      ]
     },
     "metadata": {},
     "output_type": "display_data"
    },
    {
     "data": {
      "application/vnd.jupyter.widget-view+json": {
       "model_id": "5d088ccc63d04536b43085fc0244785d",
       "version_major": 2,
       "version_minor": 0
      },
      "text/plain": [
       "  0%|          | 0/65 [00:00<?, ?it/s]"
      ]
     },
     "metadata": {},
     "output_type": "display_data"
    },
    {
     "data": {
      "application/vnd.jupyter.widget-view+json": {
       "model_id": "7840d2fdea544369b8137deaaff88721",
       "version_major": 2,
       "version_minor": 0
      },
      "text/plain": [
       "  0%|          | 0/35 [00:00<?, ?it/s]"
      ]
     },
     "metadata": {},
     "output_type": "display_data"
    },
    {
     "data": {
      "application/vnd.jupyter.widget-view+json": {
       "model_id": "54c3c6075d41423f8f11d39fef483274",
       "version_major": 2,
       "version_minor": 0
      },
      "text/plain": [
       "  0%|          | 0/35 [00:00<?, ?it/s]"
      ]
     },
     "metadata": {},
     "output_type": "display_data"
    },
    {
     "data": {
      "application/vnd.jupyter.widget-view+json": {
       "model_id": "8cf1a345ce1345a984cd19eb6ec29c70",
       "version_major": 2,
       "version_minor": 0
      },
      "text/plain": [
       "  0%|          | 0/35 [00:00<?, ?it/s]"
      ]
     },
     "metadata": {},
     "output_type": "display_data"
    },
    {
     "data": {
      "application/vnd.jupyter.widget-view+json": {
       "model_id": "9254f7f9792a45c687203ae4a2b9cf7e",
       "version_major": 2,
       "version_minor": 0
      },
      "text/plain": [
       "  0%|          | 0/55 [00:00<?, ?it/s]"
      ]
     },
     "metadata": {},
     "output_type": "display_data"
    },
    {
     "data": {
      "application/vnd.jupyter.widget-view+json": {
       "model_id": "4061d102f07f40fe86ee16f263f7f8df",
       "version_major": 2,
       "version_minor": 0
      },
      "text/plain": [
       "  0%|          | 0/32 [00:00<?, ?it/s]"
      ]
     },
     "metadata": {},
     "output_type": "display_data"
    },
    {
     "data": {
      "application/vnd.jupyter.widget-view+json": {
       "model_id": "73bcefc9db7245c2bad531d0605531bb",
       "version_major": 2,
       "version_minor": 0
      },
      "text/plain": [
       "  0%|          | 0/38 [00:00<?, ?it/s]"
      ]
     },
     "metadata": {},
     "output_type": "display_data"
    },
    {
     "data": {
      "application/vnd.jupyter.widget-view+json": {
       "model_id": "7634ba96f97348ce8d529017e0ffa684",
       "version_major": 2,
       "version_minor": 0
      },
      "text/plain": [
       "  0%|          | 0/30 [00:00<?, ?it/s]"
      ]
     },
     "metadata": {},
     "output_type": "display_data"
    },
    {
     "data": {
      "application/vnd.jupyter.widget-view+json": {
       "model_id": "522a3c39c8344d448d34a141023a304d",
       "version_major": 2,
       "version_minor": 0
      },
      "text/plain": [
       "  0%|          | 0/77 [00:00<?, ?it/s]"
      ]
     },
     "metadata": {},
     "output_type": "display_data"
    },
    {
     "data": {
      "application/vnd.jupyter.widget-view+json": {
       "model_id": "86cc574c10f341509aca1c14356c0dc6",
       "version_major": 2,
       "version_minor": 0
      },
      "text/plain": [
       "  0%|          | 0/37 [00:00<?, ?it/s]"
      ]
     },
     "metadata": {},
     "output_type": "display_data"
    },
    {
     "data": {
      "application/vnd.jupyter.widget-view+json": {
       "model_id": "93ee43d5f93b4a19a9862bb729268c4d",
       "version_major": 2,
       "version_minor": 0
      },
      "text/plain": [
       "  0%|          | 0/24 [00:00<?, ?it/s]"
      ]
     },
     "metadata": {},
     "output_type": "display_data"
    },
    {
     "data": {
      "application/vnd.jupyter.widget-view+json": {
       "model_id": "52abd1b1292e4e1f8b2919b3b4186aff",
       "version_major": 2,
       "version_minor": 0
      },
      "text/plain": [
       "  0%|          | 0/32 [00:00<?, ?it/s]"
      ]
     },
     "metadata": {},
     "output_type": "display_data"
    },
    {
     "data": {
      "application/vnd.jupyter.widget-view+json": {
       "model_id": "1b54df5764b3478292370618d99bd2dc",
       "version_major": 2,
       "version_minor": 0
      },
      "text/plain": [
       "  0%|          | 0/42 [00:00<?, ?it/s]"
      ]
     },
     "metadata": {},
     "output_type": "display_data"
    },
    {
     "data": {
      "application/vnd.jupyter.widget-view+json": {
       "model_id": "a78d1d012bc7481d8db10fe2bf988a64",
       "version_major": 2,
       "version_minor": 0
      },
      "text/plain": [
       "  0%|          | 0/26 [00:00<?, ?it/s]"
      ]
     },
     "metadata": {},
     "output_type": "display_data"
    },
    {
     "data": {
      "application/vnd.jupyter.widget-view+json": {
       "model_id": "2fb158a339ea46d686f06f76cd4e0370",
       "version_major": 2,
       "version_minor": 0
      },
      "text/plain": [
       "  0%|          | 0/47 [00:00<?, ?it/s]"
      ]
     },
     "metadata": {},
     "output_type": "display_data"
    },
    {
     "data": {
      "application/vnd.jupyter.widget-view+json": {
       "model_id": "89df597ad446457b9c70b0e9e667bc56",
       "version_major": 2,
       "version_minor": 0
      },
      "text/plain": [
       "  0%|          | 0/79 [00:00<?, ?it/s]"
      ]
     },
     "metadata": {},
     "output_type": "display_data"
    },
    {
     "data": {
      "application/vnd.jupyter.widget-view+json": {
       "model_id": "bd71c50dc97d4366b4ee2de1dd716834",
       "version_major": 2,
       "version_minor": 0
      },
      "text/plain": [
       "  0%|          | 0/50 [00:00<?, ?it/s]"
      ]
     },
     "metadata": {},
     "output_type": "display_data"
    }
   ],
   "source": [
    "from models.WaveNetVAE.WaveVae import WaveNetVAE\n",
    "from models.WaveNetVAE.WVData import WVDataset\n",
    "import torch\n",
    "from torch.utils.data import DataLoader\n",
    "import warnings\n",
    "warnings.filterwarnings(\"ignore\")\n",
    "\n",
    "\"\"\"\n",
    "Hyperparameters\n",
    "\"\"\"\n",
    "\n",
    "batchsize = 2\n",
    "device='cuda:2'\n",
    "input_size = (40, 112)\n",
    "upsamples = [2, 2, 2, 2, 2, 2, 2, 2]\n",
    "zsize = 32\n",
    "\n",
    "WaveVAE = WaveNetVAE(input_size,\n",
    "                     num_hiddens = 768,\n",
    "                     upsamples = upsamples,\n",
    "                     zsize = zsize,\n",
    "                    out_channels = 256)\n",
    "\n",
    "WaveVAE.to(device)\n",
    "\n",
    "VAEDataset = WVDataset(audio_path = \"../ConvDenoiser_Old/clips\",\n",
    "                       length = 4096,\n",
    "                       skip_size = 4096 // 2,\n",
    "                       sample_rate = 24000,\n",
    "                       max_files = 300,\n",
    "                       hop_length = 128)\n",
    "\n",
    "val_VAEDataset = WVDataset(audio_path = \"../ConvDenoiser_Old/testdata\",\n",
    "                       length = 4096,\n",
    "                       skip_size = 4096 // 2,\n",
    "                       sample_rate = 24000,\n",
    "                       max_files = 200,\n",
    "                       hop_length = 128)\n",
    "\n",
    "VAEDataloader = DataLoader(VAEDataset,\n",
    "                           batch_size = batchsize,\n",
    "                           shuffle = True)\n",
    "\n",
    "val_VAEDataloader = DataLoader(val_VAEDataset,\n",
    "                           batch_size = batchsize,\n",
    "                           shuffle = False)"
   ]
  },
  {
   "cell_type": "markdown",
   "metadata": {
    "tags": []
   },
   "source": [
    "# Test tensor"
   ]
  },
  {
   "cell_type": "code",
   "execution_count": 7,
   "metadata": {
    "collapsed": false,
    "jupyter": {
     "outputs_hidden": false
    }
   },
   "outputs": [
    {
     "name": "stdout",
     "output_type": "stream",
     "text": [
      "Trying tensors with sizes:\n",
      "Onehot size:  torch.Size([1, 4096]) | MFCC size:  torch.Size([1, 40, 33]) | Target size:  torch.Size([1, 4097])\n"
     ]
    },
    {
     "data": {
      "image/png": "[encoded data removed]",
      "text/plain": [
       "<Figure size 640x480 with 1 Axes>"
      ]
     },
     "metadata": {},
     "output_type": "display_data"
    },
    {
     "data": {
      "image/png": "[encoded data removed]",
      "text/plain": [
       "<Figure size 640x480 with 1 Axes>"
      ]
     },
     "metadata": {},
     "output_type": "display_data"
    },
    {
     "name": "stdout",
     "output_type": "stream",
     "text": [
      "Target value:  31  | Input Value:  32\n",
      "torch.Size([1, 4097])\n",
      "Tensors passed through model succesfully torch.Size([1, 4096, 256])\n",
      "torch.Size([1, 256]) torch.Size([1])\n",
      "tensor(32, device='cuda:2') 31 32\n"
     ]
    },
    {
     "ename": "NameError",
     "evalue": "name 'reconstruction_loss' is not defined",
     "output_type": "error",
     "traceback": [
      "\u001b[0;31m---------------------------------------------------------------------------\u001b[0m",
      "\u001b[0;31mNameError\u001b[0m                                 Traceback (most recent call last)",
      "Cell \u001b[0;32mIn[7], line 40\u001b[0m\n\u001b[1;32m     37\u001b[0m \u001b[38;5;28mprint\u001b[39m(torch\u001b[38;5;241m.\u001b[39margmax(output[\u001b[38;5;241m0\u001b[39m, \u001b[38;5;241m-\u001b[39m\u001b[38;5;241m1\u001b[39m]\u001b[38;5;241m.\u001b[39msqueeze()), target[\u001b[38;5;241m0\u001b[39m, \u001b[38;5;241m-\u001b[39m\u001b[38;5;241m1\u001b[39m]\u001b[38;5;241m.\u001b[39msqueeze()\u001b[38;5;241m.\u001b[39mitem(), onehot[\u001b[38;5;241m0\u001b[39m, \u001b[38;5;241m-\u001b[39m\u001b[38;5;241m1\u001b[39m]\u001b[38;5;241m.\u001b[39msqueeze()\u001b[38;5;241m.\u001b[39mitem())\n\u001b[1;32m     39\u001b[0m \u001b[38;5;66;03m# reconstruction_loss = loss_fn(output[:, :, -1], target[:, :, -1])\u001b[39;00m\n\u001b[0;32m---> 40\u001b[0m \u001b[38;5;28mprint\u001b[39m(\u001b[38;5;124m\"\u001b[39m\u001b[38;5;124mReconstruction loss =\u001b[39m\u001b[38;5;124m\"\u001b[39m, \u001b[43mreconstruction_loss\u001b[49m\u001b[38;5;241m.\u001b[39mitem())\n\u001b[1;32m     42\u001b[0m \u001b[38;5;66;03m# onehot = torch.nn.functional.sigmoid(onehot[0, :, -1])\u001b[39;00m\n\u001b[1;32m     43\u001b[0m \u001b[38;5;66;03m# output = torch.nn.functional.sigmoid(output[0, :, -1])\u001b[39;00m\n\u001b[1;32m     44\u001b[0m \u001b[38;5;66;03m# onehotmax = torch.argmax(onehot)\u001b[39;00m\n\u001b[1;32m     45\u001b[0m \u001b[38;5;66;03m# outputmax = torch.argmax(output)\u001b[39;00m\n\u001b[1;32m     47\u001b[0m \u001b[38;5;28mprint\u001b[39m(onehot[\u001b[38;5;241m0\u001b[39m, :, \u001b[38;5;241m-\u001b[39m\u001b[38;5;241m1\u001b[39m]\u001b[38;5;241m.\u001b[39mitem(), output[\u001b[38;5;241m0\u001b[39m, :, \u001b[38;5;241m-\u001b[39m\u001b[38;5;241m1\u001b[39m]\u001b[38;5;241m.\u001b[39mitem(), target[\u001b[38;5;241m0\u001b[39m, :, \u001b[38;5;241m-\u001b[39m\u001b[38;5;241m1\u001b[39m]\u001b[38;5;241m.\u001b[39mitem())\n",
      "\u001b[0;31mNameError\u001b[0m: name 'reconstruction_loss' is not defined"
     ]
    }
   ],
   "source": [
    "import torchaudio\n",
    "import matplotlib.pyplot as plt\n",
    "\n",
    "# loss_fn = torch.nn.MSELoss()\n",
    "loss_fn = torch.nn.CrossEntropyLoss(reduction='none')\n",
    "\n",
    "onehot, mfcc, target = next(iter(val_VAEDataloader))\n",
    "onehot = onehot.to(device)\n",
    "mfcc = mfcc.to(device)\n",
    "target = target.to(device)\n",
    "\n",
    "print(\"Trying tensors with sizes:\")\n",
    "print(\"Onehot size: \", onehot.size(), \"| MFCC size: \", mfcc.size(), \"| Target size: \", target.size())\n",
    "\n",
    "plt.plot(torch.squeeze(onehot[0]).cpu().numpy())\n",
    "plt.ylabel('Input')\n",
    "plt.show()\n",
    "\n",
    "plt.plot(torch.squeeze(target[0]).cpu().numpy())\n",
    "plt.ylabel('Target')\n",
    "plt.show()\n",
    "\n",
    "\n",
    "\n",
    "print(\"Target value: \", target[0, -1].item(), \" | Input Value: \", onehot[0, -1].item())\n",
    "\n",
    "# target = torch.unsqueeze(torch.unsqueeze(target[:, -1], 1), 1)\n",
    "print(target.size())\n",
    "\n",
    "output, _, _ = WaveVAE(onehot, mfcc, True)\n",
    "output = output.transpose(2,1)\n",
    "print(\"Tensors passed through model succesfully\", output.size())\n",
    "\n",
    "# reconstruction_loss = torch.mean(loss_fn(torch.squeeze(output), torch.squeeze(target)[:, 1:])[-1], 0)\n",
    "\n",
    "print(output[0, 4095:].contiguous().view(1, 256).size(), target[0, 4096:].contiguous().view(-1).size())\n",
    "print(torch.argmax(output[0, -1].squeeze()), target[0, -1].squeeze().item(), onehot[0, -1].squeeze().item())\n",
    "\n",
    "# reconstruction_loss = loss_fn(output[:, :, -1], target[:, :, -1])\n",
    "print(\"Reconstruction loss =\", reconstruction_loss.item())\n",
    "\n",
    "# onehot = torch.nn.functional.sigmoid(onehot[0, :, -1])\n",
    "# output = torch.nn.functional.sigmoid(output[0, :, -1])\n",
    "# onehotmax = torch.argmax(onehot)\n",
    "# outputmax = torch.argmax(output)\n",
    "\n",
    "print(onehot[0, :, -1].item(), output[0, :, -1].item(), target[0, :, -1].item())\n",
    "\n",
    "\n"
   ]
  },
  {
   "cell_type": "markdown",
   "metadata": {
    "tags": []
   },
   "source": [
    "# Start training"
   ]
  },
  {
   "cell_type": "code",
   "execution_count": null,
   "metadata": {},
   "outputs": [
    {
     "data": {
      "application/vnd.jupyter.widget-view+json": {
       "model_id": "035942ddfeac471fa3387ad84874c52c",
       "version_major": 2,
       "version_minor": 0
      },
      "text/plain": [
       "Training. Epoch: 0. Loss for step 1: n.v.t.:   0%|          | 0/6327 [00:00<?, ?it/s]"
      ]
     },
     "metadata": {},
     "output_type": "display_data"
    },
    {
     "data": {
      "application/vnd.jupyter.widget-view+json": {
       "model_id": "18e359eee6864a5591980eabcca0f63a",
       "version_major": 2,
       "version_minor": 0
      },
      "text/plain": [
       "Validating:   0%|          | 0/768 [00:00<?, ?it/s]"
      ]
     },
     "metadata": {},
     "output_type": "display_data"
    },
    {
     "data": {
      "application/vnd.jupyter.widget-view+json": {
       "model_id": "4ac26ca654554b7d8db7ad4b5faa0e15",
       "version_major": 2,
       "version_minor": 0
      },
      "text/plain": [
       "Validating:   0%|          | 0/768 [00:00<?, ?it/s]"
      ]
     },
     "metadata": {},
     "output_type": "display_data"
    },
    {
     "data": {
      "application/vnd.jupyter.widget-view+json": {
       "model_id": "5ab60236061a462e9e0cc352c8db763b",
       "version_major": 2,
       "version_minor": 0
      },
      "text/plain": [
       "Validating:   0%|          | 0/768 [00:00<?, ?it/s]"
      ]
     },
     "metadata": {},
     "output_type": "display_data"
    },
    {
     "data": {
      "application/vnd.jupyter.widget-view+json": {
       "model_id": "3e1fd67fbdfa45dfaa542b3f6a2c2fe1",
       "version_major": 2,
       "version_minor": 0
      },
      "text/plain": [
       "Validating:   0%|          | 0/768 [00:00<?, ?it/s]"
      ]
     },
     "metadata": {},
     "output_type": "display_data"
    },
    {
     "data": {
      "application/vnd.jupyter.widget-view+json": {
       "model_id": "2208ce70196f44788f33426af0dc901a",
       "version_major": 2,
       "version_minor": 0
      },
      "text/plain": [
       "Validating:   0%|          | 0/768 [00:00<?, ?it/s]"
      ]
     },
     "metadata": {},
     "output_type": "display_data"
    },
    {
     "data": {
      "application/vnd.jupyter.widget-view+json": {
       "model_id": "1e7b5f269d2d42a9b4c1e9465a299f4e",
       "version_major": 2,
       "version_minor": 0
      },
      "text/plain": [
       "Training. Epoch: 1. Loss for step 1: n.v.t.:   0%|          | 0/6327 [00:00<?, ?it/s]"
      ]
     },
     "metadata": {},
     "output_type": "display_data"
    },
    {
     "data": {
      "application/vnd.jupyter.widget-view+json": {
       "model_id": "583eef1beccf494cbe1e93d860a32a2a",
       "version_major": 2,
       "version_minor": 0
      },
      "text/plain": [
       "Validating:   0%|          | 0/768 [00:00<?, ?it/s]"
      ]
     },
     "metadata": {},
     "output_type": "display_data"
    },
    {
     "data": {
      "application/vnd.jupyter.widget-view+json": {
       "model_id": "c9ace465137d4efa9a9c9ad2980e5f83",
       "version_major": 2,
       "version_minor": 0
      },
      "text/plain": [
       "Validating:   0%|          | 0/768 [00:00<?, ?it/s]"
      ]
     },
     "metadata": {},
     "output_type": "display_data"
    },
    {
     "data": {
      "application/vnd.jupyter.widget-view+json": {
       "model_id": "898cc605f58f4e11a98e8001afcfd700",
       "version_major": 2,
       "version_minor": 0
      },
      "text/plain": [
       "Validating:   0%|          | 0/768 [00:00<?, ?it/s]"
      ]
     },
     "metadata": {},
     "output_type": "display_data"
    },
    {
     "data": {
      "application/vnd.jupyter.widget-view+json": {
       "model_id": "254cfe4ace204bb0a1f21fc1972da29e",
       "version_major": 2,
       "version_minor": 0
      },
      "text/plain": [
       "Validating:   0%|          | 0/768 [00:00<?, ?it/s]"
      ]
     },
     "metadata": {},
     "output_type": "display_data"
    },
    {
     "data": {
      "application/vnd.jupyter.widget-view+json": {
       "model_id": "244db3232bb846d5b8bf0029b46b26e4",
       "version_major": 2,
       "version_minor": 0
      },
      "text/plain": [
       "Validating:   0%|          | 0/768 [00:00<?, ?it/s]"
      ]
     },
     "metadata": {},
     "output_type": "display_data"
    },
    {
     "data": {
      "application/vnd.jupyter.widget-view+json": {
       "model_id": "53b5991d4c4b4f16aae93400a3403f17",
       "version_major": 2,
       "version_minor": 0
      },
      "text/plain": [
       "Training. Epoch: 2. Loss for step 1: n.v.t.:   0%|          | 0/6327 [00:00<?, ?it/s]"
      ]
     },
     "metadata": {},
     "output_type": "display_data"
    },
    {
     "data": {
      "application/vnd.jupyter.widget-view+json": {
       "model_id": "f01369ad4a6c437d981e89583fa22667",
       "version_major": 2,
       "version_minor": 0
      },
      "text/plain": [
       "Validating:   0%|          | 0/768 [00:00<?, ?it/s]"
      ]
     },
     "metadata": {},
     "output_type": "display_data"
    },
    {
     "data": {
      "application/vnd.jupyter.widget-view+json": {
       "model_id": "ed690cce515044139007a109f8d761a8",
       "version_major": 2,
       "version_minor": 0
      },
      "text/plain": [
       "Validating:   0%|          | 0/768 [00:00<?, ?it/s]"
      ]
     },
     "metadata": {},
     "output_type": "display_data"
    },
    {
     "data": {
      "application/vnd.jupyter.widget-view+json": {
       "model_id": "a3b593d3b0dd427197fb4b78dcd19f44",
       "version_major": 2,
       "version_minor": 0
      },
      "text/plain": [
       "Validating:   0%|          | 0/768 [00:00<?, ?it/s]"
      ]
     },
     "metadata": {},
     "output_type": "display_data"
    },
    {
     "data": {
      "application/vnd.jupyter.widget-view+json": {
       "model_id": "9877867715d44b3586c5e29a13728360",
       "version_major": 2,
       "version_minor": 0
      },
      "text/plain": [
       "Validating:   0%|          | 0/768 [00:00<?, ?it/s]"
      ]
     },
     "metadata": {},
     "output_type": "display_data"
    },
    {
     "data": {
      "application/vnd.jupyter.widget-view+json": {
       "model_id": "e803690dccaa4606abb73f1b6fdbf8aa",
       "version_major": 2,
       "version_minor": 0
      },
      "text/plain": [
       "Validating:   0%|          | 0/768 [00:00<?, ?it/s]"
      ]
     },
     "metadata": {},
     "output_type": "display_data"
    },
    {
     "data": {
      "application/vnd.jupyter.widget-view+json": {
       "model_id": "73cd954d188b442faeb8c1e47afcf223",
       "version_major": 2,
       "version_minor": 0
      },
      "text/plain": [
       "Training. Epoch: 3. Loss for step 1: n.v.t.:   0%|          | 0/6327 [00:00<?, ?it/s]"
      ]
     },
     "metadata": {},
     "output_type": "display_data"
    }
   ],
   "source": [
    "from models.WaveNetVAE.train import train\n",
    "from torch.utils.tensorboard import SummaryWriter\n",
    "import warnings\n",
    "warnings.filterwarnings(\"ignore\")\n",
    "writer = SummaryWriter()\n",
    "\n",
    "train(WaveVAE, VAEDataloader, val_VAEDataloader,\n",
    "      writer = writer,\n",
    "      learning_rate = 0.00001,\n",
    "      epoch_amount = 100,\n",
    "      logs_per_epoch = 5,\n",
    "      kl_anneal = 0.01,\n",
    "      max_kl = 0.5,\n",
    "      device = device)\n"
   ]
  },
  {
   "cell_type": "code",
   "execution_count": 3,
   "metadata": {},
   "outputs": [],
   "source": [
    "torch.save(WaveVAE.state_dict(), './modeltest')"
   ]
  },
  {
   "cell_type": "markdown",
   "metadata": {},
   "source": [
    "# Generate Audio"
   ]
  },
  {
   "cell_type": "code",
   "execution_count": 1,
   "metadata": {},
   "outputs": [
    {
     "name": "stdout",
     "output_type": "stream",
     "text": [
      "WaveNet Receptive Field:  4093\n"
     ]
    },
    {
     "data": {
      "text/plain": [
       "<All keys matched successfully>"
      ]
     },
     "execution_count": 1,
     "metadata": {},
     "output_type": "execute_result"
    }
   ],
   "source": [
    "from models.WaveNetVAE.WaveVae import WaveNetVAE\n",
    "from models.WaveNetVAE.WVData import WVDataset\n",
    "import torch\n",
    "from torch.utils.data import DataLoader\n",
    "import warnings\n",
    "warnings.filterwarnings(\"ignore\")\n",
    "\n",
    "\"\"\"\n",
    "Hyperparameters\n",
    "\"\"\"\n",
    "\n",
    "learning_rate = 0.000001\n",
    "batchsize = 4\n",
    "device='cuda:2'\n",
    "input_size = (40, 112)\n",
    "upsamples = [2, 2, 2, 2, 2, 2, 2, 2]\n",
    "zsize = 32\n",
    "\n",
    "WaveVAE = WaveNetVAE(input_size,\n",
    "                     num_hiddens = 768,\n",
    "                     upsamples = upsamples,\n",
    "                     zsize = zsize,\n",
    "                    out_channels = 256)\n",
    "\n",
    "WaveVAE.to(device)\n",
    "\n",
    "WaveVAE.load_state_dict(torch.load('./models/WaveNetVAE/exports/2023-05-040'))"
   ]
  },
  {
   "cell_type": "code",
   "execution_count": null,
   "metadata": {
    "collapsed": false,
    "jupyter": {
     "outputs_hidden": false
    }
   },
   "outputs": [
    {
     "data": {
      "application/vnd.jupyter.widget-view+json": {
       "model_id": "4becb43a85104f4ea76e453dea3c8563",
       "version_major": 2,
       "version_minor": 0
      },
      "text/plain": [
       "Loading and preprocessing files to dataset.:   0%|          | 0/1 [00:00<?, ?it/s]"
      ]
     },
     "metadata": {},
     "output_type": "display_data"
    },
    {
     "data": {
      "application/vnd.jupyter.widget-view+json": {
       "model_id": "",
       "version_major": 2,
       "version_minor": 0
      },
      "text/plain": [
       "  0%|          | 0/4096 [00:00<?, ?it/s]"
      ]
     },
     "metadata": {},
     "output_type": "display_data"
    },
    {
     "name": "stdout",
     "output_type": "stream",
     "text": [
      "torch.Size([1, 1, 4096])\n"
     ]
    },
    {
     "data": {
      "application/vnd.jupyter.widget-view+json": {
       "model_id": "97e768bb9c404f6e93211edb30e2505e",
       "version_major": 2,
       "version_minor": 0
      },
      "text/plain": [
       "  0%|          | 0/4096 [00:00<?, ?it/s]"
      ]
     },
     "metadata": {},
     "output_type": "display_data"
    },
    {
     "name": "stdout",
     "output_type": "stream",
     "text": [
      "torch.Size([1, 4096]) torch.Size([1, 1])\n"
     ]
    }
   ],
   "source": [
    "val_VAEDataset = WVDataset(audio_path = \"../ConvDenoiser_Old/testdata\",\n",
    "                       length = 4096,\n",
    "                       skip_size = 1,\n",
    "                       sample_rate = 24000,\n",
    "                       max_files = 1,\n",
    "                       hop_length = 128)\n",
    "\n",
    "val_VAEDataloader = DataLoader(val_VAEDataset,\n",
    "                           batch_size = 1,\n",
    "                           shuffle = False)\n",
    "with torch.no_grad():\n",
    "    generated_audio = WaveVAE.inference(val_VAEDataloader, size = 4096, device = device)"
   ]
  },
  {
   "cell_type": "code",
   "execution_count": 3,
   "metadata": {},
   "outputs": [
    {
     "name": "stdout",
     "output_type": "stream",
     "text": [
      "torch.Size([1, 8192])\n"
     ]
    },
    {
     "data": {
      "text/html": [
       "\n",
       "                <audio  controls=\"controls\" >\n",
       "                    <source src=\"data:audio/wav;base64,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\" type=\"audio/wav\" />\n",
       "                    Your browser does not support the audio element.\n",
       "                </audio>\n",
       "              "
      ],
      "text/plain": [
       "<IPython.lib.display.Audio object>"
      ]
     },
     "metadata": {},
     "output_type": "display_data"
    }
   ],
   "source": [
    "import IPython\n",
    "print(generated_audio.size())\n",
    "generated_audio_proc = generated_audio\n",
    "IPython.display.display(IPython.display.Audio(generated_audio_proc.squeeze().detach().cpu().numpy(), rate = 24000))"
   ]
  },
  {
   "cell_type": "code",
   "execution_count": 5,
   "metadata": {},
   "outputs": [
    {
     "name": "stdout",
     "output_type": "stream",
     "text": [
      "torch.Size([1, 4096])\n"
     ]
    },
    {
     "data": {
      "image/png": "[encoded data removed]",
      "text/plain": [
       "<Figure size 640x480 with 1 Axes>"
      ]
     },
     "metadata": {},
     "output_type": "display_data"
    },
    {
     "data": {
      "image/png": "[encoded data removed]",
      "text/plain": [
       "<Figure size 640x480 with 1 Axes>"
      ]
     },
     "metadata": {},
     "output_type": "display_data"
    }
   ],
   "source": [
    "onehot, mfcc, target = next(iter(val_VAEDataloader))\n",
    "\n",
    "import matplotlib.pyplot as plt\n",
    "print(onehot[:, -4096:].size())\n",
    "plt.plot(torch.squeeze(onehot[:, -4096:]).numpy())\n",
    "plt.ylabel('some numbers')\n",
    "plt.show()\n",
    "\n",
    "plt.plot(torch.squeeze(generated_audio_proc.cpu()).numpy())\n",
    "plt.ylabel('some numbers')\n",
    "plt.show()"
   ]
  },
  {
   "cell_type": "code",
   "execution_count": 8,
   "metadata": {},
   "outputs": [
    {
     "name": "stdout",
     "output_type": "stream",
     "text": [
      "Collecting matplotlib\n",
      "  Downloading matplotlib-3.7.1-cp310-cp310-manylinux_2_17_x86_64.manylinux2014_x86_64.whl (11.6 MB)\n",
      "\u001b[2K     \u001b[90m━━━━━━━━━━━━━━━━━━━━━━━━━━━━━━━━━━━━━━━━\u001b[0m \u001b[32m11.6/11.6 MB\u001b[0m \u001b[31m55.4 MB/s\u001b[0m eta \u001b[36m0:00:00\u001b[0m00:01\u001b[0m00:01\u001b[0m\n",
      "\u001b[?25hCollecting pyparsing>=2.3.1\n",
      "  Using cached pyparsing-3.0.9-py3-none-any.whl (98 kB)\n",
      "Requirement already satisfied: pillow>=6.2.0 in /data/wouter.besse/miniconda3/envs/myenv/lib/python3.10/site-packages (from matplotlib) (9.4.0)\n",
      "Collecting contourpy>=1.0.1\n",
      "  Downloading contourpy-1.0.7-cp310-cp310-manylinux_2_17_x86_64.manylinux2014_x86_64.whl (300 kB)\n",
      "\u001b[2K     \u001b[90m━━━━━━━━━━━━━━━━━━━━━━━━━━━━━━━━━━━━━━\u001b[0m \u001b[32m300.3/300.3 kB\u001b[0m \u001b[31m69.9 MB/s\u001b[0m eta \u001b[36m0:00:00\u001b[0m\n",
      "\u001b[?25hCollecting kiwisolver>=1.0.1\n",
      "  Downloading kiwisolver-1.4.4-cp310-cp310-manylinux_2_12_x86_64.manylinux2010_x86_64.whl (1.6 MB)\n",
      "\u001b[2K     \u001b[90m━━━━━━━━━━━━━━━━━━━━━━━━━━━━━━━━━━━━━━━━\u001b[0m \u001b[32m1.6/1.6 MB\u001b[0m \u001b[31m73.2 MB/s\u001b[0m eta \u001b[36m0:00:00\u001b[0m\n",
      "\u001b[?25hCollecting fonttools>=4.22.0\n",
      "  Downloading fonttools-4.39.3-py3-none-any.whl (1.0 MB)\n",
      "\u001b[2K     \u001b[90m━━━━━━━━━━━━━━━━━━━━━━━━━━━━━━━━━━━━━━━━\u001b[0m \u001b[32m1.0/1.0 MB\u001b[0m \u001b[31m82.3 MB/s\u001b[0m eta \u001b[36m0:00:00\u001b[0m\n",
      "\u001b[?25hRequirement already satisfied: packaging>=20.0 in /data/wouter.besse/miniconda3/envs/myenv/lib/python3.10/site-packages (from matplotlib) (23.0)\n",
      "Requirement already satisfied: numpy>=1.20 in /data/wouter.besse/miniconda3/envs/myenv/lib/python3.10/site-packages (from matplotlib) (1.23.5)\n",
      "Requirement already satisfied: python-dateutil>=2.7 in /data/wouter.besse/miniconda3/envs/myenv/lib/python3.10/site-packages (from matplotlib) (2.8.2)\n",
      "Collecting cycler>=0.10\n",
      "  Using cached cycler-0.11.0-py3-none-any.whl (6.4 kB)\n",
      "Requirement already satisfied: six>=1.5 in /data/wouter.besse/miniconda3/envs/myenv/lib/python3.10/site-packages (from python-dateutil>=2.7->matplotlib) (1.16.0)\n",
      "Installing collected packages: pyparsing, kiwisolver, fonttools, cycler, contourpy, matplotlib\n",
      "Successfully installed contourpy-1.0.7 cycler-0.11.0 fonttools-4.39.3 kiwisolver-1.4.4 matplotlib-3.7.1 pyparsing-3.0.9\n",
      "Note: you may need to restart the kernel to use updated packages.\n"
     ]
    }
   ],
   "source": [
    "%pip install matplotlib\n"
   ]
  },
  {
   "cell_type": "code",
   "execution_count": null,
   "metadata": {},
   "outputs": [],
   "source": []
  }
 ],
 "metadata": {
  "kernelspec": {
   "display_name": "Python 3 (ipykernel)",
   "language": "python",
   "name": "python3"
  },
  "language_info": {
   "codemirror_mode": {
    "name": "ipython",
    "version": 3
   },
   "file_extension": ".py",
   "mimetype": "text/x-python",
   "name": "python",
   "nbconvert_exporter": "python",
   "pygments_lexer": "ipython3",
   "version": "3.10.11"
  }
 },
 "nbformat": 4,
 "nbformat_minor": 4
}
