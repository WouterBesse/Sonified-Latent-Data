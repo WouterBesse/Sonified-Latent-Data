{
 "cells": [
  {
   "cell_type": "markdown",
   "metadata": {},
   "source": [
    "# Set up model and hyperparameters"
   ]
  },
  {
   "cell_type": "code",
   "execution_count": 1,
   "metadata": {
    "ExecuteTime": {
     "end_time": "2023-04-28T14:39:27.284644Z",
     "start_time": "2023-04-28T14:31:43.713167Z"
    },
    "collapsed": false,
    "jupyter": {
     "outputs_hidden": false
    },
    "tags": []
   },
   "outputs": [
    {
     "name": "stdout",
     "output_type": "stream",
     "text": [
      "WaveNet Receptive Field:  4093\n"
     ]
    },
    {
     "data": {
      "application/vnd.jupyter.widget-view+json": {
       "model_id": "715f4695faae475bb362c9de58cc40d9",
       "version_major": 2,
       "version_minor": 0
      },
      "text/plain": [
       "Loading and preprocessing files to dataset.:   0%|          | 0/300 [00:00<?, ?it/s]"
      ]
     },
     "metadata": {},
     "output_type": "display_data"
    },
    {
     "data": {
      "application/vnd.jupyter.widget-view+json": {
       "model_id": "",
       "version_major": 2,
       "version_minor": 0
      },
      "text/plain": [
       "  0%|          | 0/27 [00:00<?, ?it/s]"
      ]
     },
     "metadata": {},
     "output_type": "display_data"
    },
    {
     "data": {
      "application/vnd.jupyter.widget-view+json": {
       "model_id": "",
       "version_major": 2,
       "version_minor": 0
      },
      "text/plain": [
       "  0%|          | 0/56 [00:00<?, ?it/s]"
      ]
     },
     "metadata": {},
     "output_type": "display_data"
    },
    {
     "data": {
      "application/vnd.jupyter.widget-view+json": {
       "model_id": "",
       "version_major": 2,
       "version_minor": 0
      },
      "text/plain": [
       "  0%|          | 0/32 [00:00<?, ?it/s]"
      ]
     },
     "metadata": {},
     "output_type": "display_data"
    },
    {
     "data": {
      "application/vnd.jupyter.widget-view+json": {
       "model_id": "",
       "version_major": 2,
       "version_minor": 0
      },
      "text/plain": [
       "  0%|          | 0/30 [00:00<?, ?it/s]"
      ]
     },
     "metadata": {},
     "output_type": "display_data"
    },
    {
     "data": {
      "application/vnd.jupyter.widget-view+json": {
       "model_id": "",
       "version_major": 2,
       "version_minor": 0
      },
      "text/plain": [
       "  0%|          | 0/27 [00:00<?, ?it/s]"
      ]
     },
     "metadata": {},
     "output_type": "display_data"
    },
    {
     "data": {
      "application/vnd.jupyter.widget-view+json": {
       "model_id": "",
       "version_major": 2,
       "version_minor": 0
      },
      "text/plain": [
       "  0%|          | 0/35 [00:00<?, ?it/s]"
      ]
     },
     "metadata": {},
     "output_type": "display_data"
    },
    {
     "data": {
      "application/vnd.jupyter.widget-view+json": {
       "model_id": "",
       "version_major": 2,
       "version_minor": 0
      },
      "text/plain": [
       "  0%|          | 0/27 [00:00<?, ?it/s]"
      ]
     },
     "metadata": {},
     "output_type": "display_data"
    },
    {
     "data": {
      "application/vnd.jupyter.widget-view+json": {
       "model_id": "",
       "version_major": 2,
       "version_minor": 0
      },
      "text/plain": [
       "  0%|          | 0/57 [00:00<?, ?it/s]"
      ]
     },
     "metadata": {},
     "output_type": "display_data"
    },
    {
     "data": {
      "application/vnd.jupyter.widget-view+json": {
       "model_id": "",
       "version_major": 2,
       "version_minor": 0
      },
      "text/plain": [
       "  0%|          | 0/43 [00:00<?, ?it/s]"
      ]
     },
     "metadata": {},
     "output_type": "display_data"
    },
    {
     "data": {
      "application/vnd.jupyter.widget-view+json": {
       "model_id": "",
       "version_major": 2,
       "version_minor": 0
      },
      "text/plain": [
       "  0%|          | 0/72 [00:00<?, ?it/s]"
      ]
     },
     "metadata": {},
     "output_type": "display_data"
    },
    {
     "data": {
      "application/vnd.jupyter.widget-view+json": {
       "model_id": "",
       "version_major": 2,
       "version_minor": 0
      },
      "text/plain": [
       "  0%|          | 0/30 [00:00<?, ?it/s]"
      ]
     },
     "metadata": {},
     "output_type": "display_data"
    },
    {
     "data": {
      "application/vnd.jupyter.widget-view+json": {
       "model_id": "",
       "version_major": 2,
       "version_minor": 0
      },
      "text/plain": [
       "  0%|          | 0/49 [00:00<?, ?it/s]"
      ]
     },
     "metadata": {},
     "output_type": "display_data"
    },
    {
     "data": {
      "application/vnd.jupyter.widget-view+json": {
       "model_id": "",
       "version_major": 2,
       "version_minor": 0
      },
      "text/plain": [
       "  0%|          | 0/40 [00:00<?, ?it/s]"
      ]
     },
     "metadata": {},
     "output_type": "display_data"
    },
    {
     "data": {
      "application/vnd.jupyter.widget-view+json": {
       "model_id": "",
       "version_major": 2,
       "version_minor": 0
      },
      "text/plain": [
       "  0%|          | 0/78 [00:00<?, ?it/s]"
      ]
     },
     "metadata": {},
     "output_type": "display_data"
    },
    {
     "data": {
      "application/vnd.jupyter.widget-view+json": {
       "model_id": "",
       "version_major": 2,
       "version_minor": 0
      },
      "text/plain": [
       "  0%|          | 0/79 [00:00<?, ?it/s]"
      ]
     },
     "metadata": {},
     "output_type": "display_data"
    },
    {
     "data": {
      "application/vnd.jupyter.widget-view+json": {
       "model_id": "",
       "version_major": 2,
       "version_minor": 0
      },
      "text/plain": [
       "  0%|          | 0/35 [00:00<?, ?it/s]"
      ]
     },
     "metadata": {},
     "output_type": "display_data"
    },
    {
     "data": {
      "application/vnd.jupyter.widget-view+json": {
       "model_id": "",
       "version_major": 2,
       "version_minor": 0
      },
      "text/plain": [
       "  0%|          | 0/22 [00:00<?, ?it/s]"
      ]
     },
     "metadata": {},
     "output_type": "display_data"
    },
    {
     "data": {
      "application/vnd.jupyter.widget-view+json": {
       "model_id": "",
       "version_major": 2,
       "version_minor": 0
      },
      "text/plain": [
       "  0%|          | 0/61 [00:00<?, ?it/s]"
      ]
     },
     "metadata": {},
     "output_type": "display_data"
    },
    {
     "data": {
      "application/vnd.jupyter.widget-view+json": {
       "model_id": "",
       "version_major": 2,
       "version_minor": 0
      },
      "text/plain": [
       "  0%|          | 0/36 [00:00<?, ?it/s]"
      ]
     },
     "metadata": {},
     "output_type": "display_data"
    },
    {
     "data": {
      "application/vnd.jupyter.widget-view+json": {
       "model_id": "",
       "version_major": 2,
       "version_minor": 0
      },
      "text/plain": [
       "  0%|          | 0/28 [00:00<?, ?it/s]"
      ]
     },
     "metadata": {},
     "output_type": "display_data"
    },
    {
     "data": {
      "application/vnd.jupyter.widget-view+json": {
       "model_id": "",
       "version_major": 2,
       "version_minor": 0
      },
      "text/plain": [
       "  0%|          | 0/20 [00:00<?, ?it/s]"
      ]
     },
     "metadata": {},
     "output_type": "display_data"
    },
    {
     "data": {
      "application/vnd.jupyter.widget-view+json": {
       "model_id": "",
       "version_major": 2,
       "version_minor": 0
      },
      "text/plain": [
       "  0%|          | 0/26 [00:00<?, ?it/s]"
      ]
     },
     "metadata": {},
     "output_type": "display_data"
    },
    {
     "data": {
      "application/vnd.jupyter.widget-view+json": {
       "model_id": "",
       "version_major": 2,
       "version_minor": 0
      },
      "text/plain": [
       "  0%|          | 0/16 [00:00<?, ?it/s]"
      ]
     },
     "metadata": {},
     "output_type": "display_data"
    },
    {
     "data": {
      "application/vnd.jupyter.widget-view+json": {
       "model_id": "",
       "version_major": 2,
       "version_minor": 0
      },
      "text/plain": [
       "  0%|          | 0/69 [00:00<?, ?it/s]"
      ]
     },
     "metadata": {},
     "output_type": "display_data"
    },
    {
     "data": {
      "application/vnd.jupyter.widget-view+json": {
       "model_id": "",
       "version_major": 2,
       "version_minor": 0
      },
      "text/plain": [
       "  0%|          | 0/43 [00:00<?, ?it/s]"
      ]
     },
     "metadata": {},
     "output_type": "display_data"
    },
    {
     "data": {
      "application/vnd.jupyter.widget-view+json": {
       "model_id": "",
       "version_major": 2,
       "version_minor": 0
      },
      "text/plain": [
       "  0%|          | 0/20 [00:00<?, ?it/s]"
      ]
     },
     "metadata": {},
     "output_type": "display_data"
    },
    {
     "data": {
      "application/vnd.jupyter.widget-view+json": {
       "model_id": "",
       "version_major": 2,
       "version_minor": 0
      },
      "text/plain": [
       "  0%|          | 0/39 [00:00<?, ?it/s]"
      ]
     },
     "metadata": {},
     "output_type": "display_data"
    },
    {
     "data": {
      "application/vnd.jupyter.widget-view+json": {
       "model_id": "",
       "version_major": 2,
       "version_minor": 0
      },
      "text/plain": [
       "  0%|          | 0/32 [00:00<?, ?it/s]"
      ]
     },
     "metadata": {},
     "output_type": "display_data"
    },
    {
     "data": {
      "application/vnd.jupyter.widget-view+json": {
       "model_id": "",
       "version_major": 2,
       "version_minor": 0
      },
      "text/plain": [
       "  0%|          | 0/47 [00:00<?, ?it/s]"
      ]
     },
     "metadata": {},
     "output_type": "display_data"
    },
    {
     "data": {
      "application/vnd.jupyter.widget-view+json": {
       "model_id": "",
       "version_major": 2,
       "version_minor": 0
      },
      "text/plain": [
       "  0%|          | 0/38 [00:00<?, ?it/s]"
      ]
     },
     "metadata": {},
     "output_type": "display_data"
    },
    {
     "data": {
      "application/vnd.jupyter.widget-view+json": {
       "model_id": "",
       "version_major": 2,
       "version_minor": 0
      },
      "text/plain": [
       "  0%|          | 0/53 [00:00<?, ?it/s]"
      ]
     },
     "metadata": {},
     "output_type": "display_data"
    },
    {
     "data": {
      "application/vnd.jupyter.widget-view+json": {
       "model_id": "",
       "version_major": 2,
       "version_minor": 0
      },
      "text/plain": [
       "  0%|          | 0/49 [00:00<?, ?it/s]"
      ]
     },
     "metadata": {},
     "output_type": "display_data"
    },
    {
     "data": {
      "application/vnd.jupyter.widget-view+json": {
       "model_id": "",
       "version_major": 2,
       "version_minor": 0
      },
      "text/plain": [
       "  0%|          | 0/11 [00:00<?, ?it/s]"
      ]
     },
     "metadata": {},
     "output_type": "display_data"
    },
    {
     "data": {
      "application/vnd.jupyter.widget-view+json": {
       "model_id": "",
       "version_major": 2,
       "version_minor": 0
      },
      "text/plain": [
       "  0%|          | 0/20 [00:00<?, ?it/s]"
      ]
     },
     "metadata": {},
     "output_type": "display_data"
    },
    {
     "data": {
      "application/vnd.jupyter.widget-view+json": {
       "model_id": "",
       "version_major": 2,
       "version_minor": 0
      },
      "text/plain": [
       "  0%|          | 0/8 [00:00<?, ?it/s]"
      ]
     },
     "metadata": {},
     "output_type": "display_data"
    },
    {
     "data": {
      "application/vnd.jupyter.widget-view+json": {
       "model_id": "",
       "version_major": 2,
       "version_minor": 0
      },
      "text/plain": [
       "  0%|          | 0/31 [00:00<?, ?it/s]"
      ]
     },
     "metadata": {},
     "output_type": "display_data"
    },
    {
     "data": {
      "application/vnd.jupyter.widget-view+json": {
       "model_id": "",
       "version_major": 2,
       "version_minor": 0
      },
      "text/plain": [
       "  0%|          | 0/35 [00:00<?, ?it/s]"
      ]
     },
     "metadata": {},
     "output_type": "display_data"
    },
    {
     "data": {
      "application/vnd.jupyter.widget-view+json": {
       "model_id": "",
       "version_major": 2,
       "version_minor": 0
      },
      "text/plain": [
       "  0%|          | 0/38 [00:00<?, ?it/s]"
      ]
     },
     "metadata": {},
     "output_type": "display_data"
    },
    {
     "data": {
      "application/vnd.jupyter.widget-view+json": {
       "model_id": "",
       "version_major": 2,
       "version_minor": 0
      },
      "text/plain": [
       "  0%|          | 0/66 [00:00<?, ?it/s]"
      ]
     },
     "metadata": {},
     "output_type": "display_data"
    },
    {
     "data": {
      "application/vnd.jupyter.widget-view+json": {
       "model_id": "",
       "version_major": 2,
       "version_minor": 0
      },
      "text/plain": [
       "  0%|          | 0/45 [00:00<?, ?it/s]"
      ]
     },
     "metadata": {},
     "output_type": "display_data"
    },
    {
     "data": {
      "application/vnd.jupyter.widget-view+json": {
       "model_id": "",
       "version_major": 2,
       "version_minor": 0
      },
      "text/plain": [
       "  0%|          | 0/52 [00:00<?, ?it/s]"
      ]
     },
     "metadata": {},
     "output_type": "display_data"
    },
    {
     "data": {
      "application/vnd.jupyter.widget-view+json": {
       "model_id": "",
       "version_major": 2,
       "version_minor": 0
      },
      "text/plain": [
       "  0%|          | 0/31 [00:00<?, ?it/s]"
      ]
     },
     "metadata": {},
     "output_type": "display_data"
    },
    {
     "data": {
      "application/vnd.jupyter.widget-view+json": {
       "model_id": "",
       "version_major": 2,
       "version_minor": 0
      },
      "text/plain": [
       "  0%|          | 0/37 [00:00<?, ?it/s]"
      ]
     },
     "metadata": {},
     "output_type": "display_data"
    },
    {
     "data": {
      "application/vnd.jupyter.widget-view+json": {
       "model_id": "",
       "version_major": 2,
       "version_minor": 0
      },
      "text/plain": [
       "  0%|          | 0/46 [00:00<?, ?it/s]"
      ]
     },
     "metadata": {},
     "output_type": "display_data"
    },
    {
     "data": {
      "application/vnd.jupyter.widget-view+json": {
       "model_id": "",
       "version_major": 2,
       "version_minor": 0
      },
      "text/plain": [
       "  0%|          | 0/27 [00:00<?, ?it/s]"
      ]
     },
     "metadata": {},
     "output_type": "display_data"
    },
    {
     "data": {
      "application/vnd.jupyter.widget-view+json": {
       "model_id": "",
       "version_major": 2,
       "version_minor": 0
      },
      "text/plain": [
       "  0%|          | 0/46 [00:00<?, ?it/s]"
      ]
     },
     "metadata": {},
     "output_type": "display_data"
    },
    {
     "data": {
      "application/vnd.jupyter.widget-view+json": {
       "model_id": "",
       "version_major": 2,
       "version_minor": 0
      },
      "text/plain": [
       "  0%|          | 0/90 [00:00<?, ?it/s]"
      ]
     },
     "metadata": {},
     "output_type": "display_data"
    },
    {
     "data": {
      "application/vnd.jupyter.widget-view+json": {
       "model_id": "",
       "version_major": 2,
       "version_minor": 0
      },
      "text/plain": [
       "  0%|          | 0/78 [00:00<?, ?it/s]"
      ]
     },
     "metadata": {},
     "output_type": "display_data"
    },
    {
     "data": {
      "application/vnd.jupyter.widget-view+json": {
       "model_id": "25f1fc625e5e47f5bf0472e9f048c9d4",
       "version_major": 2,
       "version_minor": 0
      },
      "text/plain": [
       "  0%|          | 0/75 [00:00<?, ?it/s]"
      ]
     },
     "metadata": {},
     "output_type": "display_data"
    },
    {
     "data": {
      "application/vnd.jupyter.widget-view+json": {
       "model_id": "03d7a994e7264355b28ced117224f990",
       "version_major": 2,
       "version_minor": 0
      },
      "text/plain": [
       "  0%|          | 0/80 [00:00<?, ?it/s]"
      ]
     },
     "metadata": {},
     "output_type": "display_data"
    },
    {
     "data": {
      "application/vnd.jupyter.widget-view+json": {
       "model_id": "1f494b7d31154c66995e7c15ea7f0984",
       "version_major": 2,
       "version_minor": 0
      },
      "text/plain": [
       "  0%|          | 0/3 [00:00<?, ?it/s]"
      ]
     },
     "metadata": {},
     "output_type": "display_data"
    },
    {
     "data": {
      "application/vnd.jupyter.widget-view+json": {
       "model_id": "645e2fb7b2034d7e83b4fa94dc6408a2",
       "version_major": 2,
       "version_minor": 0
      },
      "text/plain": [
       "  0%|          | 0/28 [00:00<?, ?it/s]"
      ]
     },
     "metadata": {},
     "output_type": "display_data"
    },
    {
     "data": {
      "application/vnd.jupyter.widget-view+json": {
       "model_id": "3082e6c28110426cb264dc16af19ae25",
       "version_major": 2,
       "version_minor": 0
      },
      "text/plain": [
       "  0%|          | 0/47 [00:00<?, ?it/s]"
      ]
     },
     "metadata": {},
     "output_type": "display_data"
    },
    {
     "data": {
      "application/vnd.jupyter.widget-view+json": {
       "model_id": "55c3a3f2f3d342929b29c2107167858e",
       "version_major": 2,
       "version_minor": 0
      },
      "text/plain": [
       "  0%|          | 0/64 [00:00<?, ?it/s]"
      ]
     },
     "metadata": {},
     "output_type": "display_data"
    },
    {
     "data": {
      "application/vnd.jupyter.widget-view+json": {
       "model_id": "e4c7b5f8b3544c77894394d5b80e19a8",
       "version_major": 2,
       "version_minor": 0
      },
      "text/plain": [
       "  0%|          | 0/55 [00:00<?, ?it/s]"
      ]
     },
     "metadata": {},
     "output_type": "display_data"
    },
    {
     "data": {
      "application/vnd.jupyter.widget-view+json": {
       "model_id": "2d972b43418843c6aec6fdc2520d9f64",
       "version_major": 2,
       "version_minor": 0
      },
      "text/plain": [
       "  0%|          | 0/28 [00:00<?, ?it/s]"
      ]
     },
     "metadata": {},
     "output_type": "display_data"
    },
    {
     "data": {
      "application/vnd.jupyter.widget-view+json": {
       "model_id": "c41b67f6c95a4c91b3953dd76c4297d4",
       "version_major": 2,
       "version_minor": 0
      },
      "text/plain": [
       "  0%|          | 0/32 [00:00<?, ?it/s]"
      ]
     },
     "metadata": {},
     "output_type": "display_data"
    },
    {
     "data": {
      "application/vnd.jupyter.widget-view+json": {
       "model_id": "28261d9559424664b10f3ca3fcbd6b1b",
       "version_major": 2,
       "version_minor": 0
      },
      "text/plain": [
       "  0%|          | 0/23 [00:00<?, ?it/s]"
      ]
     },
     "metadata": {},
     "output_type": "display_data"
    },
    {
     "data": {
      "application/vnd.jupyter.widget-view+json": {
       "model_id": "eefae47dfb10414fa9039d3186402f82",
       "version_major": 2,
       "version_minor": 0
      },
      "text/plain": [
       "  0%|          | 0/24 [00:00<?, ?it/s]"
      ]
     },
     "metadata": {},
     "output_type": "display_data"
    },
    {
     "data": {
      "application/vnd.jupyter.widget-view+json": {
       "model_id": "f150c86cd4544a918dbb846519b77fc9",
       "version_major": 2,
       "version_minor": 0
      },
      "text/plain": [
       "  0%|          | 0/41 [00:00<?, ?it/s]"
      ]
     },
     "metadata": {},
     "output_type": "display_data"
    },
    {
     "data": {
      "application/vnd.jupyter.widget-view+json": {
       "model_id": "a118c7d92e6a4aa983feda76ec03446b",
       "version_major": 2,
       "version_minor": 0
      },
      "text/plain": [
       "  0%|          | 0/60 [00:00<?, ?it/s]"
      ]
     },
     "metadata": {},
     "output_type": "display_data"
    },
    {
     "data": {
      "application/vnd.jupyter.widget-view+json": {
       "model_id": "88b5015dc4e944a4a5b19e89421d5e37",
       "version_major": 2,
       "version_minor": 0
      },
      "text/plain": [
       "  0%|          | 0/28 [00:00<?, ?it/s]"
      ]
     },
     "metadata": {},
     "output_type": "display_data"
    },
    {
     "data": {
      "application/vnd.jupyter.widget-view+json": {
       "model_id": "d5c7bf4654f143fc84c3424d13767b36",
       "version_major": 2,
       "version_minor": 0
      },
      "text/plain": [
       "  0%|          | 0/23 [00:00<?, ?it/s]"
      ]
     },
     "metadata": {},
     "output_type": "display_data"
    },
    {
     "data": {
      "application/vnd.jupyter.widget-view+json": {
       "model_id": "e7a4355055cf4415845494fee3d1e531",
       "version_major": 2,
       "version_minor": 0
      },
      "text/plain": [
       "  0%|          | 0/51 [00:00<?, ?it/s]"
      ]
     },
     "metadata": {},
     "output_type": "display_data"
    },
    {
     "data": {
      "application/vnd.jupyter.widget-view+json": {
       "model_id": "9fad6196d1024be8897bb0ac337dc6e0",
       "version_major": 2,
       "version_minor": 0
      },
      "text/plain": [
       "  0%|          | 0/25 [00:00<?, ?it/s]"
      ]
     },
     "metadata": {},
     "output_type": "display_data"
    },
    {
     "data": {
      "application/vnd.jupyter.widget-view+json": {
       "model_id": "c00b83a124314f548454c623c29c2c6a",
       "version_major": 2,
       "version_minor": 0
      },
      "text/plain": [
       "  0%|          | 0/34 [00:00<?, ?it/s]"
      ]
     },
     "metadata": {},
     "output_type": "display_data"
    },
    {
     "data": {
      "application/vnd.jupyter.widget-view+json": {
       "model_id": "85325e9640b84eecaf91742f35c4670f",
       "version_major": 2,
       "version_minor": 0
      },
      "text/plain": [
       "  0%|          | 0/99 [00:00<?, ?it/s]"
      ]
     },
     "metadata": {},
     "output_type": "display_data"
    },
    {
     "data": {
      "application/vnd.jupyter.widget-view+json": {
       "model_id": "e384743f3f59423083ae596e3413a02c",
       "version_major": 2,
       "version_minor": 0
      },
      "text/plain": [
       "  0%|          | 0/91 [00:00<?, ?it/s]"
      ]
     },
     "metadata": {},
     "output_type": "display_data"
    },
    {
     "data": {
      "application/vnd.jupyter.widget-view+json": {
       "model_id": "005158fbc5b24ec4b9daf56f08276b37",
       "version_major": 2,
       "version_minor": 0
      },
      "text/plain": [
       "  0%|          | 0/43 [00:00<?, ?it/s]"
      ]
     },
     "metadata": {},
     "output_type": "display_data"
    },
    {
     "data": {
      "application/vnd.jupyter.widget-view+json": {
       "model_id": "e10950ea949249598a27bef56f8351c7",
       "version_major": 2,
       "version_minor": 0
      },
      "text/plain": [
       "  0%|          | 0/54 [00:00<?, ?it/s]"
      ]
     },
     "metadata": {},
     "output_type": "display_data"
    },
    {
     "data": {
      "application/vnd.jupyter.widget-view+json": {
       "model_id": "25a09beea2284ddc93a5e2b5ab5dfc7f",
       "version_major": 2,
       "version_minor": 0
      },
      "text/plain": [
       "  0%|          | 0/52 [00:00<?, ?it/s]"
      ]
     },
     "metadata": {},
     "output_type": "display_data"
    },
    {
     "data": {
      "application/vnd.jupyter.widget-view+json": {
       "model_id": "ff3ced4189234859b10cdf5014632554",
       "version_major": 2,
       "version_minor": 0
      },
      "text/plain": [
       "  0%|          | 0/32 [00:00<?, ?it/s]"
      ]
     },
     "metadata": {},
     "output_type": "display_data"
    },
    {
     "data": {
      "application/vnd.jupyter.widget-view+json": {
       "model_id": "441acdb1a18a4d6db7bfc80f503f7b99",
       "version_major": 2,
       "version_minor": 0
      },
      "text/plain": [
       "  0%|          | 0/24 [00:00<?, ?it/s]"
      ]
     },
     "metadata": {},
     "output_type": "display_data"
    },
    {
     "data": {
      "application/vnd.jupyter.widget-view+json": {
       "model_id": "b3d36c7dda4b4e119b21f868e7015a8c",
       "version_major": 2,
       "version_minor": 0
      },
      "text/plain": [
       "  0%|          | 0/25 [00:00<?, ?it/s]"
      ]
     },
     "metadata": {},
     "output_type": "display_data"
    },
    {
     "data": {
      "application/vnd.jupyter.widget-view+json": {
       "model_id": "a23004ea9d484c229d4a7893c0d3003b",
       "version_major": 2,
       "version_minor": 0
      },
      "text/plain": [
       "  0%|          | 0/25 [00:00<?, ?it/s]"
      ]
     },
     "metadata": {},
     "output_type": "display_data"
    },
    {
     "data": {
      "application/vnd.jupyter.widget-view+json": {
       "model_id": "72d4f6b6887d4ee6b723496e321c6fd6",
       "version_major": 2,
       "version_minor": 0
      },
      "text/plain": [
       "  0%|          | 0/32 [00:00<?, ?it/s]"
      ]
     },
     "metadata": {},
     "output_type": "display_data"
    },
    {
     "data": {
      "application/vnd.jupyter.widget-view+json": {
       "model_id": "983043bbda864cdba4d89d025b9637f5",
       "version_major": 2,
       "version_minor": 0
      },
      "text/plain": [
       "  0%|          | 0/21 [00:00<?, ?it/s]"
      ]
     },
     "metadata": {},
     "output_type": "display_data"
    },
    {
     "data": {
      "application/vnd.jupyter.widget-view+json": {
       "model_id": "e4eb31880f534e52a624b4056c5c9735",
       "version_major": 2,
       "version_minor": 0
      },
      "text/plain": [
       "  0%|          | 0/41 [00:00<?, ?it/s]"
      ]
     },
     "metadata": {},
     "output_type": "display_data"
    },
    {
     "data": {
      "application/vnd.jupyter.widget-view+json": {
       "model_id": "f57d0358902b46e5b0c8ec7c10cc6369",
       "version_major": 2,
       "version_minor": 0
      },
      "text/plain": [
       "  0%|          | 0/38 [00:00<?, ?it/s]"
      ]
     },
     "metadata": {},
     "output_type": "display_data"
    },
    {
     "data": {
      "application/vnd.jupyter.widget-view+json": {
       "model_id": "b5ead82595b443c597ff782a932f19d2",
       "version_major": 2,
       "version_minor": 0
      },
      "text/plain": [
       "  0%|          | 0/8 [00:00<?, ?it/s]"
      ]
     },
     "metadata": {},
     "output_type": "display_data"
    },
    {
     "data": {
      "application/vnd.jupyter.widget-view+json": {
       "model_id": "2480e048d6024526b4878c104dc57401",
       "version_major": 2,
       "version_minor": 0
      },
      "text/plain": [
       "  0%|          | 0/26 [00:00<?, ?it/s]"
      ]
     },
     "metadata": {},
     "output_type": "display_data"
    },
    {
     "data": {
      "application/vnd.jupyter.widget-view+json": {
       "model_id": "001cbd95df264a21ad784c092dc5ef41",
       "version_major": 2,
       "version_minor": 0
      },
      "text/plain": [
       "  0%|          | 0/61 [00:00<?, ?it/s]"
      ]
     },
     "metadata": {},
     "output_type": "display_data"
    },
    {
     "data": {
      "application/vnd.jupyter.widget-view+json": {
       "model_id": "6c1f0e1a32be4806b90928287167916f",
       "version_major": 2,
       "version_minor": 0
      },
      "text/plain": [
       "  0%|          | 0/42 [00:00<?, ?it/s]"
      ]
     },
     "metadata": {},
     "output_type": "display_data"
    },
    {
     "data": {
      "application/vnd.jupyter.widget-view+json": {
       "model_id": "bae21dc7ea6048d49603389081798263",
       "version_major": 2,
       "version_minor": 0
      },
      "text/plain": [
       "  0%|          | 0/39 [00:00<?, ?it/s]"
      ]
     },
     "metadata": {},
     "output_type": "display_data"
    },
    {
     "data": {
      "application/vnd.jupyter.widget-view+json": {
       "model_id": "7fed155c21494245bcbbdcd341c75ff5",
       "version_major": 2,
       "version_minor": 0
      },
      "text/plain": [
       "  0%|          | 0/18 [00:00<?, ?it/s]"
      ]
     },
     "metadata": {},
     "output_type": "display_data"
    },
    {
     "data": {
      "application/vnd.jupyter.widget-view+json": {
       "model_id": "6b8b4810bdd84fdc8279b880bda59627",
       "version_major": 2,
       "version_minor": 0
      },
      "text/plain": [
       "  0%|          | 0/58 [00:00<?, ?it/s]"
      ]
     },
     "metadata": {},
     "output_type": "display_data"
    },
    {
     "data": {
      "application/vnd.jupyter.widget-view+json": {
       "model_id": "c3ad2fa80b8c4af7ad993e8c270d921d",
       "version_major": 2,
       "version_minor": 0
      },
      "text/plain": [
       "  0%|          | 0/35 [00:00<?, ?it/s]"
      ]
     },
     "metadata": {},
     "output_type": "display_data"
    },
    {
     "data": {
      "application/vnd.jupyter.widget-view+json": {
       "model_id": "446b5ca47c724e12ba630278924494b3",
       "version_major": 2,
       "version_minor": 0
      },
      "text/plain": [
       "  0%|          | 0/42 [00:00<?, ?it/s]"
      ]
     },
     "metadata": {},
     "output_type": "display_data"
    },
    {
     "data": {
      "application/vnd.jupyter.widget-view+json": {
       "model_id": "0035adf3a09e4b74aee4028e32745dc8",
       "version_major": 2,
       "version_minor": 0
      },
      "text/plain": [
       "  0%|          | 0/53 [00:00<?, ?it/s]"
      ]
     },
     "metadata": {},
     "output_type": "display_data"
    },
    {
     "data": {
      "application/vnd.jupyter.widget-view+json": {
       "model_id": "38cb9774c9cd4de5b3d6e73626639231",
       "version_major": 2,
       "version_minor": 0
      },
      "text/plain": [
       "  0%|          | 0/98 [00:00<?, ?it/s]"
      ]
     },
     "metadata": {},
     "output_type": "display_data"
    },
    {
     "data": {
      "application/vnd.jupyter.widget-view+json": {
       "model_id": "d713fcaea19940a78c76baff00ee89d6",
       "version_major": 2,
       "version_minor": 0
      },
      "text/plain": [
       "  0%|          | 0/30 [00:00<?, ?it/s]"
      ]
     },
     "metadata": {},
     "output_type": "display_data"
    },
    {
     "data": {
      "application/vnd.jupyter.widget-view+json": {
       "model_id": "9576a15a685d419385533cdc71b934c7",
       "version_major": 2,
       "version_minor": 0
      },
      "text/plain": [
       "  0%|          | 0/43 [00:00<?, ?it/s]"
      ]
     },
     "metadata": {},
     "output_type": "display_data"
    },
    {
     "data": {
      "application/vnd.jupyter.widget-view+json": {
       "model_id": "9f6c3986e60d4072b235e5eeb58dda07",
       "version_major": 2,
       "version_minor": 0
      },
      "text/plain": [
       "  0%|          | 0/49 [00:00<?, ?it/s]"
      ]
     },
     "metadata": {},
     "output_type": "display_data"
    },
    {
     "data": {
      "application/vnd.jupyter.widget-view+json": {
       "model_id": "91dbd5f6560a4dba83cef0d580ea1963",
       "version_major": 2,
       "version_minor": 0
      },
      "text/plain": [
       "  0%|          | 0/55 [00:00<?, ?it/s]"
      ]
     },
     "metadata": {},
     "output_type": "display_data"
    },
    {
     "data": {
      "application/vnd.jupyter.widget-view+json": {
       "model_id": "3ec55b08aa5c4f9a8389dc43a1038a61",
       "version_major": 2,
       "version_minor": 0
      },
      "text/plain": [
       "  0%|          | 0/62 [00:00<?, ?it/s]"
      ]
     },
     "metadata": {},
     "output_type": "display_data"
    },
    {
     "data": {
      "application/vnd.jupyter.widget-view+json": {
       "model_id": "33c0f3dd5a3441aeaa509d7999729e33",
       "version_major": 2,
       "version_minor": 0
      },
      "text/plain": [
       "  0%|          | 0/48 [00:00<?, ?it/s]"
      ]
     },
     "metadata": {},
     "output_type": "display_data"
    },
    {
     "data": {
      "application/vnd.jupyter.widget-view+json": {
       "model_id": "f36c28579ff34ea3b276ed38315cc87e",
       "version_major": 2,
       "version_minor": 0
      },
      "text/plain": [
       "  0%|          | 0/25 [00:00<?, ?it/s]"
      ]
     },
     "metadata": {},
     "output_type": "display_data"
    },
    {
     "data": {
      "application/vnd.jupyter.widget-view+json": {
       "model_id": "301967b6aa9a414d87dcc26c60fdb615",
       "version_major": 2,
       "version_minor": 0
      },
      "text/plain": [
       "  0%|          | 0/61 [00:00<?, ?it/s]"
      ]
     },
     "metadata": {},
     "output_type": "display_data"
    },
    {
     "data": {
      "application/vnd.jupyter.widget-view+json": {
       "model_id": "48f35784ab7a478ab5764e753806082f",
       "version_major": 2,
       "version_minor": 0
      },
      "text/plain": [
       "  0%|          | 0/44 [00:00<?, ?it/s]"
      ]
     },
     "metadata": {},
     "output_type": "display_data"
    },
    {
     "data": {
      "application/vnd.jupyter.widget-view+json": {
       "model_id": "f7250d32ebea48b8bf8e7288b68f0ac5",
       "version_major": 2,
       "version_minor": 0
      },
      "text/plain": [
       "  0%|          | 0/42 [00:00<?, ?it/s]"
      ]
     },
     "metadata": {},
     "output_type": "display_data"
    },
    {
     "data": {
      "application/vnd.jupyter.widget-view+json": {
       "model_id": "a65dc0d14f0041d6b6f1352df51437e7",
       "version_major": 2,
       "version_minor": 0
      },
      "text/plain": [
       "  0%|          | 0/52 [00:00<?, ?it/s]"
      ]
     },
     "metadata": {},
     "output_type": "display_data"
    },
    {
     "data": {
      "application/vnd.jupyter.widget-view+json": {
       "model_id": "131af9c005414194a3683ade829aacee",
       "version_major": 2,
       "version_minor": 0
      },
      "text/plain": [
       "  0%|          | 0/29 [00:00<?, ?it/s]"
      ]
     },
     "metadata": {},
     "output_type": "display_data"
    },
    {
     "data": {
      "application/vnd.jupyter.widget-view+json": {
       "model_id": "f145538bba6a4d29a11b5886211d57d0",
       "version_major": 2,
       "version_minor": 0
      },
      "text/plain": [
       "  0%|          | 0/23 [00:00<?, ?it/s]"
      ]
     },
     "metadata": {},
     "output_type": "display_data"
    },
    {
     "data": {
      "application/vnd.jupyter.widget-view+json": {
       "model_id": "2421f1a5a68b4c29823543c84d1be7dc",
       "version_major": 2,
       "version_minor": 0
      },
      "text/plain": [
       "  0%|          | 0/41 [00:00<?, ?it/s]"
      ]
     },
     "metadata": {},
     "output_type": "display_data"
    },
    {
     "data": {
      "application/vnd.jupyter.widget-view+json": {
       "model_id": "68d348ed39c1457bbb1c2c634ea3dfe0",
       "version_major": 2,
       "version_minor": 0
      },
      "text/plain": [
       "  0%|          | 0/52 [00:00<?, ?it/s]"
      ]
     },
     "metadata": {},
     "output_type": "display_data"
    },
    {
     "data": {
      "application/vnd.jupyter.widget-view+json": {
       "model_id": "e87514a334014fd3af181e1c5661d664",
       "version_major": 2,
       "version_minor": 0
      },
      "text/plain": [
       "  0%|          | 0/39 [00:00<?, ?it/s]"
      ]
     },
     "metadata": {},
     "output_type": "display_data"
    },
    {
     "data": {
      "application/vnd.jupyter.widget-view+json": {
       "model_id": "398cba5f1f86445585b4666b4d3106a0",
       "version_major": 2,
       "version_minor": 0
      },
      "text/plain": [
       "  0%|          | 0/32 [00:00<?, ?it/s]"
      ]
     },
     "metadata": {},
     "output_type": "display_data"
    },
    {
     "data": {
      "application/vnd.jupyter.widget-view+json": {
       "model_id": "7f591261e2804740916f69bbff375697",
       "version_major": 2,
       "version_minor": 0
      },
      "text/plain": [
       "  0%|          | 0/42 [00:00<?, ?it/s]"
      ]
     },
     "metadata": {},
     "output_type": "display_data"
    },
    {
     "data": {
      "application/vnd.jupyter.widget-view+json": {
       "model_id": "3b31abc43f9f4493bf934c473470599f",
       "version_major": 2,
       "version_minor": 0
      },
      "text/plain": [
       "  0%|          | 0/62 [00:00<?, ?it/s]"
      ]
     },
     "metadata": {},
     "output_type": "display_data"
    },
    {
     "data": {
      "application/vnd.jupyter.widget-view+json": {
       "model_id": "d434b77cd8dc4a579d065a98c6fb04cc",
       "version_major": 2,
       "version_minor": 0
      },
      "text/plain": [
       "  0%|          | 0/53 [00:00<?, ?it/s]"
      ]
     },
     "metadata": {},
     "output_type": "display_data"
    },
    {
     "data": {
      "application/vnd.jupyter.widget-view+json": {
       "model_id": "9c6bca01125844b6955d84790170c7d2",
       "version_major": 2,
       "version_minor": 0
      },
      "text/plain": [
       "  0%|          | 0/44 [00:00<?, ?it/s]"
      ]
     },
     "metadata": {},
     "output_type": "display_data"
    },
    {
     "data": {
      "application/vnd.jupyter.widget-view+json": {
       "model_id": "fe885366caaa4682b18b1a8daa73ca8e",
       "version_major": 2,
       "version_minor": 0
      },
      "text/plain": [
       "  0%|          | 0/53 [00:00<?, ?it/s]"
      ]
     },
     "metadata": {},
     "output_type": "display_data"
    },
    {
     "data": {
      "application/vnd.jupyter.widget-view+json": {
       "model_id": "bac5b8ffa68d46789b7a1e9988932254",
       "version_major": 2,
       "version_minor": 0
      },
      "text/plain": [
       "  0%|          | 0/58 [00:00<?, ?it/s]"
      ]
     },
     "metadata": {},
     "output_type": "display_data"
    },
    {
     "data": {
      "application/vnd.jupyter.widget-view+json": {
       "model_id": "0b56531e263d49a59187fc8ca05868d3",
       "version_major": 2,
       "version_minor": 0
      },
      "text/plain": [
       "  0%|          | 0/61 [00:00<?, ?it/s]"
      ]
     },
     "metadata": {},
     "output_type": "display_data"
    },
    {
     "data": {
      "application/vnd.jupyter.widget-view+json": {
       "model_id": "8f368af3c4ed44b9bd42de06ec533850",
       "version_major": 2,
       "version_minor": 0
      },
      "text/plain": [
       "  0%|          | 0/27 [00:00<?, ?it/s]"
      ]
     },
     "metadata": {},
     "output_type": "display_data"
    },
    {
     "data": {
      "application/vnd.jupyter.widget-view+json": {
       "model_id": "90048450f87c4d3daadebeb1b24a6fb7",
       "version_major": 2,
       "version_minor": 0
      },
      "text/plain": [
       "  0%|          | 0/47 [00:00<?, ?it/s]"
      ]
     },
     "metadata": {},
     "output_type": "display_data"
    },
    {
     "data": {
      "application/vnd.jupyter.widget-view+json": {
       "model_id": "982988f9bff14b7dae251c97797b7683",
       "version_major": 2,
       "version_minor": 0
      },
      "text/plain": [
       "  0%|          | 0/50 [00:00<?, ?it/s]"
      ]
     },
     "metadata": {},
     "output_type": "display_data"
    },
    {
     "data": {
      "application/vnd.jupyter.widget-view+json": {
       "model_id": "57020a76843443be94d5b2cc9b0befe6",
       "version_major": 2,
       "version_minor": 0
      },
      "text/plain": [
       "  0%|          | 0/62 [00:00<?, ?it/s]"
      ]
     },
     "metadata": {},
     "output_type": "display_data"
    },
    {
     "data": {
      "application/vnd.jupyter.widget-view+json": {
       "model_id": "0253a1e153ad4738b4ed958f37ac3fb4",
       "version_major": 2,
       "version_minor": 0
      },
      "text/plain": [
       "  0%|          | 0/41 [00:00<?, ?it/s]"
      ]
     },
     "metadata": {},
     "output_type": "display_data"
    },
    {
     "data": {
      "application/vnd.jupyter.widget-view+json": {
       "model_id": "23c1118aaff9401786f1c578f7c38c23",
       "version_major": 2,
       "version_minor": 0
      },
      "text/plain": [
       "  0%|          | 0/54 [00:00<?, ?it/s]"
      ]
     },
     "metadata": {},
     "output_type": "display_data"
    },
    {
     "data": {
      "application/vnd.jupyter.widget-view+json": {
       "model_id": "04c201f3898c4499b6bd335b8b36cd6b",
       "version_major": 2,
       "version_minor": 0
      },
      "text/plain": [
       "  0%|          | 0/60 [00:00<?, ?it/s]"
      ]
     },
     "metadata": {},
     "output_type": "display_data"
    },
    {
     "data": {
      "application/vnd.jupyter.widget-view+json": {
       "model_id": "c661610644dd43ce86d3b5fea31466a1",
       "version_major": 2,
       "version_minor": 0
      },
      "text/plain": [
       "  0%|          | 0/59 [00:00<?, ?it/s]"
      ]
     },
     "metadata": {},
     "output_type": "display_data"
    },
    {
     "data": {
      "application/vnd.jupyter.widget-view+json": {
       "model_id": "12df2b71c687467b91919f5bb9b3d5b7",
       "version_major": 2,
       "version_minor": 0
      },
      "text/plain": [
       "  0%|          | 0/38 [00:00<?, ?it/s]"
      ]
     },
     "metadata": {},
     "output_type": "display_data"
    },
    {
     "data": {
      "application/vnd.jupyter.widget-view+json": {
       "model_id": "7317d83f6e6d401ab8bbf3223799dd12",
       "version_major": 2,
       "version_minor": 0
      },
      "text/plain": [
       "  0%|          | 0/28 [00:00<?, ?it/s]"
      ]
     },
     "metadata": {},
     "output_type": "display_data"
    },
    {
     "data": {
      "application/vnd.jupyter.widget-view+json": {
       "model_id": "91d71ea2f68049f1a4080f64e328c966",
       "version_major": 2,
       "version_minor": 0
      },
      "text/plain": [
       "  0%|          | 0/62 [00:00<?, ?it/s]"
      ]
     },
     "metadata": {},
     "output_type": "display_data"
    },
    {
     "data": {
      "application/vnd.jupyter.widget-view+json": {
       "model_id": "21d9e204d1ac48d79d1b18dac3b90931",
       "version_major": 2,
       "version_minor": 0
      },
      "text/plain": [
       "  0%|          | 0/53 [00:00<?, ?it/s]"
      ]
     },
     "metadata": {},
     "output_type": "display_data"
    },
    {
     "data": {
      "application/vnd.jupyter.widget-view+json": {
       "model_id": "38dd07272937444dbcbaa4ac07507fa5",
       "version_major": 2,
       "version_minor": 0
      },
      "text/plain": [
       "  0%|          | 0/56 [00:00<?, ?it/s]"
      ]
     },
     "metadata": {},
     "output_type": "display_data"
    },
    {
     "data": {
      "application/vnd.jupyter.widget-view+json": {
       "model_id": "089fc2fece8f469782679b66964bb38a",
       "version_major": 2,
       "version_minor": 0
      },
      "text/plain": [
       "  0%|          | 0/53 [00:00<?, ?it/s]"
      ]
     },
     "metadata": {},
     "output_type": "display_data"
    },
    {
     "data": {
      "application/vnd.jupyter.widget-view+json": {
       "model_id": "87af822359724245a797370b818aaa43",
       "version_major": 2,
       "version_minor": 0
      },
      "text/plain": [
       "  0%|          | 0/67 [00:00<?, ?it/s]"
      ]
     },
     "metadata": {},
     "output_type": "display_data"
    },
    {
     "data": {
      "application/vnd.jupyter.widget-view+json": {
       "model_id": "fb7f1c66e3ce4bd896e70751ed1ec7eb",
       "version_major": 2,
       "version_minor": 0
      },
      "text/plain": [
       "  0%|          | 0/35 [00:00<?, ?it/s]"
      ]
     },
     "metadata": {},
     "output_type": "display_data"
    },
    {
     "data": {
      "application/vnd.jupyter.widget-view+json": {
       "model_id": "33f8df1ae9e24343a677d0c39f220c93",
       "version_major": 2,
       "version_minor": 0
      },
      "text/plain": [
       "  0%|          | 0/35 [00:00<?, ?it/s]"
      ]
     },
     "metadata": {},
     "output_type": "display_data"
    },
    {
     "data": {
      "application/vnd.jupyter.widget-view+json": {
       "model_id": "d577f9c20081441b95075767fa925afc",
       "version_major": 2,
       "version_minor": 0
      },
      "text/plain": [
       "  0%|          | 0/12 [00:00<?, ?it/s]"
      ]
     },
     "metadata": {},
     "output_type": "display_data"
    },
    {
     "data": {
      "application/vnd.jupyter.widget-view+json": {
       "model_id": "0f5e5c2c61ff42bd829de659b0cdee7a",
       "version_major": 2,
       "version_minor": 0
      },
      "text/plain": [
       "  0%|          | 0/58 [00:00<?, ?it/s]"
      ]
     },
     "metadata": {},
     "output_type": "display_data"
    },
    {
     "data": {
      "application/vnd.jupyter.widget-view+json": {
       "model_id": "76295436067d4f3f9ba349addfcdc2a6",
       "version_major": 2,
       "version_minor": 0
      },
      "text/plain": [
       "  0%|          | 0/53 [00:00<?, ?it/s]"
      ]
     },
     "metadata": {},
     "output_type": "display_data"
    },
    {
     "data": {
      "application/vnd.jupyter.widget-view+json": {
       "model_id": "25644436f6104a5b90b27869727102a7",
       "version_major": 2,
       "version_minor": 0
      },
      "text/plain": [
       "  0%|          | 0/25 [00:00<?, ?it/s]"
      ]
     },
     "metadata": {},
     "output_type": "display_data"
    },
    {
     "data": {
      "application/vnd.jupyter.widget-view+json": {
       "model_id": "e4b66febe9fe409aa5b08183045b8ad7",
       "version_major": 2,
       "version_minor": 0
      },
      "text/plain": [
       "  0%|          | 0/28 [00:00<?, ?it/s]"
      ]
     },
     "metadata": {},
     "output_type": "display_data"
    },
    {
     "data": {
      "application/vnd.jupyter.widget-view+json": {
       "model_id": "2525437260004667beb9e63b5cf79d34",
       "version_major": 2,
       "version_minor": 0
      },
      "text/plain": [
       "  0%|          | 0/17 [00:00<?, ?it/s]"
      ]
     },
     "metadata": {},
     "output_type": "display_data"
    },
    {
     "data": {
      "application/vnd.jupyter.widget-view+json": {
       "model_id": "9b13ce943f0b4b82ac65b86af10ca41a",
       "version_major": 2,
       "version_minor": 0
      },
      "text/plain": [
       "  0%|          | 0/18 [00:00<?, ?it/s]"
      ]
     },
     "metadata": {},
     "output_type": "display_data"
    },
    {
     "data": {
      "application/vnd.jupyter.widget-view+json": {
       "model_id": "3755981829d0462b9ed3405cb6d82077",
       "version_major": 2,
       "version_minor": 0
      },
      "text/plain": [
       "  0%|          | 0/30 [00:00<?, ?it/s]"
      ]
     },
     "metadata": {},
     "output_type": "display_data"
    },
    {
     "data": {
      "application/vnd.jupyter.widget-view+json": {
       "model_id": "4f82453e8e0a4e30bd9d74f689634904",
       "version_major": 2,
       "version_minor": 0
      },
      "text/plain": [
       "  0%|          | 0/39 [00:00<?, ?it/s]"
      ]
     },
     "metadata": {},
     "output_type": "display_data"
    },
    {
     "data": {
      "application/vnd.jupyter.widget-view+json": {
       "model_id": "6b420f69cc5a48579033d54f52a40989",
       "version_major": 2,
       "version_minor": 0
      },
      "text/plain": [
       "  0%|          | 0/37 [00:00<?, ?it/s]"
      ]
     },
     "metadata": {},
     "output_type": "display_data"
    },
    {
     "data": {
      "application/vnd.jupyter.widget-view+json": {
       "model_id": "badf9d94eb5049f996b05f9ff052ca26",
       "version_major": 2,
       "version_minor": 0
      },
      "text/plain": [
       "  0%|          | 0/45 [00:00<?, ?it/s]"
      ]
     },
     "metadata": {},
     "output_type": "display_data"
    },
    {
     "data": {
      "application/vnd.jupyter.widget-view+json": {
       "model_id": "265073800f814ba1ae24933e14349a7d",
       "version_major": 2,
       "version_minor": 0
      },
      "text/plain": [
       "  0%|          | 0/56 [00:00<?, ?it/s]"
      ]
     },
     "metadata": {},
     "output_type": "display_data"
    },
    {
     "data": {
      "application/vnd.jupyter.widget-view+json": {
       "model_id": "15befc9a33994011bf16205c223045c1",
       "version_major": 2,
       "version_minor": 0
      },
      "text/plain": [
       "  0%|          | 0/31 [00:00<?, ?it/s]"
      ]
     },
     "metadata": {},
     "output_type": "display_data"
    },
    {
     "data": {
      "application/vnd.jupyter.widget-view+json": {
       "model_id": "dd9ae3b76a744d58bd16d1363a3884db",
       "version_major": 2,
       "version_minor": 0
      },
      "text/plain": [
       "  0%|          | 0/61 [00:00<?, ?it/s]"
      ]
     },
     "metadata": {},
     "output_type": "display_data"
    },
    {
     "data": {
      "application/vnd.jupyter.widget-view+json": {
       "model_id": "0cc17cda19eb4ea1a2b43cba0d141166",
       "version_major": 2,
       "version_minor": 0
      },
      "text/plain": [
       "  0%|          | 0/45 [00:00<?, ?it/s]"
      ]
     },
     "metadata": {},
     "output_type": "display_data"
    },
    {
     "data": {
      "application/vnd.jupyter.widget-view+json": {
       "model_id": "3716f1e471f042c9b185dce31f4df5c7",
       "version_major": 2,
       "version_minor": 0
      },
      "text/plain": [
       "  0%|          | 0/28 [00:00<?, ?it/s]"
      ]
     },
     "metadata": {},
     "output_type": "display_data"
    },
    {
     "data": {
      "application/vnd.jupyter.widget-view+json": {
       "model_id": "47a36a9356c04263b7a006ed0a2c89d6",
       "version_major": 2,
       "version_minor": 0
      },
      "text/plain": [
       "  0%|          | 0/45 [00:00<?, ?it/s]"
      ]
     },
     "metadata": {},
     "output_type": "display_data"
    },
    {
     "data": {
      "application/vnd.jupyter.widget-view+json": {
       "model_id": "0756ed6f19d74bf99cd8a7e4bcea08a3",
       "version_major": 2,
       "version_minor": 0
      },
      "text/plain": [
       "  0%|          | 0/28 [00:00<?, ?it/s]"
      ]
     },
     "metadata": {},
     "output_type": "display_data"
    },
    {
     "data": {
      "application/vnd.jupyter.widget-view+json": {
       "model_id": "20d2d8e884e5494e9b8a2e189c9ae9d2",
       "version_major": 2,
       "version_minor": 0
      },
      "text/plain": [
       "  0%|          | 0/33 [00:00<?, ?it/s]"
      ]
     },
     "metadata": {},
     "output_type": "display_data"
    },
    {
     "data": {
      "application/vnd.jupyter.widget-view+json": {
       "model_id": "74f0d3e0528842c7a9af1c871ecafe37",
       "version_major": 2,
       "version_minor": 0
      },
      "text/plain": [
       "  0%|          | 0/36 [00:00<?, ?it/s]"
      ]
     },
     "metadata": {},
     "output_type": "display_data"
    },
    {
     "data": {
      "application/vnd.jupyter.widget-view+json": {
       "model_id": "fcd4d93cc6cd498bbcb89734b85da0e5",
       "version_major": 2,
       "version_minor": 0
      },
      "text/plain": [
       "  0%|          | 0/29 [00:00<?, ?it/s]"
      ]
     },
     "metadata": {},
     "output_type": "display_data"
    },
    {
     "data": {
      "application/vnd.jupyter.widget-view+json": {
       "model_id": "f1da12dbed754183952eff73ae3e5c35",
       "version_major": 2,
       "version_minor": 0
      },
      "text/plain": [
       "  0%|          | 0/11 [00:00<?, ?it/s]"
      ]
     },
     "metadata": {},
     "output_type": "display_data"
    },
    {
     "data": {
      "application/vnd.jupyter.widget-view+json": {
       "model_id": "4734733e98c249f692a138aef3369780",
       "version_major": 2,
       "version_minor": 0
      },
      "text/plain": [
       "  0%|          | 0/20 [00:00<?, ?it/s]"
      ]
     },
     "metadata": {},
     "output_type": "display_data"
    },
    {
     "data": {
      "application/vnd.jupyter.widget-view+json": {
       "model_id": "14170e0aa3d14638b905e053f086aa5d",
       "version_major": 2,
       "version_minor": 0
      },
      "text/plain": [
       "  0%|          | 0/30 [00:00<?, ?it/s]"
      ]
     },
     "metadata": {},
     "output_type": "display_data"
    },
    {
     "data": {
      "application/vnd.jupyter.widget-view+json": {
       "model_id": "726d98b4357e4013a50bacf6da372301",
       "version_major": 2,
       "version_minor": 0
      },
      "text/plain": [
       "  0%|          | 0/40 [00:00<?, ?it/s]"
      ]
     },
     "metadata": {},
     "output_type": "display_data"
    },
    {
     "data": {
      "application/vnd.jupyter.widget-view+json": {
       "model_id": "01d963ff00bf4a6ba9bf27dd117ff05b",
       "version_major": 2,
       "version_minor": 0
      },
      "text/plain": [
       "  0%|          | 0/33 [00:00<?, ?it/s]"
      ]
     },
     "metadata": {},
     "output_type": "display_data"
    },
    {
     "data": {
      "application/vnd.jupyter.widget-view+json": {
       "model_id": "2b97e0f285ac4862ad7ef9ca832e51ef",
       "version_major": 2,
       "version_minor": 0
      },
      "text/plain": [
       "  0%|          | 0/26 [00:00<?, ?it/s]"
      ]
     },
     "metadata": {},
     "output_type": "display_data"
    },
    {
     "data": {
      "application/vnd.jupyter.widget-view+json": {
       "model_id": "e9355f6f1d5d4a2eb73be00f15538eb5",
       "version_major": 2,
       "version_minor": 0
      },
      "text/plain": [
       "  0%|          | 0/40 [00:00<?, ?it/s]"
      ]
     },
     "metadata": {},
     "output_type": "display_data"
    },
    {
     "data": {
      "application/vnd.jupyter.widget-view+json": {
       "model_id": "68bbaf37e2c04b62ad63688e0d0238c4",
       "version_major": 2,
       "version_minor": 0
      },
      "text/plain": [
       "  0%|          | 0/28 [00:00<?, ?it/s]"
      ]
     },
     "metadata": {},
     "output_type": "display_data"
    },
    {
     "data": {
      "application/vnd.jupyter.widget-view+json": {
       "model_id": "e8e499e1f3d34971a056ce69146ccde7",
       "version_major": 2,
       "version_minor": 0
      },
      "text/plain": [
       "  0%|          | 0/18 [00:00<?, ?it/s]"
      ]
     },
     "metadata": {},
     "output_type": "display_data"
    },
    {
     "data": {
      "application/vnd.jupyter.widget-view+json": {
       "model_id": "771a1a8f93004aff90cce1e49c93184b",
       "version_major": 2,
       "version_minor": 0
      },
      "text/plain": [
       "  0%|          | 0/75 [00:00<?, ?it/s]"
      ]
     },
     "metadata": {},
     "output_type": "display_data"
    },
    {
     "data": {
      "application/vnd.jupyter.widget-view+json": {
       "model_id": "5d14941628654bf89696c75edc388942",
       "version_major": 2,
       "version_minor": 0
      },
      "text/plain": [
       "  0%|          | 0/44 [00:00<?, ?it/s]"
      ]
     },
     "metadata": {},
     "output_type": "display_data"
    },
    {
     "data": {
      "application/vnd.jupyter.widget-view+json": {
       "model_id": "d795cb21130142eeb5f9370aeccde2c5",
       "version_major": 2,
       "version_minor": 0
      },
      "text/plain": [
       "  0%|          | 0/76 [00:00<?, ?it/s]"
      ]
     },
     "metadata": {},
     "output_type": "display_data"
    },
    {
     "data": {
      "application/vnd.jupyter.widget-view+json": {
       "model_id": "de7ef699576247978e88c996a3de23ee",
       "version_major": 2,
       "version_minor": 0
      },
      "text/plain": [
       "  0%|          | 0/26 [00:00<?, ?it/s]"
      ]
     },
     "metadata": {},
     "output_type": "display_data"
    },
    {
     "data": {
      "application/vnd.jupyter.widget-view+json": {
       "model_id": "90432da9db0141339760b0c238dd030d",
       "version_major": 2,
       "version_minor": 0
      },
      "text/plain": [
       "  0%|          | 0/72 [00:00<?, ?it/s]"
      ]
     },
     "metadata": {},
     "output_type": "display_data"
    },
    {
     "data": {
      "application/vnd.jupyter.widget-view+json": {
       "model_id": "06379061b2074f508d6dc646f7100e43",
       "version_major": 2,
       "version_minor": 0
      },
      "text/plain": [
       "  0%|          | 0/30 [00:00<?, ?it/s]"
      ]
     },
     "metadata": {},
     "output_type": "display_data"
    },
    {
     "data": {
      "application/vnd.jupyter.widget-view+json": {
       "model_id": "47e810713e8c4143a1ecda5802891ec5",
       "version_major": 2,
       "version_minor": 0
      },
      "text/plain": [
       "  0%|          | 0/39 [00:00<?, ?it/s]"
      ]
     },
     "metadata": {},
     "output_type": "display_data"
    },
    {
     "data": {
      "application/vnd.jupyter.widget-view+json": {
       "model_id": "d27c04465adf4046946ba61214f4cafd",
       "version_major": 2,
       "version_minor": 0
      },
      "text/plain": [
       "  0%|          | 0/51 [00:00<?, ?it/s]"
      ]
     },
     "metadata": {},
     "output_type": "display_data"
    },
    {
     "data": {
      "application/vnd.jupyter.widget-view+json": {
       "model_id": "e9a351ce51e5483584a314a4972ac034",
       "version_major": 2,
       "version_minor": 0
      },
      "text/plain": [
       "  0%|          | 0/42 [00:00<?, ?it/s]"
      ]
     },
     "metadata": {},
     "output_type": "display_data"
    },
    {
     "data": {
      "application/vnd.jupyter.widget-view+json": {
       "model_id": "395235dac1854a79bad37d9e455d727d",
       "version_major": 2,
       "version_minor": 0
      },
      "text/plain": [
       "  0%|          | 0/39 [00:00<?, ?it/s]"
      ]
     },
     "metadata": {},
     "output_type": "display_data"
    },
    {
     "data": {
      "application/vnd.jupyter.widget-view+json": {
       "model_id": "58f6331109cb457388c578e0d21ba945",
       "version_major": 2,
       "version_minor": 0
      },
      "text/plain": [
       "  0%|          | 0/46 [00:00<?, ?it/s]"
      ]
     },
     "metadata": {},
     "output_type": "display_data"
    },
    {
     "data": {
      "application/vnd.jupyter.widget-view+json": {
       "model_id": "609412fb2d99427faa2c79bbd9bf42cd",
       "version_major": 2,
       "version_minor": 0
      },
      "text/plain": [
       "  0%|          | 0/69 [00:00<?, ?it/s]"
      ]
     },
     "metadata": {},
     "output_type": "display_data"
    },
    {
     "data": {
      "application/vnd.jupyter.widget-view+json": {
       "model_id": "80e9f7f8d0cc4a689c1ed76e4d87e93d",
       "version_major": 2,
       "version_minor": 0
      },
      "text/plain": [
       "  0%|          | 0/46 [00:00<?, ?it/s]"
      ]
     },
     "metadata": {},
     "output_type": "display_data"
    },
    {
     "data": {
      "application/vnd.jupyter.widget-view+json": {
       "model_id": "daff44b9cc7e410498d9bc47a4d2928e",
       "version_major": 2,
       "version_minor": 0
      },
      "text/plain": [
       "  0%|          | 0/45 [00:00<?, ?it/s]"
      ]
     },
     "metadata": {},
     "output_type": "display_data"
    },
    {
     "data": {
      "application/vnd.jupyter.widget-view+json": {
       "model_id": "a3c23c0046cc43899b883bb4579b35d7",
       "version_major": 2,
       "version_minor": 0
      },
      "text/plain": [
       "  0%|          | 0/39 [00:00<?, ?it/s]"
      ]
     },
     "metadata": {},
     "output_type": "display_data"
    },
    {
     "data": {
      "application/vnd.jupyter.widget-view+json": {
       "model_id": "45837a49aa7b43f8a312a3a81b35182c",
       "version_major": 2,
       "version_minor": 0
      },
      "text/plain": [
       "  0%|          | 0/18 [00:00<?, ?it/s]"
      ]
     },
     "metadata": {},
     "output_type": "display_data"
    },
    {
     "data": {
      "application/vnd.jupyter.widget-view+json": {
       "model_id": "b393daf39f464478a828e577599fbdf7",
       "version_major": 2,
       "version_minor": 0
      },
      "text/plain": [
       "  0%|          | 0/37 [00:00<?, ?it/s]"
      ]
     },
     "metadata": {},
     "output_type": "display_data"
    },
    {
     "data": {
      "application/vnd.jupyter.widget-view+json": {
       "model_id": "ff8216b1d4894c27acfeab1539e27438",
       "version_major": 2,
       "version_minor": 0
      },
      "text/plain": [
       "  0%|          | 0/40 [00:00<?, ?it/s]"
      ]
     },
     "metadata": {},
     "output_type": "display_data"
    },
    {
     "data": {
      "application/vnd.jupyter.widget-view+json": {
       "model_id": "d5bd902fe0664816a0acc5c8038125c6",
       "version_major": 2,
       "version_minor": 0
      },
      "text/plain": [
       "  0%|          | 0/36 [00:00<?, ?it/s]"
      ]
     },
     "metadata": {},
     "output_type": "display_data"
    },
    {
     "data": {
      "application/vnd.jupyter.widget-view+json": {
       "model_id": "1080d3cb408c405688d9683fc1639131",
       "version_major": 2,
       "version_minor": 0
      },
      "text/plain": [
       "  0%|          | 0/38 [00:00<?, ?it/s]"
      ]
     },
     "metadata": {},
     "output_type": "display_data"
    },
    {
     "data": {
      "application/vnd.jupyter.widget-view+json": {
       "model_id": "ea4305923a644c17965d47ce278bfb6d",
       "version_major": 2,
       "version_minor": 0
      },
      "text/plain": [
       "  0%|          | 0/49 [00:00<?, ?it/s]"
      ]
     },
     "metadata": {},
     "output_type": "display_data"
    },
    {
     "data": {
      "application/vnd.jupyter.widget-view+json": {
       "model_id": "241aeb36878d4b8b945ccec6f23dc83a",
       "version_major": 2,
       "version_minor": 0
      },
      "text/plain": [
       "  0%|          | 0/22 [00:00<?, ?it/s]"
      ]
     },
     "metadata": {},
     "output_type": "display_data"
    },
    {
     "data": {
      "application/vnd.jupyter.widget-view+json": {
       "model_id": "0aa0726d0b054ac89fdf7a0765aa6a0e",
       "version_major": 2,
       "version_minor": 0
      },
      "text/plain": [
       "  0%|          | 0/32 [00:00<?, ?it/s]"
      ]
     },
     "metadata": {},
     "output_type": "display_data"
    },
    {
     "data": {
      "application/vnd.jupyter.widget-view+json": {
       "model_id": "a223fa69753742fca8b09d7425fbbcd0",
       "version_major": 2,
       "version_minor": 0
      },
      "text/plain": [
       "  0%|          | 0/25 [00:00<?, ?it/s]"
      ]
     },
     "metadata": {},
     "output_type": "display_data"
    },
    {
     "data": {
      "application/vnd.jupyter.widget-view+json": {
       "model_id": "e7d1f304779e4266a2ad1d5fa771b23a",
       "version_major": 2,
       "version_minor": 0
      },
      "text/plain": [
       "  0%|          | 0/50 [00:00<?, ?it/s]"
      ]
     },
     "metadata": {},
     "output_type": "display_data"
    },
    {
     "data": {
      "application/vnd.jupyter.widget-view+json": {
       "model_id": "8faa50c10bb34ccab440e11aa5e389c8",
       "version_major": 2,
       "version_minor": 0
      },
      "text/plain": [
       "  0%|          | 0/53 [00:00<?, ?it/s]"
      ]
     },
     "metadata": {},
     "output_type": "display_data"
    },
    {
     "data": {
      "application/vnd.jupyter.widget-view+json": {
       "model_id": "4d0769b878de44e5b628723f1da11d2e",
       "version_major": 2,
       "version_minor": 0
      },
      "text/plain": [
       "  0%|          | 0/39 [00:00<?, ?it/s]"
      ]
     },
     "metadata": {},
     "output_type": "display_data"
    },
    {
     "data": {
      "application/vnd.jupyter.widget-view+json": {
       "model_id": "01c01dcea3a64f6cad9390fbffee9019",
       "version_major": 2,
       "version_minor": 0
      },
      "text/plain": [
       "  0%|          | 0/54 [00:00<?, ?it/s]"
      ]
     },
     "metadata": {},
     "output_type": "display_data"
    },
    {
     "data": {
      "application/vnd.jupyter.widget-view+json": {
       "model_id": "0fa7574089de451da1d3df370ac1e9ac",
       "version_major": 2,
       "version_minor": 0
      },
      "text/plain": [
       "  0%|          | 0/38 [00:00<?, ?it/s]"
      ]
     },
     "metadata": {},
     "output_type": "display_data"
    },
    {
     "data": {
      "application/vnd.jupyter.widget-view+json": {
       "model_id": "b7a04d5b46db4e8cbdc902b6137d9aab",
       "version_major": 2,
       "version_minor": 0
      },
      "text/plain": [
       "  0%|          | 0/22 [00:00<?, ?it/s]"
      ]
     },
     "metadata": {},
     "output_type": "display_data"
    },
    {
     "data": {
      "application/vnd.jupyter.widget-view+json": {
       "model_id": "7129ce0cfd684a4d8c458a91591211c0",
       "version_major": 2,
       "version_minor": 0
      },
      "text/plain": [
       "  0%|          | 0/32 [00:00<?, ?it/s]"
      ]
     },
     "metadata": {},
     "output_type": "display_data"
    },
    {
     "data": {
      "application/vnd.jupyter.widget-view+json": {
       "model_id": "b4a77802e27241d9ab9bc80fdf1715e1",
       "version_major": 2,
       "version_minor": 0
      },
      "text/plain": [
       "  0%|          | 0/22 [00:00<?, ?it/s]"
      ]
     },
     "metadata": {},
     "output_type": "display_data"
    },
    {
     "data": {
      "application/vnd.jupyter.widget-view+json": {
       "model_id": "a0f280388f9144388bd8cdbb87f1a53f",
       "version_major": 2,
       "version_minor": 0
      },
      "text/plain": [
       "  0%|          | 0/31 [00:00<?, ?it/s]"
      ]
     },
     "metadata": {},
     "output_type": "display_data"
    },
    {
     "data": {
      "application/vnd.jupyter.widget-view+json": {
       "model_id": "161854be234f4b82a635a30410ad4546",
       "version_major": 2,
       "version_minor": 0
      },
      "text/plain": [
       "  0%|          | 0/54 [00:00<?, ?it/s]"
      ]
     },
     "metadata": {},
     "output_type": "display_data"
    },
    {
     "data": {
      "application/vnd.jupyter.widget-view+json": {
       "model_id": "d04a9e1ad2844bae8d71593a6fad1dbb",
       "version_major": 2,
       "version_minor": 0
      },
      "text/plain": [
       "  0%|          | 0/49 [00:00<?, ?it/s]"
      ]
     },
     "metadata": {},
     "output_type": "display_data"
    },
    {
     "data": {
      "application/vnd.jupyter.widget-view+json": {
       "model_id": "3f2febd58c9643599ffeb96847658b23",
       "version_major": 2,
       "version_minor": 0
      },
      "text/plain": [
       "  0%|          | 0/30 [00:00<?, ?it/s]"
      ]
     },
     "metadata": {},
     "output_type": "display_data"
    },
    {
     "data": {
      "application/vnd.jupyter.widget-view+json": {
       "model_id": "7b9eb400ba494b34913f02051106a91c",
       "version_major": 2,
       "version_minor": 0
      },
      "text/plain": [
       "  0%|          | 0/32 [00:00<?, ?it/s]"
      ]
     },
     "metadata": {},
     "output_type": "display_data"
    },
    {
     "data": {
      "application/vnd.jupyter.widget-view+json": {
       "model_id": "d06aa040b98b4aee8f7d92126423606d",
       "version_major": 2,
       "version_minor": 0
      },
      "text/plain": [
       "  0%|          | 0/34 [00:00<?, ?it/s]"
      ]
     },
     "metadata": {},
     "output_type": "display_data"
    },
    {
     "data": {
      "application/vnd.jupyter.widget-view+json": {
       "model_id": "71c9a2094e8349d1a51abc3dd241b5b6",
       "version_major": 2,
       "version_minor": 0
      },
      "text/plain": [
       "  0%|          | 0/29 [00:00<?, ?it/s]"
      ]
     },
     "metadata": {},
     "output_type": "display_data"
    },
    {
     "data": {
      "application/vnd.jupyter.widget-view+json": {
       "model_id": "3a3d2752bc884809ad0b5c5916b411ff",
       "version_major": 2,
       "version_minor": 0
      },
      "text/plain": [
       "  0%|          | 0/47 [00:00<?, ?it/s]"
      ]
     },
     "metadata": {},
     "output_type": "display_data"
    },
    {
     "data": {
      "application/vnd.jupyter.widget-view+json": {
       "model_id": "4328658a079f4f7c89298dd3385f13bf",
       "version_major": 2,
       "version_minor": 0
      },
      "text/plain": [
       "  0%|          | 0/26 [00:00<?, ?it/s]"
      ]
     },
     "metadata": {},
     "output_type": "display_data"
    },
    {
     "data": {
      "application/vnd.jupyter.widget-view+json": {
       "model_id": "d204654ed2d540d4aee68d0a0e40c1fe",
       "version_major": 2,
       "version_minor": 0
      },
      "text/plain": [
       "  0%|          | 0/64 [00:00<?, ?it/s]"
      ]
     },
     "metadata": {},
     "output_type": "display_data"
    },
    {
     "data": {
      "application/vnd.jupyter.widget-view+json": {
       "model_id": "c5d99a7022e142f889f0729bd68f49de",
       "version_major": 2,
       "version_minor": 0
      },
      "text/plain": [
       "  0%|          | 0/22 [00:00<?, ?it/s]"
      ]
     },
     "metadata": {},
     "output_type": "display_data"
    },
    {
     "data": {
      "application/vnd.jupyter.widget-view+json": {
       "model_id": "451ad9859523446fb1e80991b0837c8a",
       "version_major": 2,
       "version_minor": 0
      },
      "text/plain": [
       "  0%|          | 0/51 [00:00<?, ?it/s]"
      ]
     },
     "metadata": {},
     "output_type": "display_data"
    },
    {
     "data": {
      "application/vnd.jupyter.widget-view+json": {
       "model_id": "65757eaa778549d4b80687ba283dac19",
       "version_major": 2,
       "version_minor": 0
      },
      "text/plain": [
       "  0%|          | 0/38 [00:00<?, ?it/s]"
      ]
     },
     "metadata": {},
     "output_type": "display_data"
    },
    {
     "data": {
      "application/vnd.jupyter.widget-view+json": {
       "model_id": "08b1475c92d9455da2c21b14829878a8",
       "version_major": 2,
       "version_minor": 0
      },
      "text/plain": [
       "  0%|          | 0/52 [00:00<?, ?it/s]"
      ]
     },
     "metadata": {},
     "output_type": "display_data"
    },
    {
     "data": {
      "application/vnd.jupyter.widget-view+json": {
       "model_id": "e092e9a3cf884da0839ddc4344a13005",
       "version_major": 2,
       "version_minor": 0
      },
      "text/plain": [
       "  0%|          | 0/43 [00:00<?, ?it/s]"
      ]
     },
     "metadata": {},
     "output_type": "display_data"
    },
    {
     "data": {
      "application/vnd.jupyter.widget-view+json": {
       "model_id": "933d2d9b519f422ea29537c4fd55eece",
       "version_major": 2,
       "version_minor": 0
      },
      "text/plain": [
       "  0%|          | 0/42 [00:00<?, ?it/s]"
      ]
     },
     "metadata": {},
     "output_type": "display_data"
    },
    {
     "data": {
      "application/vnd.jupyter.widget-view+json": {
       "model_id": "32e71d0b680e402c809fae990842bd53",
       "version_major": 2,
       "version_minor": 0
      },
      "text/plain": [
       "  0%|          | 0/62 [00:00<?, ?it/s]"
      ]
     },
     "metadata": {},
     "output_type": "display_data"
    },
    {
     "data": {
      "application/vnd.jupyter.widget-view+json": {
       "model_id": "649eb4662a9245e2a88f6578d52bab71",
       "version_major": 2,
       "version_minor": 0
      },
      "text/plain": [
       "  0%|          | 0/49 [00:00<?, ?it/s]"
      ]
     },
     "metadata": {},
     "output_type": "display_data"
    },
    {
     "data": {
      "application/vnd.jupyter.widget-view+json": {
       "model_id": "1ff1fcccdc134912a3ed349fc9f70976",
       "version_major": 2,
       "version_minor": 0
      },
      "text/plain": [
       "  0%|          | 0/64 [00:00<?, ?it/s]"
      ]
     },
     "metadata": {},
     "output_type": "display_data"
    },
    {
     "data": {
      "application/vnd.jupyter.widget-view+json": {
       "model_id": "e4c5db55e74d45669457246f2512cd90",
       "version_major": 2,
       "version_minor": 0
      },
      "text/plain": [
       "  0%|          | 0/38 [00:00<?, ?it/s]"
      ]
     },
     "metadata": {},
     "output_type": "display_data"
    },
    {
     "data": {
      "application/vnd.jupyter.widget-view+json": {
       "model_id": "b0d95a84243b46e4b9ece7ec72883c08",
       "version_major": 2,
       "version_minor": 0
      },
      "text/plain": [
       "  0%|          | 0/46 [00:00<?, ?it/s]"
      ]
     },
     "metadata": {},
     "output_type": "display_data"
    },
    {
     "data": {
      "application/vnd.jupyter.widget-view+json": {
       "model_id": "ed45a25b04294d5b84a47819aea05134",
       "version_major": 2,
       "version_minor": 0
      },
      "text/plain": [
       "  0%|          | 0/26 [00:00<?, ?it/s]"
      ]
     },
     "metadata": {},
     "output_type": "display_data"
    },
    {
     "data": {
      "application/vnd.jupyter.widget-view+json": {
       "model_id": "8c776dee968c4c61a9ed9429edd2288c",
       "version_major": 2,
       "version_minor": 0
      },
      "text/plain": [
       "  0%|          | 0/40 [00:00<?, ?it/s]"
      ]
     },
     "metadata": {},
     "output_type": "display_data"
    },
    {
     "data": {
      "application/vnd.jupyter.widget-view+json": {
       "model_id": "76fb0598a7414e1bb878a238a0a73359",
       "version_major": 2,
       "version_minor": 0
      },
      "text/plain": [
       "  0%|          | 0/26 [00:00<?, ?it/s]"
      ]
     },
     "metadata": {},
     "output_type": "display_data"
    },
    {
     "data": {
      "application/vnd.jupyter.widget-view+json": {
       "model_id": "643b21643ab44e4989ac49dafc1a790b",
       "version_major": 2,
       "version_minor": 0
      },
      "text/plain": [
       "  0%|          | 0/47 [00:00<?, ?it/s]"
      ]
     },
     "metadata": {},
     "output_type": "display_data"
    },
    {
     "data": {
      "application/vnd.jupyter.widget-view+json": {
       "model_id": "dc29c4b1f3e64cad81a73555f7b105d1",
       "version_major": 2,
       "version_minor": 0
      },
      "text/plain": [
       "  0%|          | 0/28 [00:00<?, ?it/s]"
      ]
     },
     "metadata": {},
     "output_type": "display_data"
    },
    {
     "data": {
      "application/vnd.jupyter.widget-view+json": {
       "model_id": "d47dc88421dc417c8b035e7c370bf98e",
       "version_major": 2,
       "version_minor": 0
      },
      "text/plain": [
       "  0%|          | 0/49 [00:00<?, ?it/s]"
      ]
     },
     "metadata": {},
     "output_type": "display_data"
    },
    {
     "data": {
      "application/vnd.jupyter.widget-view+json": {
       "model_id": "ad965fd8f14148179ed1e9b431c8c5d3",
       "version_major": 2,
       "version_minor": 0
      },
      "text/plain": [
       "  0%|          | 0/28 [00:00<?, ?it/s]"
      ]
     },
     "metadata": {},
     "output_type": "display_data"
    },
    {
     "data": {
      "application/vnd.jupyter.widget-view+json": {
       "model_id": "b71a262e6cf2494aaf0370d96fc645eb",
       "version_major": 2,
       "version_minor": 0
      },
      "text/plain": [
       "  0%|          | 0/43 [00:00<?, ?it/s]"
      ]
     },
     "metadata": {},
     "output_type": "display_data"
    },
    {
     "data": {
      "application/vnd.jupyter.widget-view+json": {
       "model_id": "e187e5009e0d48aa82d8e5111f9cb206",
       "version_major": 2,
       "version_minor": 0
      },
      "text/plain": [
       "  0%|          | 0/42 [00:00<?, ?it/s]"
      ]
     },
     "metadata": {},
     "output_type": "display_data"
    },
    {
     "data": {
      "application/vnd.jupyter.widget-view+json": {
       "model_id": "f065ac0a5bdb4c27bcdc58ce04a215ed",
       "version_major": 2,
       "version_minor": 0
      },
      "text/plain": [
       "  0%|          | 0/39 [00:00<?, ?it/s]"
      ]
     },
     "metadata": {},
     "output_type": "display_data"
    },
    {
     "data": {
      "application/vnd.jupyter.widget-view+json": {
       "model_id": "f098dadd3d514e94bb4f5795a6733085",
       "version_major": 2,
       "version_minor": 0
      },
      "text/plain": [
       "  0%|          | 0/28 [00:00<?, ?it/s]"
      ]
     },
     "metadata": {},
     "output_type": "display_data"
    },
    {
     "data": {
      "application/vnd.jupyter.widget-view+json": {
       "model_id": "77db05acccce4315afd5bab3bb61aefd",
       "version_major": 2,
       "version_minor": 0
      },
      "text/plain": [
       "  0%|          | 0/21 [00:00<?, ?it/s]"
      ]
     },
     "metadata": {},
     "output_type": "display_data"
    },
    {
     "data": {
      "application/vnd.jupyter.widget-view+json": {
       "model_id": "fd840869531f43358a32dd5558ed6469",
       "version_major": 2,
       "version_minor": 0
      },
      "text/plain": [
       "  0%|          | 0/34 [00:00<?, ?it/s]"
      ]
     },
     "metadata": {},
     "output_type": "display_data"
    },
    {
     "data": {
      "application/vnd.jupyter.widget-view+json": {
       "model_id": "91ef7800550d476a8bda1560157ad421",
       "version_major": 2,
       "version_minor": 0
      },
      "text/plain": [
       "  0%|          | 0/55 [00:00<?, ?it/s]"
      ]
     },
     "metadata": {},
     "output_type": "display_data"
    },
    {
     "data": {
      "application/vnd.jupyter.widget-view+json": {
       "model_id": "a87921f060044ac2bcb63cce799ce3e7",
       "version_major": 2,
       "version_minor": 0
      },
      "text/plain": [
       "  0%|          | 0/33 [00:00<?, ?it/s]"
      ]
     },
     "metadata": {},
     "output_type": "display_data"
    },
    {
     "data": {
      "application/vnd.jupyter.widget-view+json": {
       "model_id": "a1505167fdcb401fbac058aacb8fc6b3",
       "version_major": 2,
       "version_minor": 0
      },
      "text/plain": [
       "  0%|          | 0/46 [00:00<?, ?it/s]"
      ]
     },
     "metadata": {},
     "output_type": "display_data"
    },
    {
     "data": {
      "application/vnd.jupyter.widget-view+json": {
       "model_id": "21699781e04c49ae8ef764e11945da88",
       "version_major": 2,
       "version_minor": 0
      },
      "text/plain": [
       "  0%|          | 0/26 [00:00<?, ?it/s]"
      ]
     },
     "metadata": {},
     "output_type": "display_data"
    },
    {
     "data": {
      "application/vnd.jupyter.widget-view+json": {
       "model_id": "502237f5acb84e4ab56ee8ddb6be807a",
       "version_major": 2,
       "version_minor": 0
      },
      "text/plain": [
       "  0%|          | 0/33 [00:00<?, ?it/s]"
      ]
     },
     "metadata": {},
     "output_type": "display_data"
    },
    {
     "data": {
      "application/vnd.jupyter.widget-view+json": {
       "model_id": "05a24adc36814d04a37c96e3a594c47d",
       "version_major": 2,
       "version_minor": 0
      },
      "text/plain": [
       "  0%|          | 0/25 [00:00<?, ?it/s]"
      ]
     },
     "metadata": {},
     "output_type": "display_data"
    },
    {
     "data": {
      "application/vnd.jupyter.widget-view+json": {
       "model_id": "c2fe24cad2034d5d87947e34c923f67e",
       "version_major": 2,
       "version_minor": 0
      },
      "text/plain": [
       "  0%|          | 0/26 [00:00<?, ?it/s]"
      ]
     },
     "metadata": {},
     "output_type": "display_data"
    },
    {
     "data": {
      "application/vnd.jupyter.widget-view+json": {
       "model_id": "316239cf350a4b3581f17ed23106e1c3",
       "version_major": 2,
       "version_minor": 0
      },
      "text/plain": [
       "  0%|          | 0/32 [00:00<?, ?it/s]"
      ]
     },
     "metadata": {},
     "output_type": "display_data"
    },
    {
     "data": {
      "application/vnd.jupyter.widget-view+json": {
       "model_id": "016217bf92034889a79394b51361b164",
       "version_major": 2,
       "version_minor": 0
      },
      "text/plain": [
       "  0%|          | 0/31 [00:00<?, ?it/s]"
      ]
     },
     "metadata": {},
     "output_type": "display_data"
    },
    {
     "data": {
      "application/vnd.jupyter.widget-view+json": {
       "model_id": "bb508b519d7041a59ce4417e2ec57188",
       "version_major": 2,
       "version_minor": 0
      },
      "text/plain": [
       "  0%|          | 0/50 [00:00<?, ?it/s]"
      ]
     },
     "metadata": {},
     "output_type": "display_data"
    },
    {
     "data": {
      "application/vnd.jupyter.widget-view+json": {
       "model_id": "18815a66f69244e9b8808e89466a1068",
       "version_major": 2,
       "version_minor": 0
      },
      "text/plain": [
       "  0%|          | 0/69 [00:00<?, ?it/s]"
      ]
     },
     "metadata": {},
     "output_type": "display_data"
    },
    {
     "data": {
      "application/vnd.jupyter.widget-view+json": {
       "model_id": "729c994b74504928bac2d63c745e9cc7",
       "version_major": 2,
       "version_minor": 0
      },
      "text/plain": [
       "  0%|          | 0/73 [00:00<?, ?it/s]"
      ]
     },
     "metadata": {},
     "output_type": "display_data"
    },
    {
     "data": {
      "application/vnd.jupyter.widget-view+json": {
       "model_id": "792c833cdd4140b994456849f4eafabf",
       "version_major": 2,
       "version_minor": 0
      },
      "text/plain": [
       "  0%|          | 0/52 [00:00<?, ?it/s]"
      ]
     },
     "metadata": {},
     "output_type": "display_data"
    },
    {
     "data": {
      "application/vnd.jupyter.widget-view+json": {
       "model_id": "25f31453471041d7a23bc764c8e409c5",
       "version_major": 2,
       "version_minor": 0
      },
      "text/plain": [
       "  0%|          | 0/51 [00:00<?, ?it/s]"
      ]
     },
     "metadata": {},
     "output_type": "display_data"
    },
    {
     "data": {
      "application/vnd.jupyter.widget-view+json": {
       "model_id": "a1dc3faefe54414f8b96e4cf8914cf53",
       "version_major": 2,
       "version_minor": 0
      },
      "text/plain": [
       "  0%|          | 0/21 [00:00<?, ?it/s]"
      ]
     },
     "metadata": {},
     "output_type": "display_data"
    },
    {
     "data": {
      "application/vnd.jupyter.widget-view+json": {
       "model_id": "edb6b3dd76f74b81b20ce096372f422b",
       "version_major": 2,
       "version_minor": 0
      },
      "text/plain": [
       "  0%|          | 0/69 [00:00<?, ?it/s]"
      ]
     },
     "metadata": {},
     "output_type": "display_data"
    },
    {
     "data": {
      "application/vnd.jupyter.widget-view+json": {
       "model_id": "d53abe53e1aa4b65af3b703cfef985e5",
       "version_major": 2,
       "version_minor": 0
      },
      "text/plain": [
       "  0%|          | 0/65 [00:00<?, ?it/s]"
      ]
     },
     "metadata": {},
     "output_type": "display_data"
    },
    {
     "data": {
      "application/vnd.jupyter.widget-view+json": {
       "model_id": "7f833d7dd16e456cbf397c0595282b23",
       "version_major": 2,
       "version_minor": 0
      },
      "text/plain": [
       "  0%|          | 0/53 [00:00<?, ?it/s]"
      ]
     },
     "metadata": {},
     "output_type": "display_data"
    },
    {
     "data": {
      "application/vnd.jupyter.widget-view+json": {
       "model_id": "cf5e280f4e4746f6b4644e3303f054e9",
       "version_major": 2,
       "version_minor": 0
      },
      "text/plain": [
       "  0%|          | 0/89 [00:00<?, ?it/s]"
      ]
     },
     "metadata": {},
     "output_type": "display_data"
    },
    {
     "data": {
      "application/vnd.jupyter.widget-view+json": {
       "model_id": "93c20a3380fa417c86555ef7bb73aebb",
       "version_major": 2,
       "version_minor": 0
      },
      "text/plain": [
       "  0%|          | 0/69 [00:00<?, ?it/s]"
      ]
     },
     "metadata": {},
     "output_type": "display_data"
    },
    {
     "data": {
      "application/vnd.jupyter.widget-view+json": {
       "model_id": "17247e2dc5bb4a24ba3b2ed245e748ce",
       "version_major": 2,
       "version_minor": 0
      },
      "text/plain": [
       "  0%|          | 0/28 [00:00<?, ?it/s]"
      ]
     },
     "metadata": {},
     "output_type": "display_data"
    },
    {
     "data": {
      "application/vnd.jupyter.widget-view+json": {
       "model_id": "2f6153dc947b4c71be93774472b2b10d",
       "version_major": 2,
       "version_minor": 0
      },
      "text/plain": [
       "  0%|          | 0/34 [00:00<?, ?it/s]"
      ]
     },
     "metadata": {},
     "output_type": "display_data"
    },
    {
     "data": {
      "application/vnd.jupyter.widget-view+json": {
       "model_id": "4f35927c40f54b9ea4d9884177ee8098",
       "version_major": 2,
       "version_minor": 0
      },
      "text/plain": [
       "  0%|          | 0/50 [00:00<?, ?it/s]"
      ]
     },
     "metadata": {},
     "output_type": "display_data"
    },
    {
     "data": {
      "application/vnd.jupyter.widget-view+json": {
       "model_id": "8991fbba81e4406da9e7caeb39275719",
       "version_major": 2,
       "version_minor": 0
      },
      "text/plain": [
       "  0%|          | 0/84 [00:00<?, ?it/s]"
      ]
     },
     "metadata": {},
     "output_type": "display_data"
    },
    {
     "data": {
      "application/vnd.jupyter.widget-view+json": {
       "model_id": "e07fc7343323490d97507578a6520897",
       "version_major": 2,
       "version_minor": 0
      },
      "text/plain": [
       "  0%|          | 0/26 [00:00<?, ?it/s]"
      ]
     },
     "metadata": {},
     "output_type": "display_data"
    },
    {
     "data": {
      "application/vnd.jupyter.widget-view+json": {
       "model_id": "2cbdbca0759f42b8829759b63b9ddd63",
       "version_major": 2,
       "version_minor": 0
      },
      "text/plain": [
       "  0%|          | 0/3 [00:00<?, ?it/s]"
      ]
     },
     "metadata": {},
     "output_type": "display_data"
    },
    {
     "data": {
      "application/vnd.jupyter.widget-view+json": {
       "model_id": "4e7dd30be57343968ad9743d0bb251b4",
       "version_major": 2,
       "version_minor": 0
      },
      "text/plain": [
       "  0%|          | 0/59 [00:00<?, ?it/s]"
      ]
     },
     "metadata": {},
     "output_type": "display_data"
    },
    {
     "data": {
      "application/vnd.jupyter.widget-view+json": {
       "model_id": "8ed43e9520614fdca9e56550842db930",
       "version_major": 2,
       "version_minor": 0
      },
      "text/plain": [
       "  0%|          | 0/17 [00:00<?, ?it/s]"
      ]
     },
     "metadata": {},
     "output_type": "display_data"
    },
    {
     "data": {
      "application/vnd.jupyter.widget-view+json": {
       "model_id": "4e95605748594cc083c397268a0670fc",
       "version_major": 2,
       "version_minor": 0
      },
      "text/plain": [
       "  0%|          | 0/28 [00:00<?, ?it/s]"
      ]
     },
     "metadata": {},
     "output_type": "display_data"
    },
    {
     "data": {
      "application/vnd.jupyter.widget-view+json": {
       "model_id": "9d8a2db4b96842738b2a81f9bbe2f5fb",
       "version_major": 2,
       "version_minor": 0
      },
      "text/plain": [
       "  0%|          | 0/63 [00:00<?, ?it/s]"
      ]
     },
     "metadata": {},
     "output_type": "display_data"
    },
    {
     "data": {
      "application/vnd.jupyter.widget-view+json": {
       "model_id": "cbdb572401b94a0ca3282277a9d56620",
       "version_major": 2,
       "version_minor": 0
      },
      "text/plain": [
       "  0%|          | 0/28 [00:00<?, ?it/s]"
      ]
     },
     "metadata": {},
     "output_type": "display_data"
    },
    {
     "data": {
      "application/vnd.jupyter.widget-view+json": {
       "model_id": "a70e21a3f62845398018da12195c7d58",
       "version_major": 2,
       "version_minor": 0
      },
      "text/plain": [
       "  0%|          | 0/56 [00:00<?, ?it/s]"
      ]
     },
     "metadata": {},
     "output_type": "display_data"
    },
    {
     "data": {
      "application/vnd.jupyter.widget-view+json": {
       "model_id": "f17f4c47f2ce4d3285a7440e7a936290",
       "version_major": 2,
       "version_minor": 0
      },
      "text/plain": [
       "  0%|          | 0/35 [00:00<?, ?it/s]"
      ]
     },
     "metadata": {},
     "output_type": "display_data"
    },
    {
     "data": {
      "application/vnd.jupyter.widget-view+json": {
       "model_id": "f04bd60565c2420cbc34f8486752ad66",
       "version_major": 2,
       "version_minor": 0
      },
      "text/plain": [
       "  0%|          | 0/41 [00:00<?, ?it/s]"
      ]
     },
     "metadata": {},
     "output_type": "display_data"
    },
    {
     "data": {
      "application/vnd.jupyter.widget-view+json": {
       "model_id": "5a597d60b9964149a303c796441f5581",
       "version_major": 2,
       "version_minor": 0
      },
      "text/plain": [
       "  0%|          | 0/32 [00:00<?, ?it/s]"
      ]
     },
     "metadata": {},
     "output_type": "display_data"
    },
    {
     "data": {
      "application/vnd.jupyter.widget-view+json": {
       "model_id": "6b92ea23d24244e294db6774b1b2def9",
       "version_major": 2,
       "version_minor": 0
      },
      "text/plain": [
       "  0%|          | 0/36 [00:00<?, ?it/s]"
      ]
     },
     "metadata": {},
     "output_type": "display_data"
    },
    {
     "data": {
      "application/vnd.jupyter.widget-view+json": {
       "model_id": "c1145b2ef70f401f8ff374ab708082cf",
       "version_major": 2,
       "version_minor": 0
      },
      "text/plain": [
       "  0%|          | 0/41 [00:00<?, ?it/s]"
      ]
     },
     "metadata": {},
     "output_type": "display_data"
    },
    {
     "data": {
      "application/vnd.jupyter.widget-view+json": {
       "model_id": "a6d9630f10d241f684125e92ad5f8467",
       "version_major": 2,
       "version_minor": 0
      },
      "text/plain": [
       "  0%|          | 0/35 [00:00<?, ?it/s]"
      ]
     },
     "metadata": {},
     "output_type": "display_data"
    },
    {
     "data": {
      "application/vnd.jupyter.widget-view+json": {
       "model_id": "1e975e6423fa40e7a26a13802f781d8d",
       "version_major": 2,
       "version_minor": 0
      },
      "text/plain": [
       "  0%|          | 0/36 [00:00<?, ?it/s]"
      ]
     },
     "metadata": {},
     "output_type": "display_data"
    },
    {
     "data": {
      "application/vnd.jupyter.widget-view+json": {
       "model_id": "2ed9378883b34f9f84cc471b497f2f3d",
       "version_major": 2,
       "version_minor": 0
      },
      "text/plain": [
       "  0%|          | 0/43 [00:00<?, ?it/s]"
      ]
     },
     "metadata": {},
     "output_type": "display_data"
    },
    {
     "data": {
      "application/vnd.jupyter.widget-view+json": {
       "model_id": "6f382fa8bd99490ca2ea17f8dc132965",
       "version_major": 2,
       "version_minor": 0
      },
      "text/plain": [
       "  0%|          | 0/62 [00:00<?, ?it/s]"
      ]
     },
     "metadata": {},
     "output_type": "display_data"
    },
    {
     "data": {
      "application/vnd.jupyter.widget-view+json": {
       "model_id": "b602071b18024ecd9c088e1330350676",
       "version_major": 2,
       "version_minor": 0
      },
      "text/plain": [
       "  0%|          | 0/39 [00:00<?, ?it/s]"
      ]
     },
     "metadata": {},
     "output_type": "display_data"
    },
    {
     "data": {
      "application/vnd.jupyter.widget-view+json": {
       "model_id": "b8670d33f8d24fc8b7efd8791316da07",
       "version_major": 2,
       "version_minor": 0
      },
      "text/plain": [
       "  0%|          | 0/26 [00:00<?, ?it/s]"
      ]
     },
     "metadata": {},
     "output_type": "display_data"
    },
    {
     "data": {
      "application/vnd.jupyter.widget-view+json": {
       "model_id": "70fecd1514ad4781ba6738dc55e6b91d",
       "version_major": 2,
       "version_minor": 0
      },
      "text/plain": [
       "  0%|          | 0/37 [00:00<?, ?it/s]"
      ]
     },
     "metadata": {},
     "output_type": "display_data"
    },
    {
     "data": {
      "application/vnd.jupyter.widget-view+json": {
       "model_id": "19cd6d56cab64e1a98cdce15be543abc",
       "version_major": 2,
       "version_minor": 0
      },
      "text/plain": [
       "  0%|          | 0/42 [00:00<?, ?it/s]"
      ]
     },
     "metadata": {},
     "output_type": "display_data"
    },
    {
     "data": {
      "application/vnd.jupyter.widget-view+json": {
       "model_id": "f0e562aca8984106b31046083c185892",
       "version_major": 2,
       "version_minor": 0
      },
      "text/plain": [
       "  0%|          | 0/80 [00:00<?, ?it/s]"
      ]
     },
     "metadata": {},
     "output_type": "display_data"
    },
    {
     "data": {
      "application/vnd.jupyter.widget-view+json": {
       "model_id": "51e0b9870a5c4a7f855aa2eb88ea5b63",
       "version_major": 2,
       "version_minor": 0
      },
      "text/plain": [
       "  0%|          | 0/54 [00:00<?, ?it/s]"
      ]
     },
     "metadata": {},
     "output_type": "display_data"
    },
    {
     "data": {
      "application/vnd.jupyter.widget-view+json": {
       "model_id": "f2f9838eda5c4b9582cbb0b3694248ae",
       "version_major": 2,
       "version_minor": 0
      },
      "text/plain": [
       "  0%|          | 0/39 [00:00<?, ?it/s]"
      ]
     },
     "metadata": {},
     "output_type": "display_data"
    },
    {
     "data": {
      "application/vnd.jupyter.widget-view+json": {
       "model_id": "b416f94f7a1341caa9fa3aca3aa520bf",
       "version_major": 2,
       "version_minor": 0
      },
      "text/plain": [
       "  0%|          | 0/35 [00:00<?, ?it/s]"
      ]
     },
     "metadata": {},
     "output_type": "display_data"
    },
    {
     "data": {
      "application/vnd.jupyter.widget-view+json": {
       "model_id": "7883766a985546db81dae8a84efbfccd",
       "version_major": 2,
       "version_minor": 0
      },
      "text/plain": [
       "  0%|          | 0/51 [00:00<?, ?it/s]"
      ]
     },
     "metadata": {},
     "output_type": "display_data"
    },
    {
     "data": {
      "application/vnd.jupyter.widget-view+json": {
       "model_id": "f82b748dc30b47b1b07bc6e499428af8",
       "version_major": 2,
       "version_minor": 0
      },
      "text/plain": [
       "  0%|          | 0/37 [00:00<?, ?it/s]"
      ]
     },
     "metadata": {},
     "output_type": "display_data"
    },
    {
     "data": {
      "application/vnd.jupyter.widget-view+json": {
       "model_id": "32b34c7cf87344da85bb11a3074d75a6",
       "version_major": 2,
       "version_minor": 0
      },
      "text/plain": [
       "  0%|          | 0/52 [00:00<?, ?it/s]"
      ]
     },
     "metadata": {},
     "output_type": "display_data"
    },
    {
     "data": {
      "application/vnd.jupyter.widget-view+json": {
       "model_id": "1ebcc7282dfd4238b5d00d49e8de1e44",
       "version_major": 2,
       "version_minor": 0
      },
      "text/plain": [
       "  0%|          | 0/24 [00:00<?, ?it/s]"
      ]
     },
     "metadata": {},
     "output_type": "display_data"
    },
    {
     "data": {
      "application/vnd.jupyter.widget-view+json": {
       "model_id": "3e74402c3ee64a618f09b52ee003b1e3",
       "version_major": 2,
       "version_minor": 0
      },
      "text/plain": [
       "  0%|          | 0/23 [00:00<?, ?it/s]"
      ]
     },
     "metadata": {},
     "output_type": "display_data"
    },
    {
     "data": {
      "application/vnd.jupyter.widget-view+json": {
       "model_id": "eae738789efd4bb8b1aefa1ef21c40e3",
       "version_major": 2,
       "version_minor": 0
      },
      "text/plain": [
       "  0%|          | 0/23 [00:00<?, ?it/s]"
      ]
     },
     "metadata": {},
     "output_type": "display_data"
    },
    {
     "data": {
      "application/vnd.jupyter.widget-view+json": {
       "model_id": "0200bd3ab5a74bfc91a5c3fc8d59f517",
       "version_major": 2,
       "version_minor": 0
      },
      "text/plain": [
       "  0%|          | 0/39 [00:00<?, ?it/s]"
      ]
     },
     "metadata": {},
     "output_type": "display_data"
    },
    {
     "data": {
      "application/vnd.jupyter.widget-view+json": {
       "model_id": "e32012ae6d9245e7890b66a0cfed607f",
       "version_major": 2,
       "version_minor": 0
      },
      "text/plain": [
       "  0%|          | 0/36 [00:00<?, ?it/s]"
      ]
     },
     "metadata": {},
     "output_type": "display_data"
    },
    {
     "data": {
      "application/vnd.jupyter.widget-view+json": {
       "model_id": "186e7373c1c24d0a9bee9b1d27ee95a4",
       "version_major": 2,
       "version_minor": 0
      },
      "text/plain": [
       "  0%|          | 0/35 [00:00<?, ?it/s]"
      ]
     },
     "metadata": {},
     "output_type": "display_data"
    },
    {
     "data": {
      "application/vnd.jupyter.widget-view+json": {
       "model_id": "b9ae1433d7bc468cad90d15b3ff36596",
       "version_major": 2,
       "version_minor": 0
      },
      "text/plain": [
       "  0%|          | 0/46 [00:00<?, ?it/s]"
      ]
     },
     "metadata": {},
     "output_type": "display_data"
    },
    {
     "data": {
      "application/vnd.jupyter.widget-view+json": {
       "model_id": "7372301d77784d44a233643da8b2c598",
       "version_major": 2,
       "version_minor": 0
      },
      "text/plain": [
       "  0%|          | 0/45 [00:00<?, ?it/s]"
      ]
     },
     "metadata": {},
     "output_type": "display_data"
    },
    {
     "data": {
      "application/vnd.jupyter.widget-view+json": {
       "model_id": "77445045ca054be89569d91ec885a3b1",
       "version_major": 2,
       "version_minor": 0
      },
      "text/plain": [
       "  0%|          | 0/46 [00:00<?, ?it/s]"
      ]
     },
     "metadata": {},
     "output_type": "display_data"
    },
    {
     "data": {
      "application/vnd.jupyter.widget-view+json": {
       "model_id": "fa1c6c41468046478a21b1b1df767edb",
       "version_major": 2,
       "version_minor": 0
      },
      "text/plain": [
       "  0%|          | 0/19 [00:00<?, ?it/s]"
      ]
     },
     "metadata": {},
     "output_type": "display_data"
    },
    {
     "data": {
      "application/vnd.jupyter.widget-view+json": {
       "model_id": "0f90c379a63e45489aede0d4c8f5fde6",
       "version_major": 2,
       "version_minor": 0
      },
      "text/plain": [
       "  0%|          | 0/27 [00:00<?, ?it/s]"
      ]
     },
     "metadata": {},
     "output_type": "display_data"
    },
    {
     "data": {
      "application/vnd.jupyter.widget-view+json": {
       "model_id": "dd3311fce82b4892ae5793a6ed507549",
       "version_major": 2,
       "version_minor": 0
      },
      "text/plain": [
       "  0%|          | 0/78 [00:00<?, ?it/s]"
      ]
     },
     "metadata": {},
     "output_type": "display_data"
    },
    {
     "data": {
      "application/vnd.jupyter.widget-view+json": {
       "model_id": "6d69720b4fbc49968c20d27f7410eb81",
       "version_major": 2,
       "version_minor": 0
      },
      "text/plain": [
       "  0%|          | 0/31 [00:00<?, ?it/s]"
      ]
     },
     "metadata": {},
     "output_type": "display_data"
    },
    {
     "data": {
      "application/vnd.jupyter.widget-view+json": {
       "model_id": "7a6c117b32404af1b3b8904d3e941016",
       "version_major": 2,
       "version_minor": 0
      },
      "text/plain": [
       "  0%|          | 0/26 [00:00<?, ?it/s]"
      ]
     },
     "metadata": {},
     "output_type": "display_data"
    },
    {
     "data": {
      "application/vnd.jupyter.widget-view+json": {
       "model_id": "08987d42b5874a1db0b9575a01c373c1",
       "version_major": 2,
       "version_minor": 0
      },
      "text/plain": [
       "  0%|          | 0/40 [00:00<?, ?it/s]"
      ]
     },
     "metadata": {},
     "output_type": "display_data"
    },
    {
     "data": {
      "application/vnd.jupyter.widget-view+json": {
       "model_id": "1270f121831f4c54ba675877be6e3835",
       "version_major": 2,
       "version_minor": 0
      },
      "text/plain": [
       "  0%|          | 0/47 [00:00<?, ?it/s]"
      ]
     },
     "metadata": {},
     "output_type": "display_data"
    },
    {
     "data": {
      "application/vnd.jupyter.widget-view+json": {
       "model_id": "278228551a094714a1c8a2554e06f130",
       "version_major": 2,
       "version_minor": 0
      },
      "text/plain": [
       "  0%|          | 0/42 [00:00<?, ?it/s]"
      ]
     },
     "metadata": {},
     "output_type": "display_data"
    },
    {
     "data": {
      "application/vnd.jupyter.widget-view+json": {
       "model_id": "9384ac3040314283814de366347c1258",
       "version_major": 2,
       "version_minor": 0
      },
      "text/plain": [
       "  0%|          | 0/41 [00:00<?, ?it/s]"
      ]
     },
     "metadata": {},
     "output_type": "display_data"
    },
    {
     "data": {
      "application/vnd.jupyter.widget-view+json": {
       "model_id": "d3664a177134416e94025ec94ea518b2",
       "version_major": 2,
       "version_minor": 0
      },
      "text/plain": [
       "  0%|          | 0/23 [00:00<?, ?it/s]"
      ]
     },
     "metadata": {},
     "output_type": "display_data"
    },
    {
     "data": {
      "application/vnd.jupyter.widget-view+json": {
       "model_id": "3e4c9a2f07d446e29fef0e99a01cdb79",
       "version_major": 2,
       "version_minor": 0
      },
      "text/plain": [
       "  0%|          | 0/74 [00:00<?, ?it/s]"
      ]
     },
     "metadata": {},
     "output_type": "display_data"
    },
    {
     "data": {
      "application/vnd.jupyter.widget-view+json": {
       "model_id": "95ca9989576240e4bf654ae465948822",
       "version_major": 2,
       "version_minor": 0
      },
      "text/plain": [
       "Loading and preprocessing files to dataset.:   0%|          | 0/33 [00:00<?, ?it/s]"
      ]
     },
     "metadata": {},
     "output_type": "display_data"
    },
    {
     "data": {
      "application/vnd.jupyter.widget-view+json": {
       "model_id": "acd336b860344aa18becee31721d086a",
       "version_major": 2,
       "version_minor": 0
      },
      "text/plain": [
       "  0%|          | 0/46 [00:00<?, ?it/s]"
      ]
     },
     "metadata": {},
     "output_type": "display_data"
    },
    {
     "data": {
      "application/vnd.jupyter.widget-view+json": {
       "model_id": "4d32301c116c4bc1b214fa7a392b880a",
       "version_major": 2,
       "version_minor": 0
      },
      "text/plain": [
       "  0%|          | 0/37 [00:00<?, ?it/s]"
      ]
     },
     "metadata": {},
     "output_type": "display_data"
    },
    {
     "data": {
      "application/vnd.jupyter.widget-view+json": {
       "model_id": "c66a64e2253a40b0b7959227d3206bc0",
       "version_major": 2,
       "version_minor": 0
      },
      "text/plain": [
       "  0%|          | 0/79 [00:00<?, ?it/s]"
      ]
     },
     "metadata": {},
     "output_type": "display_data"
    },
    {
     "data": {
      "application/vnd.jupyter.widget-view+json": {
       "model_id": "5391b2ae88c7473cb5920b8725c680b5",
       "version_major": 2,
       "version_minor": 0
      },
      "text/plain": [
       "  0%|          | 0/30 [00:00<?, ?it/s]"
      ]
     },
     "metadata": {},
     "output_type": "display_data"
    },
    {
     "data": {
      "application/vnd.jupyter.widget-view+json": {
       "model_id": "c20a08199abb435896b7ab7f3e8ba137",
       "version_major": 2,
       "version_minor": 0
      },
      "text/plain": [
       "  0%|          | 0/80 [00:00<?, ?it/s]"
      ]
     },
     "metadata": {},
     "output_type": "display_data"
    },
    {
     "data": {
      "application/vnd.jupyter.widget-view+json": {
       "model_id": "1d3f91db1053403498c4b60a13503df9",
       "version_major": 2,
       "version_minor": 0
      },
      "text/plain": [
       "  0%|          | 0/54 [00:00<?, ?it/s]"
      ]
     },
     "metadata": {},
     "output_type": "display_data"
    },
    {
     "data": {
      "application/vnd.jupyter.widget-view+json": {
       "model_id": "b160367862af4b95977cbdbd53c51f23",
       "version_major": 2,
       "version_minor": 0
      },
      "text/plain": [
       "  0%|          | 0/52 [00:00<?, ?it/s]"
      ]
     },
     "metadata": {},
     "output_type": "display_data"
    },
    {
     "data": {
      "application/vnd.jupyter.widget-view+json": {
       "model_id": "968d2b93bac14cf28aaae93b635779b6",
       "version_major": 2,
       "version_minor": 0
      },
      "text/plain": [
       "  0%|          | 0/24 [00:00<?, ?it/s]"
      ]
     },
     "metadata": {},
     "output_type": "display_data"
    },
    {
     "data": {
      "application/vnd.jupyter.widget-view+json": {
       "model_id": "b6a344299f4c4c12ba518c1cf4b6de90",
       "version_major": 2,
       "version_minor": 0
      },
      "text/plain": [
       "  0%|          | 0/40 [00:00<?, ?it/s]"
      ]
     },
     "metadata": {},
     "output_type": "display_data"
    },
    {
     "data": {
      "application/vnd.jupyter.widget-view+json": {
       "model_id": "784e4e26fb074a4aaea4da4dddbcbea3",
       "version_major": 2,
       "version_minor": 0
      },
      "text/plain": [
       "  0%|          | 0/34 [00:00<?, ?it/s]"
      ]
     },
     "metadata": {},
     "output_type": "display_data"
    },
    {
     "data": {
      "application/vnd.jupyter.widget-view+json": {
       "model_id": "03814bf32b8b4114b81d1cd92c508239",
       "version_major": 2,
       "version_minor": 0
      },
      "text/plain": [
       "  0%|          | 0/48 [00:00<?, ?it/s]"
      ]
     },
     "metadata": {},
     "output_type": "display_data"
    },
    {
     "data": {
      "application/vnd.jupyter.widget-view+json": {
       "model_id": "824217bd9a4f44778d8e8313a402b108",
       "version_major": 2,
       "version_minor": 0
      },
      "text/plain": [
       "  0%|          | 0/42 [00:00<?, ?it/s]"
      ]
     },
     "metadata": {},
     "output_type": "display_data"
    },
    {
     "data": {
      "application/vnd.jupyter.widget-view+json": {
       "model_id": "763cf7b0a5db4f5a985a1d48e45b065a",
       "version_major": 2,
       "version_minor": 0
      },
      "text/plain": [
       "  0%|          | 0/26 [00:00<?, ?it/s]"
      ]
     },
     "metadata": {},
     "output_type": "display_data"
    },
    {
     "data": {
      "application/vnd.jupyter.widget-view+json": {
       "model_id": "63d56371b2aa4c3d9f455aa2f3a6d04d",
       "version_major": 2,
       "version_minor": 0
      },
      "text/plain": [
       "  0%|          | 0/74 [00:00<?, ?it/s]"
      ]
     },
     "metadata": {},
     "output_type": "display_data"
    },
    {
     "data": {
      "application/vnd.jupyter.widget-view+json": {
       "model_id": "47aa3590920e46d08b2cc4922d683856",
       "version_major": 2,
       "version_minor": 0
      },
      "text/plain": [
       "  0%|          | 0/63 [00:00<?, ?it/s]"
      ]
     },
     "metadata": {},
     "output_type": "display_data"
    },
    {
     "data": {
      "application/vnd.jupyter.widget-view+json": {
       "model_id": "c1f3dfd20b6d47aaa959a1205ca5b6bc",
       "version_major": 2,
       "version_minor": 0
      },
      "text/plain": [
       "  0%|          | 0/45 [00:00<?, ?it/s]"
      ]
     },
     "metadata": {},
     "output_type": "display_data"
    },
    {
     "data": {
      "application/vnd.jupyter.widget-view+json": {
       "model_id": "5d088ccc63d04536b43085fc0244785d",
       "version_major": 2,
       "version_minor": 0
      },
      "text/plain": [
       "  0%|          | 0/65 [00:00<?, ?it/s]"
      ]
     },
     "metadata": {},
     "output_type": "display_data"
    },
    {
     "data": {
      "application/vnd.jupyter.widget-view+json": {
       "model_id": "7840d2fdea544369b8137deaaff88721",
       "version_major": 2,
       "version_minor": 0
      },
      "text/plain": [
       "  0%|          | 0/35 [00:00<?, ?it/s]"
      ]
     },
     "metadata": {},
     "output_type": "display_data"
    },
    {
     "data": {
      "application/vnd.jupyter.widget-view+json": {
       "model_id": "54c3c6075d41423f8f11d39fef483274",
       "version_major": 2,
       "version_minor": 0
      },
      "text/plain": [
       "  0%|          | 0/35 [00:00<?, ?it/s]"
      ]
     },
     "metadata": {},
     "output_type": "display_data"
    },
    {
     "data": {
      "application/vnd.jupyter.widget-view+json": {
       "model_id": "8cf1a345ce1345a984cd19eb6ec29c70",
       "version_major": 2,
       "version_minor": 0
      },
      "text/plain": [
       "  0%|          | 0/35 [00:00<?, ?it/s]"
      ]
     },
     "metadata": {},
     "output_type": "display_data"
    },
    {
     "data": {
      "application/vnd.jupyter.widget-view+json": {
       "model_id": "9254f7f9792a45c687203ae4a2b9cf7e",
       "version_major": 2,
       "version_minor": 0
      },
      "text/plain": [
       "  0%|          | 0/55 [00:00<?, ?it/s]"
      ]
     },
     "metadata": {},
     "output_type": "display_data"
    },
    {
     "data": {
      "application/vnd.jupyter.widget-view+json": {
       "model_id": "4061d102f07f40fe86ee16f263f7f8df",
       "version_major": 2,
       "version_minor": 0
      },
      "text/plain": [
       "  0%|          | 0/32 [00:00<?, ?it/s]"
      ]
     },
     "metadata": {},
     "output_type": "display_data"
    },
    {
     "data": {
      "application/vnd.jupyter.widget-view+json": {
       "model_id": "73bcefc9db7245c2bad531d0605531bb",
       "version_major": 2,
       "version_minor": 0
      },
      "text/plain": [
       "  0%|          | 0/38 [00:00<?, ?it/s]"
      ]
     },
     "metadata": {},
     "output_type": "display_data"
    },
    {
     "data": {
      "application/vnd.jupyter.widget-view+json": {
       "model_id": "7634ba96f97348ce8d529017e0ffa684",
       "version_major": 2,
       "version_minor": 0
      },
      "text/plain": [
       "  0%|          | 0/30 [00:00<?, ?it/s]"
      ]
     },
     "metadata": {},
     "output_type": "display_data"
    },
    {
     "data": {
      "application/vnd.jupyter.widget-view+json": {
       "model_id": "522a3c39c8344d448d34a141023a304d",
       "version_major": 2,
       "version_minor": 0
      },
      "text/plain": [
       "  0%|          | 0/77 [00:00<?, ?it/s]"
      ]
     },
     "metadata": {},
     "output_type": "display_data"
    },
    {
     "data": {
      "application/vnd.jupyter.widget-view+json": {
       "model_id": "86cc574c10f341509aca1c14356c0dc6",
       "version_major": 2,
       "version_minor": 0
      },
      "text/plain": [
       "  0%|          | 0/37 [00:00<?, ?it/s]"
      ]
     },
     "metadata": {},
     "output_type": "display_data"
    },
    {
     "data": {
      "application/vnd.jupyter.widget-view+json": {
       "model_id": "93ee43d5f93b4a19a9862bb729268c4d",
       "version_major": 2,
       "version_minor": 0
      },
      "text/plain": [
       "  0%|          | 0/24 [00:00<?, ?it/s]"
      ]
     },
     "metadata": {},
     "output_type": "display_data"
    },
    {
     "data": {
      "application/vnd.jupyter.widget-view+json": {
       "model_id": "52abd1b1292e4e1f8b2919b3b4186aff",
       "version_major": 2,
       "version_minor": 0
      },
      "text/plain": [
       "  0%|          | 0/32 [00:00<?, ?it/s]"
      ]
     },
     "metadata": {},
     "output_type": "display_data"
    },
    {
     "data": {
      "application/vnd.jupyter.widget-view+json": {
       "model_id": "1b54df5764b3478292370618d99bd2dc",
       "version_major": 2,
       "version_minor": 0
      },
      "text/plain": [
       "  0%|          | 0/42 [00:00<?, ?it/s]"
      ]
     },
     "metadata": {},
     "output_type": "display_data"
    },
    {
     "data": {
      "application/vnd.jupyter.widget-view+json": {
       "model_id": "a78d1d012bc7481d8db10fe2bf988a64",
       "version_major": 2,
       "version_minor": 0
      },
      "text/plain": [
       "  0%|          | 0/26 [00:00<?, ?it/s]"
      ]
     },
     "metadata": {},
     "output_type": "display_data"
    },
    {
     "data": {
      "application/vnd.jupyter.widget-view+json": {
       "model_id": "2fb158a339ea46d686f06f76cd4e0370",
       "version_major": 2,
       "version_minor": 0
      },
      "text/plain": [
       "  0%|          | 0/47 [00:00<?, ?it/s]"
      ]
     },
     "metadata": {},
     "output_type": "display_data"
    },
    {
     "data": {
      "application/vnd.jupyter.widget-view+json": {
       "model_id": "89df597ad446457b9c70b0e9e667bc56",
       "version_major": 2,
       "version_minor": 0
      },
      "text/plain": [
       "  0%|          | 0/79 [00:00<?, ?it/s]"
      ]
     },
     "metadata": {},
     "output_type": "display_data"
    },
    {
     "data": {
      "application/vnd.jupyter.widget-view+json": {
       "model_id": "bd71c50dc97d4366b4ee2de1dd716834",
       "version_major": 2,
       "version_minor": 0
      },
      "text/plain": [
       "  0%|          | 0/50 [00:00<?, ?it/s]"
      ]
     },
     "metadata": {},
     "output_type": "display_data"
    }
   ],
   "source": [
    "from models.WaveNetVAE.WaveVae import WaveNetVAE\n",
    "from models.WaveNetVAE.WVData import WVDataset\n",
    "import torch\n",
    "from torch.utils.data import DataLoader\n",
    "import warnings\n",
    "warnings.filterwarnings(\"ignore\")\n",
    "\n",
    "\"\"\"\n",
    "Hyperparameters\n",
    "\"\"\"\n",
    "\n",
    "batchsize = 2\n",
    "device='cuda:2'\n",
    "input_size = (40, 112)\n",
    "upsamples = [2, 2, 2, 2, 2, 2, 2, 2]\n",
    "zsize = 32\n",
    "\n",
    "WaveVAE = WaveNetVAE(input_size,\n",
    "                     num_hiddens = 768,\n",
    "                     upsamples = upsamples,\n",
    "                     zsize = zsize,\n",
    "                    out_channels = 256)\n",
    "\n",
    "WaveVAE.to(device)\n",
    "\n",
    "VAEDataset = WVDataset(audio_path = \"../ConvDenoiser_Old/clips\",\n",
    "                       length = 4096,\n",
    "                       skip_size = 4096 // 2,\n",
    "                       sample_rate = 24000,\n",
    "                       max_files = 300,\n",
    "                       hop_length = 128)\n",
    "\n",
    "val_VAEDataset = WVDataset(audio_path = \"../ConvDenoiser_Old/testdata\",\n",
    "                       length = 4096,\n",
    "                       skip_size = 4096 // 2,\n",
    "                       sample_rate = 24000,\n",
    "                       max_files = 200,\n",
    "                       hop_length = 128)\n",
    "\n",
    "VAEDataloader = DataLoader(VAEDataset,\n",
    "                           batch_size = batchsize,\n",
    "                           shuffle = True)\n",
    "\n",
    "val_VAEDataloader = DataLoader(val_VAEDataset,\n",
    "                           batch_size = batchsize,\n",
    "                           shuffle = False)"
   ]
  },
  {
   "cell_type": "markdown",
   "metadata": {
    "jp-MarkdownHeadingCollapsed": true,
    "tags": []
   },
   "source": [
    "# Test tensor"
   ]
  },
  {
   "cell_type": "code",
   "execution_count": 26,
   "metadata": {
    "collapsed": false,
    "jupyter": {
     "outputs_hidden": false
    }
   },
   "outputs": [
    {
     "name": "stdout",
     "output_type": "stream",
     "text": [
      "Trying tensors with sizes:\n",
      "Onehot size:  torch.Size([2, 4096]) | MFCC size:  torch.Size([2, 40, 33]) | Target size:  torch.Size([2, 4097])\n"
     ]
    },
    {
     "data": {
      "image/png": "[encoded data removed]",
      "text/plain": [
       "<Figure size 640x480 with 1 Axes>"
      ]
     },
     "metadata": {},
     "output_type": "display_data"
    },
    {
     "data": {
      "image/png": "[encoded data removed]",
      "text/plain": [
       "<Figure size 640x480 with 1 Axes>"
      ]
     },
     "metadata": {},
     "output_type": "display_data"
    },
    {
     "name": "stdout",
     "output_type": "stream",
     "text": [
      "Target value:  59  | Input Value:  52\n",
      "torch.Size([2, 4097])\n",
      "Tensors passed through model succesfully torch.Size([2, 4096, 256])\n"
     ]
    },
    {
     "ename": "RuntimeError",
     "evalue": "Expected target size [2, 256], got [2, 4096]",
     "output_type": "error",
     "traceback": [
      "\u001b[0;31m---------------------------------------------------------------------------\u001b[0m",
      "\u001b[0;31mRuntimeError\u001b[0m                              Traceback (most recent call last)",
      "Cell \u001b[0;32mIn[26], line 34\u001b[0m\n\u001b[1;32m     31\u001b[0m output \u001b[38;5;241m=\u001b[39m output\u001b[38;5;241m.\u001b[39mtranspose(\u001b[38;5;241m2\u001b[39m,\u001b[38;5;241m1\u001b[39m)\n\u001b[1;32m     32\u001b[0m \u001b[38;5;28mprint\u001b[39m(\u001b[38;5;124m\"\u001b[39m\u001b[38;5;124mTensors passed through model succesfully\u001b[39m\u001b[38;5;124m\"\u001b[39m, output\u001b[38;5;241m.\u001b[39msize())\n\u001b[0;32m---> 34\u001b[0m reconstruction_loss \u001b[38;5;241m=\u001b[39m torch\u001b[38;5;241m.\u001b[39mmean(\u001b[43mloss_fn\u001b[49m\u001b[43m(\u001b[49m\u001b[43mtorch\u001b[49m\u001b[38;5;241;43m.\u001b[39;49m\u001b[43msqueeze\u001b[49m\u001b[43m(\u001b[49m\u001b[43moutput\u001b[49m\u001b[43m)\u001b[49m\u001b[43m,\u001b[49m\u001b[43m \u001b[49m\u001b[43mtorch\u001b[49m\u001b[38;5;241;43m.\u001b[39;49m\u001b[43msqueeze\u001b[49m\u001b[43m(\u001b[49m\u001b[43mtarget\u001b[49m\u001b[43m)\u001b[49m\u001b[43m[\u001b[49m\u001b[43m:\u001b[49m\u001b[43m,\u001b[49m\u001b[43m \u001b[49m\u001b[38;5;241;43m1\u001b[39;49m\u001b[43m:\u001b[49m\u001b[43m]\u001b[49m\u001b[43m)\u001b[49m[\u001b[38;5;241m-\u001b[39m\u001b[38;5;241m1\u001b[39m], \u001b[38;5;241m0\u001b[39m)\n\u001b[1;32m     36\u001b[0m \u001b[38;5;28mprint\u001b[39m(output[\u001b[38;5;241m0\u001b[39m, \u001b[38;5;241m4095\u001b[39m:]\u001b[38;5;241m.\u001b[39mcontiguous()\u001b[38;5;241m.\u001b[39mview(\u001b[38;5;241m1\u001b[39m, \u001b[38;5;241m256\u001b[39m)\u001b[38;5;241m.\u001b[39msize(), target[\u001b[38;5;241m0\u001b[39m, \u001b[38;5;241m4096\u001b[39m:]\u001b[38;5;241m.\u001b[39mcontiguous()\u001b[38;5;241m.\u001b[39mview(\u001b[38;5;241m-\u001b[39m\u001b[38;5;241m1\u001b[39m)\u001b[38;5;241m.\u001b[39msize())\n\u001b[1;32m     37\u001b[0m \u001b[38;5;28mprint\u001b[39m(torch\u001b[38;5;241m.\u001b[39margmax(output[\u001b[38;5;241m0\u001b[39m, \u001b[38;5;241m-\u001b[39m\u001b[38;5;241m1\u001b[39m]\u001b[38;5;241m.\u001b[39msqueeze()), target[\u001b[38;5;241m0\u001b[39m, \u001b[38;5;241m-\u001b[39m\u001b[38;5;241m1\u001b[39m]\u001b[38;5;241m.\u001b[39msqueeze()\u001b[38;5;241m.\u001b[39mitem(), onehot[\u001b[38;5;241m0\u001b[39m, \u001b[38;5;241m-\u001b[39m\u001b[38;5;241m1\u001b[39m]\u001b[38;5;241m.\u001b[39msqueeze()\u001b[38;5;241m.\u001b[39mitem())\n",
      "File \u001b[0;32m~/data/miniconda3/envs/myenv/lib/python3.10/site-packages/torch/nn/modules/module.py:1130\u001b[0m, in \u001b[0;36mModule._call_impl\u001b[0;34m(self, *input, **kwargs)\u001b[0m\n\u001b[1;32m   1126\u001b[0m \u001b[38;5;66;03m# If we don't have any hooks, we want to skip the rest of the logic in\u001b[39;00m\n\u001b[1;32m   1127\u001b[0m \u001b[38;5;66;03m# this function, and just call forward.\u001b[39;00m\n\u001b[1;32m   1128\u001b[0m \u001b[38;5;28;01mif\u001b[39;00m \u001b[38;5;129;01mnot\u001b[39;00m (\u001b[38;5;28mself\u001b[39m\u001b[38;5;241m.\u001b[39m_backward_hooks \u001b[38;5;129;01mor\u001b[39;00m \u001b[38;5;28mself\u001b[39m\u001b[38;5;241m.\u001b[39m_forward_hooks \u001b[38;5;129;01mor\u001b[39;00m \u001b[38;5;28mself\u001b[39m\u001b[38;5;241m.\u001b[39m_forward_pre_hooks \u001b[38;5;129;01mor\u001b[39;00m _global_backward_hooks\n\u001b[1;32m   1129\u001b[0m         \u001b[38;5;129;01mor\u001b[39;00m _global_forward_hooks \u001b[38;5;129;01mor\u001b[39;00m _global_forward_pre_hooks):\n\u001b[0;32m-> 1130\u001b[0m     \u001b[38;5;28;01mreturn\u001b[39;00m \u001b[43mforward_call\u001b[49m\u001b[43m(\u001b[49m\u001b[38;5;241;43m*\u001b[39;49m\u001b[38;5;28;43minput\u001b[39;49m\u001b[43m,\u001b[49m\u001b[43m \u001b[49m\u001b[38;5;241;43m*\u001b[39;49m\u001b[38;5;241;43m*\u001b[39;49m\u001b[43mkwargs\u001b[49m\u001b[43m)\u001b[49m\n\u001b[1;32m   1131\u001b[0m \u001b[38;5;66;03m# Do not call functions when jit is used\u001b[39;00m\n\u001b[1;32m   1132\u001b[0m full_backward_hooks, non_full_backward_hooks \u001b[38;5;241m=\u001b[39m [], []\n",
      "File \u001b[0;32m~/data/miniconda3/envs/myenv/lib/python3.10/site-packages/torch/nn/modules/loss.py:1164\u001b[0m, in \u001b[0;36mCrossEntropyLoss.forward\u001b[0;34m(self, input, target)\u001b[0m\n\u001b[1;32m   1163\u001b[0m \u001b[38;5;28;01mdef\u001b[39;00m \u001b[38;5;21mforward\u001b[39m(\u001b[38;5;28mself\u001b[39m, \u001b[38;5;28minput\u001b[39m: Tensor, target: Tensor) \u001b[38;5;241m-\u001b[39m\u001b[38;5;241m>\u001b[39m Tensor:\n\u001b[0;32m-> 1164\u001b[0m     \u001b[38;5;28;01mreturn\u001b[39;00m \u001b[43mF\u001b[49m\u001b[38;5;241;43m.\u001b[39;49m\u001b[43mcross_entropy\u001b[49m\u001b[43m(\u001b[49m\u001b[38;5;28;43minput\u001b[39;49m\u001b[43m,\u001b[49m\u001b[43m \u001b[49m\u001b[43mtarget\u001b[49m\u001b[43m,\u001b[49m\u001b[43m \u001b[49m\u001b[43mweight\u001b[49m\u001b[38;5;241;43m=\u001b[39;49m\u001b[38;5;28;43mself\u001b[39;49m\u001b[38;5;241;43m.\u001b[39;49m\u001b[43mweight\u001b[49m\u001b[43m,\u001b[49m\n\u001b[1;32m   1165\u001b[0m \u001b[43m                           \u001b[49m\u001b[43mignore_index\u001b[49m\u001b[38;5;241;43m=\u001b[39;49m\u001b[38;5;28;43mself\u001b[39;49m\u001b[38;5;241;43m.\u001b[39;49m\u001b[43mignore_index\u001b[49m\u001b[43m,\u001b[49m\u001b[43m \u001b[49m\u001b[43mreduction\u001b[49m\u001b[38;5;241;43m=\u001b[39;49m\u001b[38;5;28;43mself\u001b[39;49m\u001b[38;5;241;43m.\u001b[39;49m\u001b[43mreduction\u001b[49m\u001b[43m,\u001b[49m\n\u001b[1;32m   1166\u001b[0m \u001b[43m                           \u001b[49m\u001b[43mlabel_smoothing\u001b[49m\u001b[38;5;241;43m=\u001b[39;49m\u001b[38;5;28;43mself\u001b[39;49m\u001b[38;5;241;43m.\u001b[39;49m\u001b[43mlabel_smoothing\u001b[49m\u001b[43m)\u001b[49m\n",
      "File \u001b[0;32m~/data/miniconda3/envs/myenv/lib/python3.10/site-packages/torch/nn/functional.py:3014\u001b[0m, in \u001b[0;36mcross_entropy\u001b[0;34m(input, target, weight, size_average, ignore_index, reduce, reduction, label_smoothing)\u001b[0m\n\u001b[1;32m   3012\u001b[0m \u001b[38;5;28;01mif\u001b[39;00m size_average \u001b[38;5;129;01mis\u001b[39;00m \u001b[38;5;129;01mnot\u001b[39;00m \u001b[38;5;28;01mNone\u001b[39;00m \u001b[38;5;129;01mor\u001b[39;00m reduce \u001b[38;5;129;01mis\u001b[39;00m \u001b[38;5;129;01mnot\u001b[39;00m \u001b[38;5;28;01mNone\u001b[39;00m:\n\u001b[1;32m   3013\u001b[0m     reduction \u001b[38;5;241m=\u001b[39m _Reduction\u001b[38;5;241m.\u001b[39mlegacy_get_string(size_average, reduce)\n\u001b[0;32m-> 3014\u001b[0m \u001b[38;5;28;01mreturn\u001b[39;00m \u001b[43mtorch\u001b[49m\u001b[38;5;241;43m.\u001b[39;49m\u001b[43m_C\u001b[49m\u001b[38;5;241;43m.\u001b[39;49m\u001b[43m_nn\u001b[49m\u001b[38;5;241;43m.\u001b[39;49m\u001b[43mcross_entropy_loss\u001b[49m\u001b[43m(\u001b[49m\u001b[38;5;28;43minput\u001b[39;49m\u001b[43m,\u001b[49m\u001b[43m \u001b[49m\u001b[43mtarget\u001b[49m\u001b[43m,\u001b[49m\u001b[43m \u001b[49m\u001b[43mweight\u001b[49m\u001b[43m,\u001b[49m\u001b[43m \u001b[49m\u001b[43m_Reduction\u001b[49m\u001b[38;5;241;43m.\u001b[39;49m\u001b[43mget_enum\u001b[49m\u001b[43m(\u001b[49m\u001b[43mreduction\u001b[49m\u001b[43m)\u001b[49m\u001b[43m,\u001b[49m\u001b[43m \u001b[49m\u001b[43mignore_index\u001b[49m\u001b[43m,\u001b[49m\u001b[43m \u001b[49m\u001b[43mlabel_smoothing\u001b[49m\u001b[43m)\u001b[49m\n",
      "\u001b[0;31mRuntimeError\u001b[0m: Expected target size [2, 256], got [2, 4096]"
     ]
    }
   ],
   "source": [
    "import torchaudio\n",
    "import matplotlib.pyplot as plt\n",
    "\n",
    "# loss_fn = torch.nn.MSELoss()\n",
    "loss_fn = torch.nn.CrossEntropyLoss(reduction='none')\n",
    "\n",
    "onehot, mfcc, target = next(iter(VAEDataloader))\n",
    "onehot = onehot.to(device)\n",
    "mfcc = mfcc.to(device)\n",
    "target = target.to(device)\n",
    "\n",
    "print(\"Trying tensors with sizes:\")\n",
    "print(\"Onehot size: \", onehot.size(), \"| MFCC size: \", mfcc.size(), \"| Target size: \", target.size())\n",
    "\n",
    "plt.plot(torch.squeeze(onehot[0]).cpu().numpy())\n",
    "plt.ylabel('Input')\n",
    "plt.show()\n",
    "\n",
    "plt.plot(torch.squeeze(target[0]).cpu().numpy())\n",
    "plt.ylabel('Target')\n",
    "plt.show()\n",
    "\n",
    "\n",
    "\n",
    "print(\"Target value: \", target[0, -1].item(), \" | Input Value: \", onehot[0, -1].item())\n",
    "\n",
    "# target = torch.unsqueeze(torch.unsqueeze(target[:, -1], 1), 1)\n",
    "print(target.size())\n",
    "\n",
    "output, _, _ = WaveVAE(onehot, mfcc, True)\n",
    "output = output.transpose(2,1)\n",
    "print(\"Tensors passed through model succesfully\", output.size())\n",
    "\n",
    "reconstruction_loss = torch.mean(loss_fn(torch.squeeze(output), torch.squeeze(target)[:, 1:])[-1], 0)\n",
    "\n",
    "print(output[0, 4095:].contiguous().view(1, 256).size(), target[0, 4096:].contiguous().view(-1).size())\n",
    "print(torch.argmax(output[0, -1].squeeze()), target[0, -1].squeeze().item(), onehot[0, -1].squeeze().item())\n",
    "\n",
    "# reconstruction_loss = loss_fn(output[:, :, -1], target[:, :, -1])\n",
    "print(\"Reconstruction loss =\", reconstruction_loss.item())\n",
    "\n",
    "# onehot = torch.nn.functional.sigmoid(onehot[0, :, -1])\n",
    "# output = torch.nn.functional.sigmoid(output[0, :, -1])\n",
    "# onehotmax = torch.argmax(onehot)\n",
    "# outputmax = torch.argmax(output)\n",
    "\n",
    "print(onehot[0, :, -1].item(), output[0, :, -1].item(), target[0, :, -1].item())\n",
    "\n",
    "\n"
   ]
  },
  {
   "cell_type": "markdown",
   "metadata": {
    "tags": []
   },
   "source": [
    "# Start training"
   ]
  },
  {
   "cell_type": "code",
   "execution_count": null,
   "metadata": {},
   "outputs": [
    {
     "data": {
      "application/vnd.jupyter.widget-view+json": {
       "model_id": "035942ddfeac471fa3387ad84874c52c",
       "version_major": 2,
       "version_minor": 0
      },
      "text/plain": [
       "Training. Epoch: 0. Loss for step 1: n.v.t.:   0%|          | 0/6327 [00:00<?, ?it/s]"
      ]
     },
     "metadata": {},
     "output_type": "display_data"
    },
    {
     "data": {
      "application/vnd.jupyter.widget-view+json": {
       "model_id": "18e359eee6864a5591980eabcca0f63a",
       "version_major": 2,
       "version_minor": 0
      },
      "text/plain": [
       "Validating:   0%|          | 0/768 [00:00<?, ?it/s]"
      ]
     },
     "metadata": {},
     "output_type": "display_data"
    },
    {
     "data": {
      "application/vnd.jupyter.widget-view+json": {
       "model_id": "4ac26ca654554b7d8db7ad4b5faa0e15",
       "version_major": 2,
       "version_minor": 0
      },
      "text/plain": [
       "Validating:   0%|          | 0/768 [00:00<?, ?it/s]"
      ]
     },
     "metadata": {},
     "output_type": "display_data"
    },
    {
     "data": {
      "application/vnd.jupyter.widget-view+json": {
       "model_id": "5ab60236061a462e9e0cc352c8db763b",
       "version_major": 2,
       "version_minor": 0
      },
      "text/plain": [
       "Validating:   0%|          | 0/768 [00:00<?, ?it/s]"
      ]
     },
     "metadata": {},
     "output_type": "display_data"
    },
    {
     "data": {
      "application/vnd.jupyter.widget-view+json": {
       "model_id": "3e1fd67fbdfa45dfaa542b3f6a2c2fe1",
       "version_major": 2,
       "version_minor": 0
      },
      "text/plain": [
       "Validating:   0%|          | 0/768 [00:00<?, ?it/s]"
      ]
     },
     "metadata": {},
     "output_type": "display_data"
    },
    {
     "data": {
      "application/vnd.jupyter.widget-view+json": {
       "model_id": "2208ce70196f44788f33426af0dc901a",
       "version_major": 2,
       "version_minor": 0
      },
      "text/plain": [
       "Validating:   0%|          | 0/768 [00:00<?, ?it/s]"
      ]
     },
     "metadata": {},
     "output_type": "display_data"
    },
    {
     "data": {
      "application/vnd.jupyter.widget-view+json": {
       "model_id": "1e7b5f269d2d42a9b4c1e9465a299f4e",
       "version_major": 2,
       "version_minor": 0
      },
      "text/plain": [
       "Training. Epoch: 1. Loss for step 1: n.v.t.:   0%|          | 0/6327 [00:00<?, ?it/s]"
      ]
     },
     "metadata": {},
     "output_type": "display_data"
    },
    {
     "data": {
      "application/vnd.jupyter.widget-view+json": {
       "model_id": "583eef1beccf494cbe1e93d860a32a2a",
       "version_major": 2,
       "version_minor": 0
      },
      "text/plain": [
       "Validating:   0%|          | 0/768 [00:00<?, ?it/s]"
      ]
     },
     "metadata": {},
     "output_type": "display_data"
    },
    {
     "data": {
      "application/vnd.jupyter.widget-view+json": {
       "model_id": "c9ace465137d4efa9a9c9ad2980e5f83",
       "version_major": 2,
       "version_minor": 0
      },
      "text/plain": [
       "Validating:   0%|          | 0/768 [00:00<?, ?it/s]"
      ]
     },
     "metadata": {},
     "output_type": "display_data"
    },
    {
     "data": {
      "application/vnd.jupyter.widget-view+json": {
       "model_id": "898cc605f58f4e11a98e8001afcfd700",
       "version_major": 2,
       "version_minor": 0
      },
      "text/plain": [
       "Validating:   0%|          | 0/768 [00:00<?, ?it/s]"
      ]
     },
     "metadata": {},
     "output_type": "display_data"
    },
    {
     "data": {
      "application/vnd.jupyter.widget-view+json": {
       "model_id": "254cfe4ace204bb0a1f21fc1972da29e",
       "version_major": 2,
       "version_minor": 0
      },
      "text/plain": [
       "Validating:   0%|          | 0/768 [00:00<?, ?it/s]"
      ]
     },
     "metadata": {},
     "output_type": "display_data"
    },
    {
     "data": {
      "application/vnd.jupyter.widget-view+json": {
       "model_id": "244db3232bb846d5b8bf0029b46b26e4",
       "version_major": 2,
       "version_minor": 0
      },
      "text/plain": [
       "Validating:   0%|          | 0/768 [00:00<?, ?it/s]"
      ]
     },
     "metadata": {},
     "output_type": "display_data"
    },
    {
     "data": {
      "application/vnd.jupyter.widget-view+json": {
       "model_id": "53b5991d4c4b4f16aae93400a3403f17",
       "version_major": 2,
       "version_minor": 0
      },
      "text/plain": [
       "Training. Epoch: 2. Loss for step 1: n.v.t.:   0%|          | 0/6327 [00:00<?, ?it/s]"
      ]
     },
     "metadata": {},
     "output_type": "display_data"
    },
    {
     "data": {
      "application/vnd.jupyter.widget-view+json": {
       "model_id": "f01369ad4a6c437d981e89583fa22667",
       "version_major": 2,
       "version_minor": 0
      },
      "text/plain": [
       "Validating:   0%|          | 0/768 [00:00<?, ?it/s]"
      ]
     },
     "metadata": {},
     "output_type": "display_data"
    },
    {
     "data": {
      "application/vnd.jupyter.widget-view+json": {
       "model_id": "ed690cce515044139007a109f8d761a8",
       "version_major": 2,
       "version_minor": 0
      },
      "text/plain": [
       "Validating:   0%|          | 0/768 [00:00<?, ?it/s]"
      ]
     },
     "metadata": {},
     "output_type": "display_data"
    },
    {
     "data": {
      "application/vnd.jupyter.widget-view+json": {
       "model_id": "a3b593d3b0dd427197fb4b78dcd19f44",
       "version_major": 2,
       "version_minor": 0
      },
      "text/plain": [
       "Validating:   0%|          | 0/768 [00:00<?, ?it/s]"
      ]
     },
     "metadata": {},
     "output_type": "display_data"
    },
    {
     "data": {
      "application/vnd.jupyter.widget-view+json": {
       "model_id": "9877867715d44b3586c5e29a13728360",
       "version_major": 2,
       "version_minor": 0
      },
      "text/plain": [
       "Validating:   0%|          | 0/768 [00:00<?, ?it/s]"
      ]
     },
     "metadata": {},
     "output_type": "display_data"
    }
   ],
   "source": [
    "from models.WaveNetVAE.train import train\n",
    "from torch.utils.tensorboard import SummaryWriter\n",
    "import warnings\n",
    "warnings.filterwarnings(\"ignore\")\n",
    "writer = SummaryWriter()\n",
    "\n",
    "train(WaveVAE, VAEDataloader, val_VAEDataloader,\n",
    "      writer = writer,\n",
    "      learning_rate = 0.00001,\n",
    "      epoch_amount = 100,\n",
    "      logs_per_epoch = 5,\n",
    "      kl_anneal = 0.01,\n",
    "      max_kl = 0.5,\n",
    "      device = device)\n"
   ]
  },
  {
   "cell_type": "code",
   "execution_count": 3,
   "metadata": {},
   "outputs": [],
   "source": [
    "torch.save(WaveVAE.state_dict(), './modeltest')"
   ]
  },
  {
   "cell_type": "markdown",
   "metadata": {},
   "source": [
    "# Generate Audio"
   ]
  },
  {
   "cell_type": "code",
   "execution_count": 1,
   "metadata": {},
   "outputs": [
    {
     "name": "stdout",
     "output_type": "stream",
     "text": [
      "WaveNet Receptive Field:  4093\n"
     ]
    },
    {
     "data": {
      "text/plain": [
       "<All keys matched successfully>"
      ]
     },
     "execution_count": 1,
     "metadata": {},
     "output_type": "execute_result"
    }
   ],
   "source": [
    "from models.WaveNetVAE.WaveVae import WaveNetVAE\n",
    "from models.WaveNetVAE.WVData import WVDataset\n",
    "import torch\n",
    "from torch.utils.data import DataLoader\n",
    "import warnings\n",
    "warnings.filterwarnings(\"ignore\")\n",
    "\n",
    "\"\"\"\n",
    "Hyperparameters\n",
    "\"\"\"\n",
    "\n",
    "learning_rate = 0.000001\n",
    "batchsize = 4\n",
    "device='cuda:2'\n",
    "input_size = (40, 112)\n",
    "upsamples = [2, 2, 2, 2, 2, 2, 2, 2]\n",
    "zsize = 32\n",
    "\n",
    "WaveVAE = WaveNetVAE(input_size,\n",
    "                     num_hiddens = 768,\n",
    "                     upsamples = upsamples,\n",
    "                     zsize = zsize,\n",
    "                    out_channels = 1)\n",
    "\n",
    "WaveVAE.to(device)\n",
    "\n",
    "WaveVAE.load_state_dict(torch.load('./modeltest'))"
   ]
  },
  {
   "cell_type": "code",
   "execution_count": 3,
   "metadata": {
    "collapsed": false,
    "jupyter": {
     "outputs_hidden": false
    }
   },
   "outputs": [
    {
     "name": "stdout",
     "output_type": "stream",
     "text": [
      "torch.Size([1, 1, 4096])\n"
     ]
    },
    {
     "data": {
      "application/vnd.jupyter.widget-view+json": {
       "model_id": "ac60ff3fcf1c419c9eee89cb99e042e0",
       "version_major": 2,
       "version_minor": 0
      },
      "text/plain": [
       "  0%|          | 0/4096 [00:00<?, ?it/s]"
      ]
     },
     "metadata": {},
     "output_type": "display_data"
    }
   ],
   "source": [
    "# val_VAEDataset = WVDataset(audio_path = \"../ConvDenoiser_Old/testdata\",\n",
    "#                        length = 4096,\n",
    "#                        skip_size = 1,\n",
    "#                        sample_rate = 24000,\n",
    "#                        max_files = 1,\n",
    "#                        hop_length = 128)\n",
    "\n",
    "# val_VAEDataloader = DataLoader(val_VAEDataset,\n",
    "#                            batch_size = 1,\n",
    "#                            shuffle = False)\n",
    "with torch.no_grad():\n",
    "    generated_audio = WaveVAE.inference(val_VAEDataloader, size = 4096, device = device)"
   ]
  },
  {
   "cell_type": "code",
   "execution_count": 4,
   "metadata": {},
   "outputs": [
    {
     "name": "stdout",
     "output_type": "stream",
     "text": [
      "torch.Size([1, 1, 8192])\n"
     ]
    },
    {
     "data": {
      "text/html": [
       "\n",
       "                <audio  controls=\"controls\" >\n",
       "                    <source src=\"data:audio/wav;base64,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\" type=\"audio/wav\" />\n",
       "                    Your browser does not support the audio element.\n",
       "                </audio>\n",
       "              "
      ],
      "text/plain": [
       "<IPython.lib.display.Audio object>"
      ]
     },
     "metadata": {},
     "output_type": "display_data"
    }
   ],
   "source": [
    "import IPython\n",
    "print(generated_audio.size())\n",
    "generated_audio_proc = (generated_audio * 2) - 1\n",
    "IPython.display.display(IPython.display.Audio(generated_audio_proc.squeeze().detach().cpu().numpy(), rate = 24000))"
   ]
  },
  {
   "cell_type": "code",
   "execution_count": 5,
   "metadata": {},
   "outputs": [
    {
     "name": "stdout",
     "output_type": "stream",
     "text": [
      "torch.Size([1, 1, 4096])\n"
     ]
    },
    {
     "data": {
      "image/png": "[encoded data removed]",
      "text/plain": [
       "<Figure size 640x480 with 1 Axes>"
      ]
     },
     "metadata": {},
     "output_type": "display_data"
    },
    {
     "data": {
      "image/png": "[encoded data removed]",
      "text/plain": [
       "<Figure size 640x480 with 1 Axes>"
      ]
     },
     "metadata": {},
     "output_type": "display_data"
    }
   ],
   "source": [
    "onehot, mfcc, target = next(iter(val_VAEDataloader))\n",
    "\n",
    "import matplotlib.pyplot as plt\n",
    "print(onehot[:, :, -4096:].size())\n",
    "plt.plot(torch.squeeze(onehot[:, :, -4096:]).numpy())\n",
    "plt.ylabel('some numbers')\n",
    "plt.show()\n",
    "\n",
    "plt.plot(torch.squeeze(generated_audio_proc.cpu() + 1 / 2).numpy())\n",
    "plt.ylabel('some numbers')\n",
    "plt.show()"
   ]
  },
  {
   "cell_type": "code",
   "execution_count": 8,
   "metadata": {},
   "outputs": [
    {
     "name": "stdout",
     "output_type": "stream",
     "text": [
      "Collecting matplotlib\n",
      "  Downloading matplotlib-3.7.1-cp310-cp310-manylinux_2_17_x86_64.manylinux2014_x86_64.whl (11.6 MB)\n",
      "\u001b[2K     \u001b[90m━━━━━━━━━━━━━━━━━━━━━━━━━━━━━━━━━━━━━━━━\u001b[0m \u001b[32m11.6/11.6 MB\u001b[0m \u001b[31m55.4 MB/s\u001b[0m eta \u001b[36m0:00:00\u001b[0m00:01\u001b[0m00:01\u001b[0m\n",
      "\u001b[?25hCollecting pyparsing>=2.3.1\n",
      "  Using cached pyparsing-3.0.9-py3-none-any.whl (98 kB)\n",
      "Requirement already satisfied: pillow>=6.2.0 in /data/wouter.besse/miniconda3/envs/myenv/lib/python3.10/site-packages (from matplotlib) (9.4.0)\n",
      "Collecting contourpy>=1.0.1\n",
      "  Downloading contourpy-1.0.7-cp310-cp310-manylinux_2_17_x86_64.manylinux2014_x86_64.whl (300 kB)\n",
      "\u001b[2K     \u001b[90m━━━━━━━━━━━━━━━━━━━━━━━━━━━━━━━━━━━━━━\u001b[0m \u001b[32m300.3/300.3 kB\u001b[0m \u001b[31m69.9 MB/s\u001b[0m eta \u001b[36m0:00:00\u001b[0m\n",
      "\u001b[?25hCollecting kiwisolver>=1.0.1\n",
      "  Downloading kiwisolver-1.4.4-cp310-cp310-manylinux_2_12_x86_64.manylinux2010_x86_64.whl (1.6 MB)\n",
      "\u001b[2K     \u001b[90m━━━━━━━━━━━━━━━━━━━━━━━━━━━━━━━━━━━━━━━━\u001b[0m \u001b[32m1.6/1.6 MB\u001b[0m \u001b[31m73.2 MB/s\u001b[0m eta \u001b[36m0:00:00\u001b[0m\n",
      "\u001b[?25hCollecting fonttools>=4.22.0\n",
      "  Downloading fonttools-4.39.3-py3-none-any.whl (1.0 MB)\n",
      "\u001b[2K     \u001b[90m━━━━━━━━━━━━━━━━━━━━━━━━━━━━━━━━━━━━━━━━\u001b[0m \u001b[32m1.0/1.0 MB\u001b[0m \u001b[31m82.3 MB/s\u001b[0m eta \u001b[36m0:00:00\u001b[0m\n",
      "\u001b[?25hRequirement already satisfied: packaging>=20.0 in /data/wouter.besse/miniconda3/envs/myenv/lib/python3.10/site-packages (from matplotlib) (23.0)\n",
      "Requirement already satisfied: numpy>=1.20 in /data/wouter.besse/miniconda3/envs/myenv/lib/python3.10/site-packages (from matplotlib) (1.23.5)\n",
      "Requirement already satisfied: python-dateutil>=2.7 in /data/wouter.besse/miniconda3/envs/myenv/lib/python3.10/site-packages (from matplotlib) (2.8.2)\n",
      "Collecting cycler>=0.10\n",
      "  Using cached cycler-0.11.0-py3-none-any.whl (6.4 kB)\n",
      "Requirement already satisfied: six>=1.5 in /data/wouter.besse/miniconda3/envs/myenv/lib/python3.10/site-packages (from python-dateutil>=2.7->matplotlib) (1.16.0)\n",
      "Installing collected packages: pyparsing, kiwisolver, fonttools, cycler, contourpy, matplotlib\n",
      "Successfully installed contourpy-1.0.7 cycler-0.11.0 fonttools-4.39.3 kiwisolver-1.4.4 matplotlib-3.7.1 pyparsing-3.0.9\n",
      "Note: you may need to restart the kernel to use updated packages.\n"
     ]
    }
   ],
   "source": [
    "%pip install matplotlib\n"
   ]
  },
  {
   "cell_type": "code",
   "execution_count": null,
   "metadata": {},
   "outputs": [],
   "source": []
  }
 ],
 "metadata": {
  "kernelspec": {
   "display_name": "Python 3 (ipykernel)",
   "language": "python",
   "name": "python3"
  },
  "language_info": {
   "codemirror_mode": {
    "name": "ipython",
    "version": 3
   },
   "file_extension": ".py",
   "mimetype": "text/x-python",
   "name": "python",
   "nbconvert_exporter": "python",
   "pygments_lexer": "ipython3",
   "version": "3.10.11"
  }
 },
 "nbformat": 4,
 "nbformat_minor": 4
}
