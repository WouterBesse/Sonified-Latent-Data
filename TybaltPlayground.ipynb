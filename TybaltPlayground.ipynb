{
 "cells": [
  {
   "attachments": {},
   "cell_type": "markdown",
   "metadata": {},
   "source": [
    "# Train Tybalt VAE"
   ]
  },
  {
   "attachments": {},
   "cell_type": "markdown",
   "metadata": {},
   "source": [
    "## Set hyperparameters"
   ]
  },
  {
   "cell_type": "code",
   "execution_count": null,
   "metadata": {},
   "outputs": [],
   "source": [
    "from models.Tybalt.TybaltVAE import TybaltVAE\n",
    "\n",
    "batchsize = 128\n",
    "input_size = 5000\n",
    "output_size = 5000\n",
    "\n",
    "model = TybaltVAE(input_size=input_size, output_size=output_size)"
   ]
  },
  {
   "attachments": {},
   "cell_type": "markdown",
   "metadata": {},
   "source": [
    "## Load data"
   ]
  },
  {
   "cell_type": "code",
   "execution_count": null,
   "metadata": {},
   "outputs": [],
   "source": [
    "from models.Tybalt.TybaltData import getTybaltDatasets\n",
    "from torch.utils.data import DataLoader\n",
    "\n",
    "data_path = './tybaltdata/pancan_scaled_zeroone_rnaseq.tsv.gz'\n",
    "dataset_train, dataset_val = getTybaltDatasets()\n",
    "\n",
    "dataloader_train = DataLoader(dataset_train,\n",
    "                           batch_size = batchsize,\n",
    "                           shuffle = True)\n",
    "\n",
    "dataloader_val = DataLoader(dataset_val,\n",
    "                           batch_size = batchsize,\n",
    "                           shuffle = False)"
   ]
  }
 ],
 "metadata": {
  "language_info": {
   "name": "python"
  },
  "orig_nbformat": 4
 },
 "nbformat": 4,
 "nbformat_minor": 2
}
